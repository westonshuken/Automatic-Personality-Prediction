{
 "cells": [
  {
   "cell_type": "markdown",
   "metadata": {},
   "source": [
    "# EDA"
   ]
  },
  {
   "cell_type": "code",
   "execution_count": 2,
   "metadata": {},
   "outputs": [],
   "source": [
    "import pandas as pd\n",
    "import numpy as np\n",
    "import matplotlib.pyplot as plt"
   ]
  },
  {
   "cell_type": "markdown",
   "metadata": {},
   "source": [
    "## There are three potential datasets for this project:"
   ]
  },
  {
   "cell_type": "markdown",
   "metadata": {},
   "source": [
    "### ~9k Myers-Briggs Personality Type labeled comments from PersonalityCafe"
   ]
  },
  {
   "cell_type": "code",
   "execution_count": 3,
   "metadata": {},
   "outputs": [],
   "source": [
    "cafe_df = pd.read_csv('data/mbti_1.csv')"
   ]
  },
  {
   "cell_type": "markdown",
   "metadata": {},
   "source": [
    "### ~100k Myers-Briggs Personality Type labeled comments from PersonalityCafe and Google Big Query Reddit users. \n",
    "Posts are preprocessed texts:\n",
    "\n",
    "- No punctuations, stopwords, URLs\n",
    "- Lemmatization\n",
    "- Reconstruct samples to be equal-sized chunks (500 words per sample)"
   ]
  },
  {
   "cell_type": "code",
   "execution_count": 5,
   "metadata": {},
   "outputs": [],
   "source": [
    "both_df = pd.read_csv('data/MBTI 500.csv')"
   ]
  },
  {
   "cell_type": "markdown",
   "metadata": {},
   "source": [
    "### ~1.7M Google Big Query of Reddit comments and their Myers-Briggs Personality Type"
   ]
  },
  {
   "cell_type": "code",
   "execution_count": 7,
   "metadata": {},
   "outputs": [],
   "source": [
    "gbq_df = pd.read_csv('data/mbti_full_pull.csv')"
   ]
  },
  {
   "cell_type": "code",
   "execution_count": 8,
   "metadata": {},
   "outputs": [
    {
     "name": "stdout",
     "output_type": "stream",
     "text": [
      "<class 'pandas.core.frame.DataFrame'>\n",
      "RangeIndex: 1794016 entries, 0 to 1794015\n",
      "Data columns (total 3 columns):\n",
      " #   Column             Dtype \n",
      "---  ------             ----- \n",
      " 0   author_flair_text  object\n",
      " 1   body               object\n",
      " 2   subreddit          object\n",
      "dtypes: object(3)\n",
      "memory usage: 41.1+ MB\n"
     ]
    }
   ],
   "source": [
    "gbq_df.info()"
   ]
  },
  {
   "cell_type": "code",
   "execution_count": 9,
   "metadata": {},
   "outputs": [
    {
     "data": {
      "text/html": [
       "<div>\n",
       "<style scoped>\n",
       "    .dataframe tbody tr th:only-of-type {\n",
       "        vertical-align: middle;\n",
       "    }\n",
       "\n",
       "    .dataframe tbody tr th {\n",
       "        vertical-align: top;\n",
       "    }\n",
       "\n",
       "    .dataframe thead th {\n",
       "        text-align: right;\n",
       "    }\n",
       "</style>\n",
       "<table border=\"1\" class=\"dataframe\">\n",
       "  <thead>\n",
       "    <tr style=\"text-align: right;\">\n",
       "      <th></th>\n",
       "      <th>author_flair_text</th>\n",
       "      <th>body</th>\n",
       "      <th>subreddit</th>\n",
       "    </tr>\n",
       "  </thead>\n",
       "  <tbody>\n",
       "    <tr>\n",
       "      <th>0</th>\n",
       "      <td>INTJ</td>\n",
       "      <td>Knowing you're in INTJ is a tool for you to us...</td>\n",
       "      <td>intj</td>\n",
       "    </tr>\n",
       "    <tr>\n",
       "      <th>1</th>\n",
       "      <td>INTJ</td>\n",
       "      <td>You are truly an enlightened mastermind.</td>\n",
       "      <td>intj</td>\n",
       "    </tr>\n",
       "    <tr>\n",
       "      <th>2</th>\n",
       "      <td>INFJ, 26F</td>\n",
       "      <td>You should :) it will help if you have a down ...</td>\n",
       "      <td>infj</td>\n",
       "    </tr>\n",
       "    <tr>\n",
       "      <th>3</th>\n",
       "      <td>INTP</td>\n",
       "      <td>I watch a bit of everything (including hentai)...</td>\n",
       "      <td>INTP</td>\n",
       "    </tr>\n",
       "    <tr>\n",
       "      <th>4</th>\n",
       "      <td>INTJ</td>\n",
       "      <td>I don't know if I would count this as a pet pe...</td>\n",
       "      <td>intj</td>\n",
       "    </tr>\n",
       "  </tbody>\n",
       "</table>\n",
       "</div>"
      ],
      "text/plain": [
       "  author_flair_text                                               body  \\\n",
       "0              INTJ  Knowing you're in INTJ is a tool for you to us...   \n",
       "1              INTJ           You are truly an enlightened mastermind.   \n",
       "2         INFJ, 26F  You should :) it will help if you have a down ...   \n",
       "3              INTP  I watch a bit of everything (including hentai)...   \n",
       "4              INTJ  I don't know if I would count this as a pet pe...   \n",
       "\n",
       "  subreddit  \n",
       "0      intj  \n",
       "1      intj  \n",
       "2      infj  \n",
       "3      INTP  \n",
       "4      intj  "
      ]
     },
     "execution_count": 9,
     "metadata": {},
     "output_type": "execute_result"
    }
   ],
   "source": [
    "gbq_df.head()"
   ]
  },
  {
   "cell_type": "code",
   "execution_count": 17,
   "metadata": {},
   "outputs": [
    {
     "data": {
      "text/plain": [
       "INTP              419700\n",
       "intj              296101\n",
       "mbti              253602\n",
       "entp              178379\n",
       "infj              164662\n",
       "                   ...  \n",
       "Instagram              1\n",
       "BF_Hardline            1\n",
       "tall                   1\n",
       "RAofLittleness         1\n",
       "Maplestory             1\n",
       "Name: subreddit, Length: 520, dtype: int64"
      ]
     },
     "execution_count": 17,
     "metadata": {},
     "output_type": "execute_result"
    }
   ],
   "source": [
    "gbq_df['subreddit'].value_counts()"
   ]
  },
  {
   "cell_type": "code",
   "execution_count": 18,
   "metadata": {},
   "outputs": [
    {
     "name": "stdout",
     "output_type": "stream",
     "text": [
      "INTP                  365646\n",
      "INTJ                  323224\n",
      "ENFP                   88334\n",
      "ENTP                   73481\n",
      "INFJ                   69730\n",
      "                       ...  \n",
      "ENTP: The Droideka         1\n",
      "[F] [INTP]                 1\n",
      "INTP-A/F/17                1\n",
      "INFJ - Male                1\n",
      "14M INFJ                   1\n",
      "Name: author_flair_text, Length: 8702, dtype: int64\n"
     ]
    }
   ],
   "source": [
    "print(gbq_df['author_flair_text'].value_counts())"
   ]
  },
  {
   "cell_type": "code",
   "execution_count": 19,
   "metadata": {},
   "outputs": [],
   "source": [
    "gbq_clean = gbq_df.copy()"
   ]
  },
  {
   "cell_type": "code",
   "execution_count": 21,
   "metadata": {},
   "outputs": [],
   "source": [
    "gbq_clean['author_flair_text'] = gbq_clean['author_flair_text'].str.lower()"
   ]
  },
  {
   "cell_type": "code",
   "execution_count": 22,
   "metadata": {},
   "outputs": [],
   "source": [
    "gbq_clean['subreddit'] = gbq_clean['subreddit'].str.lower()"
   ]
  },
  {
   "cell_type": "code",
   "execution_count": 28,
   "metadata": {},
   "outputs": [
    {
     "data": {
      "text/plain": [
       "intp                   366510\n",
       "intj                   323732\n",
       "enfp                    88438\n",
       "entp                    80837\n",
       "infj                    71681\n",
       "                        ...  \n",
       "infj / 19 / f / uk          1\n",
       "wannabe entpreneur          1\n",
       "infj | m | 37               1\n",
       "infj / f / 26               1\n",
       "infp: just visiting         1\n",
       "Name: author_flair_text, Length: 8337, dtype: int64"
      ]
     },
     "execution_count": 28,
     "metadata": {},
     "output_type": "execute_result"
    }
   ],
   "source": [
    "gbq_clean.author_flair_text.value_counts()"
   ]
  },
  {
   "cell_type": "code",
   "execution_count": 25,
   "metadata": {},
   "outputs": [],
   "source": [
    "whitelist = ['intp', 'intj', 'entp', 'entj', 'infj', 'infp', 'enfj', 'enfp', 'istj', 'isfj', 'estj', 'esfj', 'istp', 'isfp', 'estp', 'esfp']"
   ]
  },
  {
   "cell_type": "code",
   "execution_count": 42,
   "metadata": {},
   "outputs": [
    {
     "data": {
      "text/plain": [
       "{'e', 'f', 'i', 'j', 'n', 'p', 's', 't'}"
      ]
     },
     "execution_count": 42,
     "metadata": {},
     "output_type": "execute_result"
    }
   ],
   "source": [
    "set(''.join(whitelist))"
   ]
  },
  {
   "cell_type": "code",
   "execution_count": 50,
   "metadata": {},
   "outputs": [
    {
     "data": {
      "text/plain": [
       "0                                                  intj\n",
       "1                                                  intj\n",
       "2                                             infj, 26f\n",
       "3                                                  intp\n",
       "4                                                  intj\n",
       "5                                                  intp\n",
       "6                                                  intj\n",
       "7                                             infj 27 f\n",
       "8                                                  intj\n",
       "9                                                  intj\n",
       "10                                                 intp\n",
       "11                                              35mentp\n",
       "12                                                 enfp\n",
       "13                                                 entj\n",
       "14                                             infj/4w3\n",
       "15                                                 enfp\n",
       "16                                             infj 28m\n",
       "17    atheistpuppy 4270-1878-6970 [rock:nosepass,oni...\n",
       "18                                                 intj\n",
       "19                                                 intp\n",
       "20                                                 intj\n",
       "21                                                 intj\n",
       "22                                                 enfp\n",
       "23                                 overly attached entp\n",
       "24                                                 intp\n",
       "25                                                 intp\n",
       "26                              20m entp donkey brained\n",
       "27                                                 intp\n",
       "28                                                 intj\n",
       "29                                                 intp\n",
       "30                                           ♡ [enfp] ♡\n",
       "Name: author_flair_text, dtype: object"
      ]
     },
     "execution_count": 50,
     "metadata": {},
     "output_type": "execute_result"
    }
   ],
   "source": [
    "gbq_clean.loc[0:30, 'author_flair_text']"
   ]
  },
  {
   "cell_type": "code",
   "execution_count": 49,
   "metadata": {},
   "outputs": [
    {
     "data": {
      "text/plain": [
       "intp    441827\n",
       "intj    356245\n",
       "infj    189338\n",
       "entp    186172\n",
       "infp    175145\n",
       "enfp     97093\n",
       "istp     48477\n",
       "entj     43456\n",
       "f        31214\n",
       "n        25948\n",
       "s        24059\n",
       "estp     21142\n",
       "enfj     20659\n",
       "istj     16587\n",
       "ttp      15041\n",
       "e        11884\n",
       "isfp     11399\n",
       "i         8140\n",
       "t         7987\n",
       "esfp      7397\n",
       "dtype: int64"
      ]
     },
     "execution_count": 49,
     "metadata": {},
     "output_type": "execute_result"
    }
   ],
   "source": [
    "gbq_clean['author_flair_text'].str.extract(r\"([efijnpst]+)\").value_counts()[0:20]"
   ]
  },
  {
   "cell_type": "code",
   "execution_count": 40,
   "metadata": {},
   "outputs": [
    {
     "data": {
      "text/plain": [
       "n/a     710382\n",
       "intp    366510\n",
       "intj    323732\n",
       "enfp     88438\n",
       "entp     80837\n",
       "infj     71681\n",
       "infp     43329\n",
       "istp     35316\n",
       "entj     18705\n",
       "istj     13958\n",
       "isfp      9167\n",
       "estp      9107\n",
       "enfj      8253\n",
       "esfp      4925\n",
       "isfj      4266\n",
       "estj      3557\n",
       "esfj      1853\n",
       "Name: author_flair_text, dtype: int64"
      ]
     },
     "execution_count": 40,
     "metadata": {},
     "output_type": "execute_result"
    }
   ],
   "source": [
    "gbq_clean['author_flair_text'].map(lambda x: x.strip(' ') if x in whitelist else 'n/a').value_counts()"
   ]
  },
  {
   "cell_type": "code",
   "execution_count": null,
   "metadata": {},
   "outputs": [],
   "source": []
  }
 ],
 "metadata": {
  "interpreter": {
   "hash": "033c84df5fb4c613acf884834f63930b25da6784759ce0fb831a430fcd673895"
  },
  "kernelspec": {
   "display_name": "Python 3.8.5 ('learn-env')",
   "language": "python",
   "name": "python3"
  },
  "language_info": {
   "codemirror_mode": {
    "name": "ipython",
    "version": 3
   },
   "file_extension": ".py",
   "mimetype": "text/x-python",
   "name": "python",
   "nbconvert_exporter": "python",
   "pygments_lexer": "ipython3",
   "version": "3.8.5"
  },
  "orig_nbformat": 4
 },
 "nbformat": 4,
 "nbformat_minor": 2
}
