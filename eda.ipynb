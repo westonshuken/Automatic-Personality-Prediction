{
 "cells": [
  {
   "cell_type": "markdown",
   "metadata": {},
   "source": [
    "# EDA"
   ]
  },
  {
   "cell_type": "code",
   "execution_count": 29,
   "metadata": {},
   "outputs": [],
   "source": [
    "import pandas as pd\n",
    "import numpy as np\n",
    "import matplotlib.pyplot as plt\n",
    "\n",
    "from nltk.corpus import stopwords\n",
    "from nltk import FreqDist\n",
    "from sklearn.feature_extraction.text import TfidfVectorizer, CountVectorizer\n",
    "from sklearn.naive_bayes import MultinomialNB\n",
    "from sklearn.pipeline import Pipeline\n",
    "from sklearn.feature_extraction.text import TfidfTransformer\n",
    "from sklearn.linear_model import SGDClassifier, LogisticRegression\n",
    "from sklearn.metrics import plot_confusion_matrix, accuracy_score\n",
    "from sklearn.model_selection import train_test_split, cross_val_score\n",
    "from sklearn.ensemble import RandomForestClassifier\n",
    "\n",
    "SEED = 53188535"
   ]
  },
  {
   "cell_type": "markdown",
   "metadata": {},
   "source": [
    "## There are three potential datasets for this project:"
   ]
  },
  {
   "cell_type": "markdown",
   "metadata": {},
   "source": [
    "### ~9k Myers-Briggs Personality Type labeled comments from PersonalityCafe"
   ]
  },
  {
   "cell_type": "code",
   "execution_count": 30,
   "metadata": {},
   "outputs": [],
   "source": [
    "cafe_df = pd.read_csv('data/mbti_1.csv')"
   ]
  },
  {
   "cell_type": "code",
   "execution_count": 31,
   "metadata": {},
   "outputs": [
    {
     "data": {
      "text/html": [
       "<div>\n",
       "<style scoped>\n",
       "    .dataframe tbody tr th:only-of-type {\n",
       "        vertical-align: middle;\n",
       "    }\n",
       "\n",
       "    .dataframe tbody tr th {\n",
       "        vertical-align: top;\n",
       "    }\n",
       "\n",
       "    .dataframe thead th {\n",
       "        text-align: right;\n",
       "    }\n",
       "</style>\n",
       "<table border=\"1\" class=\"dataframe\">\n",
       "  <thead>\n",
       "    <tr style=\"text-align: right;\">\n",
       "      <th></th>\n",
       "      <th>type</th>\n",
       "      <th>posts</th>\n",
       "    </tr>\n",
       "  </thead>\n",
       "  <tbody>\n",
       "    <tr>\n",
       "      <th>0</th>\n",
       "      <td>INFJ</td>\n",
       "      <td>'http://www.youtube.com/watch?v=qsXHcwe3krw|||...</td>\n",
       "    </tr>\n",
       "    <tr>\n",
       "      <th>1</th>\n",
       "      <td>ENTP</td>\n",
       "      <td>'I'm finding the lack of me in these posts ver...</td>\n",
       "    </tr>\n",
       "    <tr>\n",
       "      <th>2</th>\n",
       "      <td>INTP</td>\n",
       "      <td>'Good one  _____   https://www.youtube.com/wat...</td>\n",
       "    </tr>\n",
       "    <tr>\n",
       "      <th>3</th>\n",
       "      <td>INTJ</td>\n",
       "      <td>'Dear INTP,   I enjoyed our conversation the o...</td>\n",
       "    </tr>\n",
       "    <tr>\n",
       "      <th>4</th>\n",
       "      <td>ENTJ</td>\n",
       "      <td>'You're fired.|||That's another silly misconce...</td>\n",
       "    </tr>\n",
       "    <tr>\n",
       "      <th>...</th>\n",
       "      <td>...</td>\n",
       "      <td>...</td>\n",
       "    </tr>\n",
       "    <tr>\n",
       "      <th>8670</th>\n",
       "      <td>ISFP</td>\n",
       "      <td>'https://www.youtube.com/watch?v=t8edHB_h908||...</td>\n",
       "    </tr>\n",
       "    <tr>\n",
       "      <th>8671</th>\n",
       "      <td>ENFP</td>\n",
       "      <td>'So...if this thread already exists someplace ...</td>\n",
       "    </tr>\n",
       "    <tr>\n",
       "      <th>8672</th>\n",
       "      <td>INTP</td>\n",
       "      <td>'So many questions when i do these things.  I ...</td>\n",
       "    </tr>\n",
       "    <tr>\n",
       "      <th>8673</th>\n",
       "      <td>INFP</td>\n",
       "      <td>'I am very conflicted right now when it comes ...</td>\n",
       "    </tr>\n",
       "    <tr>\n",
       "      <th>8674</th>\n",
       "      <td>INFP</td>\n",
       "      <td>'It has been too long since I have been on per...</td>\n",
       "    </tr>\n",
       "  </tbody>\n",
       "</table>\n",
       "<p>8675 rows × 2 columns</p>\n",
       "</div>"
      ],
      "text/plain": [
       "      type                                              posts\n",
       "0     INFJ  'http://www.youtube.com/watch?v=qsXHcwe3krw|||...\n",
       "1     ENTP  'I'm finding the lack of me in these posts ver...\n",
       "2     INTP  'Good one  _____   https://www.youtube.com/wat...\n",
       "3     INTJ  'Dear INTP,   I enjoyed our conversation the o...\n",
       "4     ENTJ  'You're fired.|||That's another silly misconce...\n",
       "...    ...                                                ...\n",
       "8670  ISFP  'https://www.youtube.com/watch?v=t8edHB_h908||...\n",
       "8671  ENFP  'So...if this thread already exists someplace ...\n",
       "8672  INTP  'So many questions when i do these things.  I ...\n",
       "8673  INFP  'I am very conflicted right now when it comes ...\n",
       "8674  INFP  'It has been too long since I have been on per...\n",
       "\n",
       "[8675 rows x 2 columns]"
      ]
     },
     "execution_count": 31,
     "metadata": {},
     "output_type": "execute_result"
    }
   ],
   "source": [
    "cafe_df"
   ]
  },
  {
   "cell_type": "markdown",
   "metadata": {},
   "source": [
    "### ~100k Myers-Briggs Personality Type labeled comments from PersonalityCafe and Google Big Query Reddit users. \n",
    "Posts are preprocessed texts:\n",
    "\n",
    "- No punctuations, stopwords, URLs\n",
    "- Lemmatization\n",
    "- Reconstruct samples to be equal-sized chunks (500 words per sample)"
   ]
  },
  {
   "cell_type": "code",
   "execution_count": 32,
   "metadata": {},
   "outputs": [],
   "source": [
    "both_df = pd.read_csv('data/MBTI 500.csv')"
   ]
  },
  {
   "cell_type": "markdown",
   "metadata": {},
   "source": [
    "### ~1.7M Google Big Query of Reddit comments and their Myers-Briggs Personality Type"
   ]
  },
  {
   "cell_type": "code",
   "execution_count": 33,
   "metadata": {},
   "outputs": [],
   "source": [
    "gbq_df = pd.read_csv('data/mbti_full_pull.csv')"
   ]
  },
  {
   "cell_type": "code",
   "execution_count": 34,
   "metadata": {},
   "outputs": [],
   "source": [
    "whitelist = ['intp', 'intj', 'entp', 'entj', 'infj', 'infp', 'enfj', 'enfp', 'istj', 'isfj', 'estj', 'esfj', 'istp', 'isfp', 'estp', 'esfp']"
   ]
  },
  {
   "cell_type": "code",
   "execution_count": 35,
   "metadata": {},
   "outputs": [
    {
     "data": {
      "text/plain": [
       "{'e', 'f', 'i', 'j', 'n', 'p', 's', 't'}"
      ]
     },
     "execution_count": 35,
     "metadata": {},
     "output_type": "execute_result"
    }
   ],
   "source": [
    "set(''.join(whitelist))"
   ]
  },
  {
   "cell_type": "markdown",
   "metadata": {},
   "source": [
    "## Personality Cafe\n",
    "For the baseline, will use the Peronality Cafe Data."
   ]
  },
  {
   "cell_type": "code",
   "execution_count": 36,
   "metadata": {},
   "outputs": [],
   "source": [
    "# Creating list of all the variables for Myers_Briggs type for future use.\n",
    "pred_lst = ['intp', 'intj', 'entp', 'entj', 'infj', 'infp', 'enfj', \\\n",
    "    'enfp', 'istj', 'isfj', 'estj', 'esfj', 'istp', 'isfp', 'estp', 'esfp']\n",
    "\n",
    "pred_st = set(''.join(pred_lst))"
   ]
  },
  {
   "cell_type": "code",
   "execution_count": 37,
   "metadata": {},
   "outputs": [
    {
     "name": "stdout",
     "output_type": "stream",
     "text": [
      "<class 'pandas.core.frame.DataFrame'>\n",
      "RangeIndex: 8675 entries, 0 to 8674\n",
      "Data columns (total 2 columns):\n",
      " #   Column  Non-Null Count  Dtype \n",
      "---  ------  --------------  ----- \n",
      " 0   type    8675 non-null   object\n",
      " 1   posts   8675 non-null   object\n",
      "dtypes: object(2)\n",
      "memory usage: 135.7+ KB\n"
     ]
    }
   ],
   "source": [
    "cafe_df.info()"
   ]
  },
  {
   "cell_type": "code",
   "execution_count": 38,
   "metadata": {},
   "outputs": [
    {
     "data": {
      "text/plain": [
       "INFP    0.211182\n",
       "INFJ    0.169452\n",
       "INTP    0.150317\n",
       "INTJ    0.125764\n",
       "ENTP    0.078963\n",
       "ENFP    0.077810\n",
       "ISTP    0.038847\n",
       "ISFP    0.031239\n",
       "ENTJ    0.026628\n",
       "ISTJ    0.023631\n",
       "ENFJ    0.021902\n",
       "ISFJ    0.019135\n",
       "ESTP    0.010259\n",
       "ESFP    0.005533\n",
       "ESFJ    0.004841\n",
       "ESTJ    0.004496\n",
       "Name: type, dtype: float64"
      ]
     },
     "execution_count": 38,
     "metadata": {},
     "output_type": "execute_result"
    }
   ],
   "source": [
    "cafe_df.type.value_counts(normalize=True)"
   ]
  },
  {
   "cell_type": "markdown",
   "metadata": {},
   "source": [
    "### Clean & Preprocess"
   ]
  },
  {
   "cell_type": "code",
   "execution_count": 39,
   "metadata": {},
   "outputs": [],
   "source": [
    "cafe_clean = cafe_df.copy()"
   ]
  },
  {
   "cell_type": "code",
   "execution_count": 40,
   "metadata": {},
   "outputs": [],
   "source": [
    "import re\n",
    "import string"
   ]
  },
  {
   "cell_type": "code",
   "execution_count": 41,
   "metadata": {},
   "outputs": [],
   "source": [
    "punc = string.punctuation"
   ]
  },
  {
   "cell_type": "code",
   "execution_count": 42,
   "metadata": {},
   "outputs": [],
   "source": [
    "cafe_clean['type'] = cafe_clean.type.str.lower()"
   ]
  },
  {
   "cell_type": "code",
   "execution_count": 43,
   "metadata": {},
   "outputs": [],
   "source": [
    "cafe_clean['clean_posts'] = cafe_clean.posts.str.lower()"
   ]
  },
  {
   "cell_type": "code",
   "execution_count": 44,
   "metadata": {},
   "outputs": [],
   "source": [
    "test = [1,2,3]"
   ]
  },
  {
   "cell_type": "code",
   "execution_count": 45,
   "metadata": {},
   "outputs": [
    {
     "data": {
      "text/plain": [
       "range(0, 3)"
      ]
     },
     "execution_count": 45,
     "metadata": {},
     "output_type": "execute_result"
    }
   ],
   "source": [
    "range(len(test))"
   ]
  },
  {
   "cell_type": "code",
   "execution_count": 46,
   "metadata": {},
   "outputs": [],
   "source": [
    "def url_remove(post):\n",
    "    return re.sub(r'http\\S+', '', post)\n",
    "\n",
    "def pipe_remove(post):\n",
    "    return re.sub(r'[|]', ' ', post)\n",
    "\n",
    "def punc_remove(post):\n",
    "    return re.sub(r'[\\'_:]', '', post)\n",
    "\n",
    "def remove_dig_token(post):\n",
    "    return [post[i] for i in range(len(post)) if post[i].isalpha()]\n",
    "\n",
    "def remove_stopwords(post):\n",
    "    sw = stopwords.words('english')\n",
    "    return [post[i] for i in range(len(post)) if post[i] not in sw]"
   ]
  },
  {
   "cell_type": "code",
   "execution_count": 47,
   "metadata": {},
   "outputs": [],
   "source": [
    "cafe_clean['clean_posts'] = cafe_clean['clean_posts'].apply(pipe_remove)"
   ]
  },
  {
   "cell_type": "code",
   "execution_count": 48,
   "metadata": {},
   "outputs": [],
   "source": [
    "cafe_clean['clean_posts'] = cafe_clean['clean_posts'].apply(url_remove)"
   ]
  },
  {
   "cell_type": "code",
   "execution_count": 49,
   "metadata": {},
   "outputs": [],
   "source": [
    "cafe_clean['clean_posts'] = cafe_clean['clean_posts'].apply(punc_remove)"
   ]
  },
  {
   "cell_type": "code",
   "execution_count": 50,
   "metadata": {},
   "outputs": [
    {
     "data": {
      "text/plain": [
       "'good one        of course, to which i say i know; thats my blessing and my curse.   does being absolutely positive that you and your best friend could be an amazing couple count? if so, than yes.   or its more i could be madly in love in case i reconciled my feelings (which at...   no, i didnt; thank you for a link!   so-called ti-si loop (and it can stem from any current topic/obsession) can be deadly. its like when youre stuck in your own thoughts, and your mind just wanders in circles. feels truly terrible. ...   have you noticed how peculiar vegetation can be? all you have to do is look down at the grass dozens of different plant species there.    and now imagine that hundreds of years later (when/if soil...   the smiths – never had no one ever   i often find myself spotting faces on marble tiles/wood.   this 5 year-old sentence is an incredibly accurate and beautiful description.   i havent visited this website in the last 3 years. so whoever reads this (and maybe even remembers me, which i highly doubt) hi.  700049  700057   when you sit in your garden until 1030 pm writing songs, and sing them (together with dozens of crickets) while playing your acoustic guitar.   this is the most intp-ish thread ive ever seen.   i wouldnt be able to look at the painting for the entire life if i knew that i picked it over the human being.   i was drawing a background for my animation on which im working right now - it should have been mars.. but i felt obligated to make mark watneyx92s postcard from it d  if you read the book...   i started to make comics about turtle gordon and unicorn chimes - here you can see two first stories    intj recently i started to post my comics about two friends - turtle gordon and unicorn chimes. before that, i just posted stuff that interested me, but from now on ill try to include only my works...   probably we could work together on a new model - im an expert in abrupt explosions of laughter upon various weird stuff. that happens because of peculiar sense of humor - so peculiar that not much...   hellooo nah, you can touch it. everyone thinks that its scared or sad, but thats not true - in fact it has an absolutely neutral face. and this kitten actually really likes patting and hugs (only...   well.. kind of; as it was already mentioned, sometimes because of ni its hard to convey complex stuff which pops up in your head in whimsical compilations of shapes and pictures only with words....   i think this kitten would be very appropriate here.  376562   367034   good night everyone out there! even if for someone there is morning right now - nights always supersede mornings.. and people say good night in order to meet next day )   oh, that movie ) its awesome thank you! hope you had good sleep in the air; anyway, im wishing you good night for the next night ahead! (hopefully it will be on land)  good people deserve good...   358882  358890   well, other people who may be wondering about an issue from the name of the topic will find your response helpful anyway )   this. finally someone mentioned that )   i still see creatures/faces in a maze of various random patterns. it can be amusing sometimes.  its a very handy skill when youre bored.   oh, i didnt know that.. what a pity.  why not sacrifice whole supermarket, then? we can decide which walmart will be the best (i think the biggest one would be great).   yippy  here you go  357002  he thinks that the fire is delicious. should i sacrifice tofu? i dont like to waste food.   i dont think that the creator of this thread cares whats going on here after 3 years )   heh, i understand you ) with these same given languages)))   yessss, adventure time d   i get angry quite rarely, but when i do, its safer for surrounding people to go somewhere else. its impossible for me to hide or suppress anger; the only way to get rid of this feeling is to burst...   ive never liked it  anything fake is bad, actually.   hugs should be given only to chosen ones. chosen. there are quite few of them, though.   349890   yup, youre doing it right )      256818   of course its not very comfortable.  but. human race survived thankfully womens ability to give birth to other human beings. it worked for thousands of years. why change it? besides, there are...   that happens. and it occurs because most often people use results of extremely precise and elaborate online tests as a basis of determining ones type.      both visual and language arts (more...   246386   i study graphic design now, which i really enjoy. what is interesting about this field, is that the ability to generate ideas and solve problems is much more important than possession of a specific...   alexxxandra97 - deviantart   236994      i am always ready to discipline (to intimidate, to be precise) my siblings offender.   world domination? shooting people in the head? why?  oh, right, intjs always must be characterised only with these words.     i want to show so badly my reaction to this 221226   218106   istp?   '"
      ]
     },
     "execution_count": 50,
     "metadata": {},
     "output_type": "execute_result"
    }
   ],
   "source": [
    "cafe_clean.iloc[2, 2]"
   ]
  },
  {
   "cell_type": "code",
   "execution_count": 51,
   "metadata": {},
   "outputs": [],
   "source": [
    "pattern = r\"(?u)\\b\\w\\w+\\b\""
   ]
  },
  {
   "cell_type": "code",
   "execution_count": 52,
   "metadata": {},
   "outputs": [],
   "source": [
    "from nltk.tokenize import RegexpTokenizer\n",
    "tokenizer = RegexpTokenizer(pattern)"
   ]
  },
  {
   "cell_type": "code",
   "execution_count": 53,
   "metadata": {},
   "outputs": [],
   "source": [
    "cafe_clean['post_token'] = cafe_clean['clean_posts'].apply(tokenizer.tokenize)"
   ]
  },
  {
   "cell_type": "code",
   "execution_count": 54,
   "metadata": {},
   "outputs": [],
   "source": [
    "cafe_clean['post_token'] = cafe_clean['post_token'].apply(remove_dig_token)"
   ]
  },
  {
   "cell_type": "code",
   "execution_count": 55,
   "metadata": {},
   "outputs": [],
   "source": [
    "cafe_clean['post_token'] = cafe_clean['post_token'].apply(remove_stopwords)"
   ]
  },
  {
   "cell_type": "code",
   "execution_count": 56,
   "metadata": {},
   "outputs": [],
   "source": [
    "from nltk.stem.wordnet import WordNetLemmatizer\n",
    "lemmatizer = WordNetLemmatizer()\n",
    "\n",
    "def lemmatize_text(tokens):\n",
    "    return [lemmatizer.lemmatize(w) for w in tokens]"
   ]
  },
  {
   "cell_type": "code",
   "execution_count": 57,
   "metadata": {},
   "outputs": [],
   "source": [
    "cafe_clean['post_token'] = cafe_clean['post_token'].apply(lemmatize_text)"
   ]
  },
  {
   "cell_type": "code",
   "execution_count": 58,
   "metadata": {},
   "outputs": [],
   "source": [
    "def join_tokens(tokens):\n",
    "    long_string = ' '.join(tokens)\n",
    "    return long_string"
   ]
  },
  {
   "cell_type": "code",
   "execution_count": 59,
   "metadata": {},
   "outputs": [],
   "source": [
    "cafe_clean['token_joined'] = cafe_clean['post_token'].apply(join_tokens)"
   ]
  },
  {
   "cell_type": "code",
   "execution_count": 60,
   "metadata": {},
   "outputs": [],
   "source": [
    "cafe_clean['clean_posts'] = cafe_clean['post_token'].str.join(' ')"
   ]
  },
  {
   "cell_type": "code",
   "execution_count": 61,
   "metadata": {},
   "outputs": [
    {
     "name": "stdout",
     "output_type": "stream",
     "text": [
      "<class 'pandas.core.frame.DataFrame'>\n",
      "RangeIndex: 8675 entries, 0 to 8674\n",
      "Data columns (total 5 columns):\n",
      " #   Column        Non-Null Count  Dtype \n",
      "---  ------        --------------  ----- \n",
      " 0   type          8675 non-null   object\n",
      " 1   posts         8675 non-null   object\n",
      " 2   clean_posts   8675 non-null   object\n",
      " 3   post_token    8675 non-null   object\n",
      " 4   token_joined  8675 non-null   object\n",
      "dtypes: object(5)\n",
      "memory usage: 339.0+ KB\n"
     ]
    }
   ],
   "source": [
    "cafe_clean.info()"
   ]
  },
  {
   "cell_type": "code",
   "execution_count": 62,
   "metadata": {},
   "outputs": [
    {
     "data": {
      "text/html": [
       "<div>\n",
       "<style scoped>\n",
       "    .dataframe tbody tr th:only-of-type {\n",
       "        vertical-align: middle;\n",
       "    }\n",
       "\n",
       "    .dataframe tbody tr th {\n",
       "        vertical-align: top;\n",
       "    }\n",
       "\n",
       "    .dataframe thead th {\n",
       "        text-align: right;\n",
       "    }\n",
       "</style>\n",
       "<table border=\"1\" class=\"dataframe\">\n",
       "  <thead>\n",
       "    <tr style=\"text-align: right;\">\n",
       "      <th></th>\n",
       "      <th>type</th>\n",
       "      <th>posts</th>\n",
       "      <th>clean_posts</th>\n",
       "      <th>post_token</th>\n",
       "      <th>token_joined</th>\n",
       "    </tr>\n",
       "  </thead>\n",
       "  <tbody>\n",
       "    <tr>\n",
       "      <th>0</th>\n",
       "      <td>infj</td>\n",
       "      <td>'http://www.youtube.com/watch?v=qsXHcwe3krw|||...</td>\n",
       "      <td>enfp intj moment sportscenter top ten play pra...</td>\n",
       "      <td>[enfp, intj, moment, sportscenter, top, ten, p...</td>\n",
       "      <td>enfp intj moment sportscenter top ten play pra...</td>\n",
       "    </tr>\n",
       "    <tr>\n",
       "      <th>1</th>\n",
       "      <td>entp</td>\n",
       "      <td>'I'm finding the lack of me in these posts ver...</td>\n",
       "      <td>im finding lack post alarming sex boring posit...</td>\n",
       "      <td>[im, finding, lack, post, alarming, sex, borin...</td>\n",
       "      <td>im finding lack post alarming sex boring posit...</td>\n",
       "    </tr>\n",
       "    <tr>\n",
       "      <th>2</th>\n",
       "      <td>intp</td>\n",
       "      <td>'Good one  _____   https://www.youtube.com/wat...</td>\n",
       "      <td>good one course say know thats blessing curse ...</td>\n",
       "      <td>[good, one, course, say, know, thats, blessing...</td>\n",
       "      <td>good one course say know thats blessing curse ...</td>\n",
       "    </tr>\n",
       "    <tr>\n",
       "      <th>3</th>\n",
       "      <td>intj</td>\n",
       "      <td>'Dear INTP,   I enjoyed our conversation the o...</td>\n",
       "      <td>dear intp enjoyed conversation day esoteric ga...</td>\n",
       "      <td>[dear, intp, enjoyed, conversation, day, esote...</td>\n",
       "      <td>dear intp enjoyed conversation day esoteric ga...</td>\n",
       "    </tr>\n",
       "    <tr>\n",
       "      <th>4</th>\n",
       "      <td>entj</td>\n",
       "      <td>'You're fired.|||That's another silly misconce...</td>\n",
       "      <td>youre fired thats another silly misconception ...</td>\n",
       "      <td>[youre, fired, thats, another, silly, misconce...</td>\n",
       "      <td>youre fired thats another silly misconception ...</td>\n",
       "    </tr>\n",
       "  </tbody>\n",
       "</table>\n",
       "</div>"
      ],
      "text/plain": [
       "   type                                              posts  \\\n",
       "0  infj  'http://www.youtube.com/watch?v=qsXHcwe3krw|||...   \n",
       "1  entp  'I'm finding the lack of me in these posts ver...   \n",
       "2  intp  'Good one  _____   https://www.youtube.com/wat...   \n",
       "3  intj  'Dear INTP,   I enjoyed our conversation the o...   \n",
       "4  entj  'You're fired.|||That's another silly misconce...   \n",
       "\n",
       "                                         clean_posts  \\\n",
       "0  enfp intj moment sportscenter top ten play pra...   \n",
       "1  im finding lack post alarming sex boring posit...   \n",
       "2  good one course say know thats blessing curse ...   \n",
       "3  dear intp enjoyed conversation day esoteric ga...   \n",
       "4  youre fired thats another silly misconception ...   \n",
       "\n",
       "                                          post_token  \\\n",
       "0  [enfp, intj, moment, sportscenter, top, ten, p...   \n",
       "1  [im, finding, lack, post, alarming, sex, borin...   \n",
       "2  [good, one, course, say, know, thats, blessing...   \n",
       "3  [dear, intp, enjoyed, conversation, day, esote...   \n",
       "4  [youre, fired, thats, another, silly, misconce...   \n",
       "\n",
       "                                        token_joined  \n",
       "0  enfp intj moment sportscenter top ten play pra...  \n",
       "1  im finding lack post alarming sex boring posit...  \n",
       "2  good one course say know thats blessing curse ...  \n",
       "3  dear intp enjoyed conversation day esoteric ga...  \n",
       "4  youre fired thats another silly misconception ...  "
      ]
     },
     "execution_count": 62,
     "metadata": {},
     "output_type": "execute_result"
    }
   ],
   "source": [
    "cafe_clean.head(5)"
   ]
  },
  {
   "cell_type": "markdown",
   "metadata": {},
   "source": [
    "### Adding binary targets"
   ]
  },
  {
   "cell_type": "code",
   "execution_count": 63,
   "metadata": {},
   "outputs": [],
   "source": [
    "cafe_clean['i/e'] = cafe_clean['type'].map(lambda x: x[0])\n",
    "cafe_clean['n/s'] = cafe_clean['type'].map(lambda x: x[1])\n",
    "cafe_clean['t/f'] = cafe_clean['type'].map(lambda x: x[2])\n",
    "cafe_clean['p/j'] = cafe_clean['type'].map(lambda x: x[3])\n"
   ]
  },
  {
   "cell_type": "code",
   "execution_count": 94,
   "metadata": {},
   "outputs": [
    {
     "name": "stdout",
     "output_type": "stream",
     "text": [
      "i    6676\n",
      "e    1999\n",
      "Name: i/e, dtype: int64\n",
      "n    7478\n",
      "s    1197\n",
      "Name: n/s, dtype: int64\n",
      "f    4694\n",
      "t    3981\n",
      "Name: t/f, dtype: int64\n",
      "p    5241\n",
      "j    3434\n",
      "Name: p/j, dtype: int64\n"
     ]
    }
   ],
   "source": [
    "print(cafe_clean['i/e'].value_counts())\n",
    "print(cafe_clean['n/s'].value_counts())\n",
    "print(cafe_clean['t/f'].value_counts())\n",
    "print(cafe_clean['p/j'].value_counts())"
   ]
  },
  {
   "cell_type": "code",
   "execution_count": 64,
   "metadata": {},
   "outputs": [
    {
     "data": {
      "text/html": [
       "<div>\n",
       "<style scoped>\n",
       "    .dataframe tbody tr th:only-of-type {\n",
       "        vertical-align: middle;\n",
       "    }\n",
       "\n",
       "    .dataframe tbody tr th {\n",
       "        vertical-align: top;\n",
       "    }\n",
       "\n",
       "    .dataframe thead th {\n",
       "        text-align: right;\n",
       "    }\n",
       "</style>\n",
       "<table border=\"1\" class=\"dataframe\">\n",
       "  <thead>\n",
       "    <tr style=\"text-align: right;\">\n",
       "      <th></th>\n",
       "      <th>type</th>\n",
       "      <th>posts</th>\n",
       "      <th>clean_posts</th>\n",
       "      <th>post_token</th>\n",
       "      <th>token_joined</th>\n",
       "      <th>i/e</th>\n",
       "      <th>n/s</th>\n",
       "      <th>t/f</th>\n",
       "      <th>p/j</th>\n",
       "    </tr>\n",
       "  </thead>\n",
       "  <tbody>\n",
       "    <tr>\n",
       "      <th>0</th>\n",
       "      <td>infj</td>\n",
       "      <td>'http://www.youtube.com/watch?v=qsXHcwe3krw|||...</td>\n",
       "      <td>enfp intj moment sportscenter top ten play pra...</td>\n",
       "      <td>[enfp, intj, moment, sportscenter, top, ten, p...</td>\n",
       "      <td>enfp intj moment sportscenter top ten play pra...</td>\n",
       "      <td>i</td>\n",
       "      <td>n</td>\n",
       "      <td>f</td>\n",
       "      <td>j</td>\n",
       "    </tr>\n",
       "    <tr>\n",
       "      <th>1</th>\n",
       "      <td>entp</td>\n",
       "      <td>'I'm finding the lack of me in these posts ver...</td>\n",
       "      <td>im finding lack post alarming sex boring posit...</td>\n",
       "      <td>[im, finding, lack, post, alarming, sex, borin...</td>\n",
       "      <td>im finding lack post alarming sex boring posit...</td>\n",
       "      <td>e</td>\n",
       "      <td>n</td>\n",
       "      <td>t</td>\n",
       "      <td>p</td>\n",
       "    </tr>\n",
       "    <tr>\n",
       "      <th>2</th>\n",
       "      <td>intp</td>\n",
       "      <td>'Good one  _____   https://www.youtube.com/wat...</td>\n",
       "      <td>good one course say know thats blessing curse ...</td>\n",
       "      <td>[good, one, course, say, know, thats, blessing...</td>\n",
       "      <td>good one course say know thats blessing curse ...</td>\n",
       "      <td>i</td>\n",
       "      <td>n</td>\n",
       "      <td>t</td>\n",
       "      <td>p</td>\n",
       "    </tr>\n",
       "    <tr>\n",
       "      <th>3</th>\n",
       "      <td>intj</td>\n",
       "      <td>'Dear INTP,   I enjoyed our conversation the o...</td>\n",
       "      <td>dear intp enjoyed conversation day esoteric ga...</td>\n",
       "      <td>[dear, intp, enjoyed, conversation, day, esote...</td>\n",
       "      <td>dear intp enjoyed conversation day esoteric ga...</td>\n",
       "      <td>i</td>\n",
       "      <td>n</td>\n",
       "      <td>t</td>\n",
       "      <td>j</td>\n",
       "    </tr>\n",
       "    <tr>\n",
       "      <th>4</th>\n",
       "      <td>entj</td>\n",
       "      <td>'You're fired.|||That's another silly misconce...</td>\n",
       "      <td>youre fired thats another silly misconception ...</td>\n",
       "      <td>[youre, fired, thats, another, silly, misconce...</td>\n",
       "      <td>youre fired thats another silly misconception ...</td>\n",
       "      <td>e</td>\n",
       "      <td>n</td>\n",
       "      <td>t</td>\n",
       "      <td>j</td>\n",
       "    </tr>\n",
       "    <tr>\n",
       "      <th>...</th>\n",
       "      <td>...</td>\n",
       "      <td>...</td>\n",
       "      <td>...</td>\n",
       "      <td>...</td>\n",
       "      <td>...</td>\n",
       "      <td>...</td>\n",
       "      <td>...</td>\n",
       "      <td>...</td>\n",
       "      <td>...</td>\n",
       "    </tr>\n",
       "    <tr>\n",
       "      <th>8670</th>\n",
       "      <td>isfp</td>\n",
       "      <td>'https://www.youtube.com/watch?v=t8edHB_h908||...</td>\n",
       "      <td>ixfp always think cat fi doms reason especiall...</td>\n",
       "      <td>[ixfp, always, think, cat, fi, doms, reason, e...</td>\n",
       "      <td>ixfp always think cat fi doms reason especiall...</td>\n",
       "      <td>i</td>\n",
       "      <td>s</td>\n",
       "      <td>f</td>\n",
       "      <td>p</td>\n",
       "    </tr>\n",
       "    <tr>\n",
       "      <th>8671</th>\n",
       "      <td>enfp</td>\n",
       "      <td>'So...if this thread already exists someplace ...</td>\n",
       "      <td>thread already exists someplace else heck dele...</td>\n",
       "      <td>[thread, already, exists, someplace, else, hec...</td>\n",
       "      <td>thread already exists someplace else heck dele...</td>\n",
       "      <td>e</td>\n",
       "      <td>n</td>\n",
       "      <td>f</td>\n",
       "      <td>p</td>\n",
       "    </tr>\n",
       "    <tr>\n",
       "      <th>8672</th>\n",
       "      <td>intp</td>\n",
       "      <td>'So many questions when i do these things.  I ...</td>\n",
       "      <td>many question thing would take purple pill pic...</td>\n",
       "      <td>[many, question, thing, would, take, purple, p...</td>\n",
       "      <td>many question thing would take purple pill pic...</td>\n",
       "      <td>i</td>\n",
       "      <td>n</td>\n",
       "      <td>t</td>\n",
       "      <td>p</td>\n",
       "    </tr>\n",
       "    <tr>\n",
       "      <th>8673</th>\n",
       "      <td>infp</td>\n",
       "      <td>'I am very conflicted right now when it comes ...</td>\n",
       "      <td>conflicted right come wanting child honestly m...</td>\n",
       "      <td>[conflicted, right, come, wanting, child, hone...</td>\n",
       "      <td>conflicted right come wanting child honestly m...</td>\n",
       "      <td>i</td>\n",
       "      <td>n</td>\n",
       "      <td>f</td>\n",
       "      <td>p</td>\n",
       "    </tr>\n",
       "    <tr>\n",
       "      <th>8674</th>\n",
       "      <td>infp</td>\n",
       "      <td>'It has been too long since I have been on per...</td>\n",
       "      <td>long since personalitycafe although doesnt see...</td>\n",
       "      <td>[long, since, personalitycafe, although, doesn...</td>\n",
       "      <td>long since personalitycafe although doesnt see...</td>\n",
       "      <td>i</td>\n",
       "      <td>n</td>\n",
       "      <td>f</td>\n",
       "      <td>p</td>\n",
       "    </tr>\n",
       "  </tbody>\n",
       "</table>\n",
       "<p>8675 rows × 9 columns</p>\n",
       "</div>"
      ],
      "text/plain": [
       "      type                                              posts  \\\n",
       "0     infj  'http://www.youtube.com/watch?v=qsXHcwe3krw|||...   \n",
       "1     entp  'I'm finding the lack of me in these posts ver...   \n",
       "2     intp  'Good one  _____   https://www.youtube.com/wat...   \n",
       "3     intj  'Dear INTP,   I enjoyed our conversation the o...   \n",
       "4     entj  'You're fired.|||That's another silly misconce...   \n",
       "...    ...                                                ...   \n",
       "8670  isfp  'https://www.youtube.com/watch?v=t8edHB_h908||...   \n",
       "8671  enfp  'So...if this thread already exists someplace ...   \n",
       "8672  intp  'So many questions when i do these things.  I ...   \n",
       "8673  infp  'I am very conflicted right now when it comes ...   \n",
       "8674  infp  'It has been too long since I have been on per...   \n",
       "\n",
       "                                            clean_posts  \\\n",
       "0     enfp intj moment sportscenter top ten play pra...   \n",
       "1     im finding lack post alarming sex boring posit...   \n",
       "2     good one course say know thats blessing curse ...   \n",
       "3     dear intp enjoyed conversation day esoteric ga...   \n",
       "4     youre fired thats another silly misconception ...   \n",
       "...                                                 ...   \n",
       "8670  ixfp always think cat fi doms reason especiall...   \n",
       "8671  thread already exists someplace else heck dele...   \n",
       "8672  many question thing would take purple pill pic...   \n",
       "8673  conflicted right come wanting child honestly m...   \n",
       "8674  long since personalitycafe although doesnt see...   \n",
       "\n",
       "                                             post_token  \\\n",
       "0     [enfp, intj, moment, sportscenter, top, ten, p...   \n",
       "1     [im, finding, lack, post, alarming, sex, borin...   \n",
       "2     [good, one, course, say, know, thats, blessing...   \n",
       "3     [dear, intp, enjoyed, conversation, day, esote...   \n",
       "4     [youre, fired, thats, another, silly, misconce...   \n",
       "...                                                 ...   \n",
       "8670  [ixfp, always, think, cat, fi, doms, reason, e...   \n",
       "8671  [thread, already, exists, someplace, else, hec...   \n",
       "8672  [many, question, thing, would, take, purple, p...   \n",
       "8673  [conflicted, right, come, wanting, child, hone...   \n",
       "8674  [long, since, personalitycafe, although, doesn...   \n",
       "\n",
       "                                           token_joined i/e n/s t/f p/j  \n",
       "0     enfp intj moment sportscenter top ten play pra...   i   n   f   j  \n",
       "1     im finding lack post alarming sex boring posit...   e   n   t   p  \n",
       "2     good one course say know thats blessing curse ...   i   n   t   p  \n",
       "3     dear intp enjoyed conversation day esoteric ga...   i   n   t   j  \n",
       "4     youre fired thats another silly misconception ...   e   n   t   j  \n",
       "...                                                 ...  ..  ..  ..  ..  \n",
       "8670  ixfp always think cat fi doms reason especiall...   i   s   f   p  \n",
       "8671  thread already exists someplace else heck dele...   e   n   f   p  \n",
       "8672  many question thing would take purple pill pic...   i   n   t   p  \n",
       "8673  conflicted right come wanting child honestly m...   i   n   f   p  \n",
       "8674  long since personalitycafe although doesnt see...   i   n   f   p  \n",
       "\n",
       "[8675 rows x 9 columns]"
      ]
     },
     "execution_count": 64,
     "metadata": {},
     "output_type": "execute_result"
    }
   ],
   "source": [
    "cafe_clean"
   ]
  },
  {
   "cell_type": "markdown",
   "metadata": {},
   "source": [
    "### Baseline Models"
   ]
  },
  {
   "cell_type": "code",
   "execution_count": 65,
   "metadata": {},
   "outputs": [],
   "source": [
    "X = cafe_clean['token_joined']\n",
    "y = cafe_clean['i/e']\n",
    "\n",
    "X_train, X_test, y_train, y_test = train_test_split(X, y, random_state=SEED)"
   ]
  },
  {
   "cell_type": "code",
   "execution_count": 66,
   "metadata": {},
   "outputs": [],
   "source": [
    "count_vc = CountVectorizer(ngram_range=(1,2))"
   ]
  },
  {
   "cell_type": "code",
   "execution_count": 67,
   "metadata": {},
   "outputs": [],
   "source": [
    "X_train_count = count_vc.fit_transform(X_train)\n",
    "X_test_count = count_vc.transform(X_test)"
   ]
  },
  {
   "cell_type": "code",
   "execution_count": 68,
   "metadata": {},
   "outputs": [
    {
     "name": "stdout",
     "output_type": "stream",
     "text": [
      "CV: 0.8411, A: 0.8501613646841862\n"
     ]
    }
   ],
   "source": [
    "sgd = SGDClassifier(class_weight='balanced', random_state=SEED)\n",
    "\n",
    "sgd.fit(X_train_count, y_train)\n",
    "\n",
    "cv_score = cross_val_score(sgd, X_train_count, y_train, cv=5)\n",
    "cv_score_mean = round(np.mean(cv_score), 4)\n",
    "\n",
    "y_pred = sgd.predict(X_test_count)\n",
    "acc_score = accuracy_score(y_pred, y_test)\n",
    "\n",
    "print(f\"CV: {cv_score_mean}, A: {acc_score}\")"
   ]
  },
  {
   "cell_type": "code",
   "execution_count": 69,
   "metadata": {},
   "outputs": [
    {
     "data": {
      "text/plain": [
       "i    0.788843\n",
       "e    0.211157\n",
       "Name: i/e, dtype: float64"
      ]
     },
     "execution_count": 69,
     "metadata": {},
     "output_type": "execute_result"
    }
   ],
   "source": [
    "y_test.value_counts(normalize=True)"
   ]
  },
  {
   "cell_type": "code",
   "execution_count": 70,
   "metadata": {},
   "outputs": [
    {
     "data": {
      "text/plain": [
       "<sklearn.metrics._plot.confusion_matrix.ConfusionMatrixDisplay at 0x7f900c0510d0>"
      ]
     },
     "execution_count": 70,
     "metadata": {},
     "output_type": "execute_result"
    },
    {
     "data": {
      "image/png": "[encoded data removed]",
      "text/plain": [
       "<Figure size 576x576 with 2 Axes>"
      ]
     },
     "metadata": {
      "needs_background": "light"
     },
     "output_type": "display_data"
    }
   ],
   "source": [
    "fig, ax = plt.subplots(figsize=(8,8))\n",
    "plot_confusion_matrix(sgd, X_test_count, y_test, ax=ax, normalize='true')"
   ]
  },
  {
   "cell_type": "code",
   "execution_count": 71,
   "metadata": {},
   "outputs": [],
   "source": [
    "# BASELINE\n",
    "# ---------\n",
    "# All classes ~60%\n",
    "# i/e ~85%\n",
    "# n/s ~90%\n",
    "# p/j ~77%\n",
    "# t/f ~85%"
   ]
  },
  {
   "cell_type": "markdown",
   "metadata": {},
   "source": [
    "### Understample test set for binary"
   ]
  },
  {
   "cell_type": "code",
   "execution_count": 72,
   "metadata": {},
   "outputs": [],
   "source": [
    "from imblearn.under_sampling import RandomUnderSampler"
   ]
  },
  {
   "cell_type": "code",
   "execution_count": 73,
   "metadata": {},
   "outputs": [
    {
     "name": "stdout",
     "output_type": "stream",
     "text": [
      "(array(['f', 't'], dtype=object), array([3544, 2962]))\n",
      "(array(['f', 't'], dtype=object), array([2962, 2962]))\n"
     ]
    }
   ],
   "source": [
    "train_set, test_set = train_test_split(cafe_clean, random_state=SEED)\n",
    "\n",
    "X_train = train_set['token_joined']\n",
    "X_train = np.array(X_train).reshape(-1, 1)\n",
    "\n",
    "y_train = train_set['t/f']\n",
    "y_train = np.array(y_train).reshape(-1, 1)\n",
    "\n",
    "\n",
    "# instantiating the random undersampler\n",
    "rus = RandomUnderSampler() \n",
    "\n",
    "# resampling training set X & y\n",
    "X_rus, y_rus = rus.fit_resample(X_train, y_train)\n",
    "\n",
    "# new class distribution\n",
    "print(np.unique(y_train, return_counts=True))\n",
    "print(np.unique(y_rus, return_counts=True))"
   ]
  },
  {
   "cell_type": "code",
   "execution_count": 74,
   "metadata": {},
   "outputs": [
    {
     "data": {
      "text/plain": [
       "(5924,)"
      ]
     },
     "execution_count": 74,
     "metadata": {},
     "output_type": "execute_result"
    }
   ],
   "source": [
    "X_rus.reshape(-1).shape"
   ]
  },
  {
   "cell_type": "code",
   "execution_count": 75,
   "metadata": {},
   "outputs": [],
   "source": [
    "X_rus = pd.Series(X_rus.reshape(-1))\n",
    "y_rus = pd.Series(y_rus.reshape(-1))"
   ]
  },
  {
   "cell_type": "code",
   "execution_count": 76,
   "metadata": {},
   "outputs": [],
   "source": [
    "X_train_count = count_vc.fit_transform(X_rus)\n",
    "X_test_count = count_vc.transform(test_set['token_joined'])"
   ]
  },
  {
   "cell_type": "code",
   "execution_count": 77,
   "metadata": {},
   "outputs": [
    {
     "name": "stdout",
     "output_type": "stream",
     "text": [
      "CV: 0.8331, A: 0.8386353158137391\n"
     ]
    }
   ],
   "source": [
    "sgd = SGDClassifier(class_weight='balanced', random_state=SEED)\n",
    "\n",
    "sgd.fit(X_train_count, y_rus)\n",
    "\n",
    "cv_score = cross_val_score(sgd, X_train_count, y_rus, cv=5)\n",
    "cv_score_mean = round(np.mean(cv_score), 4)\n",
    "\n",
    "y_pred = sgd.predict(X_test_count)\n",
    "acc_score = accuracy_score(y_pred, test_set['t/f'])\n",
    "\n",
    "print(f\"CV: {cv_score_mean}, A: {acc_score}\")"
   ]
  },
  {
   "cell_type": "code",
   "execution_count": 78,
   "metadata": {},
   "outputs": [
    {
     "data": {
      "text/plain": [
       "<sklearn.metrics._plot.confusion_matrix.ConfusionMatrixDisplay at 0x7f90d885fdf0>"
      ]
     },
     "execution_count": 78,
     "metadata": {},
     "output_type": "execute_result"
    },
    {
     "data": {
      "image/png": "[encoded data removed]",
      "text/plain": [
       "<Figure size 576x576 with 2 Axes>"
      ]
     },
     "metadata": {
      "needs_background": "light"
     },
     "output_type": "display_data"
    }
   ],
   "source": [
    "fig, ax = plt.subplots(figsize=(8,8))\n",
    "plot_confusion_matrix(sgd, X_test_count, test_set['t/f'], ax=ax)"
   ]
  },
  {
   "cell_type": "code",
   "execution_count": 79,
   "metadata": {},
   "outputs": [],
   "source": [
    "# Undersampling\n",
    "# ---------\n",
    "# i/e ~81%\n",
    "# n/s ~83%\n",
    "# p/j ~76%\n",
    "# t/f ~83%"
   ]
  },
  {
   "cell_type": "markdown",
   "metadata": {},
   "source": [
    "## Both DF\n",
    "\n",
    "Comparing baseline models to this other dataset"
   ]
  },
  {
   "cell_type": "code",
   "execution_count": 86,
   "metadata": {},
   "outputs": [],
   "source": [
    "both_clean = both_df.copy()"
   ]
  },
  {
   "cell_type": "code",
   "execution_count": 87,
   "metadata": {},
   "outputs": [],
   "source": [
    "both_clean['type'] = both_clean['type'].str.lower()"
   ]
  },
  {
   "cell_type": "code",
   "execution_count": 90,
   "metadata": {},
   "outputs": [
    {
     "data": {
      "text/plain": [
       "intp    24961\n",
       "intj    22427\n",
       "infj    14963\n",
       "infp    12134\n",
       "entp    11725\n",
       "enfp     6167\n",
       "istp     3424\n",
       "entj     2955\n",
       "estp     1986\n",
       "enfj     1534\n",
       "istj     1243\n",
       "isfp      875\n",
       "isfj      650\n",
       "estj      482\n",
       "esfp      360\n",
       "esfj      181\n",
       "Name: type, dtype: int64"
      ]
     },
     "execution_count": 90,
     "metadata": {},
     "output_type": "execute_result"
    }
   ],
   "source": [
    "both_clean['type'].value_counts()"
   ]
  },
  {
   "cell_type": "code",
   "execution_count": 91,
   "metadata": {},
   "outputs": [],
   "source": [
    "both_clean['i/e'] = both_clean['type'].map(lambda x: x[0])\n",
    "both_clean['n/s'] = both_clean['type'].map(lambda x: x[1])\n",
    "both_clean['t/f'] = both_clean['type'].map(lambda x: x[2])\n",
    "both_clean['p/j'] = both_clean['type'].map(lambda x: x[3])\n"
   ]
  },
  {
   "cell_type": "code",
   "execution_count": 93,
   "metadata": {},
   "outputs": [
    {
     "name": "stdout",
     "output_type": "stream",
     "text": [
      "i    80677\n",
      "e    25390\n",
      "Name: i/e, dtype: int64\n",
      "n    96866\n",
      "s     9201\n",
      "Name: n/s, dtype: int64\n",
      "t    69203\n",
      "f    36864\n",
      "Name: t/f, dtype: int64\n",
      "p    61632\n",
      "j    44435\n",
      "Name: p/j, dtype: int64\n"
     ]
    }
   ],
   "source": [
    "print(both_clean['i/e'].value_counts())\n",
    "print(both_clean['n/s'].value_counts())\n",
    "print(both_clean['t/f'].value_counts())\n",
    "print(both_clean['p/j'].value_counts())"
   ]
  },
  {
   "cell_type": "code",
   "execution_count": 95,
   "metadata": {},
   "outputs": [
    {
     "data": {
      "text/plain": [
       "Index(['posts', 'type', 'i/e', 'n/s', 't/f', 'p/j'], dtype='object')"
      ]
     },
     "execution_count": 95,
     "metadata": {},
     "output_type": "execute_result"
    }
   ],
   "source": [
    "both_clean.columns"
   ]
  },
  {
   "cell_type": "code",
   "execution_count": 126,
   "metadata": {},
   "outputs": [],
   "source": [
    "X = both_clean['posts']\n",
    "y = both_clean['t/f']\n",
    "\n",
    "X_train, X_test, y_train, y_test = train_test_split(X, y, random_state=SEED)"
   ]
  },
  {
   "cell_type": "code",
   "execution_count": 127,
   "metadata": {},
   "outputs": [],
   "source": [
    "count_vc = CountVectorizer(ngram_range=(1,2))"
   ]
  },
  {
   "cell_type": "code",
   "execution_count": 128,
   "metadata": {},
   "outputs": [],
   "source": [
    "X_train_count = count_vc.fit_transform(X_train)\n",
    "X_test_count = count_vc.transform(X_test)"
   ]
  },
  {
   "cell_type": "code",
   "execution_count": 129,
   "metadata": {},
   "outputs": [
    {
     "name": "stdout",
     "output_type": "stream",
     "text": [
      "CV: 0.9213, A: 0.9251\n"
     ]
    }
   ],
   "source": [
    "sgd = SGDClassifier(class_weight='balanced', random_state=SEED)\n",
    "\n",
    "sgd.fit(X_train_count, y_train)\n",
    "\n",
    "cv_score = cross_val_score(sgd, X_train_count, y_train, cv=5)\n",
    "cv_score_mean = round(np.mean(cv_score), 4)\n",
    "\n",
    "y_pred = sgd.predict(X_test_count)\n",
    "acc_score = accuracy_score(y_pred, y_test)\n",
    "\n",
    "print(f\"CV: {cv_score_mean}, A: {round(acc_score, 4)}\")"
   ]
  },
  {
   "cell_type": "code",
   "execution_count": 130,
   "metadata": {},
   "outputs": [
    {
     "data": {
      "text/plain": [
       "t    0.653204\n",
       "f    0.346796\n",
       "Name: t/f, dtype: float64"
      ]
     },
     "execution_count": 130,
     "metadata": {},
     "output_type": "execute_result"
    }
   ],
   "source": [
    "y_test.value_counts(normalize=True)"
   ]
  },
  {
   "cell_type": "code",
   "execution_count": 135,
   "metadata": {},
   "outputs": [
    {
     "data": {
      "text/plain": [
       "<sklearn.metrics._plot.confusion_matrix.ConfusionMatrixDisplay at 0x7f8f31cdea90>"
      ]
     },
     "execution_count": 135,
     "metadata": {},
     "output_type": "execute_result"
    },
    {
     "data": {
      "image/png": "[encoded data removed]",
      "text/plain": [
       "<Figure size 1080x1080 with 2 Axes>"
      ]
     },
     "metadata": {
      "needs_background": "light"
     },
     "output_type": "display_data"
    }
   ],
   "source": [
    "fig, ax = plt.subplots(figsize=(15,15))\n",
    "plt.rcParams.update({'font.size': 22})\n",
    "plt.rc('xtick', labelsize=22) \n",
    "plt.rc('ytick', labelsize=22) \n",
    "plot_confusion_matrix(sgd, X_test_count, y_test, ax=ax, normalize='true')"
   ]
  },
  {
   "cell_type": "code",
   "execution_count": null,
   "metadata": {},
   "outputs": [],
   "source": [
    "# BASELINE (100k set)\n",
    "# ---------\n",
    "# All ~82%\n",
    "# i/e ~85%\n",
    "# n/s ~96%\n",
    "# p/j ~86%\n",
    "# t/f ~92%\n",
    "\n",
    "# BASELINE (Cafe 9k set)\n",
    "# ---------\n",
    "# All classes ~60%\n",
    "# i/e ~85%\n",
    "# n/s ~90%\n",
    "# p/j ~77%\n",
    "# t/f ~85%\n",
    "\n",
    "# Undersampling (Cafe)\n",
    "# ---------\n",
    "# i/e ~81%\n",
    "# n/s ~83%\n",
    "# p/j ~76%\n",
    "# t/f ~83%\n",
    "\n"
   ]
  },
  {
   "cell_type": "code",
   "execution_count": 111,
   "metadata": {},
   "outputs": [
    {
     "data": {
      "text/plain": [
       "{'INTP / 30 / Male',\n",
       " \"INTJ/ENTJ I don't fucking know\",\n",
       " 'Big 5\" ISTPenises',\n",
       " 'INTJ | 21M',\n",
       " 'INFP: The beautiful contradiction of nonsense',\n",
       " 'INTJ: The Paradox',\n",
       " 'INFJ/F/32',\n",
       " 'ENTP \\\\\\\\ type me',\n",
       " 'North Rhine-Westphalia / European Union',\n",
       " 'infj/f/24/6w2',\n",
       " '25F // INTJ',\n",
       " 'INFP 4w5: Longing for something.',\n",
       " \"INFP: It's an abstract kind of feel\",\n",
       " 'INFP: The Dreamer | 2w7',\n",
       " 'JustaninnocentPony',\n",
       " 'ENTP 24M',\n",
       " 'ESFP 6w5 SX/SO',\n",
       " 'INTP-ILI; 5w4',\n",
       " 'INFP: Son of Starlight',\n",
       " 'INFP/M/22',\n",
       " 'INFPeanut',\n",
       " 'ENTP/32/F/9w1',\n",
       " 'F19 ISTP volcel',\n",
       " 'INFP: The Quiet One',\n",
       " '23F | INFJ',\n",
       " 'ISFP: The Cloudcuckoolander E9',\n",
       " 'ENTP: The Mad Scientist',\n",
       " '26 M ENTP',\n",
       " 'Borderline INTP/INFP',\n",
       " 'INTP Jungler',\n",
       " 'INTP | F | 17',\n",
       " 'Super Class Type ENTP Mk 7w8',\n",
       " 'INFJ, M, 20',\n",
       " 'eNTP',\n",
       " 'infj / NT fangirl',\n",
       " '22, femake, INFJ',\n",
       " 'INFP: That is me',\n",
       " 'INFP: The Apparently Dualistic Face',\n",
       " 'M/18/INFJ-T',\n",
       " 'infj/m/28',\n",
       " 'DampestParsley9',\n",
       " 'infp 4w5 sp/so',\n",
       " '27/F/infj',\n",
       " 'infp 9w8: child of Earth',\n",
       " 'INTP/INFP 5w4w6',\n",
       " ' INFJ 24 M',\n",
       " '\"Cold, Calculating\" INTJ',\n",
       " 'INFJ (M26)',\n",
       " 'INFP - T',\n",
       " 'ENTP-23M',\n",
       " 'ENTP ♂ 23',\n",
       " 'INTP 5 balanced wings sexual variant',\n",
       " 'INTP 548 tritype Sx/Sp ',\n",
       " 'INFP - your local cinnamon roll',\n",
       " '[INTP 5w4]',\n",
       " 'INTJ, behold!',\n",
       " '~~ENFP~~',\n",
       " 'Icicestpepsi',\n",
       " '22/F/INFJ/2w1',\n",
       " 'infj ',\n",
       " 'agentpanda 0705-5062-3182 [Water:Bibarel,Gyarados,Frogadier]',\n",
       " 'INFP -T: A dream within a dream within a dream',\n",
       " 'ENFP-T | F | 20',\n",
       " 'My EntJ Laughs at your Tiny Ship',\n",
       " 'INFP: The Dreamy Idealist',\n",
       " 'INFJ: The Protector &lt;3',\n",
       " 'INFJ, 26, F',\n",
       " ' INFJ/28/F',\n",
       " 'infj | f | 31',\n",
       " 'INTPotato',\n",
       " 'INFJ: 4w3',\n",
       " 'AgentPaint',\n",
       " 'The conservative’s conservative student and ESTJ',\n",
       " 'INTJ / 22F',\n",
       " '4w5 sx/sp infp',\n",
       " 'chestplate business',\n",
       " 'INFJ | F | 23',\n",
       " 'INTJ/p',\n",
       " '[ISTP] The Serial Killer',\n",
       " '5(w4?), INFP',\n",
       " '[M\\\\42\\\\INFJ]',\n",
       " 'INFP 4w5: The Melancholic Longing Scholar',\n",
       " 'INTP 21f',\n",
       " '26 | Female | INFP',\n",
       " '9w8 enfp SO',\n",
       " 'INFP: Sound of Silence',\n",
       " 'INTP 5w4 female',\n",
       " 'INFJ | 23',\n",
       " 'PaintP',\n",
       " '1w9 ISFP',\n",
       " 'INFJ | 19M',\n",
       " 'INFP 4w5: The idiosyncratic, nihilistic, freaky person.',\n",
       " '[ENTJ]/[ESTJ]',\n",
       " 'ISTP with dat Ni',\n",
       " 'IxxP, consider myself ISFP?',\n",
       " 'INTP 5w4 / 19',\n",
       " 'Cheshire Cat Cousins (ENTP)',\n",
       " '\"Uhh, maybe next time, sorry\" [INTJ]',\n",
       " 'INFP: The Delusional',\n",
       " 'ENTP/ADHD/serial entrepreneur',\n",
       " 'INFJ F 4sx/sp',\n",
       " 'INFP: i think im some kinda unicorn but im just a smelly donkey',\n",
       " 'INFJ/23/F',\n",
       " 'INFJ 25/F Pillow Hugger',\n",
       " '[ESFP]',\n",
       " 'INTP | INTp (!?)',\n",
       " 'intj...probably',\n",
       " 'ENTP - Phoenix - Newt - Emperor Supreme',\n",
       " 'INTP 23 M',\n",
       " 'INFJ | Male |18',\n",
       " 'INFP: Head in the Clouds',\n",
       " 'INFP: The Conflicted',\n",
       " 'ENTP 29/F',\n",
       " 'ENTP♂ in remission',\n",
       " 'INFP : The Weirdo',\n",
       " 'INFP - The intrigued',\n",
       " 'ENTP 8w7 sx/so F 23',\n",
       " 'Terroristpwnr247',\n",
       " 'IGN: BestProNoob (Lit 9)',\n",
       " 'INFJ M 38',\n",
       " 'INTP-Gnostic',\n",
       " 'INTP 8w9 Tri:854',\n",
       " '[INTP] 5w4/6',\n",
       " 'ENTP Type 7',\n",
       " 'INFP: because FEELS',\n",
       " 'INTP: The Robot',\n",
       " 'INFP: Roaming Dreamer',\n",
       " 'INTP - Chancellor of the Ponginae',\n",
       " 'ENTP 8w7 Fight Me',\n",
       " '5w4 Sx INFP',\n",
       " 'SJWCULTURALMARXISTFEMINISTPOSTMODERNISTVIRTUESIGNALREGRESIVE',\n",
       " 'Emotional INTP (5w4-4w3-8w9 Sx/Sp)',\n",
       " 'www.twitch.tv/Quintjk',\n",
       " 'INFJ 27/f',\n",
       " 'INTP 5w4sx',\n",
       " 'ENTP/20/M',\n",
       " 'ESTJ Type 8',\n",
       " 'INFJ-T',\n",
       " 'INFJ-A|20 M',\n",
       " 'INFJ Being',\n",
       " 'INTP | Female | Early 20s',\n",
       " 'INTJ|Has rotten luck with people',\n",
       " 'http://steamcommunity.com/id/agentpower_',\n",
       " 'INFP: Always uncomfortable',\n",
       " 'infj - f - 25',\n",
       " 'INTJ (the best one)',\n",
       " 'INFP: Quixotic | 2w3so',\n",
       " 'INFJ/ F/ 24',\n",
       " 'Kristjan',\n",
       " 'Westphalia (1882) / Germany',\n",
       " 'INTP/M/23',\n",
       " 'FivePointPalmPC',\n",
       " 'INTP 5w4 22M',\n",
       " ' infj',\n",
       " 'INFJ|F|HSP|21',\n",
       " 'ENTP female',\n",
       " 'entp 7w6',\n",
       " \"INFP: You're not alone\",\n",
       " \"INTP don't ban me plz :(\",\n",
       " 'INTP | 5w4/6',\n",
       " 'ENTP, Brooklyn, New York',\n",
       " 'Pedjoeang pentjari nasi padang',\n",
       " 'INTP / 27 / M',\n",
       " 'ESTPness ☜(ﾟヮﾟ☜)',\n",
       " 'INTP-5w6',\n",
       " 'ISFP-M',\n",
       " 'INTP: A lurker with some Fe',\n",
       " '15/F/INFJ',\n",
       " 'InTP | 5w6',\n",
       " '31/F/INFJ',\n",
       " 'INFJ 17M',\n",
       " 'E/INTP',\n",
       " '3w4 INTJ sx/sp',\n",
       " 'infj/f/20',\n",
       " 'reenactmENTPerson',\n",
       " 'infp: i belong to the beloved',\n",
       " '9w1 974 Sx INFJ',\n",
       " 'infj',\n",
       " 'Ballaysia370 / /r/OriginTP Mod / STILL a Soviet Baller',\n",
       " \"INFP(4w5) Eh, i'll do it later.\",\n",
       " '[ENtP 8w7]',\n",
       " 'INFP: Emotion and Logic fight to the Death',\n",
       " '[The social INTP]',\n",
       " '[ISTJ HiveMind]',\n",
       " 'http://www.amazon.ca/gp/registry/wishlist/ref=nav__gno_listpop_w',\n",
       " 'm/INFJ',\n",
       " 'ISTJ',\n",
       " 'Your Sovereign, INTP',\n",
       " 'INFJ 20/M 5w4',\n",
       " 'INFJ-T/1w2',\n",
       " 'Connery yourbestpaljerry',\n",
       " 'INFJ 28F 5w4',\n",
       " 'INFP: Worry Warrior',\n",
       " 'Single | Gay | Male | InTJ | mid 30s',\n",
       " 'INFJ 23',\n",
       " 'Not All Who Wander Are Lost - INFP 4w3',\n",
       " 'INFP: The Kitten',\n",
       " 'Vestjylland',\n",
       " 'INTP++',\n",
       " 'current INFP',\n",
       " 'INTJ but MBTI is kinda bs',\n",
       " 'ISFP: you but with more sense ;)',\n",
       " 'INFP 4w5 M',\n",
       " 'the entp',\n",
       " 'INFP: 5w4?',\n",
       " 'entp who acts intp because anxiety',\n",
       " 'That weirdo INTJ',\n",
       " 'INFJ-A 2w1 (sc) /M/23',\n",
       " 'ENTP Debate Me',\n",
       " 'ISTP 3.14159265',\n",
       " 'A male HSP INFP in his 20s',\n",
       " '22 F INFJ',\n",
       " 'INFP: The Observer',\n",
       " 'INFJ 20/F',\n",
       " 'INFP: In Need of Fluffy Pillows',\n",
       " '[ENFP] :D',\n",
       " 'INFP: No one performs for a dancer',\n",
       " ' M | ENTP ',\n",
       " 'ParliamentPageBot Developer',\n",
       " 'ESFJ 2w1',\n",
       " 'vintp doesn’t compy with no stinkin’ MBTI',\n",
       " '[INFJ]  Socially inept',\n",
       " '23/F/INTP/5w4',\n",
       " 'Melancholy Sanguine | INFP',\n",
       " 'INFJ M 5w4',\n",
       " 'ENTJ / LEO',\n",
       " 'INFP: Hopeless Romantic',\n",
       " 'INFP: I Never Finish Projects',\n",
       " 'HSP &amp; INFP-T/J &amp; Enneagram 4-5-9',\n",
       " 'INFJ 31 M',\n",
       " 'infj/19 4w5',\n",
       " 'ENTP 4 (20)',\n",
       " 'INFP: The Most Special Snowflake',\n",
       " 'ENTP 28 M',\n",
       " 'http://steamcommunity.com/id/soylentpersons',\n",
       " 'INFJ, 23M',\n",
       " 'INFJ / M / 45',\n",
       " 'ENTP - 15m',\n",
       " 'INFJ F Eire',\n",
       " 'INTP lii 5w4 sx/sp',\n",
       " 'iNfj, M, 22',\n",
       " '[INTP] 5w4',\n",
       " '29/F/INFJ',\n",
       " '[TheAbusementPark] (NA)',\n",
       " 'INFJ | 30 | M',\n",
       " 'ENTP/ENTJ, depending on mood. ',\n",
       " 'INFP 5w6',\n",
       " 'INFP: The Wanderer/Dreamer',\n",
       " 'CaffeINTP',\n",
       " 'INFPs bleed liquid shoegaze',\n",
       " 'INTP/M/20',\n",
       " 'INFJ/20M/2w1',\n",
       " 'INFJ 18F',\n",
       " 'INFJ - 28 - Gay',\n",
       " 'INFJ 30/M',\n",
       " 'INTP | 5w4w9 | Capricorn Sun | Gemini Moon | Ravenclaw',\n",
       " 'INFPrincess',\n",
       " '[ENTP][7w8 sx/sp]',\n",
       " 'ENFP :)',\n",
       " 'INFJ, late 30s F',\n",
       " 'INFJ | 39 | M',\n",
       " 'INFP (introvert-ish ambivert)',\n",
       " 'Le ENFP',\n",
       " 'INFJ| M |22',\n",
       " 'INFP: FEEL ALL THE THINGS!',\n",
       " '6w7 sx/sp INFJ',\n",
       " '29 f ENTP | France',\n",
       " '[INFP] Not all those who wander are lost;',\n",
       " '[ENTP | 514]',\n",
       " 'Kovat, 7 [GoodPointJoe]',\n",
       " 'WestJune83',\n",
       " '22f ENTPandemonium',\n",
       " 'INTJ SCIENCEMASTERMIND',\n",
       " 'INFP: Clarity Found',\n",
       " 'ENTProblematic',\n",
       " 'To be fair, you have to have a very high IQ to be INTP',\n",
       " '19M ENTP 7w6 - I like toitles.',\n",
       " 'INFJ. HRT 2/20/2018',\n",
       " 'infp therapist',\n",
       " '42 F, ENTP 7w6',\n",
       " 'INTP/5w4/19/M',\n",
       " 'ENFJ 6w5',\n",
       " 'entp 22m',\n",
       " 'ENTP: The Explorer',\n",
       " '[INFP] [1w2 sx/so]',\n",
       " 'ISTP 9000',\n",
       " '19/M/INFJ/6w5',\n",
       " 'GrayestPrawn6',\n",
       " 'INFP: Resident Romantic',\n",
       " 'intp 9w1 hufflepuff &lt;3',\n",
       " '31m ENTP',\n",
       " 'Introvert (INTJ)',\n",
       " 'INFP: The Weird Musician',\n",
       " 'INTJ who prefers FiSe over NiTe',\n",
       " 'INTP - Biology Fanboy',\n",
       " 'ISFP: The Composer',\n",
       " 'INFJ / M / 21',\n",
       " 'female ENTP unicorn',\n",
       " 'INTP/31/M',\n",
       " 'ENTP - 5w4sx/sp',\n",
       " 'INFJ - 6w5 - M - 25',\n",
       " 'infj, 38M',\n",
       " '[ENTP] 7w8 sx/sp',\n",
       " '25f ENTP',\n",
       " 'INFP: Madcap Personified',\n",
       " 'INTP 1981',\n",
       " '24|infj-Ni',\n",
       " 'INFJ 33/m',\n",
       " 'INFJ 458',\n",
       " 'INFP 4w5 sp',\n",
       " 'INFJ|25F',\n",
       " 'Entp with BPD: . . . . Run',\n",
       " 'INFJ.f.26',\n",
       " '(INTP)',\n",
       " 'infj/4w5/m/18',\n",
       " 'INFJ/44/M',\n",
       " 'ENTP 16y',\n",
       " 'INTP,5w4,2000,asianmale',\n",
       " 'ENFP 2w3',\n",
       " 'lnpbestp',\n",
       " 'Shameless promotion twitch.tv/DankestJohnson',\n",
       " 'ISTJ-Ayy LMAO',\n",
       " 'F | INTP | 5w4',\n",
       " 'INFJ/24/F',\n",
       " 'ISTJ to the T',\n",
       " '4w3-9w1-6w5 sp/sx infp',\n",
       " 'INFJ 22 F',\n",
       " 'BITTERMISOGYNISTPATRIARCHLOLDATINGPROBLEMS',\n",
       " 'https://inconsistentpacing.wordpress.com/fiction/',\n",
       " 'INTP - 1w9',\n",
       " 'INFJ (25 M)',\n",
       " 'ENTP/ILE',\n",
       " 'entp, mon',\n",
       " 'F ENTP',\n",
       " 'F/INFJ-T',\n",
       " '18 / M / INFJ / 4w5',\n",
       " '7w6 (F42 ENTP)',\n",
       " 'ENTP / 7w6 / M / 32',\n",
       " 'estp',\n",
       " 'ISTP: The Real INTJ',\n",
       " 'INFJ♂',\n",
       " '21 m ENTP',\n",
       " 'INFJ CP 6w5 Sp/Sx',\n",
       " 'INFJ|F|28',\n",
       " 'Wandering INFJ',\n",
       " '21 F ENTP',\n",
       " 'INFP: Something',\n",
       " '(INTJ, Gay Lion)',\n",
       " 'f/infj/6w5',\n",
       " '9w1 infp/j',\n",
       " '21/M/East Coast, USA/INFJ',\n",
       " '[ISTP Type 8]',\n",
       " 'INFJ/f/33',\n",
       " 'INTJ, 20 M UK',\n",
       " 'INTP I kNow how To Party',\n",
       " 'INFP Hope&amp;Sunshine',\n",
       " 'Only an ISTP passing by',\n",
       " 'INFP: Funcomfortable',\n",
       " 'INFJ f 23',\n",
       " 'INFJ | 15 M | 4w5',\n",
       " 'INFP-T: The Space Child',\n",
       " '19/F/INFJ/2w5',\n",
       " 'ENTJ ♀ Humanoid Robot?',\n",
       " 'ENTP M 23 E5',\n",
       " 'INTP, sometimes J',\n",
       " '//5w4x //ENTP //SCux|I|',\n",
       " '[INFP] ',\n",
       " 'INTJ, stalking you all NiTe',\n",
       " '[ENFP] 3w4',\n",
       " 'INFP: Word Inspector',\n",
       " 'INTP 5w4   17/m',\n",
       " 'ENTP 20/M 5w4',\n",
       " 'INFJ | 19',\n",
       " 'INFJ|F|22',\n",
       " 'http://www.twitch.tv/taintproductions',\n",
       " 'INFJ F 25',\n",
       " 'INFP: I can do anything I want to do... tomorrow.',\n",
       " 'ISTJ - 5',\n",
       " 'INTP | 5w6',\n",
       " 'ENFJ 3w2',\n",
       " 'ENTP: Fuck purple!',\n",
       " 'INFJ F 44',\n",
       " '15/M INFJ',\n",
       " 'ENTP, phil. major, 21M',\n",
       " 'INFP: #thefeels',\n",
       " '748 Sx/Sp ENTP',\n",
       " 'INFJ-A/M/20',\n",
       " 'AarynFromBigBrother15IsTheBestPlayerToPlayTheGamw#GoMakeSomeRice',\n",
       " 'INFP, oft mistaken for INTP',\n",
       " '&gt;tfw INTP MASTER RACE',\n",
       " 'XY-INTJ married to 2X-INTJ',\n",
       " '31 m ENTP',\n",
       " 'INFJ/M/Demi',\n",
       " 'INFP - Is the election over yet?',\n",
       " 'INFJ 19F',\n",
       " '20/M/INFJ',\n",
       " 'm/infj/5w4',\n",
       " 'INTP/INFP in the middle.',\n",
       " 'INFJ-T 22M',\n",
       " 'INTP, M/14, Aspergers',\n",
       " 'ENFP/26/M/4w5',\n",
       " 'twitch.tv/degentp',\n",
       " 'INTP | F | 20s',\n",
       " 'ENTP + Communism = True.',\n",
       " 'ENTP Turbulent',\n",
       " 'INTJ/M',\n",
       " 'ENFP - WI',\n",
       " 'INFP-T | 16M',\n",
       " 'INFJ/M/20/1wX \"reformist\"',\n",
       " 'INFJ [m/29] dating ENTP [f]',\n",
       " \"INFP: I'll Remember You\",\n",
       " 'INTP lurker',\n",
       " 'ENTP who secretly wishes he was ENTJ',\n",
       " '[INFJ 5w4 BUT ACTUALLY PROBABLY A MISTYPED IxFP TUMBLR FUCKHEAD]',\n",
       " 'INFP: The Programmer',\n",
       " 'INFJ 1w2',\n",
       " 'function(INTJ){Ni Te Si Fe}',\n",
       " 'entpenis',\n",
       " '(27/F/INFJ/4w5)',\n",
       " 'INTP (+ISTP)',\n",
       " 'INFJ - 297 - so/sx',\n",
       " 'ENTP | 7w8',\n",
       " 'ENTP master type',\n",
       " 'INTP | 20 | M',\n",
       " 'ENTP 7w8 18m',\n",
       " '28/M/entp',\n",
       " 'infj, 36M',\n",
       " '[19m 5w6 INTP]',\n",
       " '16/M/INFJ',\n",
       " '29M | INFJ ',\n",
       " 'INTJ, for real',\n",
       " 'INFP: The Hungry Hungry Hippo',\n",
       " 'ENTP/ADHD',\n",
       " 'INTJ?',\n",
       " 'WumbologistPhD (Wii U)',\n",
       " 'INFJ 21 F',\n",
       " 'INFJ M | 2w1',\n",
       " 'INTJ | Loveable NiTe stalker',\n",
       " '[Admin-INTP]',\n",
       " 'INTP/J/P/J/P/J/P/J/P/J/P/J',\n",
       " 'INTP 4w3',\n",
       " 'just dropped a mixtape (soundcloud.com/agentpaco)',\n",
       " '[ENTP 5w4] [19m likes long walks on sandy beaches]',\n",
       " '31/F INFJ/6w4',\n",
       " '24/M/INFPB&amp;J',\n",
       " 'INTP 28 F',\n",
       " 'INFJ.M.24.OR',\n",
       " 'INFJ Female ',\n",
       " 'http://steamcommunity.com/id/DarkestPlaces/',\n",
       " 'INFP 6w5: The Defender',\n",
       " 'INFP: Whaaaa?',\n",
       " 'INFJ/23M/Dubai',\n",
       " 'SilentJon002',\n",
       " 'ENFJ: The Bananaman',\n",
       " 'ENTP THO',\n",
       " 'INFP: Whimsical Plant Whisperer',\n",
       " '\"FibDem\" #BritainsGreenestParty',\n",
       " 'INFJ 32/m',\n",
       " '23 M INFJ',\n",
       " 'ENTP-A 20 ',\n",
       " 'INFJ/29/M',\n",
       " 'INFP: Kierkegaard fanboy',\n",
       " 'F/20/INTJ',\n",
       " 'ENTP - 7w8sx/sp',\n",
       " 'INFP: The One Who Wanders',\n",
       " 'ISTP / INTP',\n",
       " 'INTJ-A 5w4',\n",
       " 'INTP-A/F/17',\n",
       " 'INFP: The Pretentious Feel Train',\n",
       " 'Espeon is Bestpeon',\n",
       " 'INFJ 4w5 So/Sx',\n",
       " 'INFP: The Paradox',\n",
       " 'ENTP 4.0L per 100km in March',\n",
       " 'ISTP: The Ronin',\n",
       " 'Fuck you, Westphalia.',\n",
       " 'INTP/intense stare expert',\n",
       " 'INTP | 19m | Forever Alone',\n",
       " '[ISTP] Ambivert',\n",
       " '576,808 Twitch/VincentJr',\n",
       " 'BestPierogi',\n",
       " 'INFP - F - 36',\n",
       " 'infj - 4w3',\n",
       " 'INTP The Achiever',\n",
       " 'ISTJ 5w6',\n",
       " 'INFP (and sorta sometimes INTP)',\n",
       " 'INFJ-A 9w1 21/m',\n",
       " '23m INTP',\n",
       " 'ExcrementParliamentarian',\n",
       " 'mENTP',\n",
       " '[ESTP] 3w2',\n",
       " 'INTP | Sx/Sp | 549 | Lesbian | Software Engineer',\n",
       " 'IGN: BestProNoob (Lit 23)',\n",
       " '[INTJ] (NA)',\n",
       " 'MOISTPELLETS',\n",
       " 'ESFP with cripplingly low self-esteem',\n",
       " 'red ENFP squirrel',\n",
       " 'INFJ-T-HSP/6w5/22/M',\n",
       " 'INTP or ENTP',\n",
       " 'INTP/M/18 seeking to understand the INFJ OS',\n",
       " 'ENTP 26 M',\n",
       " 'M/23/INFJ/5w4',\n",
       " 'probly ISTJ',\n",
       " '6w5 sx/sp INFP',\n",
       " '25f // INTJ',\n",
       " 'INFP | 5w4 sx/sp | 24 | F',\n",
       " 'F ENTP 8w7 ',\n",
       " 'INFJ, 29/M',\n",
       " 'INFP Zero',\n",
       " '25/m/infj',\n",
       " 'ENTP or INTJ idk',\n",
       " 'INFJ/925/24/F',\n",
       " 'Fairly Relaxed INTP',\n",
       " 'INFP: Shitty Philosopher - 5w4',\n",
       " 'bestpeeveepee',\n",
       " '31 | f | INFJ',\n",
       " 'Asshat ENTP(A)(7?)',\n",
       " 'INTP/J midway between those 2',\n",
       " 'INTP-INFJs are the best :)',\n",
       " 'INFJ 23/M 4w3',\n",
       " 'INFJ 17 M',\n",
       " 'INFJ / 26 / F',\n",
       " 'INFJ and probable aspie',\n",
       " 'ENTP/23/M/8w7',\n",
       " 'ENTJ. This sub is good, I like this sub, I wo probably like you.',\n",
       " 'NA: SilentPinoy, Chronicles Guild',\n",
       " 'INFJ F/23',\n",
       " 'INFJ 5w4',\n",
       " 'ENTP Attack Helicopter',\n",
       " '7w8 9w8 4w3 sp/sx ESFJ',\n",
       " '20m, ENTP',\n",
       " 'INFP 4w5 So/Sp',\n",
       " 'INFJ: 24/F',\n",
       " 'ENTP lady 5w6',\n",
       " 'INTP, female',\n",
       " 'INTP yo',\n",
       " 'ENTP 3w4 Fearful/Avoidant - Apologies for making a mess',\n",
       " '&gt;ENTP ',\n",
       " '39f, ENTp',\n",
       " 'ENFP/24/F',\n",
       " 'INFP: yes, some people do!',\n",
       " '21/M INFJ',\n",
       " 'INFJ|F|20',\n",
       " '21 M ENTP 8w7 (Ne-Ti-Te-Ni)',\n",
       " 'ENTP 7w6 sx/so F 23',\n",
       " 'INTP/24/M',\n",
       " '[INTP: a space odyssey]',\n",
       " 'TangentJustice',\n",
       " 'entp (8w7)',\n",
       " '[ISTP | 1w2 sp/sx | 163]',\n",
       " 'infp: i belong to the Beloved',\n",
       " 'INFJ M/18',\n",
       " '19m ENTProgrammer',\n",
       " 'ENTPenis hehe, penis.',\n",
       " '20/M/INTJ',\n",
       " 'http://steamcommunity.com/id/IngenTPF',\n",
       " 'INFJ/20/M ',\n",
       " 'INFJ | 30s | F',\n",
       " 'INFJ-A x 27 x F',\n",
       " 'ENTP 7w8 sx/so',\n",
       " 'ISTP 4L6',\n",
       " 'INFP: Living in Two Worlds',\n",
       " 'INFJ F  27',\n",
       " 'ENTP M/30',\n",
       " 'INFP: Crawling through Mid-20 Crisis',\n",
       " 'INFJ 29/F',\n",
       " 'E=INTP',\n",
       " 'INFJ | ♀ | 35',\n",
       " '50/50 INTJ|P',\n",
       " '1w2|INFJ|F',\n",
       " 'INFJ/27/F',\n",
       " 'INFP: Der Tagträumer',\n",
       " 'IbStudentPro',\n",
       " 'INFJ - The Chameleon of Personalities ',\n",
       " 'INFJ - M - 26',\n",
       " 'INFP: do u like watch anime?',\n",
       " 'ISTJ/INTP/ISTP or something thereabouts',\n",
       " 'INFJ|34|F',\n",
       " 'SquintPoopzilla',\n",
       " '46/m/infj',\n",
       " '4w3 enfp',\n",
       " 'ISTP 6w5',\n",
       " 'INFJ | 26 ',\n",
       " 'INFJ|24|F',\n",
       " 'ZenTJ',\n",
       " 'INTJ 5w6-3w4-1w9 sp/so',\n",
       " 'ENFP/M/27',\n",
       " 'ENTP M/32',\n",
       " 'INFP: The Disappointed Idealist',\n",
       " 'Charming INTP / Shy ENTP',\n",
       " 'entp 23 F',\n",
       " \"ENFP: No Idea What I'm Doing\",\n",
       " 'E/INFP: flitting between parties and my fortress of solitude',\n",
       " 'enfp 9- all my own stunts',\n",
       " 'INFJ-A 9w1 22/m',\n",
       " '[ESTP | 7w8 sx | 731]',\n",
       " 'INFJ/F/42',\n",
       " 'ENTP/26/M',\n",
       " \"[INTP] I physically can't stay on topic\",\n",
       " 'ENTJ / ♀ / 25',\n",
       " 'INFJ/M/AUS',\n",
       " '26F ENTP 8w7',\n",
       " 'INTJ - Machiavellian genocidal mastermind of DOOM',\n",
       " 'ENTP 25 UX',\n",
       " \"INFP: Let's relax with tea!\",\n",
       " 'INFJ / 24 / F',\n",
       " 'SkT TkS ISTP',\n",
       " 'INFJ M/24',\n",
       " '36/INFJ',\n",
       " 'ENFJ l 3w4 sx/so',\n",
       " 'infj / 20 / f',\n",
       " '45 ESR ALSA-only ublock requestpolicy grease',\n",
       " 'INTJ - 5w6',\n",
       " 'INFP 469 sp/sx',\n",
       " 'CF INFJ future monk',\n",
       " 'INFP: Of The Pragmatic Variety',\n",
       " 'ISTP Scum',\n",
       " 'INFP: Silver Lining ',\n",
       " 'Intellectual Feelers (INFP)',\n",
       " 'BestJesusEUW',\n",
       " 'ENTP - Probably the next ace attorney',\n",
       " 'INFP: The Cotton Ball',\n",
       " '22 F, INFJ - DIY Spiro 08/20/2017, E 09/18/2017',\n",
       " 'Cestjuan',\n",
       " 'ENFPower',\n",
       " 'the industrial loving INFP',\n",
       " 'PessimistPrime (Aus)',\n",
       " '25m ENTP 3w4',\n",
       " '[Basic Bitch ISFJ]',\n",
       " 'Chespin The Bestpin',\n",
       " 'infj/29/m',\n",
       " 'INFJ - Swamp Sage',\n",
       " 'ISTPizzazz-A',\n",
       " '27F | INFJ',\n",
       " 'INFP: I argue a lot... in my mind',\n",
       " '[ISFJ] 6w5',\n",
       " 'INFJ m/30',\n",
       " 'INFP: weird as ballz',\n",
       " '27/f/INFJ',\n",
       " 'F/28/INFJ',\n",
       " 'INTP-T 6w5 Level 4 Category 3 Code Brown Dementia Raven Way',\n",
       " 'http://steamcommunity.com/id/KRAZIESTP/',\n",
       " 'http://www.amazon.ca/gp/registry/wishlist/ref=gno_listpop_wi',\n",
       " '[INTj-Ne 5w6] Ask me about my hobbies',\n",
       " '[INFJ] 4',\n",
       " '/r/SocialistPartyIreland | CWI | Bolshevik-Leninism(Connolly)',\n",
       " 'INFJ/INTJ? Meh.',\n",
       " \"INFP: I've been mad for years\",\n",
       " '19/M/INFJ-T',\n",
       " 'ENTPissant Male',\n",
       " 'INFJ, 30F',\n",
       " 'probably INFJ',\n",
       " 'INFP: The Poetic',\n",
       " 'INFJ 28/F',\n",
       " 'INFP: ASRIEL DREEMURR',\n",
       " '20/F  INFJ',\n",
       " 'INFP-A',\n",
       " 'http://www.amazon.ca/gp/registry/wishlist/ref=nav_gno_listpop_wi',\n",
       " 'ENTP- The Souless Mutation',\n",
       " 'INFJ M/2*',\n",
       " '584,001 Twitch/VincentJr',\n",
       " 'Queen of the ENTPs',\n",
       " 'INFJ / 24M / 4w5',\n",
       " 'INTP-ish',\n",
       " '[ESTJ]1w9',\n",
       " 'INFP - Avenger',\n",
       " 'INFJ - Ni',\n",
       " 'INFJ 25 M 6\\'4\", ADHD, Software Engineer',\n",
       " '/id/zekentjr',\n",
       " 'deep fried intj',\n",
       " 'ENTP, 22, M',\n",
       " '40sF / INFJ / Menopause FTW!',\n",
       " '23F poiple INTP',\n",
       " 'INFP: The Fantasist',\n",
       " 'ENTP, 9w8',\n",
       " 'ESTP - The Cannon Ball',\n",
       " 'ENTP Austin, Tx',\n",
       " 'ENTJ-19-M',\n",
       " 'INFP: The Enigma',\n",
       " 'f / 23 / infj',\n",
       " 'INFJ|23|M|UK',\n",
       " 'ESTJ - The Bulldozer',\n",
       " 'INFJ|M|21',\n",
       " 'INFP: The Captain',\n",
       " 'INFJ 6w5 ♀♀',\n",
       " '35/F/INFJ 4w5',\n",
       " 'ENFP/M',\n",
       " '[urbestpal] (NA)',\n",
       " 'vintp',\n",
       " 'INFP: Persistent Idealist',\n",
       " '26m | INFJ 1w9',\n",
       " '[ISTP]9w1',\n",
       " 'INTJ - Banu Merchantman',\n",
       " 'INTP F/47',\n",
       " '19 / f / ENTP - hentai pusher',\n",
       " 'pambie infj',\n",
       " 'INFJ|1w2|F',\n",
       " '35m ENTP 9w1 sx/so',\n",
       " \"[INTP] in [INTJ]'s clothing \",\n",
       " 'Experim-ENTP',\n",
       " 'Red ENTP',\n",
       " 'INTJ: beep boop beep',\n",
       " 'INFP/M/31 9w1',\n",
       " 'BestJayceOCE',\n",
       " 'INFJ // 9w1',\n",
       " 'Lazy INTJ - Driven INTP - Cold INFP',\n",
       " ' INFJ LSD',\n",
       " '565,314 Twitch/VincentJr',\n",
       " '7w8 $0/$× infj',\n",
       " 'INFP: The Need for Coffee Creamer ',\n",
       " 'SaintPanzer',\n",
       " 'INFP: The Cat Herder',\n",
       " 'INFJ/F/33/SVK-HU/Solo/Poly/Childfree/Rancid fan',\n",
       " 'INTP baybee',\n",
       " 'INTP/INTJ',\n",
       " '25 | F | INFJ | 763',\n",
       " 'JUST TESTED ENTP !!!',\n",
       " '24 M ENTP 9.6\"',\n",
       " 'Apparently an INTP',\n",
       " '4055-3153-1836 Nicko, MistPeak',\n",
       " 'INFP: Empathy Overload',\n",
       " 'INFJ/35/f',\n",
       " 'INFJ: The Protector',\n",
       " 'INFJ (9w1) | M | 22 ',\n",
       " 'infj f 24',\n",
       " 'INFJ 25/M 4w5',\n",
       " 'INFP: The Architect of Thought',\n",
       " 'INFP guest, hi!',\n",
       " 'INFJ?/F/38',\n",
       " '5w6 ISTP',\n",
       " 'M/28/INFJ',\n",
       " '18m || INFJ || 6w5',\n",
       " 'INFP: The Animal/Machine',\n",
       " 'INFJ 30F',\n",
       " '19mENTP',\n",
       " 'ENTP boi',\n",
       " 'Lurking INTP',\n",
       " 'F/23/INFJ Turbulent',\n",
       " 'INFJ | 21F',\n",
       " 'M/INTJ',\n",
       " '[INFJ] ',\n",
       " 'INTP;IPNT',\n",
       " 'ENTP/lazy but active',\n",
       " 'INFJ • 28 • F',\n",
       " 'INFJ - 36 M',\n",
       " \"INFP Bitches be bitchin'\",\n",
       " 'INFP-A: Idealist',\n",
       " 'INTP-A / 9w1',\n",
       " 'INFP: All I Want Now is Happiness For You and Me',\n",
       " 'INFP: The Drinker',\n",
       " 'INFP: Sans rainbow bullshit.',\n",
       " 'SprintPCS',\n",
       " 'INTP / Human Popsicle',\n",
       " 'iNtP',\n",
       " 'INFP: Plutonian Undercurrents',\n",
       " '22/F/Canada INFJ',\n",
       " 'INFP: Professional Wanderer',\n",
       " 'ENTP 41F',\n",
       " 'ENFP: The Indecisive',\n",
       " 'Native (Westphalia)',\n",
       " 'INFP 2w3',\n",
       " 'INFJ 21',\n",
       " 'm ENTP',\n",
       " 'INFP ~&lt;3',\n",
       " 'ENTP | f | 22',\n",
       " 'INTP/21/F',\n",
       " 'ENTP | Enneagram 4w5',\n",
       " 'ENTP/m/21',\n",
       " 'intp - 5w4 ',\n",
       " 'I lift/hate kids/INTJ',\n",
       " '24|F|ENTP',\n",
       " 'INFP 3w4',\n",
       " '23f/ENTP-A',\n",
       " 'Mistyped INTP',\n",
       " 'INFP: Hopeless Romantic 5w4',\n",
       " 'INTP, 9w1',\n",
       " 'TheRealestProsecutorInTheHood',\n",
       " 'iNFj',\n",
       " 'ENFJ/F',\n",
       " 'INFP: not quite alive yet',\n",
       " 'INTJ ~ 5w4',\n",
       " 'Mistpedia Social Media Manager',\n",
       " 'c0mmunistpunk',\n",
       " 'ENTP-5 // 22 // M',\n",
       " 'ISTJ: Eh',\n",
       " 'infj, 25F',\n",
       " 'INFJ?P',\n",
       " '32/M/INFJ',\n",
       " '25/INFJ',\n",
       " 'INFP 4w5: The Dreamer',\n",
       " 'INTJ 24 M',\n",
       " '9w1 INTP',\n",
       " '@residentJan',\n",
       " 'INFP/INTJ/M/22',\n",
       " 'ENTP 25/M 7w8',\n",
       " 'INTP-Ω(GOD)',\n",
       " '23F ENTPandemonium ~',\n",
       " 'INFP: Loves Music',\n",
       " 'INTP 26m',\n",
       " '4w3 468 Alarm Bell INFP',\n",
       " 'ENFP/M/24',\n",
       " 'INTP / 24 / M',\n",
       " 'ENTP 7w6 so/sx',\n",
       " 'ADHD-INTP',\n",
       " 'ENTPancake',\n",
       " 'ENTP 7w8 ',\n",
       " 'INTP/19/M',\n",
       " 'INFJ/M/25 Type 1w2, 2w1, 1w9',\n",
       " 'INTP-A/INTJ/ENTP',\n",
       " 'INFP 247 sp/sx',\n",
       " 'Southpaw/INFJ',\n",
       " 'INTP: The Architect',\n",
       " 'ENTP - Democratic Socialist',\n",
       " 'INTP - Phoenix - Firehazard159',\n",
       " 'INFP: The Fluffy Ball of Feelings',\n",
       " 'INTJ full of logical fallacies',\n",
       " 'INFP: The Stoner',\n",
       " 'RSI TestJacke, Trader, Trades: 1',\n",
       " 'entp f 26',\n",
       " 'INTP or ENTP ',\n",
       " 'INTP 16M',\n",
       " 'INFJ 4w3(?)',\n",
       " 'INTJ: The Mastermind',\n",
       " 'INFJ| F |23',\n",
       " 'o XilentJay o',\n",
       " 'North Rhine-Westphalia, Germany',\n",
       " 'INFP: The Wayfinder',\n",
       " 'INFJ Male',\n",
       " 'INTJ-T',\n",
       " 'MadScientist INTJ',\n",
       " 'ENTP 25',\n",
       " 'INFP: The Crazy One',\n",
       " '18/M INFJ 416 sx/so',\n",
       " '[ENFP] 4w5',\n",
       " 'ISTJ | Always here to help.',\n",
       " 'The Ravenwudgie INFP',\n",
       " 'xNTP seeking to understand the INFJ OS',\n",
       " 'ISTP 5w4 Sx/Sp',\n",
       " 'INTP/INFP mix, idk for sure tho',\n",
       " 'Female ENTP 4w5',\n",
       " 'INFJ | 26/M',\n",
       " 'INFJ 24 F',\n",
       " '28 M ENTP ',\n",
       " 'M | INFJ | 27 | 4w5',\n",
       " 'INFJ/M/34',\n",
       " '[ENTJ] Sensor fanboy',\n",
       " 'ISTP 279',\n",
       " 'INTP 8w9',\n",
       " '[North Rhine-Westphalia]',\n",
       " 'INFP: The Fluffy Ball of Feelings (v 4.1)',\n",
       " 'ENFJ - Reclaimer - Monarch',\n",
       " '21 M ENTP (Cocky)',\n",
       " 'M-20-ENTP',\n",
       " 'INFP: The Loyal',\n",
       " 'INFJ / Male / 16',\n",
       " 'INTP Probably',\n",
       " 'CFN: PugilistPenguin',\n",
       " 'INFJ/Male',\n",
       " 'JosukeIsBestJojo',\n",
       " 'istp',\n",
       " '21m ENTJ 3w4',\n",
       " 'INTP, 16, M',\n",
       " 'INFJ 6w5 ',\n",
       " '20, demigirl ; \"she\" or \"they\" (INFP-T)',\n",
       " 'infj-t',\n",
       " 'INFJ / M / 22',\n",
       " 'INTP ethics, metaphysics',\n",
       " 'INTP-T/5w6/18/M',\n",
       " 'INFJ-T 27/F',\n",
       " 'ENTP/M/22',\n",
       " 'INFJ | 5w4 | 20+',\n",
       " 'INTJ/26/M',\n",
       " 'INFP: the former INTJ',\n",
       " 'ENFJ / F / 29',\n",
       " 'INFJ ger',\n",
       " '[ENTP | 9w1 sx | 973]',\n",
       " '21/m/infj',\n",
       " 'INFP: The one with tougher love',\n",
       " 'INFP: The Seeker | 4w5',\n",
       " \"I think I'm an INTP now. Agh, I'm so indecisive!\",\n",
       " 'NihilistPancake',\n",
       " 'INFJ Female 23',\n",
       " 'Isfp f/25',\n",
       " 'INFP: Dreams or something',\n",
       " 'INTP 5w6 9w1 4w5',\n",
       " 'INTP or IxFJ',\n",
       " 'INFJ: certantly not \"the protector\".',\n",
       " '41/F/INFJ',\n",
       " 'Black/F/23/INFJ',\n",
       " 'INFJ-T|M| 5w6 or 6w5 SO',\n",
       " '[ENTJ] 1w9',\n",
       " '19m INTP 954',\n",
       " 'entp F 22',\n",
       " 'F/26/INFJ',\n",
       " \"INTP Don't Tread On Me\",\n",
       " 'ENTP - 26M - PhD student',\n",
       " 'Warwickshire, exiled to North Rhineland Westpalatine',\n",
       " 'axxidentprone [US]',\n",
       " 'INFJ/m/22',\n",
       " 'ENTPeekaboo',\n",
       " 'INFJ-18-M',\n",
       " 'INFJ/22/5w4',\n",
       " 'INFJ / 2w1 / 23M',\n",
       " 'INFJ/M/21/1w2',\n",
       " 'INFP_Dreamer',\n",
       " '22/F INFJ',\n",
       " 'INFP-T',\n",
       " 'INFJ | Female',\n",
       " 'INFJ | M | 26 | 4',\n",
       " '27/M/INTP',\n",
       " 'intp (lord of all)',\n",
       " 'INTP | 23 | f',\n",
       " 'INTP/ M/ 24/ Boston',\n",
       " 'INTP and proud',\n",
       " 'INFP-T, 5D Density: The Awakening Space Child',\n",
       " 'INFJ/30/F',\n",
       " '19Fish ENTPlesiosaur',\n",
       " 'INFP: What to do with my life... Hmm.',\n",
       " 'ENTP 16M 9w7',\n",
       " 'ENTJ, follows instructions',\n",
       " 'INFJ HSP M 17',\n",
       " 'INFP: The Puppet Master',\n",
       " 'INFJ/F/21',\n",
       " '20/F/INTJ',\n",
       " '24 GRRRL INFJ',\n",
       " '23/M/INFJ/6w5',\n",
       " 'infj/f/24',\n",
       " 'BestPuntsNA',\n",
       " 'INTP: Where the fuck are my pants',\n",
       " 'INTJ | RLOEI | m',\n",
       " 'INFP: True Brew',\n",
       " 'INFP ',\n",
       " '[INFP] pan pizza lord',\n",
       " 'MoistJunkrat#1660',\n",
       " 'INFP: wait, what',\n",
       " 'INTP 5 balanced wings sx',\n",
       " 'INFJ M 29',\n",
       " 'f/INFJ',\n",
       " '25/F/INTJ',\n",
       " 'giornobestjojo',\n",
       " 'Not INFJ',\n",
       " 'INFJ | 16 | M',\n",
       " 'ENFJ: falling apart ',\n",
       " 'INFJ/34/F',\n",
       " 'Smarty Pants (INTP Man)',\n",
       " 'INFP: Many faces that hide deep beneath',\n",
       " 'INFP: The Stoic',\n",
       " 'INFJ/25/M/Denmark',\n",
       " 'http://www.amazon.com/gp/registry/wishlist/ref=gno_listpop_wi?so',\n",
       " '4w? ENFP',\n",
       " 'INFP: Heart of gold, heart of cold',\n",
       " 'INFP(4w5): Eccentric Idealist',\n",
       " 'INFP: i enjoy drawing B)',\n",
       " 'INTP / 31 / Male',\n",
       " 'actually INTP but pretty much same thing as INFP',\n",
       " 'INFJ/M/19/2w1',\n",
       " 'ENTP 6w5',\n",
       " '20 F ENTPenis',\n",
       " \"I think I'm ENTP?\",\n",
       " 'INTJ/1w9/F',\n",
       " 'INFJ-T/M/23',\n",
       " 'ISTP 7',\n",
       " 'bestPony = \"Sweetie Belle\";',\n",
       " 'INTP An-Cap Nihilist',\n",
       " 'INFP: who am I?',\n",
       " 'ISTP/F/18',\n",
       " '[INTJ] 9w8',\n",
       " \"30 M ENTP Don't trust anyone over 30\",\n",
       " 'JUCIESTPIE',\n",
       " 'ENTP. Why are pirates, pirates?',\n",
       " '18M ENTP',\n",
       " 'That [INTP] Bean',\n",
       " 'INFP: The Undefined',\n",
       " 'INFJ 4w6 sx/so',\n",
       " 'infj/?/m',\n",
       " 'INFP: The Loner',\n",
       " 'INFP 4w5 Sx/Sp: The fossil bone keeper',\n",
       " 'INTJ - Constellation - Machiavelli - PR/Community Manager',\n",
       " 'infj/20/m',\n",
       " '[24M/INFJ]',\n",
       " 'http://misprintprince.imgur.com/ ��',\n",
       " 'INFP - Fear is not a valid excuse ',\n",
       " '28M ENTP',\n",
       " 'istj',\n",
       " 'https://myanimelist.net/INTPhilosopher',\n",
       " 'INFJ/19/F/4w3',\n",
       " 'ENTP 19/F',\n",
       " 'INFP: The Fool',\n",
       " 'INFP 17M',\n",
       " 'INFP, sometimes cosplays as extrovert',\n",
       " 'FluttershyIsBestPony',\n",
       " '23/F INFJ w/ ADHD',\n",
       " 'SO INFJ IT HURTS 29 Felady',\n",
       " \"INFJ. M. 20's. Oceania.\",\n",
       " 'Golden Pairs People (INFJ)',\n",
       " 'INFP: The Author',\n",
       " '26/f/INFJ',\n",
       " 'INFPlease kill me',\n",
       " 'INTP 18 M',\n",
       " \"INTP: sonderman's brother\",\n",
       " 'INFJ | 31 | F',\n",
       " ...}"
      ]
     },
     "execution_count": 111,
     "metadata": {},
     "output_type": "execute_result"
    }
   ],
   "source": [
    "set(gbq_df['author_flair_text'])"
   ]
  },
  {
   "cell_type": "code",
   "execution_count": null,
   "metadata": {},
   "outputs": [],
   "source": []
  }
 ],
 "metadata": {
  "interpreter": {
   "hash": "033c84df5fb4c613acf884834f63930b25da6784759ce0fb831a430fcd673895"
  },
  "kernelspec": {
   "display_name": "Python 3.8.5 ('learn-env')",
   "language": "python",
   "name": "python3"
  },
  "language_info": {
   "codemirror_mode": {
    "name": "ipython",
    "version": 3
   },
   "file_extension": ".py",
   "mimetype": "text/x-python",
   "name": "python",
   "nbconvert_exporter": "python",
   "pygments_lexer": "ipython3",
   "version": "3.8.5"
  },
  "orig_nbformat": 4
 },
 "nbformat": 4,
 "nbformat_minor": 2
}
