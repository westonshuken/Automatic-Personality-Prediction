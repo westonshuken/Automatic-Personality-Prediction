{
 "cells": [
  {
   "cell_type": "markdown",
   "metadata": {},
   "source": [
    "# Automatic Personality Prediction\n",
    "<center><img src=\"./images/header.png\" alt=\"drawing\" style=\"width:200px;\"/></center>\n",
    "\n",
    "#### by Weston Shuken\n",
    "\n",
    "---\n",
    "\n",
    "## Overview\n",
    "\n",
    "Automatic personality detection is the automated forecasting of a personality using human-generated or exchanged contents:\n",
    "\n",
    "- text\n",
    "- speech\n",
    "- videos\n",
    "- images\n",
    "\n",
    "\n",
    "## Opportunities\n",
    "\n",
    "![Opp](./images/opp.png)\n",
    "\n",
    "There are great opportunities that stem from this project and research:\n",
    "\n",
    "1) Verifying validity in Myers-Briggs abilitity to segment on behavior, given the MBTI is often criticized for being unreliable (). (Kerwin, P.L., 2017). [[Download Research Paper](https://www.psychometrics.com/wp-content/uploads/2018/06/Creating-Clarity-Addressing-Micsconceptions-About-the-MBTI-Assessment-WhitePaper-1.pdf)]\n",
    "\n",
    "2) Classifying online behavior. Text-rich platforms like social media, blogs, and forums can use implicit data to segment their customers. This segmentation is a common use of automatic personality detection, which can be used for \"advertisements alignment, marketing campaigns adjustment, and supporting bloggers in narrowing down their target audiences based on community pre-detected personality traits\" (Tareaf, Berger, et. al, 2018). [[Download Reaserch Paper](https://arxiv.org/pdf/1812.04346)]\n",
    "\n",
    "3) The ability for speed and quantity of classification using automated prediction allows for bypassing questionnaire strategies. If accurate enough, populations of people and their personalities/online behavoirs could be better understood. This would add a drop in the ocean of knowledge in this widely researched topic ( Sharmaa, E., Mahajanb R., & Mansotrad, V., 2021). [[Download Research Paper](https://www.researchgate.net/publication/356603183_Automated_Personality_Prediction_of_Social_Media_Users_A_Decade_Review)]\n",
    "\n",
    "\n",
    "## Data and Methods\n",
    "\n",
    "The data used to make predictions is a collection of 50 posts per ~8,600 users on a forum-based website: [Personality Cafe](https://www.personalitycafe.com/). All of the users have self-tagged their profiles with thier Myers-Briggs Type Indicator (MBTI) personality. These personality types will be used as the **target** variables, and the collection of posts will be the **predictor** variables.\n",
    "\n",
    "The Myers-Briggs test is a very popular test that ask users approximately 90 questions about their behavior and assigns the user a type of personality based on this assessment. This test takes around 20-30 for someone to complete. \n",
    "\n",
    "There are 16 different personality types using a combination of 8 overall traits. See below:\n",
    "\n",
    "    Introversion (I) vs Extroversion (E)\n",
    "    Intuition (N) vs Sensing (S)\n",
    "    Thinking (T) vs Feeling (F)\n",
    "    Judging (J) vs Perceiving (P)\n",
    "    \n",
    "*If you are unfamilar with the MBTI, please visit [Myers-Briggs Type Indicator](https://www.myersbriggs.org/my-mbti-personality-type/mbti-basics/) for more info*\n",
    "\n",
    "Various methods were used to preprocess, vectorize, and predict:\n",
    "\n",
    "Preprocessing Methods:\n",
    "\n",
    "    Lowercase all words\n",
    "    Remove URLs\n",
    "    Remove Punctuation and symbols\n",
    "    Remove non-ASCII characters\n",
    "    Remove Digits\n",
    "    Tokenizing\n",
    "    Lemmatizing w/ POS tags\n",
    "    Create binary labels\n",
    "    \n",
    "Sentiment Analysis\n",
    "\n",
    "    NLTK VADER\n",
    "    TextbBlob \n",
    "\n",
    "Vectorization Strategies:\n",
    "    \n",
    "    Bag of Words\n",
    "    Term Frequency-Inverse Document Frequency (TF-IDF)\n",
    "    Doc2Vec (Gensim)\n",
    "    \n",
    "Machine Learnging Models:\n",
    "    \n",
    "    Stochastic Gradient Descent Classifier\n",
    "    Logistic Regression\n",
    "    Random Forest\n",
    "    Mutlinominal Naive Bayes\n",
    "    \n",
    " Evaluation Methods/Metrics:\n",
    "    \n",
    "    Train Test Split\n",
    "    Accuracy\n",
    "    F1-Score\n",
    "    Testing on Reddit data"
   ]
  },
  {
   "cell_type": "markdown",
   "metadata": {},
   "source": [
    "## Exploratory Data Analysis"
   ]
  },
  {
   "cell_type": "code",
   "execution_count": 2,
   "metadata": {},
   "outputs": [],
   "source": [
    "# Imports for EDA, Cleaning, Plotting & Modeling\n",
    "import pandas as pd\n",
    "import numpy as np\n",
    "import matplotlib.pyplot as plt\n",
    "import seaborn as sns\n",
    "import pickle\n",
    "\n",
    "from nltk.tokenize import RegexpTokenizer\n",
    "from nltk.probability import FreqDist\n",
    "from nltk.sentiment.vader import SentimentIntensityAnalyzer\n",
    "\n",
    "\n",
    "from scipy.stats import binom\n",
    "\n",
    "from textblob import TextBlob\n",
    "\n",
    "from sklearn.feature_extraction.text import TfidfVectorizer, CountVectorizer\n",
    "from sklearn.naive_bayes import MultinomialNB\n",
    "from sklearn.pipeline import Pipeline\n",
    "from sklearn.linear_model import SGDClassifier, LogisticRegression\n",
    "from sklearn.ensemble import RandomForestClassifier\n",
    "from sklearn.metrics import plot_confusion_matrix, accuracy_score, classification_report\n",
    "from sklearn.model_selection import train_test_split\n",
    "from sklearn.neighbors import KNeighborsClassifier\n",
    "\n",
    "import gensim\n",
    "\n",
    "\n",
    "from nlp import run_models, preprocess\n",
    "\n",
    "import warnings\n",
    "warnings.simplefilter(action='ignore', category=FutureWarning)\n",
    "\n",
    "# Random Seed for everything\n",
    "SEED = 53188535"
   ]
  },
  {
   "cell_type": "code",
   "execution_count": 3,
   "metadata": {},
   "outputs": [],
   "source": [
    "# Loading the Data (From Kaggle — https://www.kaggle.com/datasnaek/mbti-type)\n",
    "cafe_df = pd.read_csv('data/mbti_1.csv')"
   ]
  },
  {
   "cell_type": "code",
   "execution_count": 4,
   "metadata": {},
   "outputs": [
    {
     "data": {
      "text/html": [
       "<div>\n",
       "<style scoped>\n",
       "    .dataframe tbody tr th:only-of-type {\n",
       "        vertical-align: middle;\n",
       "    }\n",
       "\n",
       "    .dataframe tbody tr th {\n",
       "        vertical-align: top;\n",
       "    }\n",
       "\n",
       "    .dataframe thead th {\n",
       "        text-align: right;\n",
       "    }\n",
       "</style>\n",
       "<table border=\"1\" class=\"dataframe\">\n",
       "  <thead>\n",
       "    <tr style=\"text-align: right;\">\n",
       "      <th></th>\n",
       "      <th>type</th>\n",
       "      <th>posts</th>\n",
       "    </tr>\n",
       "  </thead>\n",
       "  <tbody>\n",
       "    <tr>\n",
       "      <th>0</th>\n",
       "      <td>INFJ</td>\n",
       "      <td>'http://www.youtube.com/watch?v=qsXHcwe3krw|||...</td>\n",
       "    </tr>\n",
       "    <tr>\n",
       "      <th>1</th>\n",
       "      <td>ENTP</td>\n",
       "      <td>'I'm finding the lack of me in these posts ver...</td>\n",
       "    </tr>\n",
       "    <tr>\n",
       "      <th>2</th>\n",
       "      <td>INTP</td>\n",
       "      <td>'Good one  _____   https://www.youtube.com/wat...</td>\n",
       "    </tr>\n",
       "    <tr>\n",
       "      <th>3</th>\n",
       "      <td>INTJ</td>\n",
       "      <td>'Dear INTP,   I enjoyed our conversation the o...</td>\n",
       "    </tr>\n",
       "    <tr>\n",
       "      <th>4</th>\n",
       "      <td>ENTJ</td>\n",
       "      <td>'You're fired.|||That's another silly misconce...</td>\n",
       "    </tr>\n",
       "    <tr>\n",
       "      <th>...</th>\n",
       "      <td>...</td>\n",
       "      <td>...</td>\n",
       "    </tr>\n",
       "    <tr>\n",
       "      <th>8670</th>\n",
       "      <td>ISFP</td>\n",
       "      <td>'https://www.youtube.com/watch?v=t8edHB_h908||...</td>\n",
       "    </tr>\n",
       "    <tr>\n",
       "      <th>8671</th>\n",
       "      <td>ENFP</td>\n",
       "      <td>'So...if this thread already exists someplace ...</td>\n",
       "    </tr>\n",
       "    <tr>\n",
       "      <th>8672</th>\n",
       "      <td>INTP</td>\n",
       "      <td>'So many questions when i do these things.  I ...</td>\n",
       "    </tr>\n",
       "    <tr>\n",
       "      <th>8673</th>\n",
       "      <td>INFP</td>\n",
       "      <td>'I am very conflicted right now when it comes ...</td>\n",
       "    </tr>\n",
       "    <tr>\n",
       "      <th>8674</th>\n",
       "      <td>INFP</td>\n",
       "      <td>'It has been too long since I have been on per...</td>\n",
       "    </tr>\n",
       "  </tbody>\n",
       "</table>\n",
       "<p>8675 rows × 2 columns</p>\n",
       "</div>"
      ],
      "text/plain": [
       "      type                                              posts\n",
       "0     INFJ  'http://www.youtube.com/watch?v=qsXHcwe3krw|||...\n",
       "1     ENTP  'I'm finding the lack of me in these posts ver...\n",
       "2     INTP  'Good one  _____   https://www.youtube.com/wat...\n",
       "3     INTJ  'Dear INTP,   I enjoyed our conversation the o...\n",
       "4     ENTJ  'You're fired.|||That's another silly misconce...\n",
       "...    ...                                                ...\n",
       "8670  ISFP  'https://www.youtube.com/watch?v=t8edHB_h908||...\n",
       "8671  ENFP  'So...if this thread already exists someplace ...\n",
       "8672  INTP  'So many questions when i do these things.  I ...\n",
       "8673  INFP  'I am very conflicted right now when it comes ...\n",
       "8674  INFP  'It has been too long since I have been on per...\n",
       "\n",
       "[8675 rows x 2 columns]"
      ]
     },
     "execution_count": 4,
     "metadata": {},
     "output_type": "execute_result"
    }
   ],
   "source": [
    "# Viewing the dataset\n",
    "cafe_df"
   ]
  },
  {
   "cell_type": "code",
   "execution_count": 5,
   "metadata": {},
   "outputs": [
    {
     "name": "stdout",
     "output_type": "stream",
     "text": [
      "<class 'pandas.core.frame.DataFrame'>\n",
      "RangeIndex: 8675 entries, 0 to 8674\n",
      "Data columns (total 2 columns):\n",
      " #   Column  Non-Null Count  Dtype \n",
      "---  ------  --------------  ----- \n",
      " 0   type    8675 non-null   object\n",
      " 1   posts   8675 non-null   object\n",
      "dtypes: object(2)\n",
      "memory usage: 135.7+ KB\n"
     ]
    }
   ],
   "source": [
    "# Checking the dataset size and data types\n",
    "cafe_df.info()"
   ]
  },
  {
   "cell_type": "code",
   "execution_count": 6,
   "metadata": {},
   "outputs": [
    {
     "data": {
      "text/plain": [
       "INFP    0.211182\n",
       "INFJ    0.169452\n",
       "INTP    0.150317\n",
       "INTJ    0.125764\n",
       "ENTP    0.078963\n",
       "ENFP    0.077810\n",
       "ISTP    0.038847\n",
       "ISFP    0.031239\n",
       "ENTJ    0.026628\n",
       "ISTJ    0.023631\n",
       "ENFJ    0.021902\n",
       "ISFJ    0.019135\n",
       "ESTP    0.010259\n",
       "ESFP    0.005533\n",
       "ESFJ    0.004841\n",
       "ESTJ    0.004496\n",
       "Name: type, dtype: float64"
      ]
     },
     "execution_count": 6,
     "metadata": {},
     "output_type": "execute_result"
    }
   ],
   "source": [
    "# Checking class imbalance\n",
    "cafe_df['type'].value_counts(normalize=True)"
   ]
  },
  {
   "cell_type": "code",
   "execution_count": 7,
   "metadata": {},
   "outputs": [
    {
     "data": {
      "image/png": "[encoded data removed]",
      "text/plain": [
       "<Figure size 1440x576 with 1 Axes>"
      ]
     },
     "metadata": {},
     "output_type": "display_data"
    }
   ],
   "source": [
    "# Plotting class imbalance\n",
    "sns.set_context('talk')\n",
    "sns.set_style('darkgrid')\n",
    "plt.figure(figsize=(20,8))\n",
    "plt.bar(cafe_df['type'].value_counts(normalize=True).index, cafe_df['type'].value_counts(normalize=True).values*100)\n",
    "plt.title('Class Imbalance by percentage')\n",
    "plt.ylabel('%');"
   ]
  },
  {
   "cell_type": "code",
   "execution_count": 8,
   "metadata": {},
   "outputs": [
    {
     "name": "stdout",
     "output_type": "stream",
     "text": [
      ">>>>>>>>>>INTP<<<<<<<<<<\n",
      "-------------------------\n",
      "'I think it depends, Introverted J types definitely prefer to think before acting (cautious) but Introverted P types are often a mix of quiet reflection and spontaneous action. As a INTP I take action...|||Just skipped to the end of the thread and I was pretty much in the ball park.:proud: When answered your first post I did not look at any of the other guesses.|||I'm  going to say xNFP pointing more ENFP.|||(  Yeah the Buddha is heavily Ti and Ni, and I see Se much more than Fe. It sounds like he was a hedonistic SP when younger then began developing a deep Ni perspective after his after a stretch of...|||Tony Stark is such a clear ENTP, he's not Ne just because he is humorous and smart, he's Ne because that is his dominant approach to life(in the films). He is completely off the cuff and...|||Open-Mindedness     High scorers tend to be original, creative, curious, complex; Low scorers tend to be conventional, down to earth, narrow interests, uncreative.           ...|||I am pretty op\n"
     ]
    }
   ],
   "source": [
    "# looking at a random post for the data — Re-run cell to generate new post\n",
    "rint = np.random.randint(0, len(cafe_df))\n",
    "print('>'*10 + cafe_df['type'].iloc[rint] + '<'*10)\n",
    "print('-'*25)\n",
    "print(cafe_df['posts'].iloc[rint][:1000])\n",
    "\n",
    "## BE CAREFUL... Reddit posts can sometimes be quite rude..."
   ]
  },
  {
   "cell_type": "markdown",
   "metadata": {},
   "source": [
    "#### Takeaways from seeing the dataset:\n",
    "\n",
    "- The classes are quite imbalanced, which can bias the model to choosing one class over the other just given class weight.\n",
    "- There is a lot of cleaning to do with the text (lowercase, remove urls, remove symbols/punctuation, lemmitization, etc.)\n",
    "- The posts might include the personality type in them, which could be considered `data leakage`."
   ]
  },
  {
   "cell_type": "markdown",
   "metadata": {},
   "source": [
    "### Cleaning & Tokenizing"
   ]
  },
  {
   "cell_type": "code",
   "execution_count": 9,
   "metadata": {},
   "outputs": [],
   "source": [
    "# Making a copy of the DataFrame to clean and preprocess\n",
    "cafe_clean = cafe_df.copy()"
   ]
  },
  {
   "cell_type": "code",
   "execution_count": 10,
   "metadata": {},
   "outputs": [
    {
     "name": "stdout",
     "output_type": "stream",
     "text": [
      "['istj', 'intp', 'intj', 'estp', 'infp', 'enfp', 'istp', 'entj', 'entp', 'esfj', 'isfp', 'isfj', 'estj', 'esfp', 'infj', 'enfj']\n"
     ]
    }
   ],
   "source": [
    "# Lowercase y variables (MBTI types)\n",
    "cafe_clean['type'] = cafe_clean.type.str.lower()\n",
    "\n",
    "# Creating list of the targets (Useful for later iteration)\n",
    "mbti_lst = list(set(cafe_clean['type'].values))\n",
    "print(mbti_lst)\n",
    "\n",
    "# Lowercase X varaible onto a new column (User Posts)\n",
    "cafe_clean['clean_posts'] = cafe_clean['posts'].str.lower()"
   ]
  },
  {
   "cell_type": "code",
   "execution_count": 11,
   "metadata": {},
   "outputs": [],
   "source": [
    "# Intiating the prepreoccess class from the custom class — nlp.py\n",
    "# This class provides functions to clean and tokenize our text data — view the python file for more info\n",
    "prepro = preprocess()"
   ]
  },
  {
   "cell_type": "code",
   "execution_count": 12,
   "metadata": {},
   "outputs": [
    {
     "data": {
      "image/png": "[encoded data removed]",
      "text/plain": [
       "<Figure size 720x360 with 1 Axes>"
      ]
     },
     "metadata": {},
     "output_type": "display_data"
    }
   ],
   "source": [
    "# Plotting the occurrences of data leakage where MBTI type is stated in post\n",
    "plt.figure(figsize=(10,5))\n",
    "for mbti in mbti_lst:\n",
    "    plt.bar(str(mbti), len(cafe_clean[cafe_clean['clean_posts'].str.contains(mbti)].index))\n",
    "    plt.title('Data Leakage \\n target within predictors')\n",
    "    plt.ylabel('counts')\n",
    "    # print(cafe_clean[cafe_clean['clean_posts'].str.contains(mbti)].index)"
   ]
  },
  {
   "cell_type": "code",
   "execution_count": 13,
   "metadata": {},
   "outputs": [],
   "source": [
    "# Removing the target names (MBTI type) in the actual posts\n",
    "cafe_clean['clean_posts'] = cafe_clean['clean_posts'].apply(lambda x: prepro.replace_mbti(x))"
   ]
  },
  {
   "cell_type": "code",
   "execution_count": 14,
   "metadata": {},
   "outputs": [
    {
     "name": "stdout",
     "output_type": "stream",
     "text": [
      "Int64Index([], dtype='int64')\n",
      "Int64Index([], dtype='int64')\n",
      "Int64Index([], dtype='int64')\n",
      "Int64Index([], dtype='int64')\n",
      "Int64Index([], dtype='int64')\n",
      "Int64Index([], dtype='int64')\n",
      "Int64Index([], dtype='int64')\n",
      "Int64Index([], dtype='int64')\n",
      "Int64Index([], dtype='int64')\n",
      "Int64Index([], dtype='int64')\n",
      "Int64Index([], dtype='int64')\n",
      "Int64Index([], dtype='int64')\n",
      "Int64Index([], dtype='int64')\n",
      "Int64Index([], dtype='int64')\n",
      "Int64Index([], dtype='int64')\n",
      "Int64Index([], dtype='int64')\n"
     ]
    }
   ],
   "source": [
    "# Cross checking to see if posts contain MBTI type\n",
    "for mbti in mbti_lst:\n",
    "    print(cafe_clean[cafe_clean['clean_posts'].str.contains(mbti)].index)"
   ]
  },
  {
   "cell_type": "code",
   "execution_count": 15,
   "metadata": {},
   "outputs": [],
   "source": [
    "# The posts contain multiple posts seperated by 3 pipes '|||' w/ no spaces between. \n",
    "# This function will remove pipes and replace with a space.\n",
    "cafe_clean['clean_posts'] = cafe_clean['clean_posts'].apply(lambda x: prepro.pipe_remove(x))\n",
    "\n",
    "# This funciton will remove URLs in the posts\n",
    "cafe_clean['clean_posts'] = cafe_clean['clean_posts'].apply(lambda x: prepro.url_remove(x))\n",
    "\n",
    "# This function will remove punctuation `/``, `_`, `:` \n",
    "cafe_clean['clean_posts'] = cafe_clean['clean_posts'].apply(lambda x: prepro.punc_remove(x))\n",
    "\n",
    "# Removes all characters that are not American Standard Code for Information Interchange (aka english chars)\n",
    "cafe_clean['clean_posts'] = cafe_clean['clean_posts'].apply(lambda x: prepro.remove_symbols(x))\n",
    "\n",
    "# Fixes all spelling errors — this takes a long time to compute.\n",
    "# cafe_clean['clean_posts'] = cafe_clean['clean_posts'].apply(lambda x: prepro.spelling(x))"
   ]
  },
  {
   "cell_type": "code",
   "execution_count": 16,
   "metadata": {},
   "outputs": [],
   "source": [
    "# This will create a column of cleaned posts that have been tokenized.\n",
    "pattern = r\"(?u)\\b\\w\\w+\\b\" # words with 2 or more etters\n",
    "tokenizer = RegexpTokenizer(pattern) # instantiate tokenizer\n",
    "cafe_clean['post_tokens'] = cafe_clean['clean_posts'].apply(tokenizer.tokenize) # Tokenize to new column"
   ]
  },
  {
   "cell_type": "code",
   "execution_count": 17,
   "metadata": {},
   "outputs": [],
   "source": [
    "# Removing any remaining numeric digits\n",
    "cafe_clean['post_tokens'] = cafe_clean['post_tokens'].apply(lambda x: prepro.remove_dig_token(x))\n",
    "\n",
    "# Removing stopwords (common words with little informational value)\n",
    "cafe_clean['post_tokens'] = cafe_clean['post_tokens'].apply(lambda x: prepro.remove_stopwords(x))\n",
    "\n",
    "# Lemmatizing the words with POS tagging option\n",
    "cafe_clean['post_tokens'] = cafe_clean['post_tokens'].apply(lambda x: prepro.lemmend_pos(x, pos=True)) # If True, takes a while (~4mins on Apple M1)"
   ]
  },
  {
   "cell_type": "code",
   "execution_count": 18,
   "metadata": {},
   "outputs": [],
   "source": [
    "# Joining the posts tokens together into singular strings\n",
    "cafe_clean['joined_tokens'] = cafe_clean['post_tokens'].apply(lambda x: prepro.join_tokens(x)) # Creating new column"
   ]
  },
  {
   "cell_type": "code",
   "execution_count": 19,
   "metadata": {},
   "outputs": [
    {
     "name": "stdout",
     "output_type": "stream",
     "text": [
      "CLEANED:  abcdefghijklmnopqrstuvwxyz\n",
      "-------------------------\n",
      "-------------------------\n",
      "-------------------------\n",
      "PRE-CLEANED:  !#$%&'()*+,-./0123456789:;<=>?@[]^_`abcdefghijklmnopqrstuvwxyz{|}~¡¢£¤§¨©«¬®¯°²³´µ¶·¸¹º»¼½¾¿×ßàáâãäåæçèéêëìíîïðñòóôõö÷øùúûüýþÿāăćčđēĕėęěīĭıłńōŏőœřśšūżưǝɐɔəɛɟɥɪɯɹʇʊʌʍʎʒʖʘ˂˃ˆˈˌː˘˙˚˝˶̴̶̸̡̢̧̨̛̖̗̘̙̜̝̞̟̠̣̤̥̦̩̪̫̬̯̰̳̹̺̻̼͇͈͉͍͎̀́̂̃̄̆̇̈̉̌̎̐̑̒̓̔̽̾́̓͊̕̚ͅ͏͓͔͕͖͙͚͑͒͛ͣͤͥͦͧͨͩͫͭͮ͘͜͟͢͝͞͡άέήίαβγδεηθικλμνξοπρςστυφψωόύώабвгдежзийклмнопрстуфхцчшщъыьэюяћќ҉אבגדהוזחיךלםמןנסעפץרשת،؟أابةتثجحدرزسشظعغفقكلمنهوي٩کگی۶ःतमरिू्ஐ௰ಠಡಥರೃฅง็๑ຈ༼༽ლღᆺ፦ᴗởἓἔἶὅὐὲ–—―‘’‚“”„†•…′‽‿⁎₪€™↑→↔⇑⇩∀∇∈∑−∙√∞≈≠≡≥≦≧⊃⊙⋆⌒⌣─━┌┐┬┻╥╬╭╮╯■□▬△▽◇◉●◔◕◞◠◡☂★☆☺☼♉♡♢♤♥♧♪♫♬✌✍✓✔✝✧✨✿❤⸮、。》あいうえおかがきぎくこごさざしじすせぜそただちっつづてでとなにねのはへぼまめもゃやょよらりるれろわをん゜アイクサジタッツトニノミメモュラレヮワン・ーヽヾㅿ一上不中之习了事二人仙会但你便像光全兴冬刀利到勇吉同吗吞呢喜四因国地夜夢大天太头好如学安実容小就弁待很我才把抜拿掌文斎斬新方日明易是智暗曉月望本柳欢気汉漫為然爱狼王白的益眼砂祥私笑組美聖花英菀西見語语说迎返違選都野関陰陽雪願馬髒高龍녕디랑뮤보비사석세씨아안오요유재저직하️︵﹏！％＇（）＊，－０１：；？＠｀ａｂｃｄｅｆｇｈｉｋｌｍｎｏｐｒｓｔｕｖｗｘｙ～｡･ｧｩｫｬｼﾉﾞﾟ￣�🌹🍄🏼🐍👈👋👌👍👏💎💓💖💛🔥🕚😀😁😂😃😄😅😆😇😉😊😋😌😍😎😏😐😓😕😘😜😝😞😡😢😣😧😫😬😮😱😳😴😺🙋🤓🤔🤗🦄\n"
     ]
    }
   ],
   "source": [
    "# Showing what characters are in the cleaned text vs. the pre-cleaned text\n",
    "clean_corpus = ' '.join(cafe_clean['joined_tokens'])\n",
    "print(f'CLEANED: {\"\".join(sorted(set(clean_corpus.lower())))}')\n",
    "print('-'*25)\n",
    "print('-'*25)\n",
    "print('-'*25)\n",
    "\n",
    "corpus = ' '.join(cafe_df['posts'])\n",
    "print(f'PRE-CLEANED: {\"\".join(sorted(set(corpus.lower())))}')"
   ]
  },
  {
   "cell_type": "code",
   "execution_count": 20,
   "metadata": {},
   "outputs": [
    {
     "data": {
      "text/html": [
       "<div>\n",
       "<style scoped>\n",
       "    .dataframe tbody tr th:only-of-type {\n",
       "        vertical-align: middle;\n",
       "    }\n",
       "\n",
       "    .dataframe tbody tr th {\n",
       "        vertical-align: top;\n",
       "    }\n",
       "\n",
       "    .dataframe thead th {\n",
       "        text-align: right;\n",
       "    }\n",
       "</style>\n",
       "<table border=\"1\" class=\"dataframe\">\n",
       "  <thead>\n",
       "    <tr style=\"text-align: right;\">\n",
       "      <th></th>\n",
       "      <th>type</th>\n",
       "      <th>posts</th>\n",
       "      <th>clean_posts</th>\n",
       "      <th>post_tokens</th>\n",
       "      <th>joined_tokens</th>\n",
       "    </tr>\n",
       "  </thead>\n",
       "  <tbody>\n",
       "    <tr>\n",
       "      <th>0</th>\n",
       "      <td>infj</td>\n",
       "      <td>'http://www.youtube.com/watch?v=qsXHcwe3krw|||...</td>\n",
       "      <td>and  moments    sportscenter not top te...</td>\n",
       "      <td>[moment, sportscenter, top, ten, play, pranks,...</td>\n",
       "      <td>moment sportscenter top ten play pranks life c...</td>\n",
       "    </tr>\n",
       "    <tr>\n",
       "      <th>1</th>\n",
       "      <td>entp</td>\n",
       "      <td>'I'm finding the lack of me in these posts ver...</td>\n",
       "      <td>im finding the lack of me in these posts very ...</td>\n",
       "      <td>[im, find, lack, post, alarm, sex, boring, pos...</td>\n",
       "      <td>im find lack post alarm sex boring position of...</td>\n",
       "    </tr>\n",
       "    <tr>\n",
       "      <th>2</th>\n",
       "      <td>intp</td>\n",
       "      <td>'Good one  _____   https://www.youtube.com/wat...</td>\n",
       "      <td>good one        of course, to which i say i kn...</td>\n",
       "      <td>[good, one, course, say, know, thats, bless, c...</td>\n",
       "      <td>good one course say know thats bless curse abs...</td>\n",
       "    </tr>\n",
       "    <tr>\n",
       "      <th>3</th>\n",
       "      <td>intj</td>\n",
       "      <td>'Dear INTP,   I enjoyed our conversation the o...</td>\n",
       "      <td>dear ,   i enjoyed our conversation the other ...</td>\n",
       "      <td>[dear, enjoyed, conversation, day, esoteric, g...</td>\n",
       "      <td>dear enjoyed conversation day esoteric gabbing...</td>\n",
       "    </tr>\n",
       "    <tr>\n",
       "      <th>4</th>\n",
       "      <td>entj</td>\n",
       "      <td>'You're fired.|||That's another silly misconce...</td>\n",
       "      <td>youre fired.   thats another silly misconcepti...</td>\n",
       "      <td>[youre, fire, thats, another, silly, misconcep...</td>\n",
       "      <td>youre fire thats another silly misconception a...</td>\n",
       "    </tr>\n",
       "  </tbody>\n",
       "</table>\n",
       "</div>"
      ],
      "text/plain": [
       "   type                                              posts  \\\n",
       "0  infj  'http://www.youtube.com/watch?v=qsXHcwe3krw|||...   \n",
       "1  entp  'I'm finding the lack of me in these posts ver...   \n",
       "2  intp  'Good one  _____   https://www.youtube.com/wat...   \n",
       "3  intj  'Dear INTP,   I enjoyed our conversation the o...   \n",
       "4  entj  'You're fired.|||That's another silly misconce...   \n",
       "\n",
       "                                         clean_posts  \\\n",
       "0         and  moments    sportscenter not top te...   \n",
       "1  im finding the lack of me in these posts very ...   \n",
       "2  good one        of course, to which i say i kn...   \n",
       "3  dear ,   i enjoyed our conversation the other ...   \n",
       "4  youre fired.   thats another silly misconcepti...   \n",
       "\n",
       "                                         post_tokens  \\\n",
       "0  [moment, sportscenter, top, ten, play, pranks,...   \n",
       "1  [im, find, lack, post, alarm, sex, boring, pos...   \n",
       "2  [good, one, course, say, know, thats, bless, c...   \n",
       "3  [dear, enjoyed, conversation, day, esoteric, g...   \n",
       "4  [youre, fire, thats, another, silly, misconcep...   \n",
       "\n",
       "                                       joined_tokens  \n",
       "0  moment sportscenter top ten play pranks life c...  \n",
       "1  im find lack post alarm sex boring position of...  \n",
       "2  good one course say know thats bless curse abs...  \n",
       "3  dear enjoyed conversation day esoteric gabbing...  \n",
       "4  youre fire thats another silly misconception a...  "
      ]
     },
     "execution_count": 20,
     "metadata": {},
     "output_type": "execute_result"
    }
   ],
   "source": [
    "# Viewing the clean DataFrame and its new columns\n",
    "cafe_clean.head(5)"
   ]
  },
  {
   "cell_type": "code",
   "execution_count": 21,
   "metadata": {},
   "outputs": [
    {
     "name": "stdout",
     "output_type": "stream",
     "text": [
      "The pre-cleaned tokens tally up to 10637645 total words\n",
      "The cleaned tokens tally up to 5378285 total words\n",
      "--------------------\n",
      "Each feature in pre-cleaned has on average 1226 words\n",
      "Each feature in cleaned has on average 620 words\n",
      "--------------------\n",
      "Each feature in pre-cleaned  has a median of 1278 words\n",
      "Each feature has a median of 645 words\n",
      "--------------------\n",
      "The minimum post in pre-cleaned  is 4 words\n",
      "The minimum post in cleaned is 0 words\n",
      "--------------------\n",
      "The minimum post in pre-cleaned  is 1881 words\n",
      "The minimum post in cleaned is 916 words\n",
      "--------------------\n"
     ]
    },
    {
     "data": {
      "image/png": "[encoded data removed]",
      "text/plain": [
       "<Figure size 1440x576 with 1 Axes>"
      ]
     },
     "metadata": {},
     "output_type": "display_data"
    }
   ],
   "source": [
    "# Visualizing the distributions of posts by length from pre-cleaned and cleaned posts\n",
    "\n",
    "total_words = cafe_clean['posts'].apply(lambda x: len(x.split())).sum() # Finding total words in pre-cleaned corupus\n",
    "print(f'The pre-cleaned tokens tally up to {total_words} total words')\n",
    "\n",
    "clean_words = cafe_clean['post_tokens'].apply(lambda x: len(x)).sum() # Finding total words in cleaned corupus\n",
    "print(f'The cleaned tokens tally up to {clean_words} total words')\n",
    "\n",
    "print('-'*20)\n",
    "\n",
    "ave_post = cafe_clean['posts'].apply(lambda x: len(x.split())).mean() # Finding average total words in pre-cleaned corupus\n",
    "print(f'Each feature in pre-cleaned has on average {round(ave_post)} words')\n",
    "\n",
    "ave_cleaned = cafe_clean['post_tokens'].apply(lambda x: len(x)).mean() # Finding average total words in cleaned corupus\n",
    "print(f'Each feature in cleaned has on average {round(ave_cleaned)} words') \n",
    "\n",
    "print('-'*20)\n",
    "\n",
    "med_post = cafe_clean['posts'].apply(lambda x: len(x.split())).median()  # Finding median total words in pre-cleaned corupus\n",
    "print(f'Each feature in pre-cleaned  has a median of {round(med_post)} words')\n",
    "\n",
    "med_cleaned = cafe_clean['post_tokens'].apply(lambda x: len(x)).median() # Finding median total words in cleaned corupus\n",
    "print(f'Each feature has a median of {round(med_cleaned)} words')\n",
    "\n",
    "print('-'*20)\n",
    "\n",
    "min_post = cafe_clean['posts'].apply(lambda x: len(x.split())).min() # Finding minimum words count in pre-cleaned corupus\n",
    "print(f'The minimum post in pre-cleaned  is {round(min_post)} words')\n",
    "\n",
    "min_cleaned = cafe_clean['post_tokens'].apply(lambda x: len(x)).min() # Finding minimum words count in cleaned corupus\n",
    "print(f'The minimum post in cleaned is {round(min_cleaned)} words')\n",
    "\n",
    "print('-'*20)\n",
    "\n",
    "max_post = cafe_clean['posts'].apply(lambda x: len(x.split())).max() # Finding maximum words count in pre-cleaned corupus\n",
    "print(f'The minimum post in pre-cleaned  is {round(max_post)} words')\n",
    "\n",
    "max_cleaned = cafe_clean['post_tokens'].apply(lambda x: len(x)).max() # Finding maximum words count in cleaned corupus\n",
    "print(f'The minimum post in cleaned is {round(max_cleaned)} words')\n",
    "\n",
    "print('-'*20)\n",
    "\n",
    "# Plotting the distributions\n",
    "plt.figure(figsize=(20,8))\n",
    "plt.hist(cafe_clean['post_tokens'].apply(lambda x: len(x)), label='cleaned', alpha=.5, bins=100)\n",
    "plt.hist(cafe_clean['posts'].apply(lambda x: len(x.split())), label='pre-cleaned', alpha=.5, bins=100)\n",
    "plt.axvline(ave_post, color='k', linestyle='dashed', linewidth=3, label='pre-cleaned mean')\n",
    "plt.axvline(ave_cleaned, color='r', linestyle='dashed', linewidth=3, label='cleaned mean')\n",
    "plt.legend()\n",
    "plt.title('Distribution of Post Length \\n Clean vs Pre-Cleaned');"
   ]
  },
  {
   "cell_type": "code",
   "execution_count": 22,
   "metadata": {},
   "outputs": [
    {
     "name": "stdout",
     "output_type": "stream",
     "text": [
      ">>>>>>>>>>INFP<<<<<<<<<<\n",
      "-------------------------\n",
      "'TL;DR means: Too long; didn't read. :)|||I really enjoy personal, one-on-one interactions with people, especially if they are in warm and accepting environments. Otherwise, as more people (so that it is more than, say, 4 or 5), noise, and...|||P.S. In the end, though, I don't think MBTI makes a huge difference in whom you may seek a long-term romantic relationship with. It really depends on the person. However, I won't deny that there are...|||From my personal experiences, any Fe-dom and I are going to be a huge no-no. This is because Fe-doms make me distinctly uncomfortable in a way that I cannot place. There is just something very...|||^ Totally see the Fi from one glance at your About Me.   Made me laugh: This section is stalker proof and is only available to close friends. I stalked regardless.  I would say ESFP fits you...|||Siren|||I get along with a good amount of NFs. I have an (I believe to be) INFJ friend who is such a joy to be around! I know two INFPs who are very close friends of mine; we just click. I also have one ENFP...|||My apologies; of course everyone is a completely unique individual, INFPs included! Special snowflake syndrome, however, often characterizes the belief that one is more unique or superior to...|||I like being an INFP. I just dislike the stereotypes; not many of us fit into them that well (although I am an idealistic daydreamer, I am also a lot more outgoing and bubbly x97when excitedx97 than...|||Title speaks for itself! Just asking out of curiosity.  My blood type is O+.|||In my family, the rarest is probably extroversion. Same with my friend group (we're all introverts. Is that a thing? Are introverts naturally attracted to each other? Haha). Along with that, hardly...|||Freedom|||Legit, this is 100% accurate. XD|||Kind of sick. The news has been really depressing lately.|||I'm not sure if something like this has already been made yet, but I'd like to start it anyway! This thread is just an appreciation thread for particular Per\n",
      "-------------------------\n",
      "tl dr mean long didnt read really enjoy personal one one interaction people especially warm accept environment otherwise people say noise end though dont think mbti make huge difference may seek long term romantic relationship really depend person however wont deny personal experience fe dom go huge fe doms make distinctly uncomfortable way cannot place something totally see fi one glance make laugh section stalker proof available close friend stalk regardless would say fit siren get along good amount nfs believe friend joy around know two close friend mine click also one apology course everyone completely unique individual include special snowflake syndrome however often characterize belief one unique superior like dislike stereotype many u fit well although idealistic daydreamer also lot outgo bubbly title speaks ask curiosity blood type family rarest probably extroversion friend group introvert thing introvert naturally attract haha along hardly freedom legit accurate xd kind sick news really depress lately im sure something like already make yet id like start anyway thread appreciation thread particular perc member stand either hello im fine men thats youre ask treat respect long treat respect applies woman thread give cancer giantmeteor justenditalready randomly intervene say ionic really admirable read much want help others id also like say go come peace corps want haha yeah go lot phase life discover new interest way first job want cashier seriously register keyboard always look fun white sky blue also love purple pink type correspond whether job right think thats conclusion come emotional doesnt mean depend open pretty quickly depend circumstance people theyre open trouble talk deep thing people ive know agree comment one thing help lot confidence sometimes go im really socially outgo push make effort yes really bad tendency hoard pretty notebooks im sucker colorful design xd yeah want find u highly suggest look bookstore legit thumbs yes yes dont know dont \n"
     ]
    }
   ],
   "source": [
    "# Printing random slices of posts comparted to clean posts.\n",
    "rint = np.random.randint(0, len(cafe_df))\n",
    "print('>'*10 + cafe_df['type'].iloc[rint] + '<'*10)\n",
    "print('-'*25)\n",
    "print(cafe_clean['posts'].iloc[rint][:2000])\n",
    "print('-'*25)\n",
    "print(cafe_clean['joined_tokens'].iloc[rint][:2000])"
   ]
  },
  {
   "cell_type": "markdown",
   "metadata": {},
   "source": [
    "#### Preprocessing/Data Cleaning Takeaways:\n",
    "- A lot of words were reduced or eliminated that did not provide any use.\n",
    "- The dataset still has posts with very little words. Might need to drop these.\n",
    "- The lemmitization did not work well on some verbs and the `MBTI` replacement often is followed by an `s`.\n"
   ]
  },
  {
   "cell_type": "markdown",
   "metadata": {},
   "source": [
    "#### Binary Classes"
   ]
  },
  {
   "cell_type": "code",
   "execution_count": 23,
   "metadata": {},
   "outputs": [],
   "source": [
    "# Adding Binary Targets\n",
    "cafe_clean['i/e'] = cafe_clean['type'].map(lambda x: x[0])\n",
    "cafe_clean['n/s'] = cafe_clean['type'].map(lambda x: x[1])\n",
    "cafe_clean['t/f'] = cafe_clean['type'].map(lambda x: x[2])\n",
    "cafe_clean['p/j'] = cafe_clean['type'].map(lambda x: x[3])"
   ]
  },
  {
   "cell_type": "code",
   "execution_count": 24,
   "metadata": {},
   "outputs": [
    {
     "name": "stdout",
     "output_type": "stream",
     "text": [
      "i    0.769568\n",
      "e    0.230432\n",
      "Name: i/e, dtype: float64\n",
      "n    0.862017\n",
      "s    0.137983\n",
      "Name: n/s, dtype: float64\n",
      "f    0.541095\n",
      "t    0.458905\n",
      "Name: t/f, dtype: float64\n",
      "p    0.60415\n",
      "j    0.39585\n",
      "Name: p/j, dtype: float64\n"
     ]
    }
   ],
   "source": [
    "# Checking the Binary Target class imbalance\n",
    "print(cafe_clean['i/e'].value_counts(normalize=True))\n",
    "print(cafe_clean['n/s'].value_counts(normalize=True))\n",
    "print(cafe_clean['t/f'].value_counts(normalize=True))\n",
    "print(cafe_clean['p/j'].value_counts(normalize=True))"
   ]
  },
  {
   "cell_type": "code",
   "execution_count": 25,
   "metadata": {},
   "outputs": [
    {
     "data": {
      "image/png": "[encoded data removed]",
      "text/plain": [
       "<Figure size 1440x576 with 1 Axes>"
      ]
     },
     "metadata": {},
     "output_type": "display_data"
    }
   ],
   "source": [
    "# Plotting the Binary Target Class Imbalance\n",
    "plt.figure(figsize=(20,8))\n",
    "plt.title('Weights Between Binary Classes')\n",
    "plt.ylabel('counts')\n",
    "for column in cafe_clean.columns[-4:]:\n",
    "    plt.bar(cafe_clean[column].value_counts().index, cafe_clean[column].value_counts().values, label=column)\n",
    "\n",
    "plt.legend()\n",
    "plt.show();"
   ]
  },
  {
   "cell_type": "markdown",
   "metadata": {},
   "source": [
    "### Sentiment Analysis\n",
    "Checking for insights based on post sentiment analysis"
   ]
  },
  {
   "cell_type": "code",
   "execution_count": 26,
   "metadata": {},
   "outputs": [],
   "source": [
    "# Instantiating NLTK VADER Sentiment Analyzer\n",
    "sid = SentimentIntensityAnalyzer()"
   ]
  },
  {
   "cell_type": "code",
   "execution_count": 27,
   "metadata": {},
   "outputs": [
    {
     "data": {
      "text/plain": [
       "{'neg': 0.109, 'neu': 0.599, 'pos': 0.292, 'compound': 0.9985}"
      ]
     },
     "execution_count": 27,
     "metadata": {},
     "output_type": "execute_result"
    }
   ],
   "source": [
    "# Testing Polarity Scores\n",
    "sid.polarity_scores(cafe_clean.loc[2,'joined_tokens'])"
   ]
  },
  {
   "cell_type": "code",
   "execution_count": 28,
   "metadata": {},
   "outputs": [],
   "source": [
    "# Applying Polarity Scores as a column\n",
    "cafe_clean['sentiment'] = cafe_clean['joined_tokens'].apply(lambda x: sid.polarity_scores(x))"
   ]
  },
  {
   "cell_type": "code",
   "execution_count": 29,
   "metadata": {},
   "outputs": [],
   "source": [
    "# Isolating the `compound` score to its own column\n",
    "cafe_clean['sentiment_total'] = cafe_clean['sentiment'].apply(lambda x: x['compound'])"
   ]
  },
  {
   "cell_type": "code",
   "execution_count": 30,
   "metadata": {},
   "outputs": [],
   "source": [
    "# Applying a binary sentiment score to a column\n",
    "cafe_clean['sentiment_score'] = cafe_clean['sentiment_total'].apply(lambda x: '+' if x >= 0 else '-')"
   ]
  },
  {
   "cell_type": "code",
   "execution_count": 31,
   "metadata": {},
   "outputs": [
    {
     "data": {
      "image/png": "[encoded data removed]",
      "text/plain": [
       "<Figure size 1080x576 with 1 Axes>"
      ]
     },
     "metadata": {},
     "output_type": "display_data"
    }
   ],
   "source": [
    "# Printing and visualizing the average polarity score by MBTI type\n",
    "scores_dict = {}\n",
    "for mbti in mbti_lst:\n",
    "    data = cafe_clean[cafe_clean['type'] == mbti]\n",
    "    # print(f'Average Sentiment Score for {mbti}: {data.sentiment_total.mean()}')\n",
    "    scores_dict.update({mbti: data.sentiment_total.mean()}) \n",
    "\n",
    "scores_dict = {k: v for k, v in sorted(scores_dict.items(), key=lambda item: item[1])}\n",
    "\n",
    "x = list(scores_dict.keys())\n",
    "height = list(scores_dict.values())\n",
    "\n",
    "plt.figure(figsize=(15,8))\n",
    "plt.bar(x, height)\n",
    "plt.ylabel('%')\n",
    "plt.title('Average Sentiment (polarity) Score \\n using VADER');\n"
   ]
  },
  {
   "cell_type": "code",
   "execution_count": 32,
   "metadata": {},
   "outputs": [],
   "source": [
    "# Applying TextBlob Sentiment Polarity Score to new column for cross checking \n",
    "cafe_clean['polarity'] = cafe_clean['joined_tokens'].apply(lambda x: TextBlob(x).sentiment.polarity)"
   ]
  },
  {
   "cell_type": "code",
   "execution_count": 33,
   "metadata": {},
   "outputs": [],
   "source": [
    "# Applying TextBlob Subjectivity Score to new column\n",
    "cafe_clean['subjectivity'] = cafe_clean['joined_tokens'].apply(lambda x: TextBlob(x).sentiment.subjectivity)"
   ]
  },
  {
   "cell_type": "code",
   "execution_count": 34,
   "metadata": {},
   "outputs": [
    {
     "data": {
      "image/png": "[encoded data removed]",
      "text/plain": [
       "<Figure size 1080x576 with 1 Axes>"
      ]
     },
     "metadata": {},
     "output_type": "display_data"
    }
   ],
   "source": [
    "# Printing and visualizing the average polarity score by MBTI type (TextBlob)\n",
    "scores_dict = {}\n",
    "for mbti in mbti_lst:\n",
    "    data = cafe_clean[cafe_clean['type'] == mbti]\n",
    "    # print(f'Average Sentiemnt Score for {mbti}: {data.polarity.mean()}')\n",
    "    scores_dict.update({mbti: data.polarity.mean()}) \n",
    "\n",
    "scores_dict = {k: v for k, v in sorted(scores_dict.items(), key=lambda item: item[1])}\n",
    "\n",
    "x = list(scores_dict.keys())\n",
    "height = list(scores_dict.values())\n",
    "\n",
    "plt.figure(figsize=(15,8))\n",
    "plt.bar(x, height)\n",
    "plt.ylabel('%')\n",
    "plt.title('Average Sentiment (polarity) Score \\n using TextBlob');"
   ]
  },
  {
   "cell_type": "code",
   "execution_count": 35,
   "metadata": {},
   "outputs": [
    {
     "data": {
      "image/png": "[encoded data removed]",
      "text/plain": [
       "<Figure size 1080x576 with 1 Axes>"
      ]
     },
     "metadata": {},
     "output_type": "display_data"
    }
   ],
   "source": [
    "scores_dict = {}\n",
    "for mbti in mbti_lst:\n",
    "    data = cafe_clean[cafe_clean['type'] == mbti]\n",
    "    # print(f'Average Sentiemnt Score for {mbti}: {data.subjectivity.mean()}')\n",
    "    scores_dict.update({mbti: data.subjectivity.mean()}) \n",
    "\n",
    "scores_dict = {k: v for k, v in sorted(scores_dict.items(), key=lambda item: item[1])}\n",
    "\n",
    "x = list(scores_dict.keys())\n",
    "height = list(scores_dict.values())\n",
    "\n",
    "plt.figure(figsize=(15,8))\n",
    "plt.bar(x, height)\n",
    "plt.ylabel('%')\n",
    "plt.title('Average Sentiment (subjectivity) Score \\n using TextBlob');"
   ]
  },
  {
   "cell_type": "code",
   "execution_count": 36,
   "metadata": {},
   "outputs": [
    {
     "data": {
      "image/png": "[encoded data removed]",
      "text/plain": [
       "<Figure size 1080x576 with 1 Axes>"
      ]
     },
     "metadata": {},
     "output_type": "display_data"
    }
   ],
   "source": [
    "# Plotting the distributions of polarity scores by MBTI type\n",
    "plt.figure(figsize=(15,8))\n",
    "for mbti in mbti_lst:\n",
    "    plt.hist(cafe_clean['polarity'][cafe_clean['type'] == mbti], bins=100, alpha=.5, label=mbti)\n",
    "    plt.legend();"
   ]
  },
  {
   "cell_type": "code",
   "execution_count": 37,
   "metadata": {},
   "outputs": [
    {
     "data": {
      "image/png": "[encoded data removed]",
      "text/plain": [
       "<Figure size 1080x576 with 1 Axes>"
      ]
     },
     "metadata": {},
     "output_type": "display_data"
    }
   ],
   "source": [
    "# Plotting the distributions of subjectivity scores by MBTI type\n",
    "plt.figure(figsize=(15,8))\n",
    "for mbti in mbti_lst:\n",
    "    plt.hist(cafe_clean['subjectivity'][cafe_clean['type'] == mbti], bins=100, alpha=.5, label=mbti)\n",
    "    plt.legend();"
   ]
  },
  {
   "cell_type": "code",
   "execution_count": 38,
   "metadata": {},
   "outputs": [
    {
     "data": {
      "image/png": "[encoded data removed]",
      "text/plain": [
       "<Figure size 1080x576 with 1 Axes>"
      ]
     },
     "metadata": {},
     "output_type": "display_data"
    }
   ],
   "source": [
    "# Plotting top tri-grams by frequency of the entire corpus — code shoutout to Susan Li (https://actsusanli.medium.com/)\n",
    "def get_top_n_trigram(corpus, n=None):\n",
    "    vec = CountVectorizer(ngram_range=(3, 3), stop_words='english').fit(corpus)\n",
    "    bag_of_words = vec.transform(corpus)\n",
    "    sum_words = bag_of_words.sum(axis=0) \n",
    "    words_freq = [(word, sum_words[0, idx]) for word, idx in vec.vocabulary_.items()]\n",
    "    words_freq =sorted(words_freq, key = lambda x: x[1], reverse=True)\n",
    "    return words_freq[:n]\n",
    "common_words = get_top_n_trigram(cafe_clean['joined_tokens'], 20)\n",
    "df_tgrams = pd.DataFrame(common_words, columns = ['Posts' , 'count'])\n",
    "df_tgrams = df_tgrams.groupby('Posts').sum()['count'].sort_values(ascending=True)\n",
    "plt.figure(figsize=(15,8))\n",
    "plt.barh(df_tgrams.index, df_tgrams.values)\n",
    "plt.title('Top Corpus Trigrams by Frequency');\n"
   ]
  },
  {
   "cell_type": "code",
   "execution_count": 39,
   "metadata": {},
   "outputs": [
    {
     "data": {
      "image/png": "[encoded data removed]",
      "text/plain": [
       "<Figure size 1080x576 with 1 Axes>"
      ]
     },
     "metadata": {},
     "output_type": "display_data"
    }
   ],
   "source": [
    "# Plotting top bi-grams by frequency of the entire corpus — code shoutout to Susan Li (https://actsusanli.medium.com/)\n",
    "def get_top_n_trigram(corpus, n=None):\n",
    "    vec = CountVectorizer(ngram_range=(2, 2), stop_words='english').fit(corpus)\n",
    "    bag_of_words = vec.transform(corpus)\n",
    "    sum_words = bag_of_words.sum(axis=0) \n",
    "    words_freq = [(word, sum_words[0, idx]) for word, idx in vec.vocabulary_.items()]\n",
    "    words_freq =sorted(words_freq, key = lambda x: x[1], reverse=True)\n",
    "    return words_freq[:n]\n",
    "common_words = get_top_n_trigram(cafe_clean['joined_tokens'], 20)\n",
    "df_tgrams = pd.DataFrame(common_words, columns = ['Posts' , 'count'])\n",
    "df_tgrams = df_tgrams.groupby('Posts').sum()['count'].sort_values(ascending=True)\n",
    "plt.figure(figsize=(15,8))\n",
    "plt.barh(df_tgrams.index, df_tgrams.values)\n",
    "plt.title('Top Corpus Trigrams by Frequency');"
   ]
  },
  {
   "cell_type": "code",
   "execution_count": 40,
   "metadata": {},
   "outputs": [
    {
     "data": {
      "image/png": "[encoded data removed]",
      "text/plain": [
       "<Figure size 1080x576 with 1 Axes>"
      ]
     },
     "metadata": {},
     "output_type": "display_data"
    }
   ],
   "source": [
    "# Plotting the frequency of words by part-of-speech\n",
    "blob = TextBlob(str(cafe_clean['joined_tokens']))\n",
    "pos_df = pd.DataFrame(blob.tags, columns = ['word' , 'pos'])\n",
    "pos_df = pos_df.pos.value_counts()[:20]\n",
    "plt.figure(figsize=(15,8))\n",
    "plt.barh(pos_df.index, pos_df.values);"
   ]
  },
  {
   "cell_type": "markdown",
   "metadata": {},
   "source": [
    "---\n",
    "\n",
    "Option to save clean dataframe"
   ]
  },
  {
   "cell_type": "code",
   "execution_count": 41,
   "metadata": {},
   "outputs": [],
   "source": [
    "# Uncomment below to save clean dataframe to CSV in data folder\n",
    "# cafe_clean.to_csv('./data/cafe_clean.csv')"
   ]
  },
  {
   "cell_type": "markdown",
   "metadata": {},
   "source": [
    "## Baseline Modeling\n",
    "\n",
    "There will be 4 sections of modeling:\n",
    "\n",
    "1. Multiclass\n",
    "2. Multiclass balanced classes using undersampling\n",
    "3. Binary\n",
    "4. Binary balanced classes using undersampling"
   ]
  },
  {
   "cell_type": "code",
   "execution_count": 63,
   "metadata": {},
   "outputs": [],
   "source": [
    "# Option to read in clean DataFrame — uncomment below\n",
    "\n",
    "cafe_clean = pd.read_csv('./data/cafe_clean.csv')\n",
    "cafe_clean = cafe_clean.dropna()"
   ]
  },
  {
   "cell_type": "code",
   "execution_count": 65,
   "metadata": {},
   "outputs": [],
   "source": [
    "# Creating Dictionary of Baseline Classifiers for an interative model fitting approach\n",
    "baseline_models_mc = {'SGDClassifier': SGDClassifier(class_weight='balanced', random_state=SEED, loss=\"modified_huber\"),\n",
    "\n",
    "                  'LogisticRegression': LogisticRegression(n_jobs=1, C=.001, multi_class='multinomial', solver='saga', max_iter=500),\n",
    "\n",
    "                  'NaiveBayes': MultinomialNB(),\n",
    "               \n",
    "                  'KNN': KNeighborsClassifier(n_neighbors=16),\n",
    "               \n",
    "                  'RandomForest': RandomForestClassifier(max_depth=8, random_state=SEED)\n",
    "               }"
   ]
  },
  {
   "cell_type": "code",
   "execution_count": 66,
   "metadata": {},
   "outputs": [
    {
     "name": "stdout",
     "output_type": "stream",
     "text": [
      "SGDClassifier(class_weight='balanced', loss='modified_huber',\n",
      "              random_state=53188535)\n",
      "LogisticRegression(C=0.001, max_iter=500, multi_class='multinomial', n_jobs=1,\n",
      "                   solver='saga')\n",
      "MultinomialNB()\n",
      "KNeighborsClassifier(n_neighbors=16)\n",
      "RandomForestClassifier(max_depth=8, random_state=53188535)\n"
     ]
    }
   ],
   "source": [
    "# Reviewing each classifier\n",
    "for clf in baseline_models_mc:\n",
    "    print(baseline_models_mc[clf])"
   ]
  },
  {
   "cell_type": "code",
   "execution_count": 67,
   "metadata": {},
   "outputs": [],
   "source": [
    "# Creating empty metric table to append model scoring\n",
    "models_table = pd.DataFrame(columns=['Model', 'Target', 'CVScore', 'TestAcc'])"
   ]
  },
  {
   "cell_type": "code",
   "execution_count": 68,
   "metadata": {},
   "outputs": [],
   "source": [
    "# Instantiating run_models class from nlp.py \n",
    "# This class contains the function to fit and predict the dictionary of classifiers\n",
    "rm = run_models()"
   ]
  },
  {
   "cell_type": "code",
   "execution_count": 69,
   "metadata": {},
   "outputs": [
    {
     "name": "stdout",
     "output_type": "stream",
     "text": [
      "--------------------\n",
      "type, target balance: \n",
      "infp    0.211068\n",
      "infj    0.169408\n",
      "intp    0.150346\n",
      "intj    0.125749\n",
      "entp    0.079016\n",
      "enfp    0.077786\n",
      "istp    0.038893\n",
      "isfp    0.031207\n",
      "entj    0.026595\n",
      "istj    0.023674\n",
      "enfj    0.021829\n",
      "isfj    0.019216\n",
      "estp    0.010300\n",
      "esfp    0.005534\n",
      "esfj    0.004919\n",
      "estj    0.004458\n",
      "Name: type, dtype: float64\n",
      "Vectorizing....  @ Thu Mar 10 15:34:13 2022\n",
      "Working on SGDClassifier for type @ Thu Mar 10 15:34:23 2022\n",
      "Working on LogisticRegression for type @ Thu Mar 10 15:34:32 2022\n",
      "Working on NaiveBayes for type @ Thu Mar 10 15:35:14 2022\n",
      "Working on KNN for type @ Thu Mar 10 15:35:15 2022\n",
      "Working on RandomForest for type @ Thu Mar 10 15:35:22 2022\n"
     ]
    },
    {
     "data": {
      "text/html": [
       "<div>\n",
       "<style scoped>\n",
       "    .dataframe tbody tr th:only-of-type {\n",
       "        vertical-align: middle;\n",
       "    }\n",
       "\n",
       "    .dataframe tbody tr th {\n",
       "        vertical-align: top;\n",
       "    }\n",
       "\n",
       "    .dataframe thead th {\n",
       "        text-align: right;\n",
       "    }\n",
       "</style>\n",
       "<table border=\"1\" class=\"dataframe\">\n",
       "  <thead>\n",
       "    <tr style=\"text-align: right;\">\n",
       "      <th></th>\n",
       "      <th>Model</th>\n",
       "      <th>Target</th>\n",
       "      <th>CVScore</th>\n",
       "      <th>TestAcc</th>\n",
       "    </tr>\n",
       "  </thead>\n",
       "  <tbody>\n",
       "    <tr>\n",
       "      <th>0</th>\n",
       "      <td>SGDClassifier_type</td>\n",
       "      <td>type</td>\n",
       "      <td>0.3242</td>\n",
       "      <td>0.3255</td>\n",
       "    </tr>\n",
       "    <tr>\n",
       "      <th>1</th>\n",
       "      <td>LogisticRegression_type</td>\n",
       "      <td>type</td>\n",
       "      <td>0.3648</td>\n",
       "      <td>0.3877</td>\n",
       "    </tr>\n",
       "    <tr>\n",
       "      <th>2</th>\n",
       "      <td>NaiveBayes_type</td>\n",
       "      <td>type</td>\n",
       "      <td>0.3562</td>\n",
       "      <td>0.3790</td>\n",
       "    </tr>\n",
       "    <tr>\n",
       "      <th>3</th>\n",
       "      <td>KNN_type</td>\n",
       "      <td>type</td>\n",
       "      <td>0.2118</td>\n",
       "      <td>0.2213</td>\n",
       "    </tr>\n",
       "    <tr>\n",
       "      <th>4</th>\n",
       "      <td>RandomForest_type</td>\n",
       "      <td>type</td>\n",
       "      <td>0.2475</td>\n",
       "      <td>0.2430</td>\n",
       "    </tr>\n",
       "  </tbody>\n",
       "</table>\n",
       "</div>"
      ],
      "text/plain": [
       "                     Model Target  CVScore  TestAcc\n",
       "0       SGDClassifier_type   type   0.3242   0.3255\n",
       "1  LogisticRegression_type   type   0.3648   0.3877\n",
       "2          NaiveBayes_type   type   0.3562   0.3790\n",
       "3                 KNN_type   type   0.2118   0.2213\n",
       "4        RandomForest_type   type   0.2475   0.2430"
      ]
     },
     "execution_count": 69,
     "metadata": {},
     "output_type": "execute_result"
    }
   ],
   "source": [
    "# Fitting and predicting multiclass models using BOW vectorization\n",
    "multiclass_cv = rm.run(cafe_clean, 'joined_tokens', ['type'], baseline_models_mc, models_table, tfidf=False, SEED=SEED)\n",
    "multiclass_cv"
   ]
  },
  {
   "cell_type": "code",
   "execution_count": 70,
   "metadata": {},
   "outputs": [
    {
     "name": "stdout",
     "output_type": "stream",
     "text": [
      "--------------------\n",
      "type, target balance: \n",
      "infp    0.211068\n",
      "infj    0.169408\n",
      "intp    0.150346\n",
      "intj    0.125749\n",
      "entp    0.079016\n",
      "enfp    0.077786\n",
      "istp    0.038893\n",
      "isfp    0.031207\n",
      "entj    0.026595\n",
      "istj    0.023674\n",
      "enfj    0.021829\n",
      "isfj    0.019216\n",
      "estp    0.010300\n",
      "esfp    0.005534\n",
      "esfj    0.004919\n",
      "estj    0.004458\n",
      "Name: type, dtype: float64\n",
      "Vectorizing....  @ Thu Mar 10 15:35:38 2022\n",
      "Working on SGDClassifier for type @ Thu Mar 10 15:35:48 2022\n",
      "Working on LogisticRegression for type @ Thu Mar 10 15:35:52 2022\n",
      "Working on NaiveBayes for type @ Thu Mar 10 15:36:41 2022\n",
      "Working on KNN for type @ Thu Mar 10 15:36:41 2022\n",
      "Working on RandomForest for type @ Thu Mar 10 15:36:50 2022\n"
     ]
    },
    {
     "data": {
      "text/html": [
       "<div>\n",
       "<style scoped>\n",
       "    .dataframe tbody tr th:only-of-type {\n",
       "        vertical-align: middle;\n",
       "    }\n",
       "\n",
       "    .dataframe tbody tr th {\n",
       "        vertical-align: top;\n",
       "    }\n",
       "\n",
       "    .dataframe thead th {\n",
       "        text-align: right;\n",
       "    }\n",
       "</style>\n",
       "<table border=\"1\" class=\"dataframe\">\n",
       "  <thead>\n",
       "    <tr style=\"text-align: right;\">\n",
       "      <th></th>\n",
       "      <th>Model</th>\n",
       "      <th>Target</th>\n",
       "      <th>CVScore</th>\n",
       "      <th>TestAcc</th>\n",
       "    </tr>\n",
       "  </thead>\n",
       "  <tbody>\n",
       "    <tr>\n",
       "      <th>0</th>\n",
       "      <td>SGDClassifier_type</td>\n",
       "      <td>type</td>\n",
       "      <td>0.3596</td>\n",
       "      <td>0.3831</td>\n",
       "    </tr>\n",
       "    <tr>\n",
       "      <th>1</th>\n",
       "      <td>LogisticRegression_type</td>\n",
       "      <td>type</td>\n",
       "      <td>0.2111</td>\n",
       "      <td>0.2112</td>\n",
       "    </tr>\n",
       "    <tr>\n",
       "      <th>2</th>\n",
       "      <td>NaiveBayes_type</td>\n",
       "      <td>type</td>\n",
       "      <td>0.2575</td>\n",
       "      <td>0.2725</td>\n",
       "    </tr>\n",
       "    <tr>\n",
       "      <th>3</th>\n",
       "      <td>KNN_type</td>\n",
       "      <td>type</td>\n",
       "      <td>0.2486</td>\n",
       "      <td>0.2471</td>\n",
       "    </tr>\n",
       "    <tr>\n",
       "      <th>4</th>\n",
       "      <td>RandomForest_type</td>\n",
       "      <td>type</td>\n",
       "      <td>0.2498</td>\n",
       "      <td>0.2582</td>\n",
       "    </tr>\n",
       "  </tbody>\n",
       "</table>\n",
       "</div>"
      ],
      "text/plain": [
       "                     Model Target  CVScore  TestAcc\n",
       "0       SGDClassifier_type   type   0.3596   0.3831\n",
       "1  LogisticRegression_type   type   0.2111   0.2112\n",
       "2          NaiveBayes_type   type   0.2575   0.2725\n",
       "3                 KNN_type   type   0.2486   0.2471\n",
       "4        RandomForest_type   type   0.2498   0.2582"
      ]
     },
     "execution_count": 70,
     "metadata": {},
     "output_type": "execute_result"
    }
   ],
   "source": [
    "# Fitting and predicting multiclass models using TF-IDF vectorization\n",
    "multiclass_tfidf = rm.run(cafe_clean, 'joined_tokens', ['type'], baseline_models_mc, models_table, tfidf=True, SEED=SEED)\n",
    "multiclass_tfidf"
   ]
  },
  {
   "cell_type": "code",
   "execution_count": 71,
   "metadata": {},
   "outputs": [
    {
     "data": {
      "image/png": "[encoded data removed]",
      "text/plain": [
       "<Figure size 1080x360 with 1 Axes>"
      ]
     },
     "metadata": {},
     "output_type": "display_data"
    }
   ],
   "source": [
    "# Plotting the Model accuracy compared to the majority class\n",
    "plt.figure(figsize=(15,5))\n",
    "plt.barh('model_accuracy', .4108)\n",
    "plt.barh(cafe_clean['type'].value_counts(normalize=True).index, cafe_clean['type'].value_counts(normalize=True).values)\n",
    "plt.xlim(0, 1);"
   ]
  },
  {
   "cell_type": "markdown",
   "metadata": {},
   "source": [
    "#### Multiclass Models Results\n",
    "The largest class is `infp` of 21%. The models are not performing at a useful level, however there is reason to believe that the models are finding some distinction in word usage between the different MBTI types.\n",
    "\n",
    "---"
   ]
  },
  {
   "cell_type": "code",
   "execution_count": 72,
   "metadata": {},
   "outputs": [
    {
     "name": "stdout",
     "output_type": "stream",
     "text": [
      "Train: (array(['enfj', 'enfp', 'entj', 'entp', 'esfj', 'esfp', 'estj', 'estp',\n",
      "       'infj', 'infp', 'intj', 'intp', 'isfj', 'isfp', 'istj', 'istp'],\n",
      "      dtype=object), array([ 142,  506,  173,  514,   32,   36,   29,   67, 1102, 1373,  818,\n",
      "        978,  125,  203,  154,  253]))\n",
      "Train: (array(['enfj', 'enfp', 'entj', 'entp', 'esfj', 'esfp', 'estj', 'estp',\n",
      "       'infj', 'infp', 'intj', 'intp', 'isfj', 'isfp', 'istj', 'istp'],\n",
      "      dtype=object), array([29, 29, 29, 29, 29, 29, 29, 29, 29, 29, 29, 29, 29, 29, 29, 29]))\n",
      "Test: (array(['enfj', 'enfp', 'entj', 'entp', 'esfj', 'esfp', 'estj', 'estp',\n",
      "       'infj', 'infp', 'intj', 'intp', 'isfj', 'isfp', 'istj', 'istp'],\n",
      "      dtype=object), array([ 48, 169,  58, 171,  10,  12,  10,  22, 368, 458, 273, 326,  41,\n",
      "        68,  51,  84]))\n",
      "Test: (array(['enfj', 'enfp', 'entj', 'entp', 'esfj', 'esfp', 'estj', 'estp',\n",
      "       'infj', 'infp', 'intj', 'intp', 'isfj', 'isfp', 'istj', 'istp'],\n",
      "      dtype=object), array([10, 10, 10, 10, 10, 10, 10, 10, 10, 10, 10, 10, 10, 10, 10, 10]))\n",
      "Vectorizing....  @ Thu Mar 10 15:37:24 2022\n",
      "Working on SGDClassifier @ Thu Mar 10 15:37:25 2022\n",
      "Working on LogisticRegression @ Thu Mar 10 15:37:26 2022\n",
      "Working on NaiveBayes @ Thu Mar 10 15:37:26 2022\n",
      "Working on KNN @ Thu Mar 10 15:37:26 2022\n",
      "Working on RandomForest @ Thu Mar 10 15:37:26 2022\n"
     ]
    },
    {
     "data": {
      "text/html": [
       "<div>\n",
       "<style scoped>\n",
       "    .dataframe tbody tr th:only-of-type {\n",
       "        vertical-align: middle;\n",
       "    }\n",
       "\n",
       "    .dataframe tbody tr th {\n",
       "        vertical-align: top;\n",
       "    }\n",
       "\n",
       "    .dataframe thead th {\n",
       "        text-align: right;\n",
       "    }\n",
       "</style>\n",
       "<table border=\"1\" class=\"dataframe\">\n",
       "  <thead>\n",
       "    <tr style=\"text-align: right;\">\n",
       "      <th></th>\n",
       "      <th>Model</th>\n",
       "      <th>Target</th>\n",
       "      <th>CVScore</th>\n",
       "      <th>TestAcc</th>\n",
       "    </tr>\n",
       "  </thead>\n",
       "  <tbody>\n",
       "    <tr>\n",
       "      <th>0</th>\n",
       "      <td>SGDClassifier_type</td>\n",
       "      <td>type</td>\n",
       "      <td>0.0841</td>\n",
       "      <td>0.1125</td>\n",
       "    </tr>\n",
       "    <tr>\n",
       "      <th>1</th>\n",
       "      <td>LogisticRegression_type</td>\n",
       "      <td>type</td>\n",
       "      <td>0.1379</td>\n",
       "      <td>0.1438</td>\n",
       "    </tr>\n",
       "    <tr>\n",
       "      <th>2</th>\n",
       "      <td>NaiveBayes_type</td>\n",
       "      <td>type</td>\n",
       "      <td>0.1422</td>\n",
       "      <td>0.1812</td>\n",
       "    </tr>\n",
       "    <tr>\n",
       "      <th>3</th>\n",
       "      <td>KNN_type</td>\n",
       "      <td>type</td>\n",
       "      <td>0.0904</td>\n",
       "      <td>0.0750</td>\n",
       "    </tr>\n",
       "    <tr>\n",
       "      <th>4</th>\n",
       "      <td>RandomForest_type</td>\n",
       "      <td>type</td>\n",
       "      <td>0.1121</td>\n",
       "      <td>0.1312</td>\n",
       "    </tr>\n",
       "  </tbody>\n",
       "</table>\n",
       "</div>"
      ],
      "text/plain": [
       "                     Model Target  CVScore  TestAcc\n",
       "0       SGDClassifier_type   type   0.0841   0.1125\n",
       "1  LogisticRegression_type   type   0.1379   0.1438\n",
       "2          NaiveBayes_type   type   0.1422   0.1812\n",
       "3                 KNN_type   type   0.0904   0.0750\n",
       "4        RandomForest_type   type   0.1121   0.1312"
      ]
     },
     "execution_count": 72,
     "metadata": {},
     "output_type": "execute_result"
    }
   ],
   "source": [
    "# Fitting and predicting multiclass models using BOW vectorization and Random Undersampling to balance classes\n",
    "multiclass_rus_cv = rm.run_usampled(cafe_clean, 'joined_tokens', ['type'], baseline_models_mc, models_table, tfidf=False, SEED=234)\n",
    "multiclass_rus_cv"
   ]
  },
  {
   "cell_type": "code",
   "execution_count": 73,
   "metadata": {},
   "outputs": [
    {
     "name": "stdout",
     "output_type": "stream",
     "text": [
      "Train: (array(['enfj', 'enfp', 'entj', 'entp', 'esfj', 'esfp', 'estj', 'estp',\n",
      "       'infj', 'infp', 'intj', 'intp', 'isfj', 'isfp', 'istj', 'istp'],\n",
      "      dtype=object), array([ 142,  506,  173,  514,   32,   36,   29,   67, 1102, 1373,  818,\n",
      "        978,  125,  203,  154,  253]))\n",
      "Train: (array(['enfj', 'enfp', 'entj', 'entp', 'esfj', 'esfp', 'estj', 'estp',\n",
      "       'infj', 'infp', 'intj', 'intp', 'isfj', 'isfp', 'istj', 'istp'],\n",
      "      dtype=object), array([29, 29, 29, 29, 29, 29, 29, 29, 29, 29, 29, 29, 29, 29, 29, 29]))\n",
      "Test: (array(['enfj', 'enfp', 'entj', 'entp', 'esfj', 'esfp', 'estj', 'estp',\n",
      "       'infj', 'infp', 'intj', 'intp', 'isfj', 'isfp', 'istj', 'istp'],\n",
      "      dtype=object), array([ 48, 169,  58, 171,  10,  12,  10,  22, 368, 458, 273, 326,  41,\n",
      "        68,  51,  84]))\n",
      "Test: (array(['enfj', 'enfp', 'entj', 'entp', 'esfj', 'esfp', 'estj', 'estp',\n",
      "       'infj', 'infp', 'intj', 'intp', 'isfj', 'isfp', 'istj', 'istp'],\n",
      "      dtype=object), array([10, 10, 10, 10, 10, 10, 10, 10, 10, 10, 10, 10, 10, 10, 10, 10]))\n",
      "Vectorizing....  @ Thu Mar 10 15:37:27 2022\n",
      "Working on SGDClassifier @ Thu Mar 10 15:37:28 2022\n",
      "Working on LogisticRegression @ Thu Mar 10 15:37:28 2022\n",
      "Working on NaiveBayes @ Thu Mar 10 15:37:31 2022\n",
      "Working on KNN @ Thu Mar 10 15:37:31 2022\n",
      "Working on RandomForest @ Thu Mar 10 15:37:31 2022\n"
     ]
    },
    {
     "data": {
      "text/html": [
       "<div>\n",
       "<style scoped>\n",
       "    .dataframe tbody tr th:only-of-type {\n",
       "        vertical-align: middle;\n",
       "    }\n",
       "\n",
       "    .dataframe tbody tr th {\n",
       "        vertical-align: top;\n",
       "    }\n",
       "\n",
       "    .dataframe thead th {\n",
       "        text-align: right;\n",
       "    }\n",
       "</style>\n",
       "<table border=\"1\" class=\"dataframe\">\n",
       "  <thead>\n",
       "    <tr style=\"text-align: right;\">\n",
       "      <th></th>\n",
       "      <th>Model</th>\n",
       "      <th>Target</th>\n",
       "      <th>CVScore</th>\n",
       "      <th>TestAcc</th>\n",
       "    </tr>\n",
       "  </thead>\n",
       "  <tbody>\n",
       "    <tr>\n",
       "      <th>0</th>\n",
       "      <td>SGDClassifier_type</td>\n",
       "      <td>type</td>\n",
       "      <td>0.0970</td>\n",
       "      <td>0.1375</td>\n",
       "    </tr>\n",
       "    <tr>\n",
       "      <th>1</th>\n",
       "      <td>LogisticRegression_type</td>\n",
       "      <td>type</td>\n",
       "      <td>0.0603</td>\n",
       "      <td>0.1250</td>\n",
       "    </tr>\n",
       "    <tr>\n",
       "      <th>2</th>\n",
       "      <td>NaiveBayes_type</td>\n",
       "      <td>type</td>\n",
       "      <td>0.1250</td>\n",
       "      <td>0.1812</td>\n",
       "    </tr>\n",
       "    <tr>\n",
       "      <th>3</th>\n",
       "      <td>KNN_type</td>\n",
       "      <td>type</td>\n",
       "      <td>0.0992</td>\n",
       "      <td>0.1188</td>\n",
       "    </tr>\n",
       "    <tr>\n",
       "      <th>4</th>\n",
       "      <td>RandomForest_type</td>\n",
       "      <td>type</td>\n",
       "      <td>0.1013</td>\n",
       "      <td>0.0812</td>\n",
       "    </tr>\n",
       "  </tbody>\n",
       "</table>\n",
       "</div>"
      ],
      "text/plain": [
       "                     Model Target  CVScore  TestAcc\n",
       "0       SGDClassifier_type   type   0.0970   0.1375\n",
       "1  LogisticRegression_type   type   0.0603   0.1250\n",
       "2          NaiveBayes_type   type   0.1250   0.1812\n",
       "3                 KNN_type   type   0.0992   0.1188\n",
       "4        RandomForest_type   type   0.1013   0.0812"
      ]
     },
     "execution_count": 73,
     "metadata": {},
     "output_type": "execute_result"
    }
   ],
   "source": [
    "# Fitting and predicting multiclass models using TF-IDF vectorization and Random Undersampling to balance classes\n",
    "multiclass_rus_tfidf = rm.run_usampled(cafe_clean, 'joined_tokens', ['type'], baseline_models_mc, models_table, tfidf=True, SEED=234)\n",
    "multiclass_rus_tfidf"
   ]
  },
  {
   "cell_type": "code",
   "execution_count": 74,
   "metadata": {},
   "outputs": [
    {
     "data": {
      "text/plain": [
       "(0.0, 1.0)"
      ]
     },
     "execution_count": 74,
     "metadata": {},
     "output_type": "execute_result"
    },
    {
     "data": {
      "image/png": "[encoded data removed]",
      "text/plain": [
       "<Figure size 1080x360 with 1 Axes>"
      ]
     },
     "metadata": {},
     "output_type": "display_data"
    }
   ],
   "source": [
    "# Plotting the Model accuracy compared to the majority class (Random UnderSampled)\n",
    "plt.figure(figsize=(15,5))\n",
    "plt.barh('model_accuracy', .1143)\n",
    "plt.barh('class balance', 1/16)\n",
    "plt.xlim(0, 1)"
   ]
  },
  {
   "cell_type": "code",
   "execution_count": 75,
   "metadata": {},
   "outputs": [
    {
     "data": {
      "text/html": [
       "<div>\n",
       "<style scoped>\n",
       "    .dataframe tbody tr th:only-of-type {\n",
       "        vertical-align: middle;\n",
       "    }\n",
       "\n",
       "    .dataframe tbody tr th {\n",
       "        vertical-align: top;\n",
       "    }\n",
       "\n",
       "    .dataframe thead th {\n",
       "        text-align: right;\n",
       "    }\n",
       "</style>\n",
       "<table border=\"1\" class=\"dataframe\">\n",
       "  <thead>\n",
       "    <tr style=\"text-align: right;\">\n",
       "      <th></th>\n",
       "      <th>Model</th>\n",
       "      <th>Target</th>\n",
       "      <th>CVScore</th>\n",
       "      <th>TestAcc</th>\n",
       "      <th>other</th>\n",
       "    </tr>\n",
       "  </thead>\n",
       "  <tbody>\n",
       "    <tr>\n",
       "      <th>0</th>\n",
       "      <td>SGDClassifier_type</td>\n",
       "      <td>type</td>\n",
       "      <td>0.3242</td>\n",
       "      <td>0.3255</td>\n",
       "      <td>countvec</td>\n",
       "    </tr>\n",
       "    <tr>\n",
       "      <th>1</th>\n",
       "      <td>LogisticRegression_type</td>\n",
       "      <td>type</td>\n",
       "      <td>0.3648</td>\n",
       "      <td>0.3877</td>\n",
       "      <td>countvec</td>\n",
       "    </tr>\n",
       "    <tr>\n",
       "      <th>2</th>\n",
       "      <td>NaiveBayes_type</td>\n",
       "      <td>type</td>\n",
       "      <td>0.3562</td>\n",
       "      <td>0.3790</td>\n",
       "      <td>countvec</td>\n",
       "    </tr>\n",
       "    <tr>\n",
       "      <th>3</th>\n",
       "      <td>KNN_type</td>\n",
       "      <td>type</td>\n",
       "      <td>0.2118</td>\n",
       "      <td>0.2213</td>\n",
       "      <td>countvec</td>\n",
       "    </tr>\n",
       "    <tr>\n",
       "      <th>4</th>\n",
       "      <td>RandomForest_type</td>\n",
       "      <td>type</td>\n",
       "      <td>0.2475</td>\n",
       "      <td>0.2430</td>\n",
       "      <td>countvec</td>\n",
       "    </tr>\n",
       "    <tr>\n",
       "      <th>0</th>\n",
       "      <td>SGDClassifier_type</td>\n",
       "      <td>type</td>\n",
       "      <td>0.3596</td>\n",
       "      <td>0.3831</td>\n",
       "      <td>tfidf</td>\n",
       "    </tr>\n",
       "    <tr>\n",
       "      <th>1</th>\n",
       "      <td>LogisticRegression_type</td>\n",
       "      <td>type</td>\n",
       "      <td>0.2111</td>\n",
       "      <td>0.2112</td>\n",
       "      <td>tfidf</td>\n",
       "    </tr>\n",
       "    <tr>\n",
       "      <th>2</th>\n",
       "      <td>NaiveBayes_type</td>\n",
       "      <td>type</td>\n",
       "      <td>0.2575</td>\n",
       "      <td>0.2725</td>\n",
       "      <td>tfidf</td>\n",
       "    </tr>\n",
       "    <tr>\n",
       "      <th>3</th>\n",
       "      <td>KNN_type</td>\n",
       "      <td>type</td>\n",
       "      <td>0.2486</td>\n",
       "      <td>0.2471</td>\n",
       "      <td>tfidf</td>\n",
       "    </tr>\n",
       "    <tr>\n",
       "      <th>4</th>\n",
       "      <td>RandomForest_type</td>\n",
       "      <td>type</td>\n",
       "      <td>0.2498</td>\n",
       "      <td>0.2582</td>\n",
       "      <td>tfidf</td>\n",
       "    </tr>\n",
       "    <tr>\n",
       "      <th>0</th>\n",
       "      <td>SGDClassifier_type</td>\n",
       "      <td>type</td>\n",
       "      <td>0.0841</td>\n",
       "      <td>0.1125</td>\n",
       "      <td>rus_countvec</td>\n",
       "    </tr>\n",
       "    <tr>\n",
       "      <th>1</th>\n",
       "      <td>LogisticRegression_type</td>\n",
       "      <td>type</td>\n",
       "      <td>0.1379</td>\n",
       "      <td>0.1438</td>\n",
       "      <td>rus_countvec</td>\n",
       "    </tr>\n",
       "    <tr>\n",
       "      <th>2</th>\n",
       "      <td>NaiveBayes_type</td>\n",
       "      <td>type</td>\n",
       "      <td>0.1422</td>\n",
       "      <td>0.1812</td>\n",
       "      <td>rus_countvec</td>\n",
       "    </tr>\n",
       "    <tr>\n",
       "      <th>3</th>\n",
       "      <td>KNN_type</td>\n",
       "      <td>type</td>\n",
       "      <td>0.0904</td>\n",
       "      <td>0.0750</td>\n",
       "      <td>rus_countvec</td>\n",
       "    </tr>\n",
       "    <tr>\n",
       "      <th>4</th>\n",
       "      <td>RandomForest_type</td>\n",
       "      <td>type</td>\n",
       "      <td>0.1121</td>\n",
       "      <td>0.1312</td>\n",
       "      <td>rus_countvec</td>\n",
       "    </tr>\n",
       "    <tr>\n",
       "      <th>0</th>\n",
       "      <td>SGDClassifier_type</td>\n",
       "      <td>type</td>\n",
       "      <td>0.0970</td>\n",
       "      <td>0.1375</td>\n",
       "      <td>rus_tfidf</td>\n",
       "    </tr>\n",
       "    <tr>\n",
       "      <th>1</th>\n",
       "      <td>LogisticRegression_type</td>\n",
       "      <td>type</td>\n",
       "      <td>0.0603</td>\n",
       "      <td>0.1250</td>\n",
       "      <td>rus_tfidf</td>\n",
       "    </tr>\n",
       "    <tr>\n",
       "      <th>2</th>\n",
       "      <td>NaiveBayes_type</td>\n",
       "      <td>type</td>\n",
       "      <td>0.1250</td>\n",
       "      <td>0.1812</td>\n",
       "      <td>rus_tfidf</td>\n",
       "    </tr>\n",
       "    <tr>\n",
       "      <th>3</th>\n",
       "      <td>KNN_type</td>\n",
       "      <td>type</td>\n",
       "      <td>0.0992</td>\n",
       "      <td>0.1188</td>\n",
       "      <td>rus_tfidf</td>\n",
       "    </tr>\n",
       "    <tr>\n",
       "      <th>4</th>\n",
       "      <td>RandomForest_type</td>\n",
       "      <td>type</td>\n",
       "      <td>0.1013</td>\n",
       "      <td>0.0812</td>\n",
       "      <td>rus_tfidf</td>\n",
       "    </tr>\n",
       "  </tbody>\n",
       "</table>\n",
       "</div>"
      ],
      "text/plain": [
       "                     Model Target  CVScore  TestAcc         other\n",
       "0       SGDClassifier_type   type   0.3242   0.3255      countvec\n",
       "1  LogisticRegression_type   type   0.3648   0.3877      countvec\n",
       "2          NaiveBayes_type   type   0.3562   0.3790      countvec\n",
       "3                 KNN_type   type   0.2118   0.2213      countvec\n",
       "4        RandomForest_type   type   0.2475   0.2430      countvec\n",
       "0       SGDClassifier_type   type   0.3596   0.3831         tfidf\n",
       "1  LogisticRegression_type   type   0.2111   0.2112         tfidf\n",
       "2          NaiveBayes_type   type   0.2575   0.2725         tfidf\n",
       "3                 KNN_type   type   0.2486   0.2471         tfidf\n",
       "4        RandomForest_type   type   0.2498   0.2582         tfidf\n",
       "0       SGDClassifier_type   type   0.0841   0.1125  rus_countvec\n",
       "1  LogisticRegression_type   type   0.1379   0.1438  rus_countvec\n",
       "2          NaiveBayes_type   type   0.1422   0.1812  rus_countvec\n",
       "3                 KNN_type   type   0.0904   0.0750  rus_countvec\n",
       "4        RandomForest_type   type   0.1121   0.1312  rus_countvec\n",
       "0       SGDClassifier_type   type   0.0970   0.1375     rus_tfidf\n",
       "1  LogisticRegression_type   type   0.0603   0.1250     rus_tfidf\n",
       "2          NaiveBayes_type   type   0.1250   0.1812     rus_tfidf\n",
       "3                 KNN_type   type   0.0992   0.1188     rus_tfidf\n",
       "4        RandomForest_type   type   0.1013   0.0812     rus_tfidf"
      ]
     },
     "execution_count": 75,
     "metadata": {},
     "output_type": "execute_result"
    }
   ],
   "source": [
    "# Concatenating final metric table of multiclass modeling\n",
    "\n",
    "multiclass_cv['other'] = 'countvec'\n",
    "multiclass_tfidf['other'] = 'tfidf'\n",
    "multiclass_rus_cv['other'] = 'rus_countvec'\n",
    "multiclass_rus_tfidf['other'] = 'rus_tfidf'\n",
    "\n",
    "\n",
    "base_mc = pd.concat([multiclass_cv, multiclass_tfidf, multiclass_rus_cv, multiclass_rus_tfidf])\n",
    "base_mc"
   ]
  },
  {
   "cell_type": "markdown",
   "metadata": {},
   "source": [
    "### Multiclass Undersampled Models Results\n",
    "The largest class is `infp` of 21%. The models are not performing at a useful level, however there is reason to believe that the models are finding some distinction in word usage between the different MBTI types.\n",
    "\n",
    "---"
   ]
  },
  {
   "cell_type": "code",
   "execution_count": 76,
   "metadata": {},
   "outputs": [],
   "source": [
    "# Creating Dictionary of Baseline Classifiers for an interative model fitting approach\n",
    "baseline_models_bin = {'SGDClassifier': SGDClassifier(class_weight='balanced', random_state=SEED, loss=\"modified_huber\"),\n",
    "\n",
    "                  'LogisticRegression': LogisticRegression(n_jobs=1, C=.001, max_iter=500),\n",
    "\n",
    "                  'NaiveBayes': MultinomialNB(),\n",
    "               \n",
    "                  'KNN': KNeighborsClassifier(n_neighbors=2),\n",
    "               \n",
    "                  'RandomForest': RandomForestClassifier(max_depth=8, random_state=SEED)\n",
    "               }"
   ]
  },
  {
   "cell_type": "code",
   "execution_count": 77,
   "metadata": {},
   "outputs": [
    {
     "data": {
      "text/plain": [
       "['i/e', 'n/s', 't/f', 'p/j']"
      ]
     },
     "execution_count": 77,
     "metadata": {},
     "output_type": "execute_result"
    }
   ],
   "source": [
    "# Creating a list of the binary targets for interations\n",
    "bin_targets = ['i/e', 'n/s', 't/f', 'p/j']\n",
    "bin_targets"
   ]
  },
  {
   "cell_type": "code",
   "execution_count": 78,
   "metadata": {},
   "outputs": [
    {
     "name": "stdout",
     "output_type": "stream",
     "text": [
      "--------------------\n",
      "i/e, target balance: \n",
      "i    0.769562\n",
      "e    0.230438\n",
      "Name: i/e, dtype: float64\n",
      "Vectorizing....  @ Thu Mar 10 15:37:33 2022\n",
      "Working on SGDClassifier for i/e @ Thu Mar 10 15:37:44 2022\n",
      "Working on LogisticRegression for i/e @ Thu Mar 10 15:37:46 2022\n",
      "Working on NaiveBayes for i/e @ Thu Mar 10 15:37:54 2022\n",
      "Working on KNN for i/e @ Thu Mar 10 15:37:55 2022\n",
      "Working on RandomForest for i/e @ Thu Mar 10 15:38:03 2022\n",
      "--------------------\n",
      "n/s, target balance: \n",
      "n    0.861952\n",
      "s    0.138048\n",
      "Name: n/s, dtype: float64\n",
      "Vectorizing....  @ Thu Mar 10 15:38:07 2022\n",
      "Working on SGDClassifier for n/s @ Thu Mar 10 15:38:19 2022\n",
      "Working on LogisticRegression for n/s @ Thu Mar 10 15:38:20 2022\n",
      "Working on NaiveBayes for n/s @ Thu Mar 10 15:38:23 2022\n",
      "Working on KNN for n/s @ Thu Mar 10 15:38:23 2022\n",
      "Working on RandomForest for n/s @ Thu Mar 10 15:38:31 2022\n",
      "--------------------\n",
      "t/f, target balance: \n",
      "f    0.540968\n",
      "t    0.459032\n",
      "Name: t/f, dtype: float64\n",
      "Vectorizing....  @ Thu Mar 10 15:38:35 2022\n",
      "Working on SGDClassifier for t/f @ Thu Mar 10 15:38:50 2022\n",
      "Working on LogisticRegression for t/f @ Thu Mar 10 15:38:52 2022\n",
      "Working on NaiveBayes for t/f @ Thu Mar 10 15:38:55 2022\n",
      "Working on KNN for t/f @ Thu Mar 10 15:38:55 2022\n",
      "Working on RandomForest for t/f @ Thu Mar 10 15:39:04 2022\n",
      "--------------------\n",
      "p/j, target balance: \n",
      "p    0.604151\n",
      "j    0.395849\n",
      "Name: p/j, dtype: float64\n",
      "Vectorizing....  @ Thu Mar 10 15:39:10 2022\n",
      "Working on SGDClassifier for p/j @ Thu Mar 10 15:39:31 2022\n",
      "Working on LogisticRegression for p/j @ Thu Mar 10 15:39:34 2022\n",
      "Working on NaiveBayes for p/j @ Thu Mar 10 15:39:42 2022\n",
      "Working on KNN for p/j @ Thu Mar 10 15:39:43 2022\n",
      "Working on RandomForest for p/j @ Thu Mar 10 15:39:54 2022\n"
     ]
    },
    {
     "data": {
      "text/html": [
       "<div>\n",
       "<style scoped>\n",
       "    .dataframe tbody tr th:only-of-type {\n",
       "        vertical-align: middle;\n",
       "    }\n",
       "\n",
       "    .dataframe tbody tr th {\n",
       "        vertical-align: top;\n",
       "    }\n",
       "\n",
       "    .dataframe thead th {\n",
       "        text-align: right;\n",
       "    }\n",
       "</style>\n",
       "<table border=\"1\" class=\"dataframe\">\n",
       "  <thead>\n",
       "    <tr style=\"text-align: right;\">\n",
       "      <th></th>\n",
       "      <th>Model</th>\n",
       "      <th>Target</th>\n",
       "      <th>CVScore</th>\n",
       "      <th>TestAcc</th>\n",
       "    </tr>\n",
       "  </thead>\n",
       "  <tbody>\n",
       "    <tr>\n",
       "      <th>0</th>\n",
       "      <td>SGDClassifier_i/e</td>\n",
       "      <td>i/e</td>\n",
       "      <td>0.7264</td>\n",
       "      <td>0.7418</td>\n",
       "    </tr>\n",
       "    <tr>\n",
       "      <th>1</th>\n",
       "      <td>LogisticRegression_i/e</td>\n",
       "      <td>i/e</td>\n",
       "      <td>0.7794</td>\n",
       "      <td>0.7824</td>\n",
       "    </tr>\n",
       "    <tr>\n",
       "      <th>2</th>\n",
       "      <td>NaiveBayes_i/e</td>\n",
       "      <td>i/e</td>\n",
       "      <td>0.7348</td>\n",
       "      <td>0.7340</td>\n",
       "    </tr>\n",
       "    <tr>\n",
       "      <th>3</th>\n",
       "      <td>KNN_i/e</td>\n",
       "      <td>i/e</td>\n",
       "      <td>0.6031</td>\n",
       "      <td>0.5970</td>\n",
       "    </tr>\n",
       "    <tr>\n",
       "      <th>4</th>\n",
       "      <td>RandomForest_i/e</td>\n",
       "      <td>i/e</td>\n",
       "      <td>0.7696</td>\n",
       "      <td>0.7695</td>\n",
       "    </tr>\n",
       "    <tr>\n",
       "      <th>5</th>\n",
       "      <td>SGDClassifier_n/s</td>\n",
       "      <td>n/s</td>\n",
       "      <td>0.8357</td>\n",
       "      <td>0.8303</td>\n",
       "    </tr>\n",
       "    <tr>\n",
       "      <th>6</th>\n",
       "      <td>LogisticRegression_n/s</td>\n",
       "      <td>n/s</td>\n",
       "      <td>0.8632</td>\n",
       "      <td>0.8631</td>\n",
       "    </tr>\n",
       "    <tr>\n",
       "      <th>7</th>\n",
       "      <td>NaiveBayes_n/s</td>\n",
       "      <td>n/s</td>\n",
       "      <td>0.8303</td>\n",
       "      <td>0.8276</td>\n",
       "    </tr>\n",
       "    <tr>\n",
       "      <th>8</th>\n",
       "      <td>KNN_n/s</td>\n",
       "      <td>n/s</td>\n",
       "      <td>0.8264</td>\n",
       "      <td>0.8373</td>\n",
       "    </tr>\n",
       "    <tr>\n",
       "      <th>9</th>\n",
       "      <td>RandomForest_n/s</td>\n",
       "      <td>n/s</td>\n",
       "      <td>0.8620</td>\n",
       "      <td>0.8621</td>\n",
       "    </tr>\n",
       "    <tr>\n",
       "      <th>10</th>\n",
       "      <td>SGDClassifier_t/f</td>\n",
       "      <td>t/f</td>\n",
       "      <td>0.7499</td>\n",
       "      <td>0.7478</td>\n",
       "    </tr>\n",
       "    <tr>\n",
       "      <th>11</th>\n",
       "      <td>LogisticRegression_t/f</td>\n",
       "      <td>t/f</td>\n",
       "      <td>0.7726</td>\n",
       "      <td>0.7953</td>\n",
       "    </tr>\n",
       "    <tr>\n",
       "      <th>12</th>\n",
       "      <td>NaiveBayes_t/f</td>\n",
       "      <td>t/f</td>\n",
       "      <td>0.7659</td>\n",
       "      <td>0.7667</td>\n",
       "    </tr>\n",
       "    <tr>\n",
       "      <th>13</th>\n",
       "      <td>KNN_t/f</td>\n",
       "      <td>t/f</td>\n",
       "      <td>0.5705</td>\n",
       "      <td>0.5662</td>\n",
       "    </tr>\n",
       "    <tr>\n",
       "      <th>14</th>\n",
       "      <td>RandomForest_t/f</td>\n",
       "      <td>t/f</td>\n",
       "      <td>0.6889</td>\n",
       "      <td>0.6980</td>\n",
       "    </tr>\n",
       "    <tr>\n",
       "      <th>15</th>\n",
       "      <td>SGDClassifier_p/j</td>\n",
       "      <td>p/j</td>\n",
       "      <td>0.6251</td>\n",
       "      <td>0.6243</td>\n",
       "    </tr>\n",
       "    <tr>\n",
       "      <th>16</th>\n",
       "      <td>LogisticRegression_p/j</td>\n",
       "      <td>p/j</td>\n",
       "      <td>0.6664</td>\n",
       "      <td>0.6713</td>\n",
       "    </tr>\n",
       "    <tr>\n",
       "      <th>17</th>\n",
       "      <td>NaiveBayes_p/j</td>\n",
       "      <td>p/j</td>\n",
       "      <td>0.6455</td>\n",
       "      <td>0.6372</td>\n",
       "    </tr>\n",
       "    <tr>\n",
       "      <th>18</th>\n",
       "      <td>KNN_p/j</td>\n",
       "      <td>p/j</td>\n",
       "      <td>0.5051</td>\n",
       "      <td>0.5025</td>\n",
       "    </tr>\n",
       "    <tr>\n",
       "      <th>19</th>\n",
       "      <td>RandomForest_p/j</td>\n",
       "      <td>p/j</td>\n",
       "      <td>0.6046</td>\n",
       "      <td>0.6040</td>\n",
       "    </tr>\n",
       "  </tbody>\n",
       "</table>\n",
       "</div>"
      ],
      "text/plain": [
       "                     Model Target  CVScore  TestAcc\n",
       "0        SGDClassifier_i/e    i/e   0.7264   0.7418\n",
       "1   LogisticRegression_i/e    i/e   0.7794   0.7824\n",
       "2           NaiveBayes_i/e    i/e   0.7348   0.7340\n",
       "3                  KNN_i/e    i/e   0.6031   0.5970\n",
       "4         RandomForest_i/e    i/e   0.7696   0.7695\n",
       "5        SGDClassifier_n/s    n/s   0.8357   0.8303\n",
       "6   LogisticRegression_n/s    n/s   0.8632   0.8631\n",
       "7           NaiveBayes_n/s    n/s   0.8303   0.8276\n",
       "8                  KNN_n/s    n/s   0.8264   0.8373\n",
       "9         RandomForest_n/s    n/s   0.8620   0.8621\n",
       "10       SGDClassifier_t/f    t/f   0.7499   0.7478\n",
       "11  LogisticRegression_t/f    t/f   0.7726   0.7953\n",
       "12          NaiveBayes_t/f    t/f   0.7659   0.7667\n",
       "13                 KNN_t/f    t/f   0.5705   0.5662\n",
       "14        RandomForest_t/f    t/f   0.6889   0.6980\n",
       "15       SGDClassifier_p/j    p/j   0.6251   0.6243\n",
       "16  LogisticRegression_p/j    p/j   0.6664   0.6713\n",
       "17          NaiveBayes_p/j    p/j   0.6455   0.6372\n",
       "18                 KNN_p/j    p/j   0.5051   0.5025\n",
       "19        RandomForest_p/j    p/j   0.6046   0.6040"
      ]
     },
     "execution_count": 78,
     "metadata": {},
     "output_type": "execute_result"
    }
   ],
   "source": [
    "# Fitting and predicting binary models using BOW vectorization\n",
    "bin_cv = rm.run(cafe_clean, 'joined_tokens', bin_targets, baseline_models_bin, models_table, tfidf=False, SEED=SEED)\n",
    "bin_cv"
   ]
  },
  {
   "cell_type": "code",
   "execution_count": 79,
   "metadata": {},
   "outputs": [
    {
     "name": "stdout",
     "output_type": "stream",
     "text": [
      "--------------------\n",
      "i/e, target balance: \n",
      "i    0.769562\n",
      "e    0.230438\n",
      "Name: i/e, dtype: float64\n",
      "Vectorizing....  @ Thu Mar 10 15:40:04 2022\n",
      "Working on SGDClassifier for i/e @ Thu Mar 10 15:40:21 2022\n",
      "Working on LogisticRegression for i/e @ Thu Mar 10 15:40:22 2022\n",
      "Working on NaiveBayes for i/e @ Thu Mar 10 15:40:22 2022\n",
      "Working on KNN for i/e @ Thu Mar 10 15:40:23 2022\n",
      "Working on RandomForest for i/e @ Thu Mar 10 15:40:35 2022\n",
      "--------------------\n",
      "n/s, target balance: \n",
      "n    0.861952\n",
      "s    0.138048\n",
      "Name: n/s, dtype: float64\n",
      "Vectorizing....  @ Thu Mar 10 15:40:46 2022\n",
      "Working on SGDClassifier for n/s @ Thu Mar 10 15:41:00 2022\n",
      "Working on LogisticRegression for n/s @ Thu Mar 10 15:41:01 2022\n",
      "Working on NaiveBayes for n/s @ Thu Mar 10 15:41:03 2022\n",
      "Working on KNN for n/s @ Thu Mar 10 15:41:03 2022\n",
      "Working on RandomForest for n/s @ Thu Mar 10 15:41:12 2022\n",
      "--------------------\n",
      "t/f, target balance: \n",
      "f    0.540968\n",
      "t    0.459032\n",
      "Name: t/f, dtype: float64\n",
      "Vectorizing....  @ Thu Mar 10 15:41:20 2022\n",
      "Working on SGDClassifier for t/f @ Thu Mar 10 15:41:36 2022\n",
      "Working on LogisticRegression for t/f @ Thu Mar 10 15:41:36 2022\n",
      "Working on NaiveBayes for t/f @ Thu Mar 10 15:41:38 2022\n",
      "Working on KNN for t/f @ Thu Mar 10 15:41:38 2022\n",
      "Working on RandomForest for t/f @ Thu Mar 10 15:41:49 2022\n",
      "--------------------\n",
      "p/j, target balance: \n",
      "p    0.604151\n",
      "j    0.395849\n",
      "Name: p/j, dtype: float64\n",
      "Vectorizing....  @ Thu Mar 10 15:42:00 2022\n",
      "Working on SGDClassifier for p/j @ Thu Mar 10 15:42:13 2022\n",
      "Working on LogisticRegression for p/j @ Thu Mar 10 15:42:14 2022\n",
      "Working on NaiveBayes for p/j @ Thu Mar 10 15:42:15 2022\n",
      "Working on KNN for p/j @ Thu Mar 10 15:42:15 2022\n",
      "Working on RandomForest for p/j @ Thu Mar 10 15:42:24 2022\n"
     ]
    },
    {
     "data": {
      "text/html": [
       "<div>\n",
       "<style scoped>\n",
       "    .dataframe tbody tr th:only-of-type {\n",
       "        vertical-align: middle;\n",
       "    }\n",
       "\n",
       "    .dataframe tbody tr th {\n",
       "        vertical-align: top;\n",
       "    }\n",
       "\n",
       "    .dataframe thead th {\n",
       "        text-align: right;\n",
       "    }\n",
       "</style>\n",
       "<table border=\"1\" class=\"dataframe\">\n",
       "  <thead>\n",
       "    <tr style=\"text-align: right;\">\n",
       "      <th></th>\n",
       "      <th>Model</th>\n",
       "      <th>Target</th>\n",
       "      <th>CVScore</th>\n",
       "      <th>TestAcc</th>\n",
       "    </tr>\n",
       "  </thead>\n",
       "  <tbody>\n",
       "    <tr>\n",
       "      <th>0</th>\n",
       "      <td>SGDClassifier_i/e</td>\n",
       "      <td>i/e</td>\n",
       "      <td>0.7437</td>\n",
       "      <td>0.7298</td>\n",
       "    </tr>\n",
       "    <tr>\n",
       "      <th>1</th>\n",
       "      <td>LogisticRegression_i/e</td>\n",
       "      <td>i/e</td>\n",
       "      <td>0.7696</td>\n",
       "      <td>0.7695</td>\n",
       "    </tr>\n",
       "    <tr>\n",
       "      <th>2</th>\n",
       "      <td>NaiveBayes_i/e</td>\n",
       "      <td>i/e</td>\n",
       "      <td>0.7696</td>\n",
       "      <td>0.7695</td>\n",
       "    </tr>\n",
       "    <tr>\n",
       "      <th>3</th>\n",
       "      <td>KNN_i/e</td>\n",
       "      <td>i/e</td>\n",
       "      <td>0.5789</td>\n",
       "      <td>0.5726</td>\n",
       "    </tr>\n",
       "    <tr>\n",
       "      <th>4</th>\n",
       "      <td>RandomForest_i/e</td>\n",
       "      <td>i/e</td>\n",
       "      <td>0.7696</td>\n",
       "      <td>0.7695</td>\n",
       "    </tr>\n",
       "    <tr>\n",
       "      <th>5</th>\n",
       "      <td>SGDClassifier_n/s</td>\n",
       "      <td>n/s</td>\n",
       "      <td>0.8304</td>\n",
       "      <td>0.8091</td>\n",
       "    </tr>\n",
       "    <tr>\n",
       "      <th>6</th>\n",
       "      <td>LogisticRegression_n/s</td>\n",
       "      <td>n/s</td>\n",
       "      <td>0.8620</td>\n",
       "      <td>0.8621</td>\n",
       "    </tr>\n",
       "    <tr>\n",
       "      <th>7</th>\n",
       "      <td>NaiveBayes_n/s</td>\n",
       "      <td>n/s</td>\n",
       "      <td>0.8620</td>\n",
       "      <td>0.8621</td>\n",
       "    </tr>\n",
       "    <tr>\n",
       "      <th>8</th>\n",
       "      <td>KNN_n/s</td>\n",
       "      <td>n/s</td>\n",
       "      <td>0.8457</td>\n",
       "      <td>0.8479</td>\n",
       "    </tr>\n",
       "    <tr>\n",
       "      <th>9</th>\n",
       "      <td>RandomForest_n/s</td>\n",
       "      <td>n/s</td>\n",
       "      <td>0.8620</td>\n",
       "      <td>0.8621</td>\n",
       "    </tr>\n",
       "    <tr>\n",
       "      <th>10</th>\n",
       "      <td>SGDClassifier_t/f</td>\n",
       "      <td>t/f</td>\n",
       "      <td>0.7623</td>\n",
       "      <td>0.7718</td>\n",
       "    </tr>\n",
       "    <tr>\n",
       "      <th>11</th>\n",
       "      <td>LogisticRegression_t/f</td>\n",
       "      <td>t/f</td>\n",
       "      <td>0.5410</td>\n",
       "      <td>0.5413</td>\n",
       "    </tr>\n",
       "    <tr>\n",
       "      <th>12</th>\n",
       "      <td>NaiveBayes_t/f</td>\n",
       "      <td>t/f</td>\n",
       "      <td>0.7531</td>\n",
       "      <td>0.7556</td>\n",
       "    </tr>\n",
       "    <tr>\n",
       "      <th>13</th>\n",
       "      <td>KNN_t/f</td>\n",
       "      <td>t/f</td>\n",
       "      <td>0.5831</td>\n",
       "      <td>0.5823</td>\n",
       "    </tr>\n",
       "    <tr>\n",
       "      <th>14</th>\n",
       "      <td>RandomForest_t/f</td>\n",
       "      <td>t/f</td>\n",
       "      <td>0.6919</td>\n",
       "      <td>0.7095</td>\n",
       "    </tr>\n",
       "    <tr>\n",
       "      <th>15</th>\n",
       "      <td>SGDClassifier_p/j</td>\n",
       "      <td>p/j</td>\n",
       "      <td>0.6389</td>\n",
       "      <td>0.6376</td>\n",
       "    </tr>\n",
       "    <tr>\n",
       "      <th>16</th>\n",
       "      <td>LogisticRegression_p/j</td>\n",
       "      <td>p/j</td>\n",
       "      <td>0.6042</td>\n",
       "      <td>0.6040</td>\n",
       "    </tr>\n",
       "    <tr>\n",
       "      <th>17</th>\n",
       "      <td>NaiveBayes_p/j</td>\n",
       "      <td>p/j</td>\n",
       "      <td>0.6184</td>\n",
       "      <td>0.6173</td>\n",
       "    </tr>\n",
       "    <tr>\n",
       "      <th>18</th>\n",
       "      <td>KNN_p/j</td>\n",
       "      <td>p/j</td>\n",
       "      <td>0.4978</td>\n",
       "      <td>0.4942</td>\n",
       "    </tr>\n",
       "    <tr>\n",
       "      <th>19</th>\n",
       "      <td>RandomForest_p/j</td>\n",
       "      <td>p/j</td>\n",
       "      <td>0.6043</td>\n",
       "      <td>0.6044</td>\n",
       "    </tr>\n",
       "  </tbody>\n",
       "</table>\n",
       "</div>"
      ],
      "text/plain": [
       "                     Model Target  CVScore  TestAcc\n",
       "0        SGDClassifier_i/e    i/e   0.7437   0.7298\n",
       "1   LogisticRegression_i/e    i/e   0.7696   0.7695\n",
       "2           NaiveBayes_i/e    i/e   0.7696   0.7695\n",
       "3                  KNN_i/e    i/e   0.5789   0.5726\n",
       "4         RandomForest_i/e    i/e   0.7696   0.7695\n",
       "5        SGDClassifier_n/s    n/s   0.8304   0.8091\n",
       "6   LogisticRegression_n/s    n/s   0.8620   0.8621\n",
       "7           NaiveBayes_n/s    n/s   0.8620   0.8621\n",
       "8                  KNN_n/s    n/s   0.8457   0.8479\n",
       "9         RandomForest_n/s    n/s   0.8620   0.8621\n",
       "10       SGDClassifier_t/f    t/f   0.7623   0.7718\n",
       "11  LogisticRegression_t/f    t/f   0.5410   0.5413\n",
       "12          NaiveBayes_t/f    t/f   0.7531   0.7556\n",
       "13                 KNN_t/f    t/f   0.5831   0.5823\n",
       "14        RandomForest_t/f    t/f   0.6919   0.7095\n",
       "15       SGDClassifier_p/j    p/j   0.6389   0.6376\n",
       "16  LogisticRegression_p/j    p/j   0.6042   0.6040\n",
       "17          NaiveBayes_p/j    p/j   0.6184   0.6173\n",
       "18                 KNN_p/j    p/j   0.4978   0.4942\n",
       "19        RandomForest_p/j    p/j   0.6043   0.6044"
      ]
     },
     "execution_count": 79,
     "metadata": {},
     "output_type": "execute_result"
    }
   ],
   "source": [
    "# Fitting and predicting multiclass models using TF-IDF vectorization\n",
    "bin_tfidf = rm.run(cafe_clean, 'joined_tokens', bin_targets, baseline_models_bin, models_table, tfidf=True, SEED=SEED)\n",
    "bin_tfidf"
   ]
  },
  {
   "cell_type": "code",
   "execution_count": 80,
   "metadata": {},
   "outputs": [
    {
     "name": "stdout",
     "output_type": "stream",
     "text": [
      "Accuracy increase from class balance in i/e is: 0.01\n",
      "Accuracy increase from class balance in n/s is: -0.01\n",
      "Accuracy increase from class balance in t/f is: 0.25\n",
      "Accuracy increase from class balance in p/j is: 0.08\n"
     ]
    },
    {
     "data": {
      "image/png": "[encoded data removed]",
      "text/plain": [
       "<Figure size 1080x720 with 4 Axes>"
      ]
     },
     "metadata": {},
     "output_type": "display_data"
    },
    {
     "data": {
      "image/png": "[encoded data removed]",
      "text/plain": [
       "<Figure size 720x504 with 1 Axes>"
      ]
     },
     "metadata": {},
     "output_type": "display_data"
    }
   ],
   "source": [
    "# Plotting the Model accuracy compared to the majority class\n",
    "fig, axs = plt.subplots(2, 2, figsize=(15,10), sharex=True)\n",
    "axs[0, 0].barh('accuracy', .78)\n",
    "axs[0, 0].barh(cafe_clean['i/e'].value_counts(normalize=True).index, cafe_clean['i/e'].value_counts(normalize=True).values)\n",
    "\n",
    "axs[0,1].barh('accuracy', .85)\n",
    "axs[0,1].barh(cafe_clean['n/s'].value_counts(normalize=True).index, cafe_clean['n/s'].value_counts(normalize=True).values)\n",
    "\n",
    "axs[1,0].barh('accuracy', .79)\n",
    "axs[1,0].barh(cafe_clean['t/f'].value_counts(normalize=True).index, cafe_clean['t/f'].value_counts(normalize=True).values)\n",
    "\n",
    "axs[1,1].barh('accuracy', .68)\n",
    "axs[1,1].barh(cafe_clean['p/j'].value_counts(normalize=True).index, cafe_clean['p/j'].value_counts(normalize=True).values)\n",
    "\n",
    "acc = [.78, .85, .79, .68]\n",
    "plt.figure(figsize=(10,7))\n",
    "plt.title('Accuracy Minus Highest Class Weight')\n",
    "for i, target in enumerate(bin_targets):\n",
    "    increase = round(acc[i] - cafe_clean[target].value_counts(normalize=True)[0], 2)\n",
    "    print(f'Accuracy increase from class balance in {target} is: {increase}')\n",
    "    plt.bar(target, increase)\n",
    "plt.show();\n"
   ]
  },
  {
   "cell_type": "markdown",
   "metadata": {},
   "source": [
    "#### Binary Models Results\n",
    "The largest class is `infp` of 21%. The models are not performing at a useful level, however there is reason to believe that the models are finding some distinction in word usage between the different MBTI types.\n",
    "\n",
    "---"
   ]
  },
  {
   "cell_type": "code",
   "execution_count": 81,
   "metadata": {},
   "outputs": [
    {
     "name": "stdout",
     "output_type": "stream",
     "text": [
      "Train: (array(['e', 'i'], dtype=object), array([1499, 5006]))\n",
      "Train: (array(['e', 'i'], dtype=object), array([1499, 1499]))\n",
      "Test: (array(['e', 'i'], dtype=object), array([ 500, 1669]))\n",
      "Test: (array(['e', 'i'], dtype=object), array([500, 500]))\n",
      "Vectorizing....  @ Thu Mar 10 15:42:35 2022\n",
      "Working on SGDClassifier @ Thu Mar 10 15:42:40 2022\n",
      "Working on LogisticRegression @ Thu Mar 10 15:42:40 2022\n",
      "Working on NaiveBayes @ Thu Mar 10 15:42:42 2022\n",
      "Working on KNN @ Thu Mar 10 15:42:42 2022\n",
      "Working on RandomForest @ Thu Mar 10 15:42:43 2022\n",
      "Train: (array(['n', 's'], dtype=object), array([5607,  898]))\n",
      "Train: (array(['n', 's'], dtype=object), array([898, 898]))\n",
      "Test: (array(['n', 's'], dtype=object), array([1870,  299]))\n",
      "Test: (array(['n', 's'], dtype=object), array([299, 299]))\n",
      "Vectorizing....  @ Thu Mar 10 15:42:47 2022\n",
      "Working on SGDClassifier @ Thu Mar 10 15:42:50 2022\n",
      "Working on LogisticRegression @ Thu Mar 10 15:42:50 2022\n",
      "Working on NaiveBayes @ Thu Mar 10 15:42:50 2022\n",
      "Working on KNN @ Thu Mar 10 15:42:50 2022\n",
      "Working on RandomForest @ Thu Mar 10 15:42:51 2022\n",
      "Train: (array(['f', 't'], dtype=object), array([3519, 2986]))\n",
      "Train: (array(['f', 't'], dtype=object), array([2986, 2986]))\n",
      "Test: (array(['f', 't'], dtype=object), array([1174,  995]))\n",
      "Test: (array(['f', 't'], dtype=object), array([995, 995]))\n",
      "Vectorizing....  @ Thu Mar 10 15:42:53 2022\n",
      "Working on SGDClassifier @ Thu Mar 10 15:43:03 2022\n",
      "Working on LogisticRegression @ Thu Mar 10 15:43:04 2022\n",
      "Working on NaiveBayes @ Thu Mar 10 15:43:06 2022\n",
      "Working on KNN @ Thu Mar 10 15:43:06 2022\n",
      "Working on RandomForest @ Thu Mar 10 15:43:13 2022\n",
      "Train: (array(['j', 'p'], dtype=object), array([2575, 3930]))\n",
      "Train: (array(['j', 'p'], dtype=object), array([2575, 2575]))\n",
      "Test: (array(['j', 'p'], dtype=object), array([ 859, 1310]))\n",
      "Test: (array(['j', 'p'], dtype=object), array([859, 859]))\n",
      "Vectorizing....  @ Thu Mar 10 15:43:19 2022\n",
      "Working on SGDClassifier @ Thu Mar 10 15:43:29 2022\n",
      "Working on LogisticRegression @ Thu Mar 10 15:43:30 2022\n",
      "Working on NaiveBayes @ Thu Mar 10 15:43:32 2022\n",
      "Working on KNN @ Thu Mar 10 15:43:32 2022\n",
      "Working on RandomForest @ Thu Mar 10 15:43:39 2022\n"
     ]
    },
    {
     "data": {
      "text/html": [
       "<div>\n",
       "<style scoped>\n",
       "    .dataframe tbody tr th:only-of-type {\n",
       "        vertical-align: middle;\n",
       "    }\n",
       "\n",
       "    .dataframe tbody tr th {\n",
       "        vertical-align: top;\n",
       "    }\n",
       "\n",
       "    .dataframe thead th {\n",
       "        text-align: right;\n",
       "    }\n",
       "</style>\n",
       "<table border=\"1\" class=\"dataframe\">\n",
       "  <thead>\n",
       "    <tr style=\"text-align: right;\">\n",
       "      <th></th>\n",
       "      <th>Model</th>\n",
       "      <th>Target</th>\n",
       "      <th>CVScore</th>\n",
       "      <th>TestAcc</th>\n",
       "    </tr>\n",
       "  </thead>\n",
       "  <tbody>\n",
       "    <tr>\n",
       "      <th>0</th>\n",
       "      <td>SGDClassifier_i/e</td>\n",
       "      <td>i/e</td>\n",
       "      <td>0.6231</td>\n",
       "      <td>0.6440</td>\n",
       "    </tr>\n",
       "    <tr>\n",
       "      <th>1</th>\n",
       "      <td>LogisticRegression_i/e</td>\n",
       "      <td>i/e</td>\n",
       "      <td>0.6638</td>\n",
       "      <td>0.6590</td>\n",
       "    </tr>\n",
       "    <tr>\n",
       "      <th>2</th>\n",
       "      <td>NaiveBayes_i/e</td>\n",
       "      <td>i/e</td>\n",
       "      <td>0.6784</td>\n",
       "      <td>0.6730</td>\n",
       "    </tr>\n",
       "    <tr>\n",
       "      <th>3</th>\n",
       "      <td>KNN_i/e</td>\n",
       "      <td>i/e</td>\n",
       "      <td>0.5290</td>\n",
       "      <td>0.5220</td>\n",
       "    </tr>\n",
       "    <tr>\n",
       "      <th>4</th>\n",
       "      <td>RandomForest_i/e</td>\n",
       "      <td>i/e</td>\n",
       "      <td>0.6341</td>\n",
       "      <td>0.6290</td>\n",
       "    </tr>\n",
       "    <tr>\n",
       "      <th>5</th>\n",
       "      <td>SGDClassifier_n/s</td>\n",
       "      <td>n/s</td>\n",
       "      <td>0.6225</td>\n",
       "      <td>0.6388</td>\n",
       "    </tr>\n",
       "    <tr>\n",
       "      <th>6</th>\n",
       "      <td>LogisticRegression_n/s</td>\n",
       "      <td>n/s</td>\n",
       "      <td>0.6598</td>\n",
       "      <td>0.6806</td>\n",
       "    </tr>\n",
       "    <tr>\n",
       "      <th>7</th>\n",
       "      <td>NaiveBayes_n/s</td>\n",
       "      <td>n/s</td>\n",
       "      <td>0.6743</td>\n",
       "      <td>0.6856</td>\n",
       "    </tr>\n",
       "    <tr>\n",
       "      <th>8</th>\n",
       "      <td>KNN_n/s</td>\n",
       "      <td>n/s</td>\n",
       "      <td>0.5551</td>\n",
       "      <td>0.5468</td>\n",
       "    </tr>\n",
       "    <tr>\n",
       "      <th>9</th>\n",
       "      <td>RandomForest_n/s</td>\n",
       "      <td>n/s</td>\n",
       "      <td>0.6136</td>\n",
       "      <td>0.6488</td>\n",
       "    </tr>\n",
       "    <tr>\n",
       "      <th>10</th>\n",
       "      <td>SGDClassifier_t/f</td>\n",
       "      <td>t/f</td>\n",
       "      <td>0.7535</td>\n",
       "      <td>0.7307</td>\n",
       "    </tr>\n",
       "    <tr>\n",
       "      <th>11</th>\n",
       "      <td>LogisticRegression_t/f</td>\n",
       "      <td>t/f</td>\n",
       "      <td>0.7714</td>\n",
       "      <td>0.7930</td>\n",
       "    </tr>\n",
       "    <tr>\n",
       "      <th>12</th>\n",
       "      <td>NaiveBayes_t/f</td>\n",
       "      <td>t/f</td>\n",
       "      <td>0.7649</td>\n",
       "      <td>0.7663</td>\n",
       "    </tr>\n",
       "    <tr>\n",
       "      <th>13</th>\n",
       "      <td>KNN_t/f</td>\n",
       "      <td>t/f</td>\n",
       "      <td>0.5504</td>\n",
       "      <td>0.5387</td>\n",
       "    </tr>\n",
       "    <tr>\n",
       "      <th>14</th>\n",
       "      <td>RandomForest_t/f</td>\n",
       "      <td>t/f</td>\n",
       "      <td>0.7279</td>\n",
       "      <td>0.7296</td>\n",
       "    </tr>\n",
       "    <tr>\n",
       "      <th>15</th>\n",
       "      <td>SGDClassifier_p/j</td>\n",
       "      <td>p/j</td>\n",
       "      <td>0.6095</td>\n",
       "      <td>0.6042</td>\n",
       "    </tr>\n",
       "    <tr>\n",
       "      <th>16</th>\n",
       "      <td>LogisticRegression_p/j</td>\n",
       "      <td>p/j</td>\n",
       "      <td>0.6439</td>\n",
       "      <td>0.6269</td>\n",
       "    </tr>\n",
       "    <tr>\n",
       "      <th>17</th>\n",
       "      <td>NaiveBayes_p/j</td>\n",
       "      <td>p/j</td>\n",
       "      <td>0.6367</td>\n",
       "      <td>0.6158</td>\n",
       "    </tr>\n",
       "    <tr>\n",
       "      <th>18</th>\n",
       "      <td>KNN_p/j</td>\n",
       "      <td>p/j</td>\n",
       "      <td>0.5151</td>\n",
       "      <td>0.5268</td>\n",
       "    </tr>\n",
       "    <tr>\n",
       "      <th>19</th>\n",
       "      <td>RandomForest_p/j</td>\n",
       "      <td>p/j</td>\n",
       "      <td>0.6124</td>\n",
       "      <td>0.6042</td>\n",
       "    </tr>\n",
       "  </tbody>\n",
       "</table>\n",
       "</div>"
      ],
      "text/plain": [
       "                     Model Target  CVScore  TestAcc\n",
       "0        SGDClassifier_i/e    i/e   0.6231   0.6440\n",
       "1   LogisticRegression_i/e    i/e   0.6638   0.6590\n",
       "2           NaiveBayes_i/e    i/e   0.6784   0.6730\n",
       "3                  KNN_i/e    i/e   0.5290   0.5220\n",
       "4         RandomForest_i/e    i/e   0.6341   0.6290\n",
       "5        SGDClassifier_n/s    n/s   0.6225   0.6388\n",
       "6   LogisticRegression_n/s    n/s   0.6598   0.6806\n",
       "7           NaiveBayes_n/s    n/s   0.6743   0.6856\n",
       "8                  KNN_n/s    n/s   0.5551   0.5468\n",
       "9         RandomForest_n/s    n/s   0.6136   0.6488\n",
       "10       SGDClassifier_t/f    t/f   0.7535   0.7307\n",
       "11  LogisticRegression_t/f    t/f   0.7714   0.7930\n",
       "12          NaiveBayes_t/f    t/f   0.7649   0.7663\n",
       "13                 KNN_t/f    t/f   0.5504   0.5387\n",
       "14        RandomForest_t/f    t/f   0.7279   0.7296\n",
       "15       SGDClassifier_p/j    p/j   0.6095   0.6042\n",
       "16  LogisticRegression_p/j    p/j   0.6439   0.6269\n",
       "17          NaiveBayes_p/j    p/j   0.6367   0.6158\n",
       "18                 KNN_p/j    p/j   0.5151   0.5268\n",
       "19        RandomForest_p/j    p/j   0.6124   0.6042"
      ]
     },
     "execution_count": 81,
     "metadata": {},
     "output_type": "execute_result"
    }
   ],
   "source": [
    "# Fitting and predicting multiclass models using BOW vectorization and Random Undersampling to balance classes\n",
    "bin_rus_cv = rm.run_usampled(cafe_clean, 'joined_tokens', bin_targets, baseline_models_bin, models_table, tfidf=False, SEED=SEED)\n",
    "bin_rus_cv"
   ]
  },
  {
   "cell_type": "code",
   "execution_count": 82,
   "metadata": {},
   "outputs": [
    {
     "name": "stdout",
     "output_type": "stream",
     "text": [
      "Train: (array(['e', 'i'], dtype=object), array([1499, 5006]))\n",
      "Train: (array(['e', 'i'], dtype=object), array([1499, 1499]))\n",
      "Test: (array(['e', 'i'], dtype=object), array([ 500, 1669]))\n",
      "Test: (array(['e', 'i'], dtype=object), array([500, 500]))\n",
      "Vectorizing....  @ Thu Mar 10 15:43:46 2022\n",
      "Working on SGDClassifier @ Thu Mar 10 15:43:51 2022\n",
      "Working on LogisticRegression @ Thu Mar 10 15:43:51 2022\n",
      "Working on NaiveBayes @ Thu Mar 10 15:43:51 2022\n",
      "Working on KNN @ Thu Mar 10 15:43:51 2022\n",
      "Working on RandomForest @ Thu Mar 10 15:43:53 2022\n",
      "Train: (array(['n', 's'], dtype=object), array([5607,  898]))\n",
      "Train: (array(['n', 's'], dtype=object), array([898, 898]))\n",
      "Test: (array(['n', 's'], dtype=object), array([1870,  299]))\n",
      "Test: (array(['n', 's'], dtype=object), array([299, 299]))\n",
      "Vectorizing....  @ Thu Mar 10 15:43:58 2022\n",
      "Working on SGDClassifier @ Thu Mar 10 15:44:01 2022\n",
      "Working on LogisticRegression @ Thu Mar 10 15:44:01 2022\n",
      "Working on NaiveBayes @ Thu Mar 10 15:44:01 2022\n",
      "Working on KNN @ Thu Mar 10 15:44:01 2022\n",
      "Working on RandomForest @ Thu Mar 10 15:44:02 2022\n",
      "Train: (array(['f', 't'], dtype=object), array([3519, 2986]))\n",
      "Train: (array(['f', 't'], dtype=object), array([2986, 2986]))\n",
      "Test: (array(['f', 't'], dtype=object), array([1174,  995]))\n",
      "Test: (array(['f', 't'], dtype=object), array([995, 995]))\n",
      "Vectorizing....  @ Thu Mar 10 15:44:05 2022\n",
      "Working on SGDClassifier @ Thu Mar 10 15:44:20 2022\n",
      "Working on LogisticRegression @ Thu Mar 10 15:44:21 2022\n",
      "Working on NaiveBayes @ Thu Mar 10 15:44:24 2022\n",
      "Working on KNN @ Thu Mar 10 15:44:24 2022\n",
      "Working on RandomForest @ Thu Mar 10 15:44:32 2022\n",
      "Train: (array(['j', 'p'], dtype=object), array([2575, 3930]))\n",
      "Train: (array(['j', 'p'], dtype=object), array([2575, 2575]))\n",
      "Test: (array(['j', 'p'], dtype=object), array([ 859, 1310]))\n",
      "Test: (array(['j', 'p'], dtype=object), array([859, 859]))\n",
      "Vectorizing....  @ Thu Mar 10 15:44:42 2022\n",
      "Working on SGDClassifier @ Thu Mar 10 15:44:51 2022\n",
      "Working on LogisticRegression @ Thu Mar 10 15:44:51 2022\n",
      "Working on NaiveBayes @ Thu Mar 10 15:44:52 2022\n",
      "Working on KNN @ Thu Mar 10 15:44:52 2022\n",
      "Working on RandomForest @ Thu Mar 10 15:44:57 2022\n"
     ]
    },
    {
     "data": {
      "text/html": [
       "<div>\n",
       "<style scoped>\n",
       "    .dataframe tbody tr th:only-of-type {\n",
       "        vertical-align: middle;\n",
       "    }\n",
       "\n",
       "    .dataframe tbody tr th {\n",
       "        vertical-align: top;\n",
       "    }\n",
       "\n",
       "    .dataframe thead th {\n",
       "        text-align: right;\n",
       "    }\n",
       "</style>\n",
       "<table border=\"1\" class=\"dataframe\">\n",
       "  <thead>\n",
       "    <tr style=\"text-align: right;\">\n",
       "      <th></th>\n",
       "      <th>Model</th>\n",
       "      <th>Target</th>\n",
       "      <th>CVScore</th>\n",
       "      <th>TestAcc</th>\n",
       "    </tr>\n",
       "  </thead>\n",
       "  <tbody>\n",
       "    <tr>\n",
       "      <th>0</th>\n",
       "      <td>SGDClassifier_i/e</td>\n",
       "      <td>i/e</td>\n",
       "      <td>0.6354</td>\n",
       "      <td>0.6330</td>\n",
       "    </tr>\n",
       "    <tr>\n",
       "      <th>1</th>\n",
       "      <td>LogisticRegression_i/e</td>\n",
       "      <td>i/e</td>\n",
       "      <td>0.6548</td>\n",
       "      <td>0.6600</td>\n",
       "    </tr>\n",
       "    <tr>\n",
       "      <th>2</th>\n",
       "      <td>NaiveBayes_i/e</td>\n",
       "      <td>i/e</td>\n",
       "      <td>0.6808</td>\n",
       "      <td>0.6640</td>\n",
       "    </tr>\n",
       "    <tr>\n",
       "      <th>3</th>\n",
       "      <td>KNN_i/e</td>\n",
       "      <td>i/e</td>\n",
       "      <td>0.5440</td>\n",
       "      <td>0.5290</td>\n",
       "    </tr>\n",
       "    <tr>\n",
       "      <th>4</th>\n",
       "      <td>RandomForest_i/e</td>\n",
       "      <td>i/e</td>\n",
       "      <td>0.6414</td>\n",
       "      <td>0.6200</td>\n",
       "    </tr>\n",
       "    <tr>\n",
       "      <th>5</th>\n",
       "      <td>SGDClassifier_n/s</td>\n",
       "      <td>n/s</td>\n",
       "      <td>0.6303</td>\n",
       "      <td>0.6288</td>\n",
       "    </tr>\n",
       "    <tr>\n",
       "      <th>6</th>\n",
       "      <td>LogisticRegression_n/s</td>\n",
       "      <td>n/s</td>\n",
       "      <td>0.5879</td>\n",
       "      <td>0.7107</td>\n",
       "    </tr>\n",
       "    <tr>\n",
       "      <th>7</th>\n",
       "      <td>NaiveBayes_n/s</td>\n",
       "      <td>n/s</td>\n",
       "      <td>0.6681</td>\n",
       "      <td>0.7090</td>\n",
       "    </tr>\n",
       "    <tr>\n",
       "      <th>8</th>\n",
       "      <td>KNN_n/s</td>\n",
       "      <td>n/s</td>\n",
       "      <td>0.5618</td>\n",
       "      <td>0.5552</td>\n",
       "    </tr>\n",
       "    <tr>\n",
       "      <th>9</th>\n",
       "      <td>RandomForest_n/s</td>\n",
       "      <td>n/s</td>\n",
       "      <td>0.6186</td>\n",
       "      <td>0.6522</td>\n",
       "    </tr>\n",
       "    <tr>\n",
       "      <th>10</th>\n",
       "      <td>SGDClassifier_t/f</td>\n",
       "      <td>t/f</td>\n",
       "      <td>0.7642</td>\n",
       "      <td>0.7698</td>\n",
       "    </tr>\n",
       "    <tr>\n",
       "      <th>11</th>\n",
       "      <td>LogisticRegression_t/f</td>\n",
       "      <td>t/f</td>\n",
       "      <td>0.7366</td>\n",
       "      <td>0.7357</td>\n",
       "    </tr>\n",
       "    <tr>\n",
       "      <th>12</th>\n",
       "      <td>NaiveBayes_t/f</td>\n",
       "      <td>t/f</td>\n",
       "      <td>0.7709</td>\n",
       "      <td>0.7704</td>\n",
       "    </tr>\n",
       "    <tr>\n",
       "      <th>13</th>\n",
       "      <td>KNN_t/f</td>\n",
       "      <td>t/f</td>\n",
       "      <td>0.5546</td>\n",
       "      <td>0.5593</td>\n",
       "    </tr>\n",
       "    <tr>\n",
       "      <th>14</th>\n",
       "      <td>RandomForest_t/f</td>\n",
       "      <td>t/f</td>\n",
       "      <td>0.7354</td>\n",
       "      <td>0.7256</td>\n",
       "    </tr>\n",
       "    <tr>\n",
       "      <th>15</th>\n",
       "      <td>SGDClassifier_p/j</td>\n",
       "      <td>p/j</td>\n",
       "      <td>0.6198</td>\n",
       "      <td>0.6153</td>\n",
       "    </tr>\n",
       "    <tr>\n",
       "      <th>16</th>\n",
       "      <td>LogisticRegression_p/j</td>\n",
       "      <td>p/j</td>\n",
       "      <td>0.6200</td>\n",
       "      <td>0.6182</td>\n",
       "    </tr>\n",
       "    <tr>\n",
       "      <th>17</th>\n",
       "      <td>NaiveBayes_p/j</td>\n",
       "      <td>p/j</td>\n",
       "      <td>0.6367</td>\n",
       "      <td>0.6304</td>\n",
       "    </tr>\n",
       "    <tr>\n",
       "      <th>18</th>\n",
       "      <td>KNN_p/j</td>\n",
       "      <td>p/j</td>\n",
       "      <td>0.5324</td>\n",
       "      <td>0.5297</td>\n",
       "    </tr>\n",
       "    <tr>\n",
       "      <th>19</th>\n",
       "      <td>RandomForest_p/j</td>\n",
       "      <td>p/j</td>\n",
       "      <td>0.6078</td>\n",
       "      <td>0.6123</td>\n",
       "    </tr>\n",
       "  </tbody>\n",
       "</table>\n",
       "</div>"
      ],
      "text/plain": [
       "                     Model Target  CVScore  TestAcc\n",
       "0        SGDClassifier_i/e    i/e   0.6354   0.6330\n",
       "1   LogisticRegression_i/e    i/e   0.6548   0.6600\n",
       "2           NaiveBayes_i/e    i/e   0.6808   0.6640\n",
       "3                  KNN_i/e    i/e   0.5440   0.5290\n",
       "4         RandomForest_i/e    i/e   0.6414   0.6200\n",
       "5        SGDClassifier_n/s    n/s   0.6303   0.6288\n",
       "6   LogisticRegression_n/s    n/s   0.5879   0.7107\n",
       "7           NaiveBayes_n/s    n/s   0.6681   0.7090\n",
       "8                  KNN_n/s    n/s   0.5618   0.5552\n",
       "9         RandomForest_n/s    n/s   0.6186   0.6522\n",
       "10       SGDClassifier_t/f    t/f   0.7642   0.7698\n",
       "11  LogisticRegression_t/f    t/f   0.7366   0.7357\n",
       "12          NaiveBayes_t/f    t/f   0.7709   0.7704\n",
       "13                 KNN_t/f    t/f   0.5546   0.5593\n",
       "14        RandomForest_t/f    t/f   0.7354   0.7256\n",
       "15       SGDClassifier_p/j    p/j   0.6198   0.6153\n",
       "16  LogisticRegression_p/j    p/j   0.6200   0.6182\n",
       "17          NaiveBayes_p/j    p/j   0.6367   0.6304\n",
       "18                 KNN_p/j    p/j   0.5324   0.5297\n",
       "19        RandomForest_p/j    p/j   0.6078   0.6123"
      ]
     },
     "execution_count": 82,
     "metadata": {},
     "output_type": "execute_result"
    }
   ],
   "source": [
    "# Fitting and predicting multiclass models using TF-IDF vectorization and Random Undersampling to balance classes\n",
    "bin_rus_tfidf = rm.run_usampled(cafe_clean, 'joined_tokens', bin_targets, baseline_models_bin, models_table, tfidf=True, SEED=SEED)\n",
    "bin_rus_tfidf"
   ]
  },
  {
   "cell_type": "code",
   "execution_count": 83,
   "metadata": {},
   "outputs": [
    {
     "name": "stdout",
     "output_type": "stream",
     "text": [
      "Accuracy increase from class balance in i/e is: 0.18\n",
      "Accuracy increase from class balance in n/s is: 0.23\n",
      "Accuracy increase from class balance in t/f is: 0.3\n",
      "Accuracy increase from class balance in p/j is: 0.16\n"
     ]
    },
    {
     "data": {
      "image/png": "[encoded data removed]",
      "text/plain": [
       "<Figure size 1080x720 with 4 Axes>"
      ]
     },
     "metadata": {},
     "output_type": "display_data"
    },
    {
     "data": {
      "image/png": "[encoded data removed]",
      "text/plain": [
       "<Figure size 720x504 with 1 Axes>"
      ]
     },
     "metadata": {},
     "output_type": "display_data"
    }
   ],
   "source": [
    "# Plotting the Model accuracy compared to the majority class (Random UnderSampled)\n",
    "fig, axs = plt.subplots(2, 2, figsize=(15,10), sharex=True)\n",
    "axs[0, 0].barh('accuracy', .65)\n",
    "axs[0, 0].barh(['i', 'e'], [.5, .5])\n",
    "\n",
    "axs[0,1].barh('accuracy', .70)\n",
    "axs[0,1].barh(['n', 's'], [.5, .5])\n",
    "\n",
    "axs[1,0].barh('accuracy', .76)\n",
    "axs[1, 0].barh(['t', 'f'], [.5, .5])\n",
    "\n",
    "axs[1,1].barh('accuracy', .62)\n",
    "axs[1,1].barh(['p', 'j'], [.5, .5])\n",
    "\n",
    "acc = [.68, .73, .8, .66]\n",
    "plt.figure(figsize=(10,7))\n",
    "plt.title('Accuracy Minus Highest Class Weight')\n",
    "for i, target in enumerate(bin_targets):\n",
    "    print(f'Accuracy increase from class balance in {target} is: {round(acc[i] - .5, 2)}')\n",
    "    plt.bar(target, round(acc[i] - .5, 2))\n"
   ]
  },
  {
   "cell_type": "code",
   "execution_count": 84,
   "metadata": {},
   "outputs": [
    {
     "name": "stdout",
     "output_type": "stream",
     "text": [
      "Prob of i/e model: 0.0\n",
      "Prob of n/s model: 0.0\n",
      "Prob of t/f model: 0.0\n",
      "Prob of p/j model: 0.0\n"
     ]
    }
   ],
   "source": [
    "# Probability we are seeing these results given a 50/50 class balance\n",
    "\n",
    "print(f\"Prob of i/e model: {1 - binom.cdf(k=(1499*2)*.65, n=1499*2, p=0.5)}\")\n",
    "print(f\"Prob of n/s model: {1 - binom.cdf(k=(898*2)*.70, n=(898*2), p=0.5)}\")\n",
    "print(f\"Prob of t/f model: {1 - binom.cdf(k=(1499*2)*.76, n=1499*2, p=0.5)}\")\n",
    "print(f\"Prob of p/j model: {1 - binom.cdf(k=(2575*2)*.62, n=2575*2, p=0.5)}\")"
   ]
  },
  {
   "cell_type": "markdown",
   "metadata": {},
   "source": [
    "#### Binary Undersampled Model Results\n",
    "The largest class is `infp` of 21%. The models are not performing at a useful level, however there is reason to believe that the models are finding some distinction in word usage between the different MBTI types.\n",
    "\n",
    "---"
   ]
  },
  {
   "cell_type": "markdown",
   "metadata": {},
   "source": [
    "## Doc2Vec\n",
    "1. Multiclass\n",
    "2. Thinking vs. Feeling"
   ]
  },
  {
   "cell_type": "code",
   "execution_count": 85,
   "metadata": {},
   "outputs": [],
   "source": [
    "# Option to read in clean DataFrame — uncomment below\n",
    "\n",
    "# cafe_clean = pd.read_csv('./data/cafe_clean.csv')\n",
    "# cafe_clean = cafe_clean.dropna()"
   ]
  },
  {
   "cell_type": "code",
   "execution_count": 86,
   "metadata": {},
   "outputs": [],
   "source": [
    "# Splitting into testing and training sets\n",
    "train_df, test_df = train_test_split(cafe_clean, random_state=SEED)"
   ]
  },
  {
   "cell_type": "code",
   "execution_count": 87,
   "metadata": {},
   "outputs": [],
   "source": [
    "# Reseting index for iteration pruposes\n",
    "train_df.reset_index(inplace=True, drop=True)\n",
    "test_df.reset_index(inplace=True, drop=True)"
   ]
  },
  {
   "cell_type": "markdown",
   "metadata": {},
   "source": [
    "#### Multiclass"
   ]
  },
  {
   "cell_type": "code",
   "execution_count": 88,
   "metadata": {},
   "outputs": [],
   "source": [
    "# Multiclass generation of train / test corpus tagged with MBTI types\n",
    "def tokenize_gens(dataframe):\n",
    "    for i, post in enumerate(dataframe['joined_tokens']):\n",
    "        tokens = gensim.utils.simple_preprocess(post)\n",
    "        yield gensim.models.doc2vec.TaggedDocument(tokens, dataframe.loc[i, 'type'])\n",
    "\n",
    "train_corpus = list(tokenize_gens(train_df))\n",
    "test_corpus = list(tokenize_gens(test_df))"
   ]
  },
  {
   "cell_type": "code",
   "execution_count": 89,
   "metadata": {},
   "outputs": [],
   "source": [
    "# Creating the Doc2Vec model\n",
    "model = gensim.models.doc2vec.Doc2Vec(dm=1, \n",
    "                                    vector_size=50, \n",
    "                                    min_count=2, \n",
    "                                    epochs=40)"
   ]
  },
  {
   "cell_type": "code",
   "execution_count": 90,
   "metadata": {},
   "outputs": [],
   "source": [
    "# Building the vocabulary \n",
    "model.build_vocab(train_corpus)"
   ]
  },
  {
   "cell_type": "code",
   "execution_count": 91,
   "metadata": {},
   "outputs": [],
   "source": [
    "# Training the model\n",
    "model.train(train_corpus, total_examples=model.corpus_count, epochs=model.epochs)"
   ]
  },
  {
   "cell_type": "code",
   "execution_count": 92,
   "metadata": {},
   "outputs": [
    {
     "name": "stdout",
     "output_type": "stream",
     "text": [
      "[ 0.04769732 -0.6609382   0.32225087 -0.02495661  0.36097336 -0.23037073\n",
      "  0.0613782   0.43190825  0.210913   -0.07444087  0.19161163 -0.00161645\n",
      " -0.04842895  0.36415902  0.0465914   0.29311714 -0.03189124  0.31414035\n",
      " -0.11606619  0.44401804 -0.18575634  0.21282396 -0.6112931   0.20925616\n",
      "  0.04770497  0.05479902 -0.0255067  -0.55341685 -0.4663434   0.23070508\n",
      "  0.04337824  0.2384341  -0.63851607  0.30550817 -0.14682952  0.06701313\n",
      "  0.55515766 -0.05368286  0.15707268 -0.26785338  0.0815747   0.42829624\n",
      "  0.44756117  0.4034293   0.10612673  0.27105606 -0.14230138  0.13442615\n",
      "  0.22814877 -0.03568159]\n"
     ]
    }
   ],
   "source": [
    "# Showing how the model infers collections of words into vectors\n",
    "vector = model.infer_vector(['unaware', 'people', 'dont', 'confidence', 'often', 'picture'])\n",
    "print(vector)"
   ]
  },
  {
   "cell_type": "code",
   "execution_count": 93,
   "metadata": {},
   "outputs": [],
   "source": [
    "# Creating a function that returns targets and vectors — to be applied to each of the posts\n",
    "def vector_for_learning(model, posts):\n",
    "    targets, feature_vectors = zip(*[(doc.tags, model.infer_vector(doc.words)) for doc in posts])\n",
    "    return targets, feature_vectors"
   ]
  },
  {
   "cell_type": "code",
   "execution_count": 94,
   "metadata": {},
   "outputs": [],
   "source": [
    "# Splitting the train and test set into targets and X vectors\n",
    "# Can take a few minutes\n",
    "y_train, X_train = vector_for_learning(model, train_corpus)\n",
    "y_test, X_test = vector_for_learning(model, test_corpus)"
   ]
  },
  {
   "cell_type": "code",
   "execution_count": 95,
   "metadata": {},
   "outputs": [
    {
     "name": "stdout",
     "output_type": "stream",
     "text": [
      "Testing accuracy: 0.24573536191793452\n"
     ]
    }
   ],
   "source": [
    "# Modeling with an SGD Classifier\n",
    "clf = SGDClassifier(class_weight='balanced')\n",
    "clf.fit(X_train, y_train)\n",
    "y_pred = clf.predict(X_test)\n",
    "print(f'Testing accuracy: {accuracy_score(y_test, y_pred)}')"
   ]
  },
  {
   "cell_type": "code",
   "execution_count": 96,
   "metadata": {},
   "outputs": [
    {
     "name": "stdout",
     "output_type": "stream",
     "text": [
      "Testing accuracy: 0.32180728446288615\n"
     ]
    }
   ],
   "source": [
    "# Modeling with an Logistic Regression\n",
    "logreg = LogisticRegression(n_jobs=1, C=.0001, class_weight='balanced')\n",
    "logreg.fit(X_train, y_train)\n",
    "y_pred = logreg.predict(X_test)\n",
    "print(f'Testing accuracy: {accuracy_score(y_test, y_pred)}')"
   ]
  },
  {
   "cell_type": "code",
   "execution_count": 97,
   "metadata": {},
   "outputs": [
    {
     "name": "stdout",
     "output_type": "stream",
     "text": [
      "Testing accuracy: 0.34163208852005533\n"
     ]
    }
   ],
   "source": [
    "# Modeling with Random Forest\n",
    "rfc = RandomForestClassifier(n_estimators=1000, max_depth=25)\n",
    "rfc.fit(X_train, y_train)\n",
    "y_pred = rfc.predict(X_test)\n",
    "print(f'Testing accuracy: {accuracy_score(y_test, y_pred)}')"
   ]
  },
  {
   "cell_type": "code",
   "execution_count": 98,
   "metadata": {},
   "outputs": [
    {
     "name": "stdout",
     "output_type": "stream",
     "text": [
      "Testing accuracy: 0.3075149838635316\n"
     ]
    }
   ],
   "source": [
    "# Modeling with KNN\n",
    "knn = KNeighborsClassifier(n_neighbors=16)\n",
    "knn.fit(X_train, y_train)\n",
    "y_pred = knn.predict(X_test)\n",
    "print(f'Testing accuracy: {accuracy_score(y_test, y_pred)}')"
   ]
  },
  {
   "cell_type": "markdown",
   "metadata": {},
   "source": [
    "#### Thinking vs. Feeling\n",
    "Looking exclusively at Thinking vs. Feeling binary class because it showed the most significant icnreases in accuracy scores using BOW and TF-IDF vectorization strategies."
   ]
  },
  {
   "cell_type": "code",
   "execution_count": 99,
   "metadata": {},
   "outputs": [],
   "source": [
    "# Binary class t/f generation of train / test corpus tagged with MBTI types\n",
    "def tokenize_gens(dataframe):\n",
    "    for i, post in enumerate(dataframe['joined_tokens']):\n",
    "        tokens = gensim.utils.simple_preprocess(post)\n",
    "        yield gensim.models.doc2vec.TaggedDocument(tokens, dataframe.loc[i, 't/f'])\n",
    "\n",
    "train_corpus = list(tokenize_gens(train_df))\n",
    "test_corpus = list(tokenize_gens(test_df))"
   ]
  },
  {
   "cell_type": "code",
   "execution_count": 100,
   "metadata": {},
   "outputs": [],
   "source": [
    "# Creating the Doc2Vec model\n",
    "model = gensim.models.doc2vec.Doc2Vec(dm=1, \n",
    "                                    vector_size=50, \n",
    "                                    min_count=2, \n",
    "                                    epochs=40)"
   ]
  },
  {
   "cell_type": "code",
   "execution_count": 101,
   "metadata": {},
   "outputs": [],
   "source": [
    "# Building the vocabulary \n",
    "model.build_vocab(train_corpus)"
   ]
  },
  {
   "cell_type": "code",
   "execution_count": 102,
   "metadata": {},
   "outputs": [],
   "source": [
    "# Training the model\n",
    "model.train(train_corpus, total_examples=model.corpus_count, epochs=model.epochs)"
   ]
  },
  {
   "cell_type": "code",
   "execution_count": 103,
   "metadata": {},
   "outputs": [],
   "source": [
    "# Splitting the train and test set into targets and X vectors\n",
    "# Can take a few minutes\n",
    "y_train, X_train = vector_for_learning(model, train_corpus)\n",
    "y_test, X_test = vector_for_learning(model, test_corpus)"
   ]
  },
  {
   "cell_type": "code",
   "execution_count": 104,
   "metadata": {},
   "outputs": [
    {
     "name": "stdout",
     "output_type": "stream",
     "text": [
      "Testing accuracy: 0.7722452743199631\n"
     ]
    }
   ],
   "source": [
    "# Modeling with an SGD Classifier\n",
    "clf2 = SGDClassifier(class_weight='balanced')\n",
    "clf2.fit(X_train, y_train)\n",
    "y_pred = clf2.predict(X_test)\n",
    "print(f'Testing accuracy: {accuracy_score(y_test, y_pred)}')"
   ]
  },
  {
   "cell_type": "code",
   "execution_count": 105,
   "metadata": {},
   "outputs": [
    {
     "name": "stdout",
     "output_type": "stream",
     "text": [
      "Testing accuracy: 0.8049792531120332\n"
     ]
    }
   ],
   "source": [
    "# Modeling with an Logistic Regression\n",
    "logreg2 = LogisticRegression(n_jobs=1, C=.0001, class_weight='balanced')\n",
    "logreg2.fit(X_train, y_train)\n",
    "y_pred = logreg2.predict(X_test)\n",
    "print(f'Testing accuracy: {accuracy_score(y_test, y_pred)}')"
   ]
  },
  {
   "cell_type": "code",
   "execution_count": 106,
   "metadata": {},
   "outputs": [
    {
     "name": "stdout",
     "output_type": "stream",
     "text": [
      "Testing accuracy: 0.7856154910096819\n"
     ]
    }
   ],
   "source": [
    "# Modeling with Random Forest\n",
    "rfc2 = RandomForestClassifier(n_estimators=1000, max_depth=25)\n",
    "rfc2.fit(X_train, y_train)\n",
    "y_pred = rfc2.predict(X_test)\n",
    "print(f'Testing accuracy: {accuracy_score(y_test, y_pred)}')"
   ]
  },
  {
   "cell_type": "code",
   "execution_count": 107,
   "metadata": {},
   "outputs": [
    {
     "name": "stdout",
     "output_type": "stream",
     "text": [
      "Testing accuracy: 0.6855693868142001\n"
     ]
    }
   ],
   "source": [
    "# Modeling with KNN\n",
    "knn2 = KNeighborsClassifier(n_neighbors=2)\n",
    "knn2.fit(X_train, y_train)\n",
    "y_pred = knn2.predict(X_test)\n",
    "print(f'Testing accuracy: {accuracy_score(y_test, y_pred)}')"
   ]
  },
  {
   "cell_type": "markdown",
   "metadata": {},
   "source": [
    "## Model Tuning"
   ]
  },
  {
   "cell_type": "code",
   "execution_count": 108,
   "metadata": {},
   "outputs": [],
   "source": [
    "# Option to read in clean DataFrame — uncomment below\n",
    "\n",
    "# cafe_clean = pd.read_csv('./data/cafe_clean.csv')\n",
    "# cafe_clean = cafe_clean.dropna()"
   ]
  },
  {
   "cell_type": "code",
   "execution_count": 109,
   "metadata": {},
   "outputs": [],
   "source": [
    "# Here is where manual tuning can be done by altering the hyperparameters of the Vectorizer and Classifier\n",
    "pipe = Pipeline([('vec', TfidfVectorizer(ngram_range=(1,2))),\n",
    "    ('clf', SGDClassifier(class_weight='balanced', random_state=SEED, loss=\"modified_huber\"))\n",
    "])"
   ]
  },
  {
   "cell_type": "code",
   "execution_count": 110,
   "metadata": {},
   "outputs": [
    {
     "name": "stdout",
     "output_type": "stream",
     "text": [
      "              precision    recall  f1-score   support\n",
      "\n",
      "           i       0.54      0.23      0.32       435\n",
      "           e       0.83      0.95      0.89      1734\n",
      "\n",
      "    accuracy                           0.81      2169\n",
      "   macro avg       0.68      0.59      0.60      2169\n",
      "weighted avg       0.77      0.81      0.77      2169\n",
      "\n",
      "              precision    recall  f1-score   support\n",
      "\n",
      "           n       0.86      1.00      0.92      1854\n",
      "           s       0.67      0.04      0.07       315\n",
      "\n",
      "    accuracy                           0.86      2169\n",
      "   macro avg       0.76      0.52      0.50      2169\n",
      "weighted avg       0.83      0.86      0.80      2169\n",
      "\n",
      "              precision    recall  f1-score   support\n",
      "\n",
      "           f       0.81      0.83      0.82      1152\n",
      "           t       0.80      0.78      0.79      1017\n",
      "\n",
      "    accuracy                           0.80      2169\n",
      "   macro avg       0.80      0.80      0.80      2169\n",
      "weighted avg       0.80      0.80      0.80      2169\n",
      "\n",
      "              precision    recall  f1-score   support\n",
      "\n",
      "           j       0.64      0.49      0.55       876\n",
      "           p       0.70      0.82      0.75      1293\n",
      "\n",
      "    accuracy                           0.68      2169\n",
      "   macro avg       0.67      0.65      0.65      2169\n",
      "weighted avg       0.68      0.68      0.67      2169\n",
      "\n"
     ]
    },
    {
     "data": {
      "image/png": "[encoded data removed]",
      "text/plain": [
       "<Figure size 360x360 with 2 Axes>"
      ]
     },
     "metadata": {},
     "output_type": "display_data"
    },
    {
     "data": {
      "image/png": "[encoded data removed]",
      "text/plain": [
       "<Figure size 360x360 with 2 Axes>"
      ]
     },
     "metadata": {},
     "output_type": "display_data"
    },
    {
     "data": {
      "image/png": "[encoded data removed]",
      "text/plain": [
       "<Figure size 360x360 with 2 Axes>"
      ]
     },
     "metadata": {},
     "output_type": "display_data"
    },
    {
     "data": {
      "image/png": "[encoded data removed]",
      "text/plain": [
       "<Figure size 360x360 with 2 Axes>"
      ]
     },
     "metadata": {},
     "output_type": "display_data"
    }
   ],
   "source": [
    "# Iterating through the binary classes and printing a full classification report along with confusion matrix\n",
    "for target in bin_targets:\n",
    "    X = cafe_clean['joined_tokens']\n",
    "    y = cafe_clean[target]\n",
    "\n",
    "    X_train, X_test, y_train, y_test = train_test_split(X, y, random_state=SEED)\n",
    "\n",
    "    pipe.fit(X_train, y_train)\n",
    "\n",
    "    y_pred = pipe.predict(X_test)\n",
    "    acc_score = accuracy_score(y_pred, y_test)\n",
    "\n",
    "    print(classification_report(y_pred=y_pred, y_true=y_test, target_names=cafe_clean[target].unique()))\n",
    "\n",
    "    fig, ax = plt.subplots(figsize=(5,5))\n",
    "    plt.rcParams.update({'font.size': 10})\n",
    "    plt.rc('xtick', labelsize=10) \n",
    "    plt.rc('ytick', labelsize=10) \n",
    "    plot_confusion_matrix(pipe, X_test, y_test, ax=ax, normalize='true')\n",
    "    plt.grid(False);\n",
    "    "
   ]
  },
  {
   "cell_type": "markdown",
   "metadata": {},
   "source": [
    "### Binary Modeling Takeaways:\n",
    "- It seems that the T/F binary class is the only class that is able to discern itself given word usage and word choice\n",
    "- The other 3 binary classes have poor F1-Scores and are often favoring their majority class. \n",
    "- For example, N/S seems high accuracy @ 86%, but when the label is truly S, the model predicts N 96% of the time"
   ]
  },
  {
   "cell_type": "markdown",
   "metadata": {},
   "source": [
    "---"
   ]
  },
  {
   "cell_type": "markdown",
   "metadata": {},
   "source": [
    "## Final Model\n",
    "\n",
    "The final model choses is the binary classification of *THINKING* vs *FEEELING*"
   ]
  },
  {
   "cell_type": "code",
   "execution_count": 111,
   "metadata": {},
   "outputs": [],
   "source": [
    "# Option to read in clean DataFrame — uncomment below\n",
    "\n",
    "# cafe_clean = pd.read_csv('./data/cafe_clean.csv')\n",
    "# cafe_clean = cafe_clean.dropna()"
   ]
  },
  {
   "cell_type": "code",
   "execution_count": 112,
   "metadata": {},
   "outputs": [
    {
     "name": "stdout",
     "output_type": "stream",
     "text": [
      "              precision    recall  f1-score   support\n",
      "\n",
      "           f       0.80      0.81      0.81      1152\n",
      "           t       0.78      0.78      0.78      1017\n",
      "\n",
      "    accuracy                           0.79      2169\n",
      "   macro avg       0.79      0.79      0.79      2169\n",
      "weighted avg       0.79      0.79      0.79      2169\n",
      "\n"
     ]
    },
    {
     "data": {
      "image/png": "[encoded data removed]",
      "text/plain": [
       "<Figure size 360x360 with 2 Axes>"
      ]
     },
     "metadata": {},
     "output_type": "display_data"
    }
   ],
   "source": [
    "# Final Tuned Logistic Regression for the T/F class\n",
    "final_logreg = Pipeline([('vec', TfidfVectorizer(ngram_range=(1,2), min_df=5)),\n",
    "                ('clf', LogisticRegression(class_weight={'f': .46, 't': .54}, max_iter=1000))\n",
    "            ])\n",
    "\n",
    "X = cafe_clean['joined_tokens']\n",
    "y = cafe_clean['t/f']\n",
    "\n",
    "X_train, X_test, y_train, y_test = train_test_split(X, y, random_state=SEED)\n",
    "\n",
    "final_logreg.fit(X_train, y_train)\n",
    "\n",
    "y_pred = final_logreg.predict(X_test)\n",
    "acc_score = accuracy_score(y_test, y_pred)\n",
    "\n",
    "print(classification_report(y_pred=y_pred, y_true=y_test, target_names=cafe_clean['t/f'].unique()))\n",
    "\n",
    "fig, ax = plt.subplots(figsize=(5,5))\n",
    "plt.rcParams.update({'font.size': 10})\n",
    "plt.rc('xtick', labelsize=10) \n",
    "plt.rc('ytick', labelsize=10) \n",
    "plot_confusion_matrix(final_logreg, X_test, y_test, ax=ax, normalize='true', cmap='Oranges')\n",
    "plt.grid(False);"
   ]
  },
  {
   "cell_type": "code",
   "execution_count": 113,
   "metadata": {},
   "outputs": [
    {
     "name": "stdout",
     "output_type": "stream",
     "text": [
      "              precision    recall  f1-score   support\n",
      "\n",
      "           f       0.83      0.80      0.81      1152\n",
      "           t       0.78      0.81      0.79      1017\n",
      "\n",
      "    accuracy                           0.80      2169\n",
      "   macro avg       0.80      0.80      0.80      2169\n",
      "weighted avg       0.80      0.80      0.80      2169\n",
      "\n"
     ]
    },
    {
     "data": {
      "image/png": "[encoded data removed]",
      "text/plain": [
       "<Figure size 360x360 with 2 Axes>"
      ]
     },
     "metadata": {},
     "output_type": "display_data"
    }
   ],
   "source": [
    "# Final Tuned SGD Classifier for the T/F class\n",
    "\n",
    "final_sgd = Pipeline([('vec', TfidfVectorizer(ngram_range=(1,2), min_df=2)),\n",
    "                ('clf', SGDClassifier(class_weight={'f': .45, 't': .55}, random_state=SEED, loss=\"modified_huber\"))\n",
    "            ])\n",
    "\n",
    "X = cafe_clean['joined_tokens']\n",
    "y = cafe_clean['t/f']\n",
    "\n",
    "X_train, X_test, y_train, y_test = train_test_split(X, y, random_state=SEED)\n",
    "\n",
    "final_sgd.fit(X_train, y_train)\n",
    "\n",
    "y_pred = final_sgd.predict(X_test)\n",
    "acc_score = accuracy_score(y_test, y_pred)\n",
    "\n",
    "print(classification_report(y_pred=y_pred, y_true=y_test, target_names=cafe_clean['t/f'].unique()))\n",
    "\n",
    "fig, ax = plt.subplots(figsize=(5,5))\n",
    "plt.rcParams.update({'font.size': 10})\n",
    "plt.rc('xtick', labelsize=10) \n",
    "plt.rc('ytick', labelsize=10) \n",
    "plot_confusion_matrix(final_sgd, X_test, y_test, ax=ax, normalize='true', cmap='Oranges')\n",
    "plt.grid(False);"
   ]
  },
  {
   "cell_type": "code",
   "execution_count": 114,
   "metadata": {},
   "outputs": [],
   "source": [
    "# Uncomment below to save final model\n",
    "# pickle.dump(final_sgd, open('./models/final_model.pkl', 'wb'))"
   ]
  },
  {
   "cell_type": "markdown",
   "metadata": {},
   "source": [
    "## Further Inspect Thinking vs Feeling"
   ]
  },
  {
   "cell_type": "markdown",
   "metadata": {},
   "source": [
    "### What does the Thinking vs. Feeling Trait mean?"
   ]
  },
  {
   "cell_type": "markdown",
   "metadata": {},
   "source": [
    "**Thinking (T)**\n",
    "When I make a decision, I like to find the basic truth or principle to be applied, regardless of the specific situation involved. I like to analyze pros and cons, and then be consistent and logical in deciding. I try to be impersonal, so I won't let my personal wishes--or other people's wishes--influence me.\n",
    "\n",
    "The following statements generally apply to me:\n",
    "\n",
    "- I enjoy technical and scientific fields where logic is important.\n",
    "- I notice inconsistencies.\n",
    "- I look for logical explanations or solutions to most everything.\n",
    "- I make decisions with my head and want to be fair.\n",
    "- I believe telling the truth is more important than being tactful.\n",
    "- Sometimes I miss or don't value the \"people\" part of a situation.\n",
    "- I can be seen as too task-oriented, uncaring, or indifferent.\n",
    "\n",
    "**Feeling (F)**\n",
    "I believe I can make the best decisions by weighing what people care about and the points-of-view of persons involved in a situation. I am concerned with values and what is the best for the people involved. I like to do whatever will establish or maintain harmony. In my relationships, I appear caring, warm, and tactful.\n",
    "\n",
    "The following statements generally apply to me:\n",
    "\n",
    "- I have a people or communications orientation.\n",
    "- I am concerned with harmony and nervous when it is missing.\n",
    "- I look for what is important to others and express concern for others.\n",
    "- I make decisions with my heart and want to be compassionate.\n",
    "- I believe being tactful is more important than telling the \"cold\" truth.\n",
    "- Sometimes I miss seeing or communicating the \"hard truth\" of situations.\n",
    "- I am sometimes experienced by others as too idealistic, mushy, or indirect.\n"
   ]
  },
  {
   "cell_type": "code",
   "execution_count": 115,
   "metadata": {},
   "outputs": [],
   "source": [
    "# Creating Frequency Distributions of T and F seperately\n",
    "t_fdist = FreqDist(cafe_clean[\"post_tokens\"][cafe_clean[\"t/f\"] == 't'].explode())\n",
    "f_fdist = FreqDist(cafe_clean[\"post_tokens\"][cafe_clean[\"t/f\"] == 'f'].explode())"
   ]
  },
  {
   "cell_type": "code",
   "execution_count": 116,
   "metadata": {},
   "outputs": [
    {
     "data": {
      "image/png": "[encoded data removed]",
      "text/plain": [
       "<Figure size 1440x576 with 1 Axes>"
      ]
     },
     "metadata": {},
     "output_type": "display_data"
    }
   ],
   "source": [
    "# Visualizing top THINKING bigrams\n",
    "t_df = cafe_clean[cafe_clean[\"t/f\"] == 't']\n",
    "\n",
    "cv = CountVectorizer(ngram_range=(2,2))\n",
    "\n",
    "tf_cv = cv.fit(t_df['joined_tokens'])\n",
    "tf_cv = cv.transform(t_df['joined_tokens'])\n",
    "\n",
    "count_values = tf_cv.toarray().sum(axis=0)\n",
    "\n",
    "vocab = cv.vocabulary_\n",
    "\n",
    "df_ngram = pd.DataFrame(sorted([(count_values[i], k) for k, i in vocab.items()], reverse=True) \\\n",
    "                        ).rename(columns={0: 'frequency', 1:'bigram'})\n",
    "\n",
    "plt.figure(figsize=(20, 8))\n",
    "plt.bar(df_ngram.bigram.iloc[:10], df_ngram.frequency.iloc[:10])\n",
    "plt.title('TOP THINKING BIGRAMS');"
   ]
  },
  {
   "cell_type": "code",
   "execution_count": 117,
   "metadata": {},
   "outputs": [
    {
     "data": {
      "image/png": "[encoded data removed]",
      "text/plain": [
       "<Figure size 1440x576 with 1 Axes>"
      ]
     },
     "metadata": {},
     "output_type": "display_data"
    }
   ],
   "source": [
    "# Visualizing top FEELING bigrams\n",
    "\n",
    "t_df = cafe_clean[cafe_clean[\"t/f\"] == 'f']\n",
    "\n",
    "cv = CountVectorizer(ngram_range=(2,2))\n",
    "\n",
    "tf_cv = cv.fit(t_df['joined_tokens'])\n",
    "tf_cv = cv.transform(t_df['joined_tokens'])\n",
    "\n",
    "count_values = tf_cv.toarray().sum(axis=0)\n",
    "\n",
    "vocab = cv.vocabulary_\n",
    "\n",
    "df_ngram = pd.DataFrame(sorted([(count_values[i], k) for k, i in vocab.items()], reverse=True) \\\n",
    "                        ).rename(columns={0: 'frequency', 1:'bigram'})\n",
    "\n",
    "plt.figure(figsize=(20, 8))\n",
    "plt.bar(df_ngram.bigram.iloc[:10], df_ngram.frequency.iloc[:10])\n",
    "plt.title('TOP FEELING BIGRAMS');"
   ]
  },
  {
   "cell_type": "code",
   "execution_count": 118,
   "metadata": {},
   "outputs": [
    {
     "name": "stdout",
     "output_type": "stream",
     "text": [
      "f -- 62.02%\n"
     ]
    }
   ],
   "source": [
    "# Custom Sample Prediction\n",
    "f_test_sample = \"I love being in engaging conversation something that doesnt bore me something \\\n",
    "meaningful and makes both of you feel good. But sometimes I get called intense is this just me? \\\n",
    "Like I could say well sometimes you bore me. Seems like Im the minority so its \\\n",
    "really nice when I meet someone my vibe as there arent many\"\n",
    "\n",
    "print(final_sgd.predict([f_test_sample])[0], '--', f\"{round(max(final_sgd.predict_proba([f_test_sample])[0])*100, 2)}%\")"
   ]
  },
  {
   "cell_type": "code",
   "execution_count": 119,
   "metadata": {},
   "outputs": [
    {
     "name": "stdout",
     "output_type": "stream",
     "text": [
      "t -- 76.35%\n"
     ]
    }
   ],
   "source": [
    "# Custom Sample Prediction\n",
    "t_test_sample = \"Nature provides exceptions to every rule. But this rule is applied to itself paradoxically. \\\n",
    "(So there must be some rules without any exception :)\"\n",
    "\n",
    "print(final_sgd.predict([t_test_sample])[0], '--', f\"{round(max(final_sgd.predict_proba([t_test_sample])[0])*100, 2)}%\")"
   ]
  },
  {
   "cell_type": "markdown",
   "metadata": {},
   "source": [
    "### Highest TFIDF\n",
    "Finding the Highest TF-IDF words and phrases in the corpus"
   ]
  },
  {
   "cell_type": "code",
   "execution_count": 120,
   "metadata": {},
   "outputs": [],
   "source": [
    "# Splitting into train and test sets\n",
    "train_set, test_set = train_test_split(cafe_clean, random_state=SEED)"
   ]
  },
  {
   "cell_type": "code",
   "execution_count": 121,
   "metadata": {},
   "outputs": [],
   "source": [
    "# Splitting train set by T/F\n",
    "X_train_t = train_set[train_set['t/f'] == 't']['joined_tokens']\n",
    "X_train_f = train_set[train_set['t/f'] == 'f']['joined_tokens']"
   ]
  },
  {
   "cell_type": "code",
   "execution_count": 122,
   "metadata": {},
   "outputs": [],
   "source": [
    "# THINKING Vectorizer\n",
    "tfidf_t = TfidfVectorizer(ngram_range=(1,2), min_df=50)\n",
    "\n",
    "train_tfidf_t = tfidf_t.fit_transform(X_train_t)\n",
    "feature_array_t = np.array(tfidf_t.get_feature_names())"
   ]
  },
  {
   "cell_type": "code",
   "execution_count": 123,
   "metadata": {},
   "outputs": [],
   "source": [
    "# FEELING Vectorizer\n",
    "tfidf_f = TfidfVectorizer(ngram_range=(1,2), min_df=50)\n",
    "\n",
    "train_tfidf_f = tfidf_f.fit_transform(X_train_f)\n",
    "feature_array_f = np.array(tfidf_f.get_feature_names())"
   ]
  },
  {
   "cell_type": "code",
   "execution_count": 124,
   "metadata": {},
   "outputs": [],
   "source": [
    "# Vectors to DataFrames\n",
    "tfidf_df_t = pd.DataFrame(train_tfidf_t.toarray(), columns=tfidf_t.get_feature_names())\n",
    "tfidf_df_f = pd.DataFrame(train_tfidf_f.toarray(), columns=tfidf_f.get_feature_names())"
   ]
  },
  {
   "cell_type": "code",
   "execution_count": 125,
   "metadata": {},
   "outputs": [],
   "source": [
    "# Getting list of highest TF-IDF per post — Thinking\n",
    "highest_tfidf_t = []\n",
    "for column in tfidf_df_t.columns:\n",
    "    highest_tfidf_t.append((column, tfidf_df_t[column].max()))"
   ]
  },
  {
   "cell_type": "code",
   "execution_count": 126,
   "metadata": {},
   "outputs": [],
   "source": [
    "# Getting list of highest TF-IDF per post — Feeling\n",
    "highest_tfidf_f = []\n",
    "for column in tfidf_df_f.columns:\n",
    "    highest_tfidf_f.append((column, tfidf_df_f[column].max()))"
   ]
  },
  {
   "cell_type": "code",
   "execution_count": 127,
   "metadata": {},
   "outputs": [],
   "source": [
    "# Sorting by Highest TF-IDF\n",
    "def getKey(item):\n",
    "    return item[1]\n",
    "\n",
    "high_tfidf_t = sorted(highest_tfidf_t, key=getKey, reverse=True)\n",
    "high_tfidf_f = sorted(highest_tfidf_f, key=getKey, reverse=True)"
   ]
  },
  {
   "cell_type": "code",
   "execution_count": 128,
   "metadata": {},
   "outputs": [
    {
     "data": {
      "text/plain": [
       "[('type likely', 0.8313310793219044),\n",
       " ('congrats', 0.8106021712197423),\n",
       " ('sir', 0.7703091773379824),\n",
       " ('grateful', 0.7597962125368377),\n",
       " ('flight', 0.7512881387570077),\n",
       " ('ugly', 0.7203540103400556),\n",
       " ('temperament', 0.7196939286650329),\n",
       " ('welcome', 0.7144088293416635),\n",
       " ('hug', 0.7054509085115117),\n",
       " ('welcome perc', 0.7047464575898609)]"
      ]
     },
     "execution_count": 128,
     "metadata": {},
     "output_type": "execute_result"
    }
   ],
   "source": [
    "# Viewing Results\n",
    "high_tfidf_f[:10]"
   ]
  },
  {
   "cell_type": "code",
   "execution_count": 129,
   "metadata": {},
   "outputs": [
    {
     "data": {
      "text/plain": [
       "[('youtube', 0.8409272452680038),\n",
       " ('go go', 0.8283567614272469),\n",
       " ('type likely', 0.8012866431672608),\n",
       " ('ha', 0.7977459627582976),\n",
       " ('blush', 0.773445485643529),\n",
       " ('welcome forum', 0.7608722391535365),\n",
       " ('metal', 0.7422110586386929),\n",
       " ('kitteh', 0.7225445257558895),\n",
       " ('cool', 0.7214607333682072),\n",
       " ('ban', 0.6912907344379339)]"
      ]
     },
     "execution_count": 129,
     "metadata": {},
     "output_type": "execute_result"
    }
   ],
   "source": [
    "# Viewing Results\n",
    "high_tfidf_t[:10]"
   ]
  },
  {
   "cell_type": "markdown",
   "metadata": {},
   "source": [
    "#### Creating testing sample and TF-IDF Vectorizer for the personality_predictor.py APP"
   ]
  },
  {
   "cell_type": "code",
   "execution_count": 130,
   "metadata": {},
   "outputs": [],
   "source": [
    "# Using the index from y test\n",
    "testing_df = cafe_clean.iloc[y_test.index]"
   ]
  },
  {
   "cell_type": "code",
   "execution_count": 131,
   "metadata": {},
   "outputs": [],
   "source": [
    "# Concat X test variables\n",
    "testing_set = pd.concat([y_test, X_test], axis=1)"
   ]
  },
  {
   "cell_type": "code",
   "execution_count": 132,
   "metadata": {},
   "outputs": [],
   "source": [
    "# Sampling evenely from T/F\n",
    "t_sample = testing_df[testing_df['t/f'] == 't'].sample(50, replace=False, random_state=SEED)\n",
    "f_sample = testing_df[testing_df['t/f'] == 'f'].sample(50, replace=False, random_state=SEED)\n",
    "\n",
    "testingsample_set = pd.concat([t_sample, f_sample], axis=0)"
   ]
  },
  {
   "cell_type": "code",
   "execution_count": 133,
   "metadata": {},
   "outputs": [],
   "source": [
    "# Uncomment to save testing sample df to data folder\n",
    "# testingsample_set.to_csv('./data/testingsample_df.csv')"
   ]
  },
  {
   "cell_type": "code",
   "execution_count": 134,
   "metadata": {},
   "outputs": [],
   "source": [
    "# Reset index on test\n",
    "X_test.reset_index(inplace=True, drop=True)\n",
    "y_test.reset_index(inplace=True, drop=True)"
   ]
  },
  {
   "cell_type": "code",
   "execution_count": 135,
   "metadata": {},
   "outputs": [
    {
     "data": {
      "text/plain": [
       "<6505x10848 sparse matrix of type '<class 'numpy.float64'>'\n",
       "\twith 2916525 stored elements in Compressed Sparse Row format>"
      ]
     },
     "execution_count": 135,
     "metadata": {},
     "output_type": "execute_result"
    }
   ],
   "source": [
    "# Recreate tfidf vectorizer\n",
    "tfidf = TfidfVectorizer(ngram_range=(1,2), min_df=50)\n",
    "\n",
    "X = cafe_clean['joined_tokens']\n",
    "y = cafe_clean['t/f']\n",
    "\n",
    "X_train, X_test, y_train, y_test = train_test_split(X, y, random_state=SEED)\n",
    "\n",
    "tfidf.fit_transform(X_train, y_train) # fit on training"
   ]
  },
  {
   "cell_type": "code",
   "execution_count": 136,
   "metadata": {},
   "outputs": [
    {
     "name": "stdout",
     "output_type": "stream",
     "text": [
      "t\n",
      "['im' 'ill' 'ive get' 'ive' 'he']\n",
      "-------------------------\n",
      "actually thats exactly right youve treat past combine youve learn cope treatment good bad dictate act present quite almost like say freudian psychology youre right track extent treat earlier lead today stand people long depend mean yes ill buy freudian psychology extent conversely explain way interact world think impact appearance depends reason job bad fit know youre preemptive cant stand people work thats petty time thank put creative write format appreciate immensely cannot force read read bit though teleporter bit personally believe ive get buddy he cool suave real pal cant speak close language depend whats go one u slowone friend go like realistic science fiction one follow basic law physic kind reason behind science fiction like alien series minority report irobot yep physical stereotype fit ive get slanted posture stone dead face doesnt change unless im actively try soulless eye wiry frame name im heh doin right im moral dilemma ive always consider neutral living world gray instead black white im walk contradiction hard mean happy youre unless happen condescend heartless prick admittedly cup tea quite good enjoyable listen im alternative rock kind guy id recommend others arethe majority workaholic know work sickness feel even tiny shred responsibility task pertain best friend artwork much he draw tattoos he id say creates situation id say song there one every crowd step roll fruit roll ball step shove entire thing mouth step poorly attempt chew slobber like idiot experience bliss come open im flake dont know youre talk im perfectly reliable time reason dont problem dart eye room casually sip yep end day say do one ill rely cant kind man everyone ever meet majority love express mathematics heh thanks stroke ego still think look kind dumb though used look like barber cut hair short top without ask trim front anyone need clinically insane run mill talk reason im interested im apathetic set something also timezone fucked pretty straightforward trait posse would think closely associate personality blunt honesty analytic nature highly logical mental process social ill give thats true dont know everything certain one hell im bit solipsist relate tad ill justify dawilliams thank sentiment truth insight get along fine know many father brother several friend acquaintance brush teeth keep body move drink water often sit awkwardly maintain discomfort make impossible fall asleep smoke chew tobacco get lot already dead transform food source dont buy eat someone else even bother guilt like stop farming associate could accurately describe rival point get along neutral environment outside work lot common blank often ive become infamous among people know bad short term memory planet often get flak work set energy drink somewhere book wont really help much lot come experience reflection ill tell thing work im pretty social first use social hate double post like barber shop jack haircut im put new photo reflect change think look pretty stupid compare last one heres way condition know unaware dont know notice something oblivious would call little bless curse curse one phat cat true dat kill get fantastic skin like seriously draw pretty interest like ink work clothing sorry guy dont think he change mind look ill try convey point think everyone try show clearly objectively im able think people one dumb video ill see week question aside video basically boil people use symbolism use subtly influence painfully obvious new guy move he alright guy like computer bit script kiddie work hell ask professional opinion lot he conscientious everything youre avatar mention budget cut well thats interest far ive get couple nay yay truckload fuck nos trend im see follow ive noticed trend breathe asthma issue enough bring good point think simple would suffice current day im reading post take poll poll isnt serious good insight im go play devil advocate read post know nothing previous post sound like tumblr justice someone feeling slight honestly hmm interest least im gathering data arent cant ignore result ill admit smoke ive rationalize good ill put would ive get youve get ive come assume majority im get good advice dont know well might work consider read book somewhere secret life believe myers briggs personality type likely smoke large margin im curious critical brutally honest hint disdain callousness start conversation new burger place go end talk prospective us quantum compute ignore typo title intentional mistake nonetheless hey forum question title course ill cut chase ive interested technically thats true would take super computer god calculate massive amount data would need do fast time realistically impossible im huge fan anime enjoy art style nowhere near otaku level frankly find much inane lot culture turn offgives creep enjoy thingy act take leave thing people like u normally wouldnt care ill agree extent although discover solipsism chose villain im evil dream evil far hero generally mean follow societys generally accept view good lawful whether second notion except chemistry whatever reason phenomenal science math combine two might well speak swahili surprise many father brother mother intuitive immediate family im generally see oddball screw loose appreciate different form think ive invented solipsism laplace demon last one nfl draft pick earlier year currently im work theorize mentally construct military\n"
     ]
    }
   ],
   "source": [
    "# Test it out\n",
    "rint = np.random.randint(0, len(X_test))\n",
    "feature_array = np.array(tfidf.get_feature_names())\n",
    "response = tfidf.transform([X_test[rint]])\n",
    "tfidf_sorting = np.argsort(response.toarray()).flatten()[::-1]\n",
    "\n",
    "n = 5\n",
    "top_n = feature_array[tfidf_sorting][:n]\n",
    "print(y_test[rint])\n",
    "print(top_n)\n",
    "print('-'*25)\n",
    "print(X_test[rint])"
   ]
  },
  {
   "cell_type": "code",
   "execution_count": 137,
   "metadata": {},
   "outputs": [],
   "source": [
    "# Uncomment to save testing sample df to data folder\n",
    "# pickle.dump(tfidf, open('./models/final_tfidf.pkl', 'wb'))"
   ]
  },
  {
   "cell_type": "markdown",
   "metadata": {},
   "source": [
    "---\n",
    "## Random Sample Reddit"
   ]
  },
  {
   "cell_type": "markdown",
   "metadata": {},
   "source": [
    "Testing of unseen data from Reddit"
   ]
  },
  {
   "cell_type": "code",
   "execution_count": 138,
   "metadata": {},
   "outputs": [
    {
     "data": {
      "text/html": [
       "<div>\n",
       "<style scoped>\n",
       "    .dataframe tbody tr th:only-of-type {\n",
       "        vertical-align: middle;\n",
       "    }\n",
       "\n",
       "    .dataframe tbody tr th {\n",
       "        vertical-align: top;\n",
       "    }\n",
       "\n",
       "    .dataframe thead th {\n",
       "        text-align: right;\n",
       "    }\n",
       "</style>\n",
       "<table border=\"1\" class=\"dataframe\">\n",
       "  <thead>\n",
       "    <tr style=\"text-align: right;\">\n",
       "      <th></th>\n",
       "      <th>Unnamed: 0</th>\n",
       "      <th>author_flair_text</th>\n",
       "      <th>body</th>\n",
       "      <th>subreddit</th>\n",
       "      <th>t/f</th>\n",
       "      <th>clean_posts</th>\n",
       "      <th>post_tokens</th>\n",
       "      <th>joined_tokens</th>\n",
       "    </tr>\n",
       "  </thead>\n",
       "  <tbody>\n",
       "    <tr>\n",
       "      <th>0</th>\n",
       "      <td>16807</td>\n",
       "      <td>intj</td>\n",
       "      <td>Start reading [Mr. Money Mustache.](http://www...</td>\n",
       "      <td>intj</td>\n",
       "      <td>t</td>\n",
       "      <td>Start reading [Mr. Money Mustache.]( and subsc...</td>\n",
       "      <td>['Start', 'reading', 'Mr', 'Money', 'Mustache'...</td>\n",
       "      <td>Start reading Mr Money Mustache subscribe frug...</td>\n",
       "    </tr>\n",
       "    <tr>\n",
       "      <th>1</th>\n",
       "      <td>15826</td>\n",
       "      <td>intj</td>\n",
       "      <td>&amp;gt; I honestly think it just upsets people th...</td>\n",
       "      <td>intj</td>\n",
       "      <td>t</td>\n",
       "      <td>&amp;gt; I honestly think it just upsets people th...</td>\n",
       "      <td>['gt', 'honestly', 'think', 'upset', 'people',...</td>\n",
       "      <td>gt honestly think upset people work easier say...</td>\n",
       "    </tr>\n",
       "    <tr>\n",
       "      <th>2</th>\n",
       "      <td>11588</td>\n",
       "      <td>istp</td>\n",
       "      <td>My interpretation, without having read any exp...</td>\n",
       "      <td>mbti</td>\n",
       "      <td>t</td>\n",
       "      <td>My interpretation, without having read any exp...</td>\n",
       "      <td>['My', 'interpretation', 'without', 'read', 'e...</td>\n",
       "      <td>My interpretation without read explanation The...</td>\n",
       "    </tr>\n",
       "    <tr>\n",
       "      <th>3</th>\n",
       "      <td>12667</td>\n",
       "      <td>intj</td>\n",
       "      <td>As someone who is making the current transitio...</td>\n",
       "      <td>intj</td>\n",
       "      <td>t</td>\n",
       "      <td>As someone who is making the current transitio...</td>\n",
       "      <td>['As', 'someone', 'making', 'current', 'transi...</td>\n",
       "      <td>As someone making current transition career tr...</td>\n",
       "    </tr>\n",
       "    <tr>\n",
       "      <th>4</th>\n",
       "      <td>2814</td>\n",
       "      <td>intp</td>\n",
       "      <td>&amp;gt; cruel even though I know it isn't intende...</td>\n",
       "      <td>INTP</td>\n",
       "      <td>t</td>\n",
       "      <td>&amp;gt; cruel even though I know it isnt intended...</td>\n",
       "      <td>['gt', 'cruel', 'even', 'though', 'know', 'isn...</td>\n",
       "      <td>gt cruel even though know isnt intended way Cr...</td>\n",
       "    </tr>\n",
       "    <tr>\n",
       "      <th>...</th>\n",
       "      <td>...</td>\n",
       "      <td>...</td>\n",
       "      <td>...</td>\n",
       "      <td>...</td>\n",
       "      <td>...</td>\n",
       "      <td>...</td>\n",
       "      <td>...</td>\n",
       "      <td>...</td>\n",
       "    </tr>\n",
       "    <tr>\n",
       "      <th>995</th>\n",
       "      <td>3290</td>\n",
       "      <td>enfj</td>\n",
       "      <td>thank you @sugoruyo for your in-depth reply. i...</td>\n",
       "      <td>INTP</td>\n",
       "      <td>f</td>\n",
       "      <td>thank you @sugoruyo for your in-depth reply. i...</td>\n",
       "      <td>['thank', 'sugoruyo', 'depth', 'reply', 'comfo...</td>\n",
       "      <td>thank sugoruyo depth reply comforting informat...</td>\n",
       "    </tr>\n",
       "    <tr>\n",
       "      <th>996</th>\n",
       "      <td>16677</td>\n",
       "      <td>infj</td>\n",
       "      <td>Oh, but it's actually great advice! I have to ...</td>\n",
       "      <td>infj</td>\n",
       "      <td>f</td>\n",
       "      <td>Oh, but its actually great advice! I have to r...</td>\n",
       "      <td>['Oh', 'actually', 'great', 'advice', 'remind'...</td>\n",
       "      <td>Oh actually great advice remind time time Ther...</td>\n",
       "    </tr>\n",
       "    <tr>\n",
       "      <th>997</th>\n",
       "      <td>499</td>\n",
       "      <td>enfp</td>\n",
       "      <td>Just give it some time until your \"attachment\"...</td>\n",
       "      <td>ENFP</td>\n",
       "      <td>f</td>\n",
       "      <td>Just give it some time until your \"attachment\"...</td>\n",
       "      <td>['Just', 'give', 'time', 'attachment', 'people...</td>\n",
       "      <td>Just give time attachment people past fade Try...</td>\n",
       "    </tr>\n",
       "    <tr>\n",
       "      <th>998</th>\n",
       "      <td>676</td>\n",
       "      <td>infj</td>\n",
       "      <td>Holy narrow view batman. This whole video hone...</td>\n",
       "      <td>infj</td>\n",
       "      <td>f</td>\n",
       "      <td>Holy narrow view batman. This whole video hone...</td>\n",
       "      <td>['Holy', 'narrow', 'view', 'batman', 'This', '...</td>\n",
       "      <td>Holy narrow view batman This whole video hones...</td>\n",
       "    </tr>\n",
       "    <tr>\n",
       "      <th>999</th>\n",
       "      <td>3340</td>\n",
       "      <td>infj</td>\n",
       "      <td>&amp;gt; It doesn't help that secretly any interac...</td>\n",
       "      <td>infj</td>\n",
       "      <td>f</td>\n",
       "      <td>&amp;gt; It doesnt help that secretly any interact...</td>\n",
       "      <td>['gt', 'It', 'doesnt', 'help', 'secretly', 'in...</td>\n",
       "      <td>gt It doesnt help secretly interaction anyone ...</td>\n",
       "    </tr>\n",
       "  </tbody>\n",
       "</table>\n",
       "<p>1000 rows × 8 columns</p>\n",
       "</div>"
      ],
      "text/plain": [
       "     Unnamed: 0 author_flair_text  \\\n",
       "0         16807              intj   \n",
       "1         15826              intj   \n",
       "2         11588              istp   \n",
       "3         12667              intj   \n",
       "4          2814              intp   \n",
       "..          ...               ...   \n",
       "995        3290              enfj   \n",
       "996       16677              infj   \n",
       "997         499              enfp   \n",
       "998         676              infj   \n",
       "999        3340              infj   \n",
       "\n",
       "                                                  body subreddit t/f  \\\n",
       "0    Start reading [Mr. Money Mustache.](http://www...      intj   t   \n",
       "1    &gt; I honestly think it just upsets people th...      intj   t   \n",
       "2    My interpretation, without having read any exp...      mbti   t   \n",
       "3    As someone who is making the current transitio...      intj   t   \n",
       "4    &gt; cruel even though I know it isn't intende...      INTP   t   \n",
       "..                                                 ...       ...  ..   \n",
       "995  thank you @sugoruyo for your in-depth reply. i...      INTP   f   \n",
       "996  Oh, but it's actually great advice! I have to ...      infj   f   \n",
       "997  Just give it some time until your \"attachment\"...      ENFP   f   \n",
       "998  Holy narrow view batman. This whole video hone...      infj   f   \n",
       "999  &gt; It doesn't help that secretly any interac...      infj   f   \n",
       "\n",
       "                                           clean_posts  \\\n",
       "0    Start reading [Mr. Money Mustache.]( and subsc...   \n",
       "1    &gt; I honestly think it just upsets people th...   \n",
       "2    My interpretation, without having read any exp...   \n",
       "3    As someone who is making the current transitio...   \n",
       "4    &gt; cruel even though I know it isnt intended...   \n",
       "..                                                 ...   \n",
       "995  thank you @sugoruyo for your in-depth reply. i...   \n",
       "996  Oh, but its actually great advice! I have to r...   \n",
       "997  Just give it some time until your \"attachment\"...   \n",
       "998  Holy narrow view batman. This whole video hone...   \n",
       "999  &gt; It doesnt help that secretly any interact...   \n",
       "\n",
       "                                           post_tokens  \\\n",
       "0    ['Start', 'reading', 'Mr', 'Money', 'Mustache'...   \n",
       "1    ['gt', 'honestly', 'think', 'upset', 'people',...   \n",
       "2    ['My', 'interpretation', 'without', 'read', 'e...   \n",
       "3    ['As', 'someone', 'making', 'current', 'transi...   \n",
       "4    ['gt', 'cruel', 'even', 'though', 'know', 'isn...   \n",
       "..                                                 ...   \n",
       "995  ['thank', 'sugoruyo', 'depth', 'reply', 'comfo...   \n",
       "996  ['Oh', 'actually', 'great', 'advice', 'remind'...   \n",
       "997  ['Just', 'give', 'time', 'attachment', 'people...   \n",
       "998  ['Holy', 'narrow', 'view', 'batman', 'This', '...   \n",
       "999  ['gt', 'It', 'doesnt', 'help', 'secretly', 'in...   \n",
       "\n",
       "                                         joined_tokens  \n",
       "0    Start reading Mr Money Mustache subscribe frug...  \n",
       "1    gt honestly think upset people work easier say...  \n",
       "2    My interpretation without read explanation The...  \n",
       "3    As someone making current transition career tr...  \n",
       "4    gt cruel even though know isnt intended way Cr...  \n",
       "..                                                 ...  \n",
       "995  thank sugoruyo depth reply comforting informat...  \n",
       "996  Oh actually great advice remind time time Ther...  \n",
       "997  Just give time attachment people past fade Try...  \n",
       "998  Holy narrow view batman This whole video hones...  \n",
       "999  gt It doesnt help secretly interaction anyone ...  \n",
       "\n",
       "[1000 rows x 8 columns]"
      ]
     },
     "execution_count": 138,
     "metadata": {},
     "output_type": "execute_result"
    }
   ],
   "source": [
    "# Reading Reddit sample\n",
    "reddit_sample = pd.read_csv('./data/reddit_sample.csv')\n",
    "reddit_sample"
   ]
  },
  {
   "cell_type": "code",
   "execution_count": 139,
   "metadata": {},
   "outputs": [
    {
     "data": {
      "text/html": [
       "<div>\n",
       "<style scoped>\n",
       "    .dataframe tbody tr th:only-of-type {\n",
       "        vertical-align: middle;\n",
       "    }\n",
       "\n",
       "    .dataframe tbody tr th {\n",
       "        vertical-align: top;\n",
       "    }\n",
       "\n",
       "    .dataframe thead th {\n",
       "        text-align: right;\n",
       "    }\n",
       "</style>\n",
       "<table border=\"1\" class=\"dataframe\">\n",
       "  <thead>\n",
       "    <tr style=\"text-align: right;\">\n",
       "      <th></th>\n",
       "      <th>Unnamed: 0</th>\n",
       "      <th>author_flair_text</th>\n",
       "      <th>body</th>\n",
       "      <th>subreddit</th>\n",
       "      <th>t/f</th>\n",
       "      <th>clean_posts</th>\n",
       "      <th>post_tokens</th>\n",
       "      <th>joined_tokens</th>\n",
       "    </tr>\n",
       "  </thead>\n",
       "  <tbody>\n",
       "  </tbody>\n",
       "</table>\n",
       "</div>"
      ],
      "text/plain": [
       "Empty DataFrame\n",
       "Columns: [Unnamed: 0, author_flair_text, body, subreddit, t/f, clean_posts, post_tokens, joined_tokens]\n",
       "Index: []"
      ]
     },
     "execution_count": 139,
     "metadata": {},
     "output_type": "execute_result"
    }
   ],
   "source": [
    "# Checking NaN\n",
    "reddit_sample[reddit_sample['joined_tokens'].isna() == True]"
   ]
  },
  {
   "cell_type": "code",
   "execution_count": 140,
   "metadata": {},
   "outputs": [
    {
     "name": "stdout",
     "output_type": "stream",
     "text": [
      "              precision    recall  f1-score   support\n",
      "\n",
      "           t       0.77      0.41      0.54       500\n",
      "           f       0.60      0.88      0.71       500\n",
      "\n",
      "    accuracy                           0.65      1000\n",
      "   macro avg       0.68      0.65      0.62      1000\n",
      "weighted avg       0.68      0.65      0.62      1000\n",
      "\n"
     ]
    },
    {
     "data": {
      "image/png": "[encoded data removed]",
      "text/plain": [
       "<Figure size 360x360 with 2 Axes>"
      ]
     },
     "metadata": {},
     "output_type": "display_data"
    }
   ],
   "source": [
    "# Testing Reddit Sample with our model\n",
    "reddit_X = reddit_sample['joined_tokens']\n",
    "reddit_y = reddit_sample['t/f']\n",
    "\n",
    "y_pred = final_sgd.predict(reddit_X)\n",
    "acc_score = accuracy_score(reddit_y, y_pred)\n",
    "\n",
    "print(classification_report(y_pred=y_pred, y_true=reddit_y, target_names=reddit_sample['t/f'].unique()))\n",
    "\n",
    "fig, ax = plt.subplots(figsize=(5,5))\n",
    "plt.rcParams.update({'font.size': 10})\n",
    "plt.rc('xtick', labelsize=10) \n",
    "plt.rc('ytick', labelsize=10) \n",
    "plot_confusion_matrix(final_sgd, reddit_X, reddit_y, ax=ax, normalize='true')\n",
    "plt.grid(False);"
   ]
  },
  {
   "cell_type": "markdown",
   "metadata": {},
   "source": [
    "---"
   ]
  },
  {
   "cell_type": "markdown",
   "metadata": {},
   "source": [
    "\n",
    "## Conclusion\n",
    "\n",
    "![closer](./images/closer.png)\n",
    "\n",
    "The task was quite difficult and the dataset was flawed, but it was possible to predict *THINKING* vs. *FEELING* types at a decently high-level simply given text chatter from this forum website. \n",
    "\n",
    "This verifies to a degree that *THINKING* vs. *FEELING* Myers Briggs types can be segmented by implicit user text data.\n",
    "\n",
    "This discovery and tool can be used by social media or text-based internet companies to develop targeting strategies for digital advertising and understanding their customer base between *THINKING* vs. *FEELING* types.\n",
    "\n",
    "The next step I will be taking is using transformers and more data to derive semantic and contextual meaning from the words to uncover more insights.\n",
    "\n",
    "## Next Steps\n",
    "\n",
    "This automatic personality prediction project will be ongoing to further enhance and improve the results. \n",
    "There are many cutting edge, advanced techniques for finding contextual and semantic meaning behind words, setences and documents. Over the coming months, these techniques will be applied to the dataset as well as new data. Checklist below:\n",
    "\n",
    "- Find/use more data\n",
    "- Word Embeddings\n",
    "- Neural Networks w/ LSTM\n",
    "- BERT\n",
    "- XLNet\n",
    "\n",
    "#### For more information\n",
    "Please contact the contributors to this analysis: \n",
    "[Weston Shuken](https://www.linkedin.com/in/westonshuken/)"
   ]
  }
 ],
 "metadata": {
  "interpreter": {
   "hash": "033c84df5fb4c613acf884834f63930b25da6784759ce0fb831a430fcd673895"
  },
  "kernelspec": {
   "display_name": "Python 3.8.5 ('learn-env')",
   "language": "python",
   "name": "python3"
  },
  "language_info": {
   "codemirror_mode": {
    "name": "ipython",
    "version": 3
   },
   "file_extension": ".py",
   "mimetype": "text/x-python",
   "name": "python",
   "nbconvert_exporter": "python",
   "pygments_lexer": "ipython3",
   "version": "3.8.5"
  },
  "orig_nbformat": 4
 },
 "nbformat": 4,
 "nbformat_minor": 2
}
