{
 "cells": [
  {
   "cell_type": "markdown",
   "metadata": {},
   "source": [
    "# Myers-Briggs Personality Prediction\n",
    "\n",
    "#### by Weston Shuken\n",
    "\n",
    "---"
   ]
  },
  {
   "cell_type": "markdown",
   "metadata": {},
   "source": [
    "## Overview\n",
    "\n",
    "The purpose of this project is to take in typed text from a person and use machine learning algorithms to precict the personality type of that person. The personality type predictions are based on the Myers-Briggs Type Indicator (MBTI) test as the target variable. The features or predictor variables are comments and posts from users on [Reddit](https://www.reddit.com/) and [PersonalityCafe](https://www.personalitycafe.com/). These posts and comments come from users who have explicitley labeled their MBTI personality on their profile. \n",
    "\n",
    "The Myers-Briggs test is a very popular test that ask users approximately 90 questions about their behavior and assigns the user a type of personality based on this assessment. This test takes around 20-30 for someone to complete. \n",
    "\n",
    "There are 16 different personality types using a combination of 8 overall traits. See below:\n",
    "\n",
    "    Introversion (I) vs Extroversion (E)\n",
    "    Intuition (N) vs Sensing (S)\n",
    "    Thinking (T) vs Feeling (F)\n",
    "    Judging (J) vs Perceiving (P)\n",
    "    "
   ]
  },
  {
   "cell_type": "markdown",
   "metadata": {},
   "source": [
    "## Exploratory Data Analysis"
   ]
  },
  {
   "cell_type": "code",
   "execution_count": 137,
   "metadata": {},
   "outputs": [],
   "source": [
    "# Imports for EDA, Cleaning, Plotting & Modeling\n",
    "import pandas as pd\n",
    "import numpy as np\n",
    "import matplotlib.pyplot as plt\n",
    "import time\n",
    "import seaborn as sns\n",
    "import re\n",
    "import pickle\n",
    "\n",
    "from nltk.corpus import stopwords\n",
    "from nltk.tokenize import RegexpTokenizer\n",
    "from nltk.stem.wordnet import WordNetLemmatizer\n",
    "from nltk.tokenize import word_tokenize\n",
    "from nltk.probability import FreqDist\n",
    "\n",
    "from sklearn.feature_extraction.text import TfidfVectorizer, TfidfTransformer, CountVectorizer\n",
    "from sklearn.naive_bayes import MultinomialNB\n",
    "from sklearn.pipeline import Pipeline\n",
    "from sklearn.linear_model import SGDClassifier, LogisticRegression\n",
    "from sklearn.ensemble import RandomForestClassifier\n",
    "from sklearn.svm import LinearSVC, SVC\n",
    "from sklearn.tree import DecisionTreeClassifier\n",
    "from sklearn.metrics import plot_confusion_matrix, accuracy_score, classification_report\n",
    "from sklearn.model_selection import train_test_split, cross_val_score\n",
    "\n",
    "from mbti import run_models\n",
    "\n",
    "# Random Seed for everything\n",
    "SEED = 53188535"
   ]
  },
  {
   "cell_type": "code",
   "execution_count": 2,
   "metadata": {},
   "outputs": [],
   "source": [
    "# Loading the Data\n",
    "cafe_df = pd.read_csv('data/mbti_1.csv')"
   ]
  },
  {
   "cell_type": "code",
   "execution_count": 3,
   "metadata": {},
   "outputs": [],
   "source": [
    "mbti_lst = ['intp', 'intj', 'entp', 'entj', 'infj', 'infp', 'enfj', 'enfp', 'istj', 'isfj', 'estj', 'esfj', 'istp', 'isfp', 'estp', 'esfp']"
   ]
  },
  {
   "cell_type": "code",
   "execution_count": 4,
   "metadata": {},
   "outputs": [
    {
     "data": {
      "text/html": [
       "<div>\n",
       "<style scoped>\n",
       "    .dataframe tbody tr th:only-of-type {\n",
       "        vertical-align: middle;\n",
       "    }\n",
       "\n",
       "    .dataframe tbody tr th {\n",
       "        vertical-align: top;\n",
       "    }\n",
       "\n",
       "    .dataframe thead th {\n",
       "        text-align: right;\n",
       "    }\n",
       "</style>\n",
       "<table border=\"1\" class=\"dataframe\">\n",
       "  <thead>\n",
       "    <tr style=\"text-align: right;\">\n",
       "      <th></th>\n",
       "      <th>type</th>\n",
       "      <th>posts</th>\n",
       "    </tr>\n",
       "  </thead>\n",
       "  <tbody>\n",
       "    <tr>\n",
       "      <th>0</th>\n",
       "      <td>INFJ</td>\n",
       "      <td>'http://www.youtube.com/watch?v=qsXHcwe3krw|||...</td>\n",
       "    </tr>\n",
       "    <tr>\n",
       "      <th>1</th>\n",
       "      <td>ENTP</td>\n",
       "      <td>'I'm finding the lack of me in these posts ver...</td>\n",
       "    </tr>\n",
       "    <tr>\n",
       "      <th>2</th>\n",
       "      <td>INTP</td>\n",
       "      <td>'Good one  _____   https://www.youtube.com/wat...</td>\n",
       "    </tr>\n",
       "    <tr>\n",
       "      <th>3</th>\n",
       "      <td>INTJ</td>\n",
       "      <td>'Dear INTP,   I enjoyed our conversation the o...</td>\n",
       "    </tr>\n",
       "    <tr>\n",
       "      <th>4</th>\n",
       "      <td>ENTJ</td>\n",
       "      <td>'You're fired.|||That's another silly misconce...</td>\n",
       "    </tr>\n",
       "    <tr>\n",
       "      <th>...</th>\n",
       "      <td>...</td>\n",
       "      <td>...</td>\n",
       "    </tr>\n",
       "    <tr>\n",
       "      <th>8670</th>\n",
       "      <td>ISFP</td>\n",
       "      <td>'https://www.youtube.com/watch?v=t8edHB_h908||...</td>\n",
       "    </tr>\n",
       "    <tr>\n",
       "      <th>8671</th>\n",
       "      <td>ENFP</td>\n",
       "      <td>'So...if this thread already exists someplace ...</td>\n",
       "    </tr>\n",
       "    <tr>\n",
       "      <th>8672</th>\n",
       "      <td>INTP</td>\n",
       "      <td>'So many questions when i do these things.  I ...</td>\n",
       "    </tr>\n",
       "    <tr>\n",
       "      <th>8673</th>\n",
       "      <td>INFP</td>\n",
       "      <td>'I am very conflicted right now when it comes ...</td>\n",
       "    </tr>\n",
       "    <tr>\n",
       "      <th>8674</th>\n",
       "      <td>INFP</td>\n",
       "      <td>'It has been too long since I have been on per...</td>\n",
       "    </tr>\n",
       "  </tbody>\n",
       "</table>\n",
       "<p>8675 rows × 2 columns</p>\n",
       "</div>"
      ],
      "text/plain": [
       "      type                                              posts\n",
       "0     INFJ  'http://www.youtube.com/watch?v=qsXHcwe3krw|||...\n",
       "1     ENTP  'I'm finding the lack of me in these posts ver...\n",
       "2     INTP  'Good one  _____   https://www.youtube.com/wat...\n",
       "3     INTJ  'Dear INTP,   I enjoyed our conversation the o...\n",
       "4     ENTJ  'You're fired.|||That's another silly misconce...\n",
       "...    ...                                                ...\n",
       "8670  ISFP  'https://www.youtube.com/watch?v=t8edHB_h908||...\n",
       "8671  ENFP  'So...if this thread already exists someplace ...\n",
       "8672  INTP  'So many questions when i do these things.  I ...\n",
       "8673  INFP  'I am very conflicted right now when it comes ...\n",
       "8674  INFP  'It has been too long since I have been on per...\n",
       "\n",
       "[8675 rows x 2 columns]"
      ]
     },
     "execution_count": 4,
     "metadata": {},
     "output_type": "execute_result"
    }
   ],
   "source": [
    "cafe_df"
   ]
  },
  {
   "cell_type": "code",
   "execution_count": 5,
   "metadata": {},
   "outputs": [
    {
     "name": "stdout",
     "output_type": "stream",
     "text": [
      "<class 'pandas.core.frame.DataFrame'>\n",
      "RangeIndex: 8675 entries, 0 to 8674\n",
      "Data columns (total 2 columns):\n",
      " #   Column  Non-Null Count  Dtype \n",
      "---  ------  --------------  ----- \n",
      " 0   type    8675 non-null   object\n",
      " 1   posts   8675 non-null   object\n",
      "dtypes: object(2)\n",
      "memory usage: 135.7+ KB\n"
     ]
    }
   ],
   "source": [
    "cafe_df.info()"
   ]
  },
  {
   "cell_type": "code",
   "execution_count": 6,
   "metadata": {},
   "outputs": [
    {
     "data": {
      "text/plain": [
       "INFP    1832\n",
       "INFJ    1470\n",
       "INTP    1304\n",
       "INTJ    1091\n",
       "ENTP     685\n",
       "ENFP     675\n",
       "ISTP     337\n",
       "ISFP     271\n",
       "ENTJ     231\n",
       "ISTJ     205\n",
       "ENFJ     190\n",
       "ISFJ     166\n",
       "ESTP      89\n",
       "ESFP      48\n",
       "ESFJ      42\n",
       "ESTJ      39\n",
       "Name: type, dtype: int64"
      ]
     },
     "execution_count": 6,
     "metadata": {},
     "output_type": "execute_result"
    }
   ],
   "source": [
    "cafe_df['type'].value_counts()"
   ]
  },
  {
   "cell_type": "code",
   "execution_count": 7,
   "metadata": {},
   "outputs": [
    {
     "data": {
      "image/png": "[encoded data removed]",
      "text/plain": [
       "<Figure size 1440x576 with 1 Axes>"
      ]
     },
     "metadata": {},
     "output_type": "display_data"
    }
   ],
   "source": [
    "sns.set_context('talk')\n",
    "sns.set_style('darkgrid')\n",
    "plt.figure(figsize=(20,8))\n",
    "plt.bar(cafe_df['type'].value_counts(normalize=True).index, cafe_df['type'].value_counts(normalize=True).values*100)\n",
    "plt.title('Class Imbalance by percentage')\n",
    "plt.ylabel('%');"
   ]
  },
  {
   "cell_type": "code",
   "execution_count": 8,
   "metadata": {},
   "outputs": [
    {
     "name": "stdout",
     "output_type": "stream",
     "text": [
      ">>>>>>>>>>INTP<<<<<<<<<<\n",
      "-------------------------\n",
      "'I've always thought the League champions to not have enough background depth to really get a good judgment on a personality type, but there are a few that stand out.  Draven - ESTP,  Type 3 on the...|||You are a: Left-Leaning Anarchist Isolationist Humanist LibertineCollectivism score: 17% Authoritarianism score: -83% Internationalism score: -50% Tribalism score: -67% Liberalism score: 100% ...|||Does anyone here play Drawception?  I find it to be rather entertaining, especially seeing what a simple concept can transform into.    Drawception - The social picture telephone game!  My...|||That's something that always interested me too.  I'll play any role, but I prefer top lane and sometimes support.  My favorite champions tend to be those who can win teamfights or splitpush easily...|||I like being the center of attention if I'm showing off some idea, something I've made, or in the case of doing well in a competition and drawing a crowd.  Things that show competence and don't...|||Drav\n"
     ]
    }
   ],
   "source": [
    "# looking at 2 some random posts\n",
    "rint = np.random.randint(0, len(cafe_df))\n",
    "print('>'*10 + cafe_df['type'].iloc[rint] + '<'*10)\n",
    "print('-'*25)\n",
    "print(cafe_df['posts'].iloc[rint][:1000])\n",
    "\n",
    "## BE CAREFUL... Reddit posts can often be quite rude..."
   ]
  },
  {
   "cell_type": "markdown",
   "metadata": {},
   "source": [
    "#### Takeaways from seeing the dataset:\n",
    "\n",
    "- The classes are quite imbalanced, which can bias the model to choosing one class over the other just given class weight.\n",
    "- There is a lot of cleaning to do with the text (lowercase, remove urls, remove symbols/punctuation, lemmitization, etc.)\n",
    "- There are definitely incorrect spellings of words and acroynms like `lol` & `btw`\n",
    "- The posts might include the personality type in them, which could be considered `data leakage`."
   ]
  },
  {
   "cell_type": "markdown",
   "metadata": {},
   "source": [
    "### Cleaning & Tokenizing"
   ]
  },
  {
   "cell_type": "code",
   "execution_count": 9,
   "metadata": {},
   "outputs": [],
   "source": [
    "cafe_clean = cafe_df.copy()"
   ]
  },
  {
   "cell_type": "code",
   "execution_count": 10,
   "metadata": {},
   "outputs": [],
   "source": [
    "# Lowercase y variables\n",
    "cafe_clean['type'] = cafe_clean.type.str.lower()\n",
    "\n",
    "# Lowercase X varaible onto a new column\n",
    "cafe_clean['clean_posts'] = cafe_clean['posts'].str.lower()"
   ]
  },
  {
   "cell_type": "code",
   "execution_count": 11,
   "metadata": {},
   "outputs": [],
   "source": [
    "def url_remove(post):\n",
    "    return re.sub(r'http\\S+', '', post)\n",
    "\n",
    "def pipe_remove(post):\n",
    "    return re.sub(r'[|]', ' ', post)\n",
    "\n",
    "def punc_remove(post):\n",
    "    return re.sub(r'[\\'_:]', '', post)\n",
    "\n",
    "def remove_dig_token(post):\n",
    "    return [post[i] for i in range(len(post)) if post[i].isalpha()]\n",
    "\n",
    "def remove_stopwords(post):\n",
    "    sw = stopwords.words('english')\n",
    "    # sw.extend(mbti_lst)\n",
    "    return [post[i] for i in range(len(post)) if post[i] not in sw]\n",
    "\n",
    "regxx = '(intp)|(intj)|(entp)|(entj)|(infj)|(infp)|(enfj)|(enfp)|(istj)|(isfj)|(estj)|(esfj)|(istp)|(isfp)|(estp)|(esfp)'\n",
    "def replace_mbti(post):\n",
    "    new = re.sub(\"r\" + regxx, \"\", post)\n",
    "    return new"
   ]
  },
  {
   "cell_type": "code",
   "execution_count": 12,
   "metadata": {},
   "outputs": [],
   "source": [
    "cafe_clean['clean_posts'] = cafe_clean['clean_posts'].apply(replace_mbti)"
   ]
  },
  {
   "cell_type": "code",
   "execution_count": 13,
   "metadata": {},
   "outputs": [],
   "source": [
    "# The posts contain multiple posts seperated by 3 pipes '|||' w/ no spaces between. \n",
    "# This function will remove pipes and replace with a space.\n",
    "cafe_clean['clean_posts'] = cafe_clean['clean_posts'].apply(pipe_remove)"
   ]
  },
  {
   "cell_type": "code",
   "execution_count": 14,
   "metadata": {},
   "outputs": [],
   "source": [
    "# This funciton will remove URLs in the posts\n",
    "cafe_clean['clean_posts'] = cafe_clean['clean_posts'].apply(url_remove)"
   ]
  },
  {
   "cell_type": "code",
   "execution_count": 15,
   "metadata": {},
   "outputs": [],
   "source": [
    "# This function will remove punctuation (dependent on what is passed in). This has `/``, `_`, `:` \n",
    "cafe_clean['clean_posts'] = cafe_clean['clean_posts'].apply(punc_remove)"
   ]
  },
  {
   "cell_type": "code",
   "execution_count": 16,
   "metadata": {},
   "outputs": [],
   "source": [
    "# This will create a column of cleaned words that have been tokenized.\n",
    "\n",
    "pattern = r\"(?u)\\b\\w\\w+\\b\" # words with more than 2 letters\n",
    "\n",
    "tokenizer = RegexpTokenizer(pattern) # instantiate tokenizer\n",
    "\n",
    "cafe_clean['post_tokens'] = cafe_clean['clean_posts'].apply(tokenizer.tokenize)"
   ]
  },
  {
   "cell_type": "code",
   "execution_count": 17,
   "metadata": {},
   "outputs": [],
   "source": [
    "# Removing any remaining numeric digits\n",
    "cafe_clean['post_tokens'] = cafe_clean['post_tokens'].apply(remove_dig_token)"
   ]
  },
  {
   "cell_type": "code",
   "execution_count": 18,
   "metadata": {},
   "outputs": [],
   "source": [
    "# Removing stopwords\n",
    "cafe_clean['post_tokens'] = cafe_clean['post_tokens'].apply(remove_stopwords)"
   ]
  },
  {
   "cell_type": "code",
   "execution_count": 19,
   "metadata": {},
   "outputs": [],
   "source": [
    "# Lemmatizing the words\n",
    "lemmatizer = WordNetLemmatizer()\n",
    "\n",
    "def lemmatize_text(tokens):\n",
    "    return [lemmatizer.lemmatize(w) for w in tokens]\n",
    "\n",
    "cafe_clean['post_tokens'] = cafe_clean['post_tokens'].apply(lemmatize_text)"
   ]
  },
  {
   "cell_type": "code",
   "execution_count": 20,
   "metadata": {},
   "outputs": [],
   "source": [
    "# Joining the tokens together into one long string\n",
    "def join_tokens(tokens):\n",
    "    long_string = ' '.join(tokens)\n",
    "    return long_string\n",
    "\n",
    "cafe_clean['joined_tokens'] = cafe_clean['post_tokens'].apply(join_tokens) # Creating new column"
   ]
  },
  {
   "cell_type": "code",
   "execution_count": 21,
   "metadata": {},
   "outputs": [
    {
     "data": {
      "text/html": [
       "<div>\n",
       "<style scoped>\n",
       "    .dataframe tbody tr th:only-of-type {\n",
       "        vertical-align: middle;\n",
       "    }\n",
       "\n",
       "    .dataframe tbody tr th {\n",
       "        vertical-align: top;\n",
       "    }\n",
       "\n",
       "    .dataframe thead th {\n",
       "        text-align: right;\n",
       "    }\n",
       "</style>\n",
       "<table border=\"1\" class=\"dataframe\">\n",
       "  <thead>\n",
       "    <tr style=\"text-align: right;\">\n",
       "      <th></th>\n",
       "      <th>type</th>\n",
       "      <th>posts</th>\n",
       "      <th>clean_posts</th>\n",
       "      <th>post_tokens</th>\n",
       "      <th>joined_tokens</th>\n",
       "    </tr>\n",
       "  </thead>\n",
       "  <tbody>\n",
       "    <tr>\n",
       "      <th>0</th>\n",
       "      <td>infj</td>\n",
       "      <td>'http://www.youtube.com/watch?v=qsXHcwe3krw|||...</td>\n",
       "      <td>and  moments    sportscenter not top te...</td>\n",
       "      <td>[moment, sportscenter, top, ten, play, prank, ...</td>\n",
       "      <td>moment sportscenter top ten play prank life ch...</td>\n",
       "    </tr>\n",
       "    <tr>\n",
       "      <th>1</th>\n",
       "      <td>entp</td>\n",
       "      <td>'I'm finding the lack of me in these posts ver...</td>\n",
       "      <td>im finding the lack of me in these posts very ...</td>\n",
       "      <td>[im, finding, lack, post, alarming, sex, borin...</td>\n",
       "      <td>im finding lack post alarming sex boring posit...</td>\n",
       "    </tr>\n",
       "    <tr>\n",
       "      <th>2</th>\n",
       "      <td>intp</td>\n",
       "      <td>'Good one  _____   https://www.youtube.com/wat...</td>\n",
       "      <td>good one        of course, to which i say i kn...</td>\n",
       "      <td>[good, one, course, say, know, thats, blessing...</td>\n",
       "      <td>good one course say know thats blessing curse ...</td>\n",
       "    </tr>\n",
       "    <tr>\n",
       "      <th>3</th>\n",
       "      <td>intj</td>\n",
       "      <td>'Dear INTP,   I enjoyed our conversation the o...</td>\n",
       "      <td>dear intp,   i enjoyed our conversation the ot...</td>\n",
       "      <td>[dear, intp, enjoyed, conversation, day, esote...</td>\n",
       "      <td>dear intp enjoyed conversation day esoteric ga...</td>\n",
       "    </tr>\n",
       "    <tr>\n",
       "      <th>4</th>\n",
       "      <td>entj</td>\n",
       "      <td>'You're fired.|||That's another silly misconce...</td>\n",
       "      <td>youre fired.   thats another silly misconcepti...</td>\n",
       "      <td>[youre, fired, thats, another, silly, misconce...</td>\n",
       "      <td>youre fired thats another silly misconception ...</td>\n",
       "    </tr>\n",
       "    <tr>\n",
       "      <th>...</th>\n",
       "      <td>...</td>\n",
       "      <td>...</td>\n",
       "      <td>...</td>\n",
       "      <td>...</td>\n",
       "      <td>...</td>\n",
       "    </tr>\n",
       "    <tr>\n",
       "      <th>8670</th>\n",
       "      <td>isfp</td>\n",
       "      <td>'https://www.youtube.com/watch?v=t8edHB_h908||...</td>\n",
       "      <td>ixfp just because i always think of cats as...</td>\n",
       "      <td>[ixfp, always, think, cat, fi, doms, reason, e...</td>\n",
       "      <td>ixfp always think cat fi doms reason especiall...</td>\n",
       "    </tr>\n",
       "    <tr>\n",
       "      <th>8671</th>\n",
       "      <td>enfp</td>\n",
       "      <td>'So...if this thread already exists someplace ...</td>\n",
       "      <td>so...if this thread already exists someplace e...</td>\n",
       "      <td>[thread, already, exists, someplace, else, hec...</td>\n",
       "      <td>thread already exists someplace else heck dele...</td>\n",
       "    </tr>\n",
       "    <tr>\n",
       "      <th>8672</th>\n",
       "      <td>intp</td>\n",
       "      <td>'So many questions when i do these things.  I ...</td>\n",
       "      <td>so many questions when i do these things.  i w...</td>\n",
       "      <td>[many, question, thing, would, take, purple, p...</td>\n",
       "      <td>many question thing would take purple pill pic...</td>\n",
       "    </tr>\n",
       "    <tr>\n",
       "      <th>8673</th>\n",
       "      <td>infp</td>\n",
       "      <td>'I am very conflicted right now when it comes ...</td>\n",
       "      <td>i am very conflicted right now when it comes t...</td>\n",
       "      <td>[conflicted, right, come, wanting, child, hone...</td>\n",
       "      <td>conflicted right come wanting child honestly m...</td>\n",
       "    </tr>\n",
       "    <tr>\n",
       "      <th>8674</th>\n",
       "      <td>infp</td>\n",
       "      <td>'It has been too long since I have been on per...</td>\n",
       "      <td>it has been too long since i have been on pers...</td>\n",
       "      <td>[long, since, personalitycafe, although, doesn...</td>\n",
       "      <td>long since personalitycafe although doesnt see...</td>\n",
       "    </tr>\n",
       "  </tbody>\n",
       "</table>\n",
       "<p>8675 rows × 5 columns</p>\n",
       "</div>"
      ],
      "text/plain": [
       "      type                                              posts  \\\n",
       "0     infj  'http://www.youtube.com/watch?v=qsXHcwe3krw|||...   \n",
       "1     entp  'I'm finding the lack of me in these posts ver...   \n",
       "2     intp  'Good one  _____   https://www.youtube.com/wat...   \n",
       "3     intj  'Dear INTP,   I enjoyed our conversation the o...   \n",
       "4     entj  'You're fired.|||That's another silly misconce...   \n",
       "...    ...                                                ...   \n",
       "8670  isfp  'https://www.youtube.com/watch?v=t8edHB_h908||...   \n",
       "8671  enfp  'So...if this thread already exists someplace ...   \n",
       "8672  intp  'So many questions when i do these things.  I ...   \n",
       "8673  infp  'I am very conflicted right now when it comes ...   \n",
       "8674  infp  'It has been too long since I have been on per...   \n",
       "\n",
       "                                            clean_posts  \\\n",
       "0            and  moments    sportscenter not top te...   \n",
       "1     im finding the lack of me in these posts very ...   \n",
       "2     good one        of course, to which i say i kn...   \n",
       "3     dear intp,   i enjoyed our conversation the ot...   \n",
       "4     youre fired.   thats another silly misconcepti...   \n",
       "...                                                 ...   \n",
       "8670     ixfp just because i always think of cats as...   \n",
       "8671  so...if this thread already exists someplace e...   \n",
       "8672  so many questions when i do these things.  i w...   \n",
       "8673  i am very conflicted right now when it comes t...   \n",
       "8674  it has been too long since i have been on pers...   \n",
       "\n",
       "                                            post_tokens  \\\n",
       "0     [moment, sportscenter, top, ten, play, prank, ...   \n",
       "1     [im, finding, lack, post, alarming, sex, borin...   \n",
       "2     [good, one, course, say, know, thats, blessing...   \n",
       "3     [dear, intp, enjoyed, conversation, day, esote...   \n",
       "4     [youre, fired, thats, another, silly, misconce...   \n",
       "...                                                 ...   \n",
       "8670  [ixfp, always, think, cat, fi, doms, reason, e...   \n",
       "8671  [thread, already, exists, someplace, else, hec...   \n",
       "8672  [many, question, thing, would, take, purple, p...   \n",
       "8673  [conflicted, right, come, wanting, child, hone...   \n",
       "8674  [long, since, personalitycafe, although, doesn...   \n",
       "\n",
       "                                          joined_tokens  \n",
       "0     moment sportscenter top ten play prank life ch...  \n",
       "1     im finding lack post alarming sex boring posit...  \n",
       "2     good one course say know thats blessing curse ...  \n",
       "3     dear intp enjoyed conversation day esoteric ga...  \n",
       "4     youre fired thats another silly misconception ...  \n",
       "...                                                 ...  \n",
       "8670  ixfp always think cat fi doms reason especiall...  \n",
       "8671  thread already exists someplace else heck dele...  \n",
       "8672  many question thing would take purple pill pic...  \n",
       "8673  conflicted right come wanting child honestly m...  \n",
       "8674  long since personalitycafe although doesnt see...  \n",
       "\n",
       "[8675 rows x 5 columns]"
      ]
     },
     "execution_count": 21,
     "metadata": {},
     "output_type": "execute_result"
    }
   ],
   "source": [
    "cafe_clean"
   ]
  },
  {
   "cell_type": "code",
   "execution_count": 22,
   "metadata": {},
   "outputs": [
    {
     "name": "stdout",
     "output_type": "stream",
     "text": [
      "The pre-cleaned tokens tally up to 10637645 total words\n",
      "The cleaned tokens tally up to 5390281 total words\n",
      "--------------------\n",
      "Each feature in pre-cleaned has on average 1226.0 words\n",
      "Each feature in cleaned has on average 621.0 words\n",
      "--------------------\n",
      "Each feature in pre-cleaned  has a median of 1278.0 words\n",
      "Each feature has a median of 647.0 words\n",
      "--------------------\n",
      "The minimum post in pre-cleaned  is 4 words\n",
      "The minimum post in cleaned is 0 words\n",
      "--------------------\n",
      "The minimum post in pre-cleaned  is 1881 words\n",
      "The minimum post in cleaned is 918 words\n",
      "--------------------\n"
     ]
    },
    {
     "data": {
      "image/png": "[encoded data removed]",
      "text/plain": [
       "<Figure size 1440x576 with 1 Axes>"
      ]
     },
     "metadata": {},
     "output_type": "display_data"
    }
   ],
   "source": [
    "total_words = cafe_clean['posts'].apply(lambda x: len(x.split())).sum()\n",
    "print(f'The pre-cleaned tokens tally up to {total_words} total words')\n",
    "\n",
    "clean_words = cafe_clean['post_tokens'].apply(lambda x: len(x)).sum()\n",
    "print(f'The cleaned tokens tally up to {clean_words} total words')\n",
    "\n",
    "print('-'*20)\n",
    "\n",
    "ave_post = cafe_clean['posts'].apply(lambda x: len(x.split())).mean()\n",
    "print(f'Each feature in pre-cleaned has on average {round(ave_post)} words')\n",
    "\n",
    "ave_cleaned = cafe_clean['post_tokens'].apply(lambda x: len(x)).mean()\n",
    "print(f'Each feature in cleaned has on average {round(ave_cleaned)} words')\n",
    "\n",
    "print('-'*20)\n",
    "\n",
    "med_post = cafe_clean['posts'].apply(lambda x: len(x.split())).median()\n",
    "print(f'Each feature in pre-cleaned  has a median of {round(med_post)} words')\n",
    "\n",
    "med_cleaned = cafe_clean['post_tokens'].apply(lambda x: len(x)).median()\n",
    "print(f'Each feature has a median of {round(med_cleaned)} words')\n",
    "\n",
    "print('-'*20)\n",
    "\n",
    "min_post = cafe_clean['posts'].apply(lambda x: len(x.split())).min()\n",
    "print(f'The minimum post in pre-cleaned  is {round(min_post)} words')\n",
    "\n",
    "min_cleaned = cafe_clean['post_tokens'].apply(lambda x: len(x)).min()\n",
    "print(f'The minimum post in cleaned is {round(min_cleaned)} words')\n",
    "\n",
    "print('-'*20)\n",
    "\n",
    "max_post = cafe_clean['posts'].apply(lambda x: len(x.split())).max()\n",
    "print(f'The minimum post in pre-cleaned  is {round(max_post)} words')\n",
    "\n",
    "max_cleaned = cafe_clean['post_tokens'].apply(lambda x: len(x)).max()\n",
    "print(f'The minimum post in cleaned is {round(max_cleaned)} words')\n",
    "\n",
    "print('-'*20)\n",
    "\n",
    "plt.figure(figsize=(20,8))\n",
    "plt.hist(cafe_clean['post_tokens'].apply(lambda x: len(x)), label='cleaned', alpha=.5, bins=100)\n",
    "plt.hist(cafe_clean['posts'].apply(lambda x: len(x.split())), label='pre-cleaned', alpha=.5, bins=100)\n",
    "plt.axvline(ave_post, color='k', linestyle='dashed', linewidth=3, label='pre-cleaned mean')\n",
    "plt.axvline(ave_cleaned, color='r', linestyle='dashed', linewidth=3, label='cleaned mean')\n",
    "plt.legend()\n",
    "plt.title('Distribution of Post Length \\n Clean vs Pre-Cleaned');"
   ]
  },
  {
   "cell_type": "code",
   "execution_count": 23,
   "metadata": {},
   "outputs": [
    {
     "name": "stdout",
     "output_type": "stream",
     "text": [
      ">>>>>>>>>>INTP<<<<<<<<<<\n",
      "-------------------------\n",
      "Interesting, might be unrelated but I just happened to be watching a documentary BBC iPlayer - Horizon: 2011-2012: Do You See What I See? last night about colour. While I had read about it before it...|||You could always take a playboy (or equivalent) in with you and do a handstand. Of course you only have small time window with which to accomplish your task.|||Here's a simple conversation that will help you socialise.  You: I was reading about this tricky problem and I'm stuck with it. Him: What problem is that. You: (Describe some difficult problem...|||What evidence do you have to support that statement?|||But isn't your concept of God based on what is outlined in a book written by man (who can lie).|||Two that come to mind are Valhalla Rising, Crazy Eights.|||In work I do some computer modelling of various systems so having extra variety in the languages you know can allow you to speed up certain applications. Also if the uni I went to is anything to go...|||Hi, welcome to the craz\n",
      "-------------------------\n",
      "interesting might unrelated happened watching documentary bbc iplayer horizon see see last night colour read could always take playboy equivalent handstand course small time window accomplish task here simple conversation help socialise reading tricky problem im stuck problem describe difficult problem evidence support statement isnt concept god based outlined book written man lie two come mind valhalla rising crazy eight work computer modelling various system extra variety language know allow speed certain application also uni went anything go hi welcome crazy train given mentioned dating intp curious wanted ask met standard kick front door follow currently trying improve programming interface multi threaded nature labview program parallel processing cuda reason wanna see plus improving changing indifferent rather pissed count yea quite bit well external facsimile idea come idea spend next moment trying destroy given serial port everyone else got usb dont know anyones mentioned sherlo\n"
     ]
    }
   ],
   "source": [
    "rint = np.random.randint(0, len(cafe_df))\n",
    "print('>'*10 + cafe_df['type'].iloc[rint] + '<'*10)\n",
    "print('-'*25)\n",
    "print(cafe_clean['posts'].iloc[rint][:1000])\n",
    "print('-'*25)\n",
    "print(cafe_clean['joined_tokens'].iloc[rint][:1000])"
   ]
  },
  {
   "cell_type": "markdown",
   "metadata": {},
   "source": [
    "#### Takeaways:\n",
    "- A lot of words were reduced or eliminated that did not provide any use.\n",
    "- The dataset still has posts with very little words. Might need to drop these.\n",
    "- The lemmitization did not work well on some verbs and the `MBTI` replacement often is followed by an `s`.\n"
   ]
  },
  {
   "cell_type": "code",
   "execution_count": 24,
   "metadata": {},
   "outputs": [],
   "source": [
    "# Adding Binary Targets\n",
    "cafe_clean['i/e'] = cafe_clean['type'].map(lambda x: x[0])\n",
    "cafe_clean['n/s'] = cafe_clean['type'].map(lambda x: x[1])\n",
    "cafe_clean['t/f'] = cafe_clean['type'].map(lambda x: x[2])\n",
    "cafe_clean['p/j'] = cafe_clean['type'].map(lambda x: x[3])\n"
   ]
  },
  {
   "cell_type": "code",
   "execution_count": 25,
   "metadata": {},
   "outputs": [
    {
     "name": "stdout",
     "output_type": "stream",
     "text": [
      "i    6676\n",
      "e    1999\n",
      "Name: i/e, dtype: int64\n",
      "n    7478\n",
      "s    1197\n",
      "Name: n/s, dtype: int64\n",
      "f    4694\n",
      "t    3981\n",
      "Name: t/f, dtype: int64\n",
      "p    5241\n",
      "j    3434\n",
      "Name: p/j, dtype: int64\n"
     ]
    }
   ],
   "source": [
    "print(cafe_clean['i/e'].value_counts())\n",
    "print(cafe_clean['n/s'].value_counts())\n",
    "print(cafe_clean['t/f'].value_counts())\n",
    "print(cafe_clean['p/j'].value_counts())"
   ]
  },
  {
   "cell_type": "code",
   "execution_count": 26,
   "metadata": {},
   "outputs": [
    {
     "data": {
      "image/png": "[encoded data removed]",
      "text/plain": [
       "<Figure size 1440x576 with 1 Axes>"
      ]
     },
     "metadata": {},
     "output_type": "display_data"
    }
   ],
   "source": [
    "plt.figure(figsize=(20,8))\n",
    "plt.title('Weights Between Binary Classes')\n",
    "plt.ylabel('counts')\n",
    "for column in cafe_clean.columns[-4:]:\n",
    "    plt.bar(cafe_clean[column].value_counts().index, cafe_clean[column].value_counts().values, label=column)\n",
    "\n",
    "plt.legend()\n",
    "plt.show();"
   ]
  },
  {
   "cell_type": "markdown",
   "metadata": {},
   "source": [
    "## Modeling\n",
    "\n",
    "There will be 4 sections of modeling:\n",
    "\n",
    "1. Multiclass\n",
    "2. Multiclass balanced classes using undersampling\n",
    "3. Binary\n",
    "4. Binary balanced classes using undersampling"
   ]
  },
  {
   "cell_type": "code",
   "execution_count": 27,
   "metadata": {},
   "outputs": [],
   "source": [
    "# Baseline\n",
    "\n",
    "baseline_models = {'SGDClassifier': SGDClassifier(class_weight='balanced', random_state=SEED),\n",
    "\n",
    "                #   'LogisticRegression': LogisticRegression(max_iter=1000, solver='saga'),\n",
    "\n",
    "                  'NaiveBayes': MultinomialNB()\n",
    "               \n",
    "                #   'DecisionTree': DecisionTreeClassifier(random_state=SEED),\n",
    "               \n",
    "                #   'RandomForest': RandomForestClassifier(random_state=SEED)\n",
    "               }"
   ]
  },
  {
   "cell_type": "code",
   "execution_count": 28,
   "metadata": {},
   "outputs": [
    {
     "name": "stdout",
     "output_type": "stream",
     "text": [
      "SGDClassifier(class_weight='balanced', random_state=53188535)\n",
      "MultinomialNB()\n"
     ]
    }
   ],
   "source": [
    "for clf in baseline_models:\n",
    "    print(baseline_models[clf])"
   ]
  },
  {
   "cell_type": "code",
   "execution_count": 29,
   "metadata": {},
   "outputs": [
    {
     "name": "stdout",
     "output_type": "stream",
     "text": [
      "i    0.769568\n",
      "e    0.230432\n",
      "Name: i/e, dtype: float64\n",
      "n    0.862017\n",
      "s    0.137983\n",
      "Name: n/s, dtype: float64\n",
      "f    0.541095\n",
      "t    0.458905\n",
      "Name: t/f, dtype: float64\n",
      "p    0.60415\n",
      "j    0.39585\n",
      "Name: p/j, dtype: float64\n"
     ]
    }
   ],
   "source": [
    "print(cafe_clean['i/e'].value_counts(normalize=True))\n",
    "print(cafe_clean['n/s'].value_counts(normalize=True))\n",
    "print(cafe_clean['t/f'].value_counts(normalize=True))\n",
    "print(cafe_clean['p/j'].value_counts(normalize=True))"
   ]
  },
  {
   "cell_type": "code",
   "execution_count": 30,
   "metadata": {},
   "outputs": [],
   "source": [
    "models_table = pd.DataFrame(columns=['Model', 'Target', 'CVScore', 'TestAcc'])"
   ]
  },
  {
   "cell_type": "code",
   "execution_count": 31,
   "metadata": {},
   "outputs": [],
   "source": [
    "rm = run_models()"
   ]
  },
  {
   "cell_type": "code",
   "execution_count": 32,
   "metadata": {},
   "outputs": [],
   "source": [
    "bin_targets = cafe_clean.columns[-4:]"
   ]
  },
  {
   "cell_type": "code",
   "execution_count": 33,
   "metadata": {},
   "outputs": [
    {
     "name": "stdout",
     "output_type": "stream",
     "text": [
      "--------------------\n",
      "Vectorizing....  @ Fri Feb 25 15:04:20 2022\n",
      "Working on SGDClassifier for i/e @ Fri Feb 25 15:04:34 2022\n",
      "Working on NaiveBayes for i/e @ Fri Feb 25 15:04:37 2022\n",
      "--------------------\n",
      "Vectorizing....  @ Fri Feb 25 15:04:38 2022\n",
      "Working on SGDClassifier for n/s @ Fri Feb 25 15:04:51 2022\n",
      "Working on NaiveBayes for n/s @ Fri Feb 25 15:04:53 2022\n",
      "--------------------\n",
      "Vectorizing....  @ Fri Feb 25 15:04:53 2022\n",
      "Working on SGDClassifier for t/f @ Fri Feb 25 15:05:07 2022\n",
      "Working on NaiveBayes for t/f @ Fri Feb 25 15:05:10 2022\n",
      "--------------------\n",
      "Vectorizing....  @ Fri Feb 25 15:05:11 2022\n",
      "Working on SGDClassifier for p/j @ Fri Feb 25 15:05:24 2022\n",
      "Working on NaiveBayes for p/j @ Fri Feb 25 15:05:28 2022\n"
     ]
    },
    {
     "data": {
      "text/html": [
       "<div>\n",
       "<style scoped>\n",
       "    .dataframe tbody tr th:only-of-type {\n",
       "        vertical-align: middle;\n",
       "    }\n",
       "\n",
       "    .dataframe tbody tr th {\n",
       "        vertical-align: top;\n",
       "    }\n",
       "\n",
       "    .dataframe thead th {\n",
       "        text-align: right;\n",
       "    }\n",
       "</style>\n",
       "<table border=\"1\" class=\"dataframe\">\n",
       "  <thead>\n",
       "    <tr style=\"text-align: right;\">\n",
       "      <th></th>\n",
       "      <th>Model</th>\n",
       "      <th>Target</th>\n",
       "      <th>CVScore</th>\n",
       "      <th>TestAcc</th>\n",
       "    </tr>\n",
       "  </thead>\n",
       "  <tbody>\n",
       "    <tr>\n",
       "      <th>0</th>\n",
       "      <td>SGDClassifier_i/e</td>\n",
       "      <td>i/e</td>\n",
       "      <td>0.7819</td>\n",
       "      <td>0.7875</td>\n",
       "    </tr>\n",
       "    <tr>\n",
       "      <th>1</th>\n",
       "      <td>NaiveBayes_i/e</td>\n",
       "      <td>i/e</td>\n",
       "      <td>0.7704</td>\n",
       "      <td>0.7672</td>\n",
       "    </tr>\n",
       "    <tr>\n",
       "      <th>2</th>\n",
       "      <td>SGDClassifier_n/s</td>\n",
       "      <td>n/s</td>\n",
       "      <td>0.8644</td>\n",
       "      <td>0.8585</td>\n",
       "    </tr>\n",
       "    <tr>\n",
       "      <th>3</th>\n",
       "      <td>NaiveBayes_n/s</td>\n",
       "      <td>n/s</td>\n",
       "      <td>0.8644</td>\n",
       "      <td>0.8548</td>\n",
       "    </tr>\n",
       "    <tr>\n",
       "      <th>4</th>\n",
       "      <td>SGDClassifier_t/f</td>\n",
       "      <td>t/f</td>\n",
       "      <td>0.8086</td>\n",
       "      <td>0.8036</td>\n",
       "    </tr>\n",
       "    <tr>\n",
       "      <th>5</th>\n",
       "      <td>NaiveBayes_t/f</td>\n",
       "      <td>t/f</td>\n",
       "      <td>0.5458</td>\n",
       "      <td>0.5284</td>\n",
       "    </tr>\n",
       "    <tr>\n",
       "      <th>6</th>\n",
       "      <td>SGDClassifier_p/j</td>\n",
       "      <td>p/j</td>\n",
       "      <td>0.6935</td>\n",
       "      <td>0.6985</td>\n",
       "    </tr>\n",
       "    <tr>\n",
       "      <th>7</th>\n",
       "      <td>NaiveBayes_p/j</td>\n",
       "      <td>p/j</td>\n",
       "      <td>0.6101</td>\n",
       "      <td>0.5864</td>\n",
       "    </tr>\n",
       "  </tbody>\n",
       "</table>\n",
       "</div>"
      ],
      "text/plain": [
       "               Model Target  CVScore  TestAcc\n",
       "0  SGDClassifier_i/e    i/e   0.7819   0.7875\n",
       "1     NaiveBayes_i/e    i/e   0.7704   0.7672\n",
       "2  SGDClassifier_n/s    n/s   0.8644   0.8585\n",
       "3     NaiveBayes_n/s    n/s   0.8644   0.8548\n",
       "4  SGDClassifier_t/f    t/f   0.8086   0.8036\n",
       "5     NaiveBayes_t/f    t/f   0.5458   0.5284\n",
       "6  SGDClassifier_p/j    p/j   0.6935   0.6985\n",
       "7     NaiveBayes_p/j    p/j   0.6101   0.5864"
      ]
     },
     "execution_count": 33,
     "metadata": {},
     "output_type": "execute_result"
    }
   ],
   "source": [
    "rm.run(cafe_clean, 'joined_tokens', bin_targets, baseline_models, models_table, tfidf=True, SEED=234)"
   ]
  },
  {
   "cell_type": "code",
   "execution_count": 34,
   "metadata": {},
   "outputs": [
    {
     "name": "stdout",
     "output_type": "stream",
     "text": [
      "--------------------\n",
      "Vectorizing....  @ Fri Feb 25 15:05:29 2022\n",
      "Working on SGDClassifier for i/e @ Fri Feb 25 15:05:42 2022\n",
      "Working on NaiveBayes for i/e @ Fri Feb 25 15:05:45 2022\n",
      "--------------------\n",
      "Vectorizing....  @ Fri Feb 25 15:05:46 2022\n",
      "Working on SGDClassifier for n/s @ Fri Feb 25 15:05:59 2022\n",
      "Working on NaiveBayes for n/s @ Fri Feb 25 15:06:02 2022\n",
      "--------------------\n",
      "Vectorizing....  @ Fri Feb 25 15:06:03 2022\n",
      "Working on SGDClassifier for t/f @ Fri Feb 25 15:06:16 2022\n",
      "Working on NaiveBayes for t/f @ Fri Feb 25 15:06:19 2022\n",
      "--------------------\n",
      "Vectorizing....  @ Fri Feb 25 15:06:20 2022\n",
      "Working on SGDClassifier for p/j @ Fri Feb 25 15:06:33 2022\n",
      "Working on NaiveBayes for p/j @ Fri Feb 25 15:06:36 2022\n"
     ]
    },
    {
     "data": {
      "text/html": [
       "<div>\n",
       "<style scoped>\n",
       "    .dataframe tbody tr th:only-of-type {\n",
       "        vertical-align: middle;\n",
       "    }\n",
       "\n",
       "    .dataframe tbody tr th {\n",
       "        vertical-align: top;\n",
       "    }\n",
       "\n",
       "    .dataframe thead th {\n",
       "        text-align: right;\n",
       "    }\n",
       "</style>\n",
       "<table border=\"1\" class=\"dataframe\">\n",
       "  <thead>\n",
       "    <tr style=\"text-align: right;\">\n",
       "      <th></th>\n",
       "      <th>Model</th>\n",
       "      <th>Target</th>\n",
       "      <th>CVScore</th>\n",
       "      <th>TestAcc</th>\n",
       "    </tr>\n",
       "  </thead>\n",
       "  <tbody>\n",
       "    <tr>\n",
       "      <th>0</th>\n",
       "      <td>SGDClassifier_i/e</td>\n",
       "      <td>i/e</td>\n",
       "      <td>0.7737</td>\n",
       "      <td>0.7658</td>\n",
       "    </tr>\n",
       "    <tr>\n",
       "      <th>1</th>\n",
       "      <td>NaiveBayes_i/e</td>\n",
       "      <td>i/e</td>\n",
       "      <td>0.7690</td>\n",
       "      <td>0.7672</td>\n",
       "    </tr>\n",
       "    <tr>\n",
       "      <th>2</th>\n",
       "      <td>SGDClassifier_n/s</td>\n",
       "      <td>n/s</td>\n",
       "      <td>0.8457</td>\n",
       "      <td>0.8345</td>\n",
       "    </tr>\n",
       "    <tr>\n",
       "      <th>3</th>\n",
       "      <td>NaiveBayes_n/s</td>\n",
       "      <td>n/s</td>\n",
       "      <td>0.8640</td>\n",
       "      <td>0.8548</td>\n",
       "    </tr>\n",
       "    <tr>\n",
       "      <th>4</th>\n",
       "      <td>SGDClassifier_t/f</td>\n",
       "      <td>t/f</td>\n",
       "      <td>0.7847</td>\n",
       "      <td>0.7792</td>\n",
       "    </tr>\n",
       "    <tr>\n",
       "      <th>5</th>\n",
       "      <td>NaiveBayes_t/f</td>\n",
       "      <td>t/f</td>\n",
       "      <td>0.6997</td>\n",
       "      <td>0.6201</td>\n",
       "    </tr>\n",
       "    <tr>\n",
       "      <th>6</th>\n",
       "      <td>SGDClassifier_p/j</td>\n",
       "      <td>p/j</td>\n",
       "      <td>0.6729</td>\n",
       "      <td>0.6676</td>\n",
       "    </tr>\n",
       "    <tr>\n",
       "      <th>7</th>\n",
       "      <td>NaiveBayes_p/j</td>\n",
       "      <td>p/j</td>\n",
       "      <td>0.6211</td>\n",
       "      <td>0.5869</td>\n",
       "    </tr>\n",
       "  </tbody>\n",
       "</table>\n",
       "</div>"
      ],
      "text/plain": [
       "               Model Target  CVScore  TestAcc\n",
       "0  SGDClassifier_i/e    i/e   0.7737   0.7658\n",
       "1     NaiveBayes_i/e    i/e   0.7690   0.7672\n",
       "2  SGDClassifier_n/s    n/s   0.8457   0.8345\n",
       "3     NaiveBayes_n/s    n/s   0.8640   0.8548\n",
       "4  SGDClassifier_t/f    t/f   0.7847   0.7792\n",
       "5     NaiveBayes_t/f    t/f   0.6997   0.6201\n",
       "6  SGDClassifier_p/j    p/j   0.6729   0.6676\n",
       "7     NaiveBayes_p/j    p/j   0.6211   0.5869"
      ]
     },
     "execution_count": 34,
     "metadata": {},
     "output_type": "execute_result"
    }
   ],
   "source": [
    "rm.run(cafe_clean, 'joined_tokens', bin_targets, baseline_models, models_table, tfidf=False, SEED=234)"
   ]
  },
  {
   "cell_type": "code",
   "execution_count": 35,
   "metadata": {},
   "outputs": [
    {
     "name": "stdout",
     "output_type": "stream",
     "text": [
      "(array(['e', 'i'], dtype=object), array([1494, 5012]))\n",
      "(array(['e', 'i'], dtype=object), array([1494, 1494]))\n",
      "Vectorizing....  @ Fri Feb 25 15:06:37 2022\n",
      "Working on SGDClassifier @ Fri Feb 25 15:06:44 2022\n",
      "Working on NaiveBayes @ Fri Feb 25 15:06:45 2022\n",
      "(array(['n', 's'], dtype=object), array([5624,  882]))\n",
      "(array(['n', 's'], dtype=object), array([882, 882]))\n",
      "Vectorizing....  @ Fri Feb 25 15:06:46 2022\n",
      "Working on SGDClassifier @ Fri Feb 25 15:06:51 2022\n",
      "Working on NaiveBayes @ Fri Feb 25 15:06:51 2022\n",
      "(array(['f', 't'], dtype=object), array([3547, 2959]))\n",
      "(array(['f', 't'], dtype=object), array([2959, 2959]))\n",
      "Vectorizing....  @ Fri Feb 25 15:06:51 2022\n",
      "Working on SGDClassifier @ Fri Feb 25 15:07:04 2022\n",
      "Working on NaiveBayes @ Fri Feb 25 15:07:07 2022\n",
      "(array(['j', 'p'], dtype=object), array([2537, 3969]))\n",
      "(array(['j', 'p'], dtype=object), array([2537, 2537]))\n",
      "Vectorizing....  @ Fri Feb 25 15:07:07 2022\n",
      "Working on SGDClassifier @ Fri Feb 25 15:07:19 2022\n",
      "Working on NaiveBayes @ Fri Feb 25 15:07:21 2022\n"
     ]
    },
    {
     "data": {
      "text/html": [
       "<div>\n",
       "<style scoped>\n",
       "    .dataframe tbody tr th:only-of-type {\n",
       "        vertical-align: middle;\n",
       "    }\n",
       "\n",
       "    .dataframe tbody tr th {\n",
       "        vertical-align: top;\n",
       "    }\n",
       "\n",
       "    .dataframe thead th {\n",
       "        text-align: right;\n",
       "    }\n",
       "</style>\n",
       "<table border=\"1\" class=\"dataframe\">\n",
       "  <thead>\n",
       "    <tr style=\"text-align: right;\">\n",
       "      <th></th>\n",
       "      <th>Model</th>\n",
       "      <th>Target</th>\n",
       "      <th>CVScore</th>\n",
       "      <th>TestAcc</th>\n",
       "    </tr>\n",
       "  </thead>\n",
       "  <tbody>\n",
       "    <tr>\n",
       "      <th>0</th>\n",
       "      <td>SGDClassifier_i/e</td>\n",
       "      <td>i/e</td>\n",
       "      <td>0.6653</td>\n",
       "      <td>0.6690</td>\n",
       "    </tr>\n",
       "    <tr>\n",
       "      <th>1</th>\n",
       "      <td>NaiveBayes_i/e</td>\n",
       "      <td>i/e</td>\n",
       "      <td>0.6734</td>\n",
       "      <td>0.6565</td>\n",
       "    </tr>\n",
       "    <tr>\n",
       "      <th>2</th>\n",
       "      <td>SGDClassifier_n/s</td>\n",
       "      <td>n/s</td>\n",
       "      <td>0.6661</td>\n",
       "      <td>0.6339</td>\n",
       "    </tr>\n",
       "    <tr>\n",
       "      <th>3</th>\n",
       "      <td>NaiveBayes_n/s</td>\n",
       "      <td>n/s</td>\n",
       "      <td>0.7063</td>\n",
       "      <td>0.7243</td>\n",
       "    </tr>\n",
       "    <tr>\n",
       "      <th>4</th>\n",
       "      <td>SGDClassifier_t/f</td>\n",
       "      <td>t/f</td>\n",
       "      <td>0.7705</td>\n",
       "      <td>0.7828</td>\n",
       "    </tr>\n",
       "    <tr>\n",
       "      <th>5</th>\n",
       "      <td>NaiveBayes_t/f</td>\n",
       "      <td>t/f</td>\n",
       "      <td>0.7492</td>\n",
       "      <td>0.7506</td>\n",
       "    </tr>\n",
       "    <tr>\n",
       "      <th>6</th>\n",
       "      <td>SGDClassifier_p/j</td>\n",
       "      <td>p/j</td>\n",
       "      <td>0.6529</td>\n",
       "      <td>0.6551</td>\n",
       "    </tr>\n",
       "    <tr>\n",
       "      <th>7</th>\n",
       "      <td>NaiveBayes_p/j</td>\n",
       "      <td>p/j</td>\n",
       "      <td>0.6569</td>\n",
       "      <td>0.6657</td>\n",
       "    </tr>\n",
       "  </tbody>\n",
       "</table>\n",
       "</div>"
      ],
      "text/plain": [
       "               Model Target  CVScore  TestAcc\n",
       "0  SGDClassifier_i/e    i/e   0.6653   0.6690\n",
       "1     NaiveBayes_i/e    i/e   0.6734   0.6565\n",
       "2  SGDClassifier_n/s    n/s   0.6661   0.6339\n",
       "3     NaiveBayes_n/s    n/s   0.7063   0.7243\n",
       "4  SGDClassifier_t/f    t/f   0.7705   0.7828\n",
       "5     NaiveBayes_t/f    t/f   0.7492   0.7506\n",
       "6  SGDClassifier_p/j    p/j   0.6529   0.6551\n",
       "7     NaiveBayes_p/j    p/j   0.6569   0.6657"
      ]
     },
     "execution_count": 35,
     "metadata": {},
     "output_type": "execute_result"
    }
   ],
   "source": [
    "rm.run_usampled(cafe_clean, 'joined_tokens', bin_targets, baseline_models, models_table, tfidf=False, SEED=234)"
   ]
  },
  {
   "cell_type": "code",
   "execution_count": 36,
   "metadata": {},
   "outputs": [
    {
     "name": "stdout",
     "output_type": "stream",
     "text": [
      "(array(['e', 'i'], dtype=object), array([1494, 5012]))\n",
      "(array(['e', 'i'], dtype=object), array([1494, 1494]))\n",
      "Vectorizing....  @ Fri Feb 25 15:07:22 2022\n",
      "Working on SGDClassifier @ Fri Feb 25 15:07:30 2022\n",
      "Working on NaiveBayes @ Fri Feb 25 15:07:31 2022\n",
      "(array(['n', 's'], dtype=object), array([5624,  882]))\n",
      "(array(['n', 's'], dtype=object), array([882, 882]))\n",
      "Vectorizing....  @ Fri Feb 25 15:07:31 2022\n",
      "Working on SGDClassifier @ Fri Feb 25 15:07:36 2022\n",
      "Working on NaiveBayes @ Fri Feb 25 15:07:36 2022\n",
      "(array(['f', 't'], dtype=object), array([3547, 2959]))\n",
      "(array(['f', 't'], dtype=object), array([2959, 2959]))\n",
      "Vectorizing....  @ Fri Feb 25 15:07:37 2022\n",
      "Working on SGDClassifier @ Fri Feb 25 15:07:49 2022\n",
      "Working on NaiveBayes @ Fri Feb 25 15:07:52 2022\n",
      "(array(['j', 'p'], dtype=object), array([2537, 3969]))\n",
      "(array(['j', 'p'], dtype=object), array([2537, 2537]))\n",
      "Vectorizing....  @ Fri Feb 25 15:07:52 2022\n",
      "Working on SGDClassifier @ Fri Feb 25 15:08:04 2022\n",
      "Working on NaiveBayes @ Fri Feb 25 15:08:06 2022\n"
     ]
    },
    {
     "data": {
      "text/html": [
       "<div>\n",
       "<style scoped>\n",
       "    .dataframe tbody tr th:only-of-type {\n",
       "        vertical-align: middle;\n",
       "    }\n",
       "\n",
       "    .dataframe tbody tr th {\n",
       "        vertical-align: top;\n",
       "    }\n",
       "\n",
       "    .dataframe thead th {\n",
       "        text-align: right;\n",
       "    }\n",
       "</style>\n",
       "<table border=\"1\" class=\"dataframe\">\n",
       "  <thead>\n",
       "    <tr style=\"text-align: right;\">\n",
       "      <th></th>\n",
       "      <th>Model</th>\n",
       "      <th>Target</th>\n",
       "      <th>CVScore</th>\n",
       "      <th>TestAcc</th>\n",
       "    </tr>\n",
       "  </thead>\n",
       "  <tbody>\n",
       "    <tr>\n",
       "      <th>0</th>\n",
       "      <td>SGDClassifier_i/e</td>\n",
       "      <td>i/e</td>\n",
       "      <td>0.7115</td>\n",
       "      <td>0.6879</td>\n",
       "    </tr>\n",
       "    <tr>\n",
       "      <th>1</th>\n",
       "      <td>NaiveBayes_i/e</td>\n",
       "      <td>i/e</td>\n",
       "      <td>0.6897</td>\n",
       "      <td>0.5892</td>\n",
       "    </tr>\n",
       "    <tr>\n",
       "      <th>2</th>\n",
       "      <td>SGDClassifier_n/s</td>\n",
       "      <td>n/s</td>\n",
       "      <td>0.7097</td>\n",
       "      <td>0.7225</td>\n",
       "    </tr>\n",
       "    <tr>\n",
       "      <th>3</th>\n",
       "      <td>NaiveBayes_n/s</td>\n",
       "      <td>n/s</td>\n",
       "      <td>0.7137</td>\n",
       "      <td>0.7612</td>\n",
       "    </tr>\n",
       "    <tr>\n",
       "      <th>4</th>\n",
       "      <td>SGDClassifier_t/f</td>\n",
       "      <td>t/f</td>\n",
       "      <td>0.8091</td>\n",
       "      <td>0.8082</td>\n",
       "    </tr>\n",
       "    <tr>\n",
       "      <th>5</th>\n",
       "      <td>NaiveBayes_t/f</td>\n",
       "      <td>t/f</td>\n",
       "      <td>0.7170</td>\n",
       "      <td>0.7243</td>\n",
       "    </tr>\n",
       "    <tr>\n",
       "      <th>6</th>\n",
       "      <td>SGDClassifier_p/j</td>\n",
       "      <td>p/j</td>\n",
       "      <td>0.6882</td>\n",
       "      <td>0.6893</td>\n",
       "    </tr>\n",
       "    <tr>\n",
       "      <th>7</th>\n",
       "      <td>NaiveBayes_p/j</td>\n",
       "      <td>p/j</td>\n",
       "      <td>0.6612</td>\n",
       "      <td>0.6639</td>\n",
       "    </tr>\n",
       "  </tbody>\n",
       "</table>\n",
       "</div>"
      ],
      "text/plain": [
       "               Model Target  CVScore  TestAcc\n",
       "0  SGDClassifier_i/e    i/e   0.7115   0.6879\n",
       "1     NaiveBayes_i/e    i/e   0.6897   0.5892\n",
       "2  SGDClassifier_n/s    n/s   0.7097   0.7225\n",
       "3     NaiveBayes_n/s    n/s   0.7137   0.7612\n",
       "4  SGDClassifier_t/f    t/f   0.8091   0.8082\n",
       "5     NaiveBayes_t/f    t/f   0.7170   0.7243\n",
       "6  SGDClassifier_p/j    p/j   0.6882   0.6893\n",
       "7     NaiveBayes_p/j    p/j   0.6612   0.6639"
      ]
     },
     "execution_count": 36,
     "metadata": {},
     "output_type": "execute_result"
    }
   ],
   "source": [
    "rm.run_usampled(cafe_clean, 'joined_tokens', bin_targets, baseline_models, models_table, tfidf=True, SEED=234)"
   ]
  },
  {
   "cell_type": "markdown",
   "metadata": {},
   "source": [
    "---"
   ]
  },
  {
   "cell_type": "markdown",
   "metadata": {},
   "source": [
    "## Model Tuning"
   ]
  },
  {
   "cell_type": "code",
   "execution_count": 70,
   "metadata": {},
   "outputs": [],
   "source": [
    "final_model = Pipeline([('vec', TfidfVectorizer(ngram_range=(1,2))),\n",
    "    ('clf', SGDClassifier(class_weight='balanced', random_state=SEED))\n",
    "])"
   ]
  },
  {
   "cell_type": "code",
   "execution_count": 71,
   "metadata": {},
   "outputs": [
    {
     "name": "stdout",
     "output_type": "stream",
     "text": [
      "              precision    recall  f1-score   support\n",
      "\n",
      "           i       0.64      0.26      0.37       458\n",
      "           e       0.83      0.96      0.89      1711\n",
      "\n",
      "    accuracy                           0.81      2169\n",
      "   macro avg       0.74      0.61      0.63      2169\n",
      "weighted avg       0.79      0.81      0.78      2169\n",
      "\n",
      "              precision    recall  f1-score   support\n",
      "\n",
      "           n       0.87      0.99      0.93      1877\n",
      "           s       0.47      0.03      0.06       292\n",
      "\n",
      "    accuracy                           0.86      2169\n",
      "   macro avg       0.67      0.51      0.49      2169\n",
      "weighted avg       0.82      0.86      0.81      2169\n",
      "\n",
      "              precision    recall  f1-score   support\n",
      "\n",
      "           f       0.80      0.86      0.83      1150\n",
      "           t       0.83      0.75      0.79      1019\n",
      "\n",
      "    accuracy                           0.81      2169\n",
      "   macro avg       0.81      0.81      0.81      2169\n",
      "weighted avg       0.81      0.81      0.81      2169\n",
      "\n",
      "              precision    recall  f1-score   support\n",
      "\n",
      "           j       0.65      0.49      0.56       863\n",
      "           p       0.71      0.83      0.77      1306\n",
      "\n",
      "    accuracy                           0.69      2169\n",
      "   macro avg       0.68      0.66      0.66      2169\n",
      "weighted avg       0.69      0.69      0.68      2169\n",
      "\n"
     ]
    },
    {
     "data": {
      "image/png": "[encoded data removed]",
      "text/plain": [
       "<Figure size 360x360 with 2 Axes>"
      ]
     },
     "metadata": {},
     "output_type": "display_data"
    },
    {
     "data": {
      "image/png": "[encoded data removed]",
      "text/plain": [
       "<Figure size 360x360 with 2 Axes>"
      ]
     },
     "metadata": {},
     "output_type": "display_data"
    },
    {
     "data": {
      "image/png": "[encoded data removed]",
      "text/plain": [
       "<Figure size 360x360 with 2 Axes>"
      ]
     },
     "metadata": {},
     "output_type": "display_data"
    },
    {
     "data": {
      "image/png": "[encoded data removed]",
      "text/plain": [
       "<Figure size 360x360 with 2 Axes>"
      ]
     },
     "metadata": {},
     "output_type": "display_data"
    }
   ],
   "source": [
    "for target in bin_targets:\n",
    "    X = cafe_clean['joined_tokens']\n",
    "    y = cafe_clean[target]\n",
    "\n",
    "    X_train, X_test, y_train, y_test = train_test_split(X, y, random_state=SEED)\n",
    "\n",
    "    final_model.fit(X_train, y_train)\n",
    "\n",
    "    y_pred = final_model.predict(X_test)\n",
    "    acc_score = accuracy_score(y_pred, y_test)\n",
    "\n",
    "    print(classification_report(y_pred=y_pred, y_true=y_test, target_names=cafe_clean[target].unique()))\n",
    "\n",
    "    fig, ax = plt.subplots(figsize=(5,5))\n",
    "    plt.rcParams.update({'font.size': 10})\n",
    "    plt.rc('xtick', labelsize=10) \n",
    "    plt.rc('ytick', labelsize=10) \n",
    "    plot_confusion_matrix(final_model, X_test, y_test, ax=ax, normalize='true')\n",
    "    plt.grid(False);\n",
    "    "
   ]
  },
  {
   "cell_type": "markdown",
   "metadata": {},
   "source": [
    "---"
   ]
  },
  {
   "cell_type": "markdown",
   "metadata": {},
   "source": [
    "### i/e"
   ]
  },
  {
   "cell_type": "code",
   "execution_count": 60,
   "metadata": {},
   "outputs": [
    {
     "data": {
      "text/plain": [
       "i    0.769568\n",
       "e    0.230432\n",
       "Name: i/e, dtype: float64"
      ]
     },
     "execution_count": 60,
     "metadata": {},
     "output_type": "execute_result"
    }
   ],
   "source": [
    "cafe_clean['i/e'].value_counts(normalize=True)"
   ]
  },
  {
   "cell_type": "code",
   "execution_count": 62,
   "metadata": {},
   "outputs": [
    {
     "name": "stdout",
     "output_type": "stream",
     "text": [
      "              precision    recall  f1-score   support\n",
      "\n",
      "           i       0.47      0.53      0.50       458\n",
      "           e       0.87      0.84      0.86      1711\n",
      "\n",
      "    accuracy                           0.78      2169\n",
      "   macro avg       0.67      0.69      0.68      2169\n",
      "weighted avg       0.79      0.78      0.78      2169\n",
      "\n"
     ]
    },
    {
     "data": {
      "image/png": "[encoded data removed]",
      "text/plain": [
       "<Figure size 360x360 with 2 Axes>"
      ]
     },
     "metadata": {},
     "output_type": "display_data"
    }
   ],
   "source": [
    "sgd_t = Pipeline([('vec', TfidfVectorizer(ngram_range=(1,2))),\n",
    "                ('clf', SGDClassifier(class_weight={'e': .77, 'i': .23}, random_state=SEED))\n",
    "            ])\n",
    "\n",
    "X = cafe_clean['joined_tokens']\n",
    "y = cafe_clean['i/e']\n",
    "\n",
    "X_train, X_test, y_train, y_test = train_test_split(X, y, random_state=SEED)\n",
    "\n",
    "sgd_t.fit(X_train, y_train)\n",
    "\n",
    "y_pred = sgd_t.predict(X_test)\n",
    "acc_score = accuracy_score(y_pred, y_test)\n",
    "print(classification_report(y_pred=y_pred, y_true=y_test, target_names=cafe_clean['i/e'].unique()))\n",
    "\n",
    "fig, ax = plt.subplots(figsize=(5,5))\n",
    "plt.rcParams.update({'font.size': 10})\n",
    "plt.rc('xtick', labelsize=10) \n",
    "plt.rc('ytick', labelsize=10) \n",
    "plot_confusion_matrix(sgd_t, X_test, y_test, ax=ax, normalize='true')\n",
    "plt.grid(False);"
   ]
  },
  {
   "cell_type": "markdown",
   "metadata": {},
   "source": [
    "---"
   ]
  },
  {
   "cell_type": "markdown",
   "metadata": {},
   "source": [
    "### n/s"
   ]
  },
  {
   "cell_type": "code",
   "execution_count": 63,
   "metadata": {},
   "outputs": [
    {
     "data": {
      "text/plain": [
       "n    0.862017\n",
       "s    0.137983\n",
       "Name: n/s, dtype: float64"
      ]
     },
     "execution_count": 63,
     "metadata": {},
     "output_type": "execute_result"
    }
   ],
   "source": [
    "cafe_clean['n/s'].value_counts(normalize=True)"
   ]
  },
  {
   "cell_type": "code",
   "execution_count": 66,
   "metadata": {},
   "outputs": [
    {
     "name": "stdout",
     "output_type": "stream",
     "text": [
      "              precision    recall  f1-score   support\n",
      "\n",
      "           n       0.93      0.79      0.85      1877\n",
      "           s       0.31      0.62      0.41       292\n",
      "\n",
      "    accuracy                           0.76      2169\n",
      "   macro avg       0.62      0.70      0.63      2169\n",
      "weighted avg       0.85      0.76      0.79      2169\n",
      "\n"
     ]
    },
    {
     "data": {
      "image/png": "[encoded data removed]",
      "text/plain": [
       "<Figure size 360x360 with 2 Axes>"
      ]
     },
     "metadata": {},
     "output_type": "display_data"
    }
   ],
   "source": [
    "sgd_t = Pipeline([('vec', TfidfVectorizer(ngram_range=(1,2))),\n",
    "                ('clf', SGDClassifier(class_weight={'s': .90, 'n': .10}, random_state=SEED))\n",
    "            ])\n",
    "\n",
    "X = cafe_clean['joined_tokens']\n",
    "y = cafe_clean['n/s']\n",
    "\n",
    "X_train, X_test, y_train, y_test = train_test_split(X, y, random_state=SEED)\n",
    "\n",
    "sgd_t.fit(X_train, y_train)\n",
    "\n",
    "y_pred = sgd_t.predict(X_test)\n",
    "acc_score = accuracy_score(y_pred, y_test)\n",
    "print(classification_report(y_pred=y_pred, y_true=y_test, target_names=cafe_clean['n/s'].unique()))\n",
    "\n",
    "fig, ax = plt.subplots(figsize=(5,5))\n",
    "plt.rcParams.update({'font.size': 10})\n",
    "plt.rc('xtick', labelsize=10) \n",
    "plt.rc('ytick', labelsize=10) \n",
    "plot_confusion_matrix(sgd_t, X_test, y_test, ax=ax, normalize='true')\n",
    "plt.grid(False);"
   ]
  },
  {
   "cell_type": "markdown",
   "metadata": {},
   "source": [
    "---"
   ]
  },
  {
   "cell_type": "markdown",
   "metadata": {},
   "source": [
    "### t/f"
   ]
  },
  {
   "cell_type": "code",
   "execution_count": 68,
   "metadata": {},
   "outputs": [
    {
     "data": {
      "text/plain": [
       "f    0.541095\n",
       "t    0.458905\n",
       "Name: t/f, dtype: float64"
      ]
     },
     "execution_count": 68,
     "metadata": {},
     "output_type": "execute_result"
    }
   ],
   "source": [
    "cafe_clean['t/f'].value_counts(normalize=True)"
   ]
  },
  {
   "cell_type": "code",
   "execution_count": 69,
   "metadata": {},
   "outputs": [
    {
     "name": "stdout",
     "output_type": "stream",
     "text": [
      "              precision    recall  f1-score   support\n",
      "\n",
      "           f       0.80      0.84      0.82      1150\n",
      "           t       0.81      0.77      0.79      1019\n",
      "\n",
      "    accuracy                           0.81      2169\n",
      "   macro avg       0.81      0.81      0.81      2169\n",
      "weighted avg       0.81      0.81      0.81      2169\n",
      "\n"
     ]
    },
    {
     "data": {
      "image/png": "[encoded data removed]",
      "text/plain": [
       "<Figure size 360x360 with 2 Axes>"
      ]
     },
     "metadata": {},
     "output_type": "display_data"
    }
   ],
   "source": [
    "sgd_t = Pipeline([('vec', TfidfVectorizer(ngram_range=(1,2))),\n",
    "                ('clf', SGDClassifier(class_weight={'f': .45, 't': .55}, random_state=SEED))\n",
    "            ])\n",
    "\n",
    "X = cafe_clean['joined_tokens']\n",
    "y = cafe_clean['t/f']\n",
    "\n",
    "X_train, X_test, y_train, y_test = train_test_split(X, y, random_state=SEED)\n",
    "\n",
    "sgd_t.fit(X_train, y_train)\n",
    "\n",
    "y_pred = sgd_t.predict(X_test)\n",
    "acc_score = accuracy_score(y_pred, y_test)\n",
    "print(classification_report(y_pred=y_pred, y_true=y_test, target_names=cafe_clean['t/f'].unique()))\n",
    "\n",
    "fig, ax = plt.subplots(figsize=(5,5))\n",
    "plt.rcParams.update({'font.size': 10})\n",
    "plt.rc('xtick', labelsize=10) \n",
    "plt.rc('ytick', labelsize=10) \n",
    "plot_confusion_matrix(sgd_t, X_test, y_test, ax=ax, normalize='true')\n",
    "plt.grid(False);"
   ]
  },
  {
   "cell_type": "markdown",
   "metadata": {},
   "source": [
    "---"
   ]
  },
  {
   "cell_type": "markdown",
   "metadata": {},
   "source": [
    "### p/j"
   ]
  },
  {
   "cell_type": "code",
   "execution_count": 72,
   "metadata": {},
   "outputs": [
    {
     "data": {
      "text/plain": [
       "p    0.60415\n",
       "j    0.39585\n",
       "Name: p/j, dtype: float64"
      ]
     },
     "execution_count": 72,
     "metadata": {},
     "output_type": "execute_result"
    }
   ],
   "source": [
    "cafe_clean['p/j'].value_counts(normalize=True)"
   ]
  },
  {
   "cell_type": "code",
   "execution_count": 73,
   "metadata": {},
   "outputs": [
    {
     "name": "stdout",
     "output_type": "stream",
     "text": [
      "              precision    recall  f1-score   support\n",
      "\n",
      "           j       0.62      0.58      0.60       863\n",
      "           p       0.73      0.77      0.75      1306\n",
      "\n",
      "    accuracy                           0.69      2169\n",
      "   macro avg       0.68      0.67      0.67      2169\n",
      "weighted avg       0.69      0.69      0.69      2169\n",
      "\n"
     ]
    },
    {
     "data": {
      "image/png": "[encoded data removed]",
      "text/plain": [
       "<Figure size 360x360 with 2 Axes>"
      ]
     },
     "metadata": {},
     "output_type": "display_data"
    }
   ],
   "source": [
    "sgd_t = Pipeline([('vec', TfidfVectorizer(ngram_range=(1,2))),\n",
    "                ('clf', SGDClassifier(class_weight={'p': .40, 'j': .60}, random_state=SEED))\n",
    "            ])\n",
    "\n",
    "X = cafe_clean['joined_tokens']\n",
    "y = cafe_clean['p/j']\n",
    "\n",
    "X_train, X_test, y_train, y_test = train_test_split(X, y, random_state=SEED)\n",
    "\n",
    "sgd_t.fit(X_train, y_train)\n",
    "\n",
    "y_pred = sgd_t.predict(X_test)\n",
    "acc_score = accuracy_score(y_pred, y_test)\n",
    "print(classification_report(y_pred=y_pred, y_true=y_test, target_names=cafe_clean['p/j'].unique()))\n",
    "\n",
    "fig, ax = plt.subplots(figsize=(5,5))\n",
    "plt.rcParams.update({'font.size': 10})\n",
    "plt.rc('xtick', labelsize=10) \n",
    "plt.rc('ytick', labelsize=10) \n",
    "plot_confusion_matrix(sgd_t, X_test, y_test, ax=ax, normalize='true')\n",
    "plt.grid(False);"
   ]
  },
  {
   "cell_type": "markdown",
   "metadata": {},
   "source": [
    "---"
   ]
  },
  {
   "cell_type": "markdown",
   "metadata": {},
   "source": [
    "## Final Model"
   ]
  },
  {
   "cell_type": "code",
   "execution_count": 75,
   "metadata": {},
   "outputs": [
    {
     "name": "stdout",
     "output_type": "stream",
     "text": [
      "              precision    recall  f1-score   support\n",
      "\n",
      "           f       0.80      0.84      0.82      1150\n",
      "           t       0.81      0.77      0.79      1019\n",
      "\n",
      "    accuracy                           0.81      2169\n",
      "   macro avg       0.81      0.81      0.81      2169\n",
      "weighted avg       0.81      0.81      0.81      2169\n",
      "\n"
     ]
    },
    {
     "data": {
      "image/png": "[encoded data removed]",
      "text/plain": [
       "<Figure size 360x360 with 2 Axes>"
      ]
     },
     "metadata": {},
     "output_type": "display_data"
    }
   ],
   "source": [
    "final_model = Pipeline([('vec', TfidfVectorizer(ngram_range=(1,2))),\n",
    "                ('clf', SGDClassifier(class_weight={'f': .45, 't': .55}, random_state=SEED))\n",
    "            ])\n",
    "\n",
    "X = cafe_clean['joined_tokens']\n",
    "y = cafe_clean['t/f']\n",
    "\n",
    "X_train, X_test, y_train, y_test = train_test_split(X, y, random_state=SEED)\n",
    "\n",
    "final_model.fit(X_train, y_train)\n",
    "\n",
    "y_pred = final_model.predict(X_test)\n",
    "acc_score = accuracy_score(y_pred, y_test)\n",
    "print(classification_report(y_pred=y_pred, y_true=y_test, target_names=cafe_clean['t/f'].unique()))\n",
    "\n",
    "fig, ax = plt.subplots(figsize=(5,5))\n",
    "plt.rcParams.update({'font.size': 10})\n",
    "plt.rc('xtick', labelsize=10) \n",
    "plt.rc('ytick', labelsize=10) \n",
    "plot_confusion_matrix(final_model, X_test, y_test, ax=ax, normalize='true')\n",
    "plt.grid(False);"
   ]
  },
  {
   "cell_type": "code",
   "execution_count": 133,
   "metadata": {},
   "outputs": [],
   "source": [
    "f_test_sample = \"I'm 38, have no job, no car, live with my brother, I'm a 2/10 physically, obese, I've got 3 kids that I have no involvement with at no choice of my own, I'm disabled, I have no friends, no family other than my brother and the occasional phone call from my mother. I'm a realist, nothing about me is attractive, rather the opposite. I've got ALL the red flags.but still, I appreciate your effort but there is no more a chance for me at love than there would be at winning the lotto.\""
   ]
  },
  {
   "cell_type": "code",
   "execution_count": 134,
   "metadata": {},
   "outputs": [],
   "source": [
    "t_test_sample = \"Nature provides exceptions to every rule. But this rule is applied to itself paradoxically. (So there must be some rules without any exception :)\""
   ]
  },
  {
   "cell_type": "code",
   "execution_count": 135,
   "metadata": {},
   "outputs": [
    {
     "data": {
      "text/plain": [
       "array(['t'], dtype='<U1')"
      ]
     },
     "execution_count": 135,
     "metadata": {},
     "output_type": "execute_result"
    }
   ],
   "source": [
    "final_model.predict([f_test_sample])"
   ]
  },
  {
   "cell_type": "code",
   "execution_count": 146,
   "metadata": {},
   "outputs": [
    {
     "data": {
      "text/plain": [
       "Index(['type', 'posts', 'clean_posts', 'post_tokens', 'joined_tokens', 'i/e',\n",
       "       'n/s', 't/f', 'p/j'],\n",
       "      dtype='object')"
      ]
     },
     "execution_count": 146,
     "metadata": {},
     "output_type": "execute_result"
    }
   ],
   "source": [
    "cafe_clean.columns"
   ]
  },
  {
   "cell_type": "code",
   "execution_count": 152,
   "metadata": {},
   "outputs": [],
   "source": [
    "t_fdist = FreqDist(cafe_clean[\"post_tokens\"][cafe_clean[\"t/f\"] == 't'].explode())\n",
    "f_fdist = FreqDist(cafe_clean[\"post_tokens\"][cafe_clean[\"t/f\"] == 'f'].explode())"
   ]
  },
  {
   "cell_type": "code",
   "execution_count": 149,
   "metadata": {},
   "outputs": [
    {
     "data": {
      "image/png": "[encoded data removed]",
      "text/plain": [
       "<Figure size 1080x576 with 1 Axes>"
      ]
     },
     "metadata": {},
     "output_type": "display_data"
    }
   ],
   "source": [
    "top_ten = list(zip(*t_fdist.most_common(10)))\n",
    "tokens = top_ten[0]\n",
    "counts = top_ten[1]\n",
    "\n",
    "plt.figure(figsize=(15, 8))\n",
    "plt.rcParams.update({'font.size': 18})\n",
    "plt.rc('xtick', labelsize=18) \n",
    "plt.rc('ytick', labelsize=18) \n",
    "plt.bar(tokens, counts)\n",
    "plt.title('Top 10 THINKING Class Word Occurences');"
   ]
  },
  {
   "cell_type": "code",
   "execution_count": 151,
   "metadata": {},
   "outputs": [
    {
     "data": {
      "image/png": "[encoded data removed]",
      "text/plain": [
       "<Figure size 1080x576 with 1 Axes>"
      ]
     },
     "metadata": {},
     "output_type": "display_data"
    }
   ],
   "source": [
    "top_ten = list(zip(*f_fdist.most_common(10)))\n",
    "tokens = top_ten[0]\n",
    "counts = top_ten[1]\n",
    "\n",
    "plt.figure(figsize=(15, 8))\n",
    "plt.rcParams.update({'font.size': 18})\n",
    "plt.rc('xtick', labelsize=18) \n",
    "plt.rc('ytick', labelsize=18) \n",
    "plt.bar(tokens, counts)\n",
    "plt.title('Top 10 FEELING Class Word Occurences');"
   ]
  },
  {
   "cell_type": "code",
   "execution_count": 1,
   "metadata": {},
   "outputs": [
    {
     "ename": "NameError",
     "evalue": "name 'cafe_clean' is not defined",
     "output_type": "error",
     "traceback": [
      "\u001b[0;31m---------------------------------------------------------------------------\u001b[0m",
      "\u001b[0;31mNameError\u001b[0m                                 Traceback (most recent call last)",
      "\u001b[0;32m<ipython-input-1-eeb72197d03c>\u001b[0m in \u001b[0;36m<module>\u001b[0;34m\u001b[0m\n\u001b[0;32m----> 1\u001b[0;31m \u001b[0mt_df\u001b[0m \u001b[0;34m=\u001b[0m \u001b[0mcafe_clean\u001b[0m\u001b[0;34m[\u001b[0m\u001b[0mcafe_clean\u001b[0m\u001b[0;34m[\u001b[0m\u001b[0;34m\"t/f\"\u001b[0m\u001b[0;34m]\u001b[0m \u001b[0;34m==\u001b[0m \u001b[0;34m't'\u001b[0m\u001b[0;34m]\u001b[0m\u001b[0;34m\u001b[0m\u001b[0;34m\u001b[0m\u001b[0m\n\u001b[0m\u001b[1;32m      2\u001b[0m \u001b[0;34m\u001b[0m\u001b[0m\n\u001b[1;32m      3\u001b[0m \u001b[0mcv\u001b[0m \u001b[0;34m=\u001b[0m \u001b[0mCountVectorizer\u001b[0m\u001b[0;34m(\u001b[0m\u001b[0mngram_range\u001b[0m\u001b[0;34m=\u001b[0m\u001b[0;34m(\u001b[0m\u001b[0;36m2\u001b[0m\u001b[0;34m,\u001b[0m\u001b[0;36m2\u001b[0m\u001b[0;34m)\u001b[0m\u001b[0;34m)\u001b[0m\u001b[0;34m\u001b[0m\u001b[0;34m\u001b[0m\u001b[0m\n\u001b[1;32m      4\u001b[0m \u001b[0;34m\u001b[0m\u001b[0m\n\u001b[1;32m      5\u001b[0m \u001b[0mtf_cv\u001b[0m \u001b[0;34m=\u001b[0m \u001b[0mcv\u001b[0m\u001b[0;34m.\u001b[0m\u001b[0mfit\u001b[0m\u001b[0;34m(\u001b[0m\u001b[0mt_df\u001b[0m\u001b[0;34m[\u001b[0m\u001b[0;34m'joined_tokens'\u001b[0m\u001b[0;34m]\u001b[0m\u001b[0;34m)\u001b[0m\u001b[0;34m\u001b[0m\u001b[0;34m\u001b[0m\u001b[0m\n",
      "\u001b[0;31mNameError\u001b[0m: name 'cafe_clean' is not defined"
     ]
    }
   ],
   "source": [
    "t_df = cafe_clean[cafe_clean[\"t/f\"] == 't']\n",
    "\n",
    "cv = CountVectorizer(ngram_range=(2,2))\n",
    "\n",
    "tf_cv = cv.fit(t_df['joined_tokens'])\n",
    "tf_cv = cv.transform(t_df['joined_tokens'])\n",
    "\n",
    "count_values = tf_cv.toarray().sum(axis=0)\n",
    "\n",
    "vocab = cv.vocabulary_\n",
    "\n",
    "df_ngram = pd.DataFrame(sorted([(count_values[i], k) for k, i in vocab.items()], reverse=True) \\\n",
    "                        ).rename(columns={0: 'frequency', 1:'bigram'})\n",
    "\n",
    "plt.figure(figsize=(20, 8))\n",
    "plt.bar(df_ngram.bigram.iloc[:15], df_ngram.frequency.iloc[:15])"
   ]
  },
  {
   "cell_type": "code",
   "execution_count": 191,
   "metadata": {},
   "outputs": [],
   "source": [
    "t_df = cafe_clean[cafe_clean[\"t/f\"] == 'f']\n",
    "\n",
    "cv = CountVectorizer(ngram_range=(2,2))\n",
    "\n",
    "tf_cv = cv.fit(t_df['joined_tokens'])\n",
    "tf_cv = cv.transform(t_df['joined_tokens'])\n",
    "\n",
    "count_values = tf_cv.toarray().sum(axis=0)\n",
    "\n",
    "vocab = cv.vocabulary_\n",
    "\n",
    "df_ngram = pd.DataFrame(sorted([(count_values[i], k) for k, i in vocab.items()], reverse=True) \\\n",
    "                        ).rename(columns={0: 'frequency', 1:'bigram'})\n",
    "\n",
    "plt.figure(figsize=(20, 8))\n",
    "plt.bar(df_ngram.bigram.iloc[:15], df_ngram.frequency.iloc[:15])"
   ]
  },
  {
   "cell_type": "markdown",
   "metadata": {},
   "source": [
    "---"
   ]
  },
  {
   "cell_type": "code",
   "execution_count": null,
   "metadata": {},
   "outputs": [],
   "source": [
    "final_df = pd.read_pickle('./pickle/finalmodeling_df.pkl')"
   ]
  },
  {
   "cell_type": "code",
   "execution_count": null,
   "metadata": {},
   "outputs": [],
   "source": [
    "final_df.token_joined.str.match(regxx).sum()"
   ]
  },
  {
   "cell_type": "code",
   "execution_count": null,
   "metadata": {},
   "outputs": [],
   "source": [
    "final_df['token_joined'] = final_df['token_joined'].apply(replace_mbti)"
   ]
  },
  {
   "cell_type": "code",
   "execution_count": null,
   "metadata": {},
   "outputs": [],
   "source": [
    "final_df = final_df[final_df.token_joined.str.match(regxx) == False]"
   ]
  },
  {
   "cell_type": "code",
   "execution_count": null,
   "metadata": {},
   "outputs": [],
   "source": [
    "final_df = final_df.reset_index()"
   ]
  },
  {
   "cell_type": "code",
   "execution_count": null,
   "metadata": {},
   "outputs": [],
   "source": [
    "final_df"
   ]
  },
  {
   "cell_type": "code",
   "execution_count": null,
   "metadata": {},
   "outputs": [],
   "source": [
    "rm.run(final_df, 'token_joined', bin_targets, baseline_models, models_table, tfidf=False, SEED=234)"
   ]
  },
  {
   "cell_type": "code",
   "execution_count": null,
   "metadata": {},
   "outputs": [],
   "source": [
    "rm.run(final_df, 'token_joined', bin_targets, baseline_models, models_table, tfidf=True, SEED=234)"
   ]
  },
  {
   "cell_type": "code",
   "execution_count": null,
   "metadata": {},
   "outputs": [],
   "source": [
    "print(final_df['i/e'].value_counts(normalize=True))\n",
    "print(final_df['n/s'].value_counts(normalize=True))\n",
    "print(final_df['t/f'].value_counts(normalize=True))\n",
    "print(final_df['p/j'].value_counts(normalize=True))"
   ]
  },
  {
   "cell_type": "code",
   "execution_count": null,
   "metadata": {},
   "outputs": [],
   "source": [
    "rint = np.random.randint(0, len(final_df))\n",
    "\n",
    "print(rint)\n",
    "print(final_df['type'].iloc[rint])\n",
    "final_df['token_joined'].iloc[rint]"
   ]
  },
  {
   "cell_type": "markdown",
   "metadata": {},
   "source": [
    "## Data and Methods\n",
    "\n",
    "## Results\n",
    "\n",
    "## Applications of the Predictive Model\n",
    "\n",
    "There are numerous applications for using this personality predictive model:\n",
    "\n",
    "- Customer Segmentation\n",
    "- Digital Advertising \n",
    "\n",
    "\n",
    "## Online Demo\n",
    "\n",
    "## Recommednations\n",
    "\n",
    "## Next Steps"
   ]
  }
 ],
 "metadata": {
  "interpreter": {
   "hash": "033c84df5fb4c613acf884834f63930b25da6784759ce0fb831a430fcd673895"
  },
  "kernelspec": {
   "display_name": "Python 3.8.5 ('learn-env')",
   "language": "python",
   "name": "python3"
  },
  "language_info": {
   "codemirror_mode": {
    "name": "ipython",
    "version": 3
   },
   "file_extension": ".py",
   "mimetype": "text/x-python",
   "name": "python",
   "nbconvert_exporter": "python",
   "pygments_lexer": "ipython3",
   "version": "3.8.5"
  },
  "orig_nbformat": 4
 },
 "nbformat": 4,
 "nbformat_minor": 2
}
