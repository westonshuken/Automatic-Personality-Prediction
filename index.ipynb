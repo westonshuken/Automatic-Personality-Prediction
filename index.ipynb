{
 "cells": [
  {
   "cell_type": "markdown",
   "metadata": {},
   "source": [
    "# Myers-Briggs Personality Prediction\n",
    "\n",
    "#### by Weston Shuken\n",
    "\n",
    "---"
   ]
  },
  {
   "cell_type": "markdown",
   "metadata": {},
   "source": [
    "## Overview\n",
    "\n",
    "The purpose of this project is to use machine learning algorithms to precict the personality type of a person given their written text in English. The personality type predictions are based on the Myers-Briggs Type Indicator (MBTI) test as the target variable. The features or predictor variables are comments and posts from userson [PersonalityCafe](https://www.personalitycafe.com/). These posts and comments come from users who have explicitley labeled their MBTI personality on their profile. \n",
    "\n",
    "The Myers-Briggs test is a very popular test that ask users approximately 90 questions about their behavior and assigns the user a type of personality based on this assessment. This test takes around 20-30 for someone to complete. \n",
    "\n",
    "There are 16 different personality types using a combination of 8 overall traits. See below:\n",
    "\n",
    "    Introversion (I) vs Extroversion (E)\n",
    "    Intuition (N) vs Sensing (S)\n",
    "    Thinking (T) vs Feeling (F)\n",
    "    Judging (J) vs Perceiving (P)\n",
    "    "
   ]
  },
  {
   "cell_type": "markdown",
   "metadata": {},
   "source": [
    "## Exploratory Data Analysis"
   ]
  },
  {
   "cell_type": "code",
   "execution_count": 1,
   "metadata": {},
   "outputs": [],
   "source": [
    "# Imports for EDA, Cleaning, Plotting & Modeling\n",
    "import pandas as pd\n",
    "import numpy as np\n",
    "import matplotlib.pyplot as plt\n",
    "import time\n",
    "import seaborn as sns\n",
    "import re\n",
    "import pickle\n",
    "\n",
    "from nltk.corpus import stopwords\n",
    "from nltk.tokenize import RegexpTokenizer\n",
    "from nltk.stem.wordnet import WordNetLemmatizer\n",
    "from nltk.tokenize import word_tokenize\n",
    "from nltk.probability import FreqDist\n",
    "from nltk import pos_tag\n",
    "\n",
    "\n",
    "from textblob import TextBlob\n",
    "\n",
    "from sklearn.feature_extraction.text import TfidfVectorizer, TfidfTransformer, CountVectorizer\n",
    "from sklearn.naive_bayes import MultinomialNB\n",
    "from sklearn.pipeline import Pipeline\n",
    "from sklearn.linear_model import SGDClassifier, LogisticRegression\n",
    "from sklearn.ensemble import RandomForestClassifier\n",
    "from sklearn.svm import LinearSVC, SVC\n",
    "from sklearn.tree import DecisionTreeClassifier\n",
    "from sklearn.metrics import plot_confusion_matrix, accuracy_score, classification_report\n",
    "from sklearn.model_selection import train_test_split, cross_val_score\n",
    "\n",
    "from mbti import run_models, preprocess\n",
    "\n",
    "# Random Seed for everything\n",
    "SEED = 53188535"
   ]
  },
  {
   "cell_type": "code",
   "execution_count": 2,
   "metadata": {},
   "outputs": [],
   "source": [
    "# Loading the Data\n",
    "cafe_df = pd.read_csv('data/mbti_1.csv')"
   ]
  },
  {
   "cell_type": "code",
   "execution_count": 3,
   "metadata": {},
   "outputs": [
    {
     "data": {
      "text/html": [
       "<div>\n",
       "<style scoped>\n",
       "    .dataframe tbody tr th:only-of-type {\n",
       "        vertical-align: middle;\n",
       "    }\n",
       "\n",
       "    .dataframe tbody tr th {\n",
       "        vertical-align: top;\n",
       "    }\n",
       "\n",
       "    .dataframe thead th {\n",
       "        text-align: right;\n",
       "    }\n",
       "</style>\n",
       "<table border=\"1\" class=\"dataframe\">\n",
       "  <thead>\n",
       "    <tr style=\"text-align: right;\">\n",
       "      <th></th>\n",
       "      <th>type</th>\n",
       "      <th>posts</th>\n",
       "    </tr>\n",
       "  </thead>\n",
       "  <tbody>\n",
       "    <tr>\n",
       "      <th>0</th>\n",
       "      <td>INFJ</td>\n",
       "      <td>'http://www.youtube.com/watch?v=qsXHcwe3krw|||...</td>\n",
       "    </tr>\n",
       "    <tr>\n",
       "      <th>1</th>\n",
       "      <td>ENTP</td>\n",
       "      <td>'I'm finding the lack of me in these posts ver...</td>\n",
       "    </tr>\n",
       "    <tr>\n",
       "      <th>2</th>\n",
       "      <td>INTP</td>\n",
       "      <td>'Good one  _____   https://www.youtube.com/wat...</td>\n",
       "    </tr>\n",
       "    <tr>\n",
       "      <th>3</th>\n",
       "      <td>INTJ</td>\n",
       "      <td>'Dear INTP,   I enjoyed our conversation the o...</td>\n",
       "    </tr>\n",
       "    <tr>\n",
       "      <th>4</th>\n",
       "      <td>ENTJ</td>\n",
       "      <td>'You're fired.|||That's another silly misconce...</td>\n",
       "    </tr>\n",
       "    <tr>\n",
       "      <th>...</th>\n",
       "      <td>...</td>\n",
       "      <td>...</td>\n",
       "    </tr>\n",
       "    <tr>\n",
       "      <th>8670</th>\n",
       "      <td>ISFP</td>\n",
       "      <td>'https://www.youtube.com/watch?v=t8edHB_h908||...</td>\n",
       "    </tr>\n",
       "    <tr>\n",
       "      <th>8671</th>\n",
       "      <td>ENFP</td>\n",
       "      <td>'So...if this thread already exists someplace ...</td>\n",
       "    </tr>\n",
       "    <tr>\n",
       "      <th>8672</th>\n",
       "      <td>INTP</td>\n",
       "      <td>'So many questions when i do these things.  I ...</td>\n",
       "    </tr>\n",
       "    <tr>\n",
       "      <th>8673</th>\n",
       "      <td>INFP</td>\n",
       "      <td>'I am very conflicted right now when it comes ...</td>\n",
       "    </tr>\n",
       "    <tr>\n",
       "      <th>8674</th>\n",
       "      <td>INFP</td>\n",
       "      <td>'It has been too long since I have been on per...</td>\n",
       "    </tr>\n",
       "  </tbody>\n",
       "</table>\n",
       "<p>8675 rows × 2 columns</p>\n",
       "</div>"
      ],
      "text/plain": [
       "      type                                              posts\n",
       "0     INFJ  'http://www.youtube.com/watch?v=qsXHcwe3krw|||...\n",
       "1     ENTP  'I'm finding the lack of me in these posts ver...\n",
       "2     INTP  'Good one  _____   https://www.youtube.com/wat...\n",
       "3     INTJ  'Dear INTP,   I enjoyed our conversation the o...\n",
       "4     ENTJ  'You're fired.|||That's another silly misconce...\n",
       "...    ...                                                ...\n",
       "8670  ISFP  'https://www.youtube.com/watch?v=t8edHB_h908||...\n",
       "8671  ENFP  'So...if this thread already exists someplace ...\n",
       "8672  INTP  'So many questions when i do these things.  I ...\n",
       "8673  INFP  'I am very conflicted right now when it comes ...\n",
       "8674  INFP  'It has been too long since I have been on per...\n",
       "\n",
       "[8675 rows x 2 columns]"
      ]
     },
     "execution_count": 3,
     "metadata": {},
     "output_type": "execute_result"
    }
   ],
   "source": [
    "cafe_df"
   ]
  },
  {
   "cell_type": "code",
   "execution_count": 4,
   "metadata": {},
   "outputs": [
    {
     "name": "stdout",
     "output_type": "stream",
     "text": [
      "<class 'pandas.core.frame.DataFrame'>\n",
      "RangeIndex: 8675 entries, 0 to 8674\n",
      "Data columns (total 2 columns):\n",
      " #   Column  Non-Null Count  Dtype \n",
      "---  ------  --------------  ----- \n",
      " 0   type    8675 non-null   object\n",
      " 1   posts   8675 non-null   object\n",
      "dtypes: object(2)\n",
      "memory usage: 135.7+ KB\n"
     ]
    }
   ],
   "source": [
    "cafe_df.info()"
   ]
  },
  {
   "cell_type": "code",
   "execution_count": 5,
   "metadata": {},
   "outputs": [
    {
     "data": {
      "text/plain": [
       "INFP    1832\n",
       "INFJ    1470\n",
       "INTP    1304\n",
       "INTJ    1091\n",
       "ENTP     685\n",
       "ENFP     675\n",
       "ISTP     337\n",
       "ISFP     271\n",
       "ENTJ     231\n",
       "ISTJ     205\n",
       "ENFJ     190\n",
       "ISFJ     166\n",
       "ESTP      89\n",
       "ESFP      48\n",
       "ESFJ      42\n",
       "ESTJ      39\n",
       "Name: type, dtype: int64"
      ]
     },
     "execution_count": 5,
     "metadata": {},
     "output_type": "execute_result"
    }
   ],
   "source": [
    "cafe_df['type'].value_counts()"
   ]
  },
  {
   "cell_type": "code",
   "execution_count": 6,
   "metadata": {},
   "outputs": [
    {
     "data": {
      "image/png": "[encoded data removed]",
      "text/plain": [
       "<Figure size 1440x576 with 1 Axes>"
      ]
     },
     "metadata": {},
     "output_type": "display_data"
    }
   ],
   "source": [
    "sns.set_context('talk')\n",
    "sns.set_style('darkgrid')\n",
    "plt.figure(figsize=(20,8))\n",
    "plt.bar(cafe_df['type'].value_counts(normalize=True).index, cafe_df['type'].value_counts(normalize=True).values*100)\n",
    "plt.title('Class Imbalance by percentage')\n",
    "plt.ylabel('%');"
   ]
  },
  {
   "cell_type": "code",
   "execution_count": 7,
   "metadata": {},
   "outputs": [
    {
     "name": "stdout",
     "output_type": "stream",
     "text": [
      ">>>>>>>>>>INFP<<<<<<<<<<\n",
      "-------------------------\n",
      "'I only know one other, my son. Is our type really that rare? I can at times notice the types in people I work with, come across in a social setting, etc. but I have never come across someone where I...|||I have used dating sites in the past as I feel highly uncomfortable going out and about trying to get to know others. Meeting people online is the new norm however sadly people are more bold behind...|||How does this highly introverted person become more outgoing? How come no one is asking for advice?|||The power of intention plays a strong role in how we approach relationships whether they are romantic or platonic. Falling for someone can happen unexpectedly and very easily when we begin to...|||Los Angeles, Calif|||The flat is yours not his, respect should be going both ways which he isnt giving. Always talk in person, text seems to lead to miscommunication. Its funny how infps can be so laid back but when...|||Infp's value complete honesty. Be direct and tell her what you wrote in \n"
     ]
    }
   ],
   "source": [
    "# looking at a random posts\n",
    "rint = np.random.randint(0, len(cafe_df))\n",
    "print('>'*10 + cafe_df['type'].iloc[rint] + '<'*10)\n",
    "print('-'*25)\n",
    "print(cafe_df['posts'].iloc[rint][:1000])\n",
    "\n",
    "## BE CAREFUL... Reddit posts can sometimes be quite rude..."
   ]
  },
  {
   "cell_type": "markdown",
   "metadata": {},
   "source": [
    "#### Takeaways from seeing the dataset:\n",
    "\n",
    "- The classes are quite imbalanced, which can bias the model to choosing one class over the other just given class weight.\n",
    "- There is a lot of cleaning to do with the text (lowercase, remove urls, remove symbols/punctuation, lemmitization, etc.)\n",
    "- There are definitely incorrect spellings of words and acroynms like `lol` & `btw`\n",
    "- The posts might include the personality type in them, which could be considered `data leakage`."
   ]
  },
  {
   "cell_type": "markdown",
   "metadata": {},
   "source": [
    "### Cleaning & Tokenizing"
   ]
  },
  {
   "cell_type": "code",
   "execution_count": 8,
   "metadata": {},
   "outputs": [],
   "source": [
    "cafe_clean = cafe_df.copy()"
   ]
  },
  {
   "cell_type": "code",
   "execution_count": 9,
   "metadata": {},
   "outputs": [],
   "source": [
    "# Lowercase y variables\n",
    "cafe_clean['type'] = cafe_clean.type.str.lower()\n",
    "\n",
    "# Creating list of the targets\n",
    "mbti_lst = list(set(cafe_clean['type'].values))\n",
    "\n",
    "# Lowercase X varaible onto a new column\n",
    "cafe_clean['clean_posts'] = cafe_clean['posts'].str.lower()"
   ]
  },
  {
   "cell_type": "code",
   "execution_count": 10,
   "metadata": {},
   "outputs": [],
   "source": [
    "# Bringing in the prepreoccess class from mbti.py\n",
    "# This class provides functions to clean and tokenize our text data\n",
    "prepro = preprocess()"
   ]
  },
  {
   "cell_type": "code",
   "execution_count": 11,
   "metadata": {},
   "outputs": [
    {
     "data": {
      "image/png": "[encoded data removed]",
      "text/plain": [
       "<Figure size 720x360 with 1 Axes>"
      ]
     },
     "metadata": {},
     "output_type": "display_data"
    }
   ],
   "source": [
    "plt.figure(figsize=(10,5))\n",
    "for mbti in mbti_lst:\n",
    "    plt.bar(str(mbti), len(cafe_clean[cafe_clean['clean_posts'].str.contains(mbti)].index))\n",
    "    plt.title('Data Leakage \\n target within predictors')\n",
    "    plt.ylabel('counts')\n",
    "    # print(cafe_clean[cafe_clean['clean_posts'].str.contains(mbti)].index)"
   ]
  },
  {
   "cell_type": "code",
   "execution_count": 12,
   "metadata": {},
   "outputs": [],
   "source": [
    "# Remove the target names in the actual posts\n",
    "cafe_clean['clean_posts'] = cafe_clean['clean_posts'].apply(lambda x: prepro.replace_mbti(x))"
   ]
  },
  {
   "cell_type": "code",
   "execution_count": 13,
   "metadata": {},
   "outputs": [
    {
     "data": {
      "text/html": [
       "<div>\n",
       "<style scoped>\n",
       "    .dataframe tbody tr th:only-of-type {\n",
       "        vertical-align: middle;\n",
       "    }\n",
       "\n",
       "    .dataframe tbody tr th {\n",
       "        vertical-align: top;\n",
       "    }\n",
       "\n",
       "    .dataframe thead th {\n",
       "        text-align: right;\n",
       "    }\n",
       "</style>\n",
       "<table border=\"1\" class=\"dataframe\">\n",
       "  <thead>\n",
       "    <tr style=\"text-align: right;\">\n",
       "      <th></th>\n",
       "      <th>type</th>\n",
       "      <th>posts</th>\n",
       "      <th>clean_posts</th>\n",
       "    </tr>\n",
       "  </thead>\n",
       "  <tbody>\n",
       "    <tr>\n",
       "      <th>0</th>\n",
       "      <td>infj</td>\n",
       "      <td>'http://www.youtube.com/watch?v=qsXHcwe3krw|||...</td>\n",
       "      <td>'http://www.youtube.com/watch?v=qsxhcwe3krw|||...</td>\n",
       "    </tr>\n",
       "    <tr>\n",
       "      <th>1</th>\n",
       "      <td>entp</td>\n",
       "      <td>'I'm finding the lack of me in these posts ver...</td>\n",
       "      <td>'i'm finding the lack of me in these posts ver...</td>\n",
       "    </tr>\n",
       "    <tr>\n",
       "      <th>2</th>\n",
       "      <td>intp</td>\n",
       "      <td>'Good one  _____   https://www.youtube.com/wat...</td>\n",
       "      <td>'good one  _____   https://www.youtube.com/wat...</td>\n",
       "    </tr>\n",
       "    <tr>\n",
       "      <th>3</th>\n",
       "      <td>intj</td>\n",
       "      <td>'Dear INTP,   I enjoyed our conversation the o...</td>\n",
       "      <td>'dear ,   i enjoyed our conversation the other...</td>\n",
       "    </tr>\n",
       "    <tr>\n",
       "      <th>4</th>\n",
       "      <td>entj</td>\n",
       "      <td>'You're fired.|||That's another silly misconce...</td>\n",
       "      <td>'you're fired.|||that's another silly misconce...</td>\n",
       "    </tr>\n",
       "    <tr>\n",
       "      <th>...</th>\n",
       "      <td>...</td>\n",
       "      <td>...</td>\n",
       "      <td>...</td>\n",
       "    </tr>\n",
       "    <tr>\n",
       "      <th>8670</th>\n",
       "      <td>isfp</td>\n",
       "      <td>'https://www.youtube.com/watch?v=t8edHB_h908||...</td>\n",
       "      <td>'https://www.youtube.com/watch?v=t8edhb_h908||...</td>\n",
       "    </tr>\n",
       "    <tr>\n",
       "      <th>8671</th>\n",
       "      <td>enfp</td>\n",
       "      <td>'So...if this thread already exists someplace ...</td>\n",
       "      <td>'so...if this thread already exists someplace ...</td>\n",
       "    </tr>\n",
       "    <tr>\n",
       "      <th>8672</th>\n",
       "      <td>intp</td>\n",
       "      <td>'So many questions when i do these things.  I ...</td>\n",
       "      <td>'so many questions when i do these things.  i ...</td>\n",
       "    </tr>\n",
       "    <tr>\n",
       "      <th>8673</th>\n",
       "      <td>infp</td>\n",
       "      <td>'I am very conflicted right now when it comes ...</td>\n",
       "      <td>'i am very conflicted right now when it comes ...</td>\n",
       "    </tr>\n",
       "    <tr>\n",
       "      <th>8674</th>\n",
       "      <td>infp</td>\n",
       "      <td>'It has been too long since I have been on per...</td>\n",
       "      <td>'it has been too long since i have been on per...</td>\n",
       "    </tr>\n",
       "  </tbody>\n",
       "</table>\n",
       "<p>8675 rows × 3 columns</p>\n",
       "</div>"
      ],
      "text/plain": [
       "      type                                              posts  \\\n",
       "0     infj  'http://www.youtube.com/watch?v=qsXHcwe3krw|||...   \n",
       "1     entp  'I'm finding the lack of me in these posts ver...   \n",
       "2     intp  'Good one  _____   https://www.youtube.com/wat...   \n",
       "3     intj  'Dear INTP,   I enjoyed our conversation the o...   \n",
       "4     entj  'You're fired.|||That's another silly misconce...   \n",
       "...    ...                                                ...   \n",
       "8670  isfp  'https://www.youtube.com/watch?v=t8edHB_h908||...   \n",
       "8671  enfp  'So...if this thread already exists someplace ...   \n",
       "8672  intp  'So many questions when i do these things.  I ...   \n",
       "8673  infp  'I am very conflicted right now when it comes ...   \n",
       "8674  infp  'It has been too long since I have been on per...   \n",
       "\n",
       "                                            clean_posts  \n",
       "0     'http://www.youtube.com/watch?v=qsxhcwe3krw|||...  \n",
       "1     'i'm finding the lack of me in these posts ver...  \n",
       "2     'good one  _____   https://www.youtube.com/wat...  \n",
       "3     'dear ,   i enjoyed our conversation the other...  \n",
       "4     'you're fired.|||that's another silly misconce...  \n",
       "...                                                 ...  \n",
       "8670  'https://www.youtube.com/watch?v=t8edhb_h908||...  \n",
       "8671  'so...if this thread already exists someplace ...  \n",
       "8672  'so many questions when i do these things.  i ...  \n",
       "8673  'i am very conflicted right now when it comes ...  \n",
       "8674  'it has been too long since i have been on per...  \n",
       "\n",
       "[8675 rows x 3 columns]"
      ]
     },
     "execution_count": 13,
     "metadata": {},
     "output_type": "execute_result"
    }
   ],
   "source": [
    "cafe_clean"
   ]
  },
  {
   "cell_type": "code",
   "execution_count": 14,
   "metadata": {},
   "outputs": [
    {
     "name": "stdout",
     "output_type": "stream",
     "text": [
      "Int64Index([], dtype='int64')\n",
      "Int64Index([], dtype='int64')\n",
      "Int64Index([], dtype='int64')\n",
      "Int64Index([], dtype='int64')\n",
      "Int64Index([], dtype='int64')\n",
      "Int64Index([], dtype='int64')\n",
      "Int64Index([], dtype='int64')\n",
      "Int64Index([], dtype='int64')\n",
      "Int64Index([], dtype='int64')\n",
      "Int64Index([], dtype='int64')\n",
      "Int64Index([], dtype='int64')\n",
      "Int64Index([], dtype='int64')\n",
      "Int64Index([], dtype='int64')\n",
      "Int64Index([], dtype='int64')\n",
      "Int64Index([], dtype='int64')\n",
      "Int64Index([], dtype='int64')\n"
     ]
    }
   ],
   "source": [
    "for mbti in mbti_lst:\n",
    "    print(cafe_clean[cafe_clean['clean_posts'].str.contains(mbti)].index)"
   ]
  },
  {
   "cell_type": "code",
   "execution_count": 15,
   "metadata": {},
   "outputs": [],
   "source": [
    "# The posts contain multiple posts seperated by 3 pipes '|||' w/ no spaces between. \n",
    "# This function will remove pipes and replace with a space.\n",
    "cafe_clean['clean_posts'] = cafe_clean['clean_posts'].apply(lambda x: prepro.pipe_remove(x))\n",
    "\n",
    "# This funciton will remove URLs in the posts\n",
    "cafe_clean['clean_posts'] = cafe_clean['clean_posts'].apply(lambda x: prepro.url_remove(x))\n",
    "\n",
    "# This function will remove punctuation (dependent on what is passed in). This has `/``, `_`, `:` \n",
    "cafe_clean['clean_posts'] = cafe_clean['clean_posts'].apply(lambda x: prepro.punc_remove(x))\n",
    "\n",
    "# Removes all characters that are not American Standard Code for Information Interchange\n",
    "cafe_clean['clean_posts'] = cafe_clean['clean_posts'].apply(lambda x: prepro.remove_symbols(x))\n",
    "\n",
    "# Fixes all spelling errors\n",
    "# cafe_clean['clean_posts'] = cafe_clean['clean_posts'].apply(lambda x: prepro.spelling(x))"
   ]
  },
  {
   "cell_type": "code",
   "execution_count": 16,
   "metadata": {},
   "outputs": [],
   "source": [
    "# This will create a column of cleaned words that have been tokenized.\n",
    "pattern = r\"(?u)\\b\\w\\w+\\b\" # words with more than 2 letters\n",
    "tokenizer = RegexpTokenizer(pattern) # instantiate tokenizer\n",
    "cafe_clean['post_tokens'] = cafe_clean['clean_posts'].apply(tokenizer.tokenize) # Tokenize to new column"
   ]
  },
  {
   "cell_type": "code",
   "execution_count": 17,
   "metadata": {},
   "outputs": [],
   "source": [
    "# Removing any remaining numeric digits\n",
    "cafe_clean['post_tokens'] = cafe_clean['post_tokens'].apply(lambda x: prepro.remove_dig_token(x))\n",
    "\n",
    "# Removing stopwords\n",
    "cafe_clean['post_tokens'] = cafe_clean['post_tokens'].apply(lambda x: prepro.remove_stopwords(x))\n",
    "\n",
    "# Lemmatizing the words with POS tagging\n",
    "cafe_clean['post_tokens'] = cafe_clean['post_tokens'].apply(lambda x: prepro.lemmend_pos(x)) # Takes a while"
   ]
  },
  {
   "cell_type": "code",
   "execution_count": 18,
   "metadata": {},
   "outputs": [],
   "source": [
    "# Joining the tokens together into one long string\n",
    "cafe_clean['joined_tokens'] = cafe_clean['post_tokens'].apply(lambda x: prepro.join_tokens(x)) # Creating new column"
   ]
  },
  {
   "cell_type": "code",
   "execution_count": 19,
   "metadata": {},
   "outputs": [
    {
     "name": "stdout",
     "output_type": "stream",
     "text": [
      "CLEANED:  abcdefghijklmnopqrstuvwxyz\n",
      "-------------------------\n",
      "-------------------------\n",
      "PRE-CLEANED:  !#$%&'()*+,-./0123456789:;<=>?@[]^_`abcdefghijklmnopqrstuvwxyz{|}~¡¢£¤§¨©«¬®¯°²³´µ¶·¸¹º»¼½¾¿×ßàáâãäåæçèéêëìíîïðñòóôõö÷øùúûüýþÿāăćčđēĕėęěīĭıłńōŏőœřśšūżưǝɐɔəɛɟɥɪɯɹʇʊʌʍʎʒʖʘ˂˃ˆˈˌː˘˙˚˝˶̴̶̸̡̢̧̨̛̖̗̘̙̜̝̞̟̠̣̤̥̦̩̪̫̬̯̰̳̹̺̻̼͇͈͉͍͎̀́̂̃̄̆̇̈̉̌̎̐̑̒̓̔̽̾́̓͊̕̚ͅ͏͓͔͕͖͙͚͑͒͛ͣͤͥͦͧͨͩͫͭͮ͘͜͟͢͝͞͡άέήίαβγδεηθικλμνξοπρςστυφψωόύώабвгдежзийклмнопрстуфхцчшщъыьэюяћќ҉אבגדהוזחיךלםמןנסעפץרשת،؟أابةتثجحدرزسشظعغفقكلمنهوي٩کگی۶ःतमरिू्ஐ௰ಠಡಥರೃฅง็๑ຈ༼༽ლღᆺ፦ᴗởἓἔἶὅὐὲ–—―‘’‚“”„†•…′‽‿⁎₪€™↑→↔⇑⇩∀∇∈∑−∙√∞≈≠≡≥≦≧⊃⊙⋆⌒⌣─━┌┐┬┻╥╬╭╮╯■□▬△▽◇◉●◔◕◞◠◡☂★☆☺☼♉♡♢♤♥♧♪♫♬✌✍✓✔✝✧✨✿❤⸮、。》あいうえおかがきぎくこごさざしじすせぜそただちっつづてでとなにねのはへぼまめもゃやょよらりるれろわをん゜アイクサジタッツトニノミメモュラレヮワン・ーヽヾㅿ一上不中之习了事二人仙会但你便像光全兴冬刀利到勇吉同吗吞呢喜四因国地夜夢大天太头好如学安実容小就弁待很我才把抜拿掌文斎斬新方日明易是智暗曉月望本柳欢気汉漫為然爱狼王白的益眼砂祥私笑組美聖花英菀西見語语说迎返違選都野関陰陽雪願馬髒高龍녕디랑뮤보비사석세씨아안오요유재저직하️︵﹏！％＇（）＊，－０１：；？＠｀ａｂｃｄｅｆｇｈｉｋｌｍｎｏｐｒｓｔｕｖｗｘｙ～｡･ｧｩｫｬｼﾉﾞﾟ￣�🌹🍄🏼🐍👈👋👌👍👏💎💓💖💛🔥🕚😀😁😂😃😄😅😆😇😉😊😋😌😍😎😏😐😓😕😘😜😝😞😡😢😣😧😫😬😮😱😳😴😺🙋🤓🤔🤗🦄\n"
     ]
    }
   ],
   "source": [
    "# showing what characters are in the cleaned text vs. the pre-cleaned text\n",
    "clean_corpus = ' '.join(cafe_clean['joined_tokens'])\n",
    "print(f'CLEANED: {\"\".join(sorted(set(clean_corpus.lower())))}')\n",
    "print('-'*25)\n",
    "print('-'*25)\n",
    "\n",
    "\n",
    "corpus = ' '.join(cafe_df['posts'])\n",
    "print(f'PRE-CLEANED: {\"\".join(sorted(set(corpus.lower())))}')"
   ]
  },
  {
   "cell_type": "code",
   "execution_count": 20,
   "metadata": {},
   "outputs": [
    {
     "data": {
      "text/html": [
       "<div>\n",
       "<style scoped>\n",
       "    .dataframe tbody tr th:only-of-type {\n",
       "        vertical-align: middle;\n",
       "    }\n",
       "\n",
       "    .dataframe tbody tr th {\n",
       "        vertical-align: top;\n",
       "    }\n",
       "\n",
       "    .dataframe thead th {\n",
       "        text-align: right;\n",
       "    }\n",
       "</style>\n",
       "<table border=\"1\" class=\"dataframe\">\n",
       "  <thead>\n",
       "    <tr style=\"text-align: right;\">\n",
       "      <th></th>\n",
       "      <th>type</th>\n",
       "      <th>posts</th>\n",
       "      <th>clean_posts</th>\n",
       "      <th>post_tokens</th>\n",
       "      <th>joined_tokens</th>\n",
       "    </tr>\n",
       "  </thead>\n",
       "  <tbody>\n",
       "    <tr>\n",
       "      <th>0</th>\n",
       "      <td>infj</td>\n",
       "      <td>'http://www.youtube.com/watch?v=qsXHcwe3krw|||...</td>\n",
       "      <td>and  moments    sportscenter not top te...</td>\n",
       "      <td>[moment, sportscenter, top, ten, play, pranks,...</td>\n",
       "      <td>moment sportscenter top ten play pranks life c...</td>\n",
       "    </tr>\n",
       "    <tr>\n",
       "      <th>1</th>\n",
       "      <td>entp</td>\n",
       "      <td>'I'm finding the lack of me in these posts ver...</td>\n",
       "      <td>im finding the lack of me in these posts very ...</td>\n",
       "      <td>[im, find, lack, post, alarm, sex, boring, pos...</td>\n",
       "      <td>im find lack post alarm sex boring position of...</td>\n",
       "    </tr>\n",
       "    <tr>\n",
       "      <th>2</th>\n",
       "      <td>intp</td>\n",
       "      <td>'Good one  _____   https://www.youtube.com/wat...</td>\n",
       "      <td>good one        of course, to which i say i kn...</td>\n",
       "      <td>[good, one, course, say, know, thats, bless, c...</td>\n",
       "      <td>good one course say know thats bless curse abs...</td>\n",
       "    </tr>\n",
       "    <tr>\n",
       "      <th>3</th>\n",
       "      <td>intj</td>\n",
       "      <td>'Dear INTP,   I enjoyed our conversation the o...</td>\n",
       "      <td>dear ,   i enjoyed our conversation the other ...</td>\n",
       "      <td>[dear, enjoyed, conversation, day, esoteric, g...</td>\n",
       "      <td>dear enjoyed conversation day esoteric gabbing...</td>\n",
       "    </tr>\n",
       "    <tr>\n",
       "      <th>4</th>\n",
       "      <td>entj</td>\n",
       "      <td>'You're fired.|||That's another silly misconce...</td>\n",
       "      <td>youre fired.   thats another silly misconcepti...</td>\n",
       "      <td>[youre, fire, thats, another, silly, misconcep...</td>\n",
       "      <td>youre fire thats another silly misconception a...</td>\n",
       "    </tr>\n",
       "  </tbody>\n",
       "</table>\n",
       "</div>"
      ],
      "text/plain": [
       "   type                                              posts  \\\n",
       "0  infj  'http://www.youtube.com/watch?v=qsXHcwe3krw|||...   \n",
       "1  entp  'I'm finding the lack of me in these posts ver...   \n",
       "2  intp  'Good one  _____   https://www.youtube.com/wat...   \n",
       "3  intj  'Dear INTP,   I enjoyed our conversation the o...   \n",
       "4  entj  'You're fired.|||That's another silly misconce...   \n",
       "\n",
       "                                         clean_posts  \\\n",
       "0         and  moments    sportscenter not top te...   \n",
       "1  im finding the lack of me in these posts very ...   \n",
       "2  good one        of course, to which i say i kn...   \n",
       "3  dear ,   i enjoyed our conversation the other ...   \n",
       "4  youre fired.   thats another silly misconcepti...   \n",
       "\n",
       "                                         post_tokens  \\\n",
       "0  [moment, sportscenter, top, ten, play, pranks,...   \n",
       "1  [im, find, lack, post, alarm, sex, boring, pos...   \n",
       "2  [good, one, course, say, know, thats, bless, c...   \n",
       "3  [dear, enjoyed, conversation, day, esoteric, g...   \n",
       "4  [youre, fire, thats, another, silly, misconcep...   \n",
       "\n",
       "                                       joined_tokens  \n",
       "0  moment sportscenter top ten play pranks life c...  \n",
       "1  im find lack post alarm sex boring position of...  \n",
       "2  good one course say know thats bless curse abs...  \n",
       "3  dear enjoyed conversation day esoteric gabbing...  \n",
       "4  youre fire thats another silly misconception a...  "
      ]
     },
     "execution_count": 20,
     "metadata": {},
     "output_type": "execute_result"
    }
   ],
   "source": [
    "cafe_clean.head(5)"
   ]
  },
  {
   "cell_type": "markdown",
   "metadata": {},
   "source": [
    "---"
   ]
  },
  {
   "cell_type": "code",
   "execution_count": 21,
   "metadata": {},
   "outputs": [
    {
     "name": "stdout",
     "output_type": "stream",
     "text": [
      "The pre-cleaned tokens tally up to 10637645 total words\n",
      "The cleaned tokens tally up to 5378285 total words\n",
      "--------------------\n",
      "Each feature in pre-cleaned has on average 1226 words\n",
      "Each feature in cleaned has on average 620 words\n",
      "--------------------\n",
      "Each feature in pre-cleaned  has a median of 1278 words\n",
      "Each feature has a median of 645 words\n",
      "--------------------\n",
      "The minimum post in pre-cleaned  is 4 words\n",
      "The minimum post in cleaned is 0 words\n",
      "--------------------\n",
      "The minimum post in pre-cleaned  is 1881 words\n",
      "The minimum post in cleaned is 916 words\n",
      "--------------------\n"
     ]
    },
    {
     "data": {
      "image/png": "[encoded data removed]",
      "text/plain": [
       "<Figure size 1440x576 with 1 Axes>"
      ]
     },
     "metadata": {},
     "output_type": "display_data"
    }
   ],
   "source": [
    "total_words = cafe_clean['posts'].apply(lambda x: len(x.split())).sum()\n",
    "print(f'The pre-cleaned tokens tally up to {total_words} total words')\n",
    "\n",
    "clean_words = cafe_clean['post_tokens'].apply(lambda x: len(x)).sum()\n",
    "print(f'The cleaned tokens tally up to {clean_words} total words')\n",
    "\n",
    "print('-'*20)\n",
    "\n",
    "ave_post = cafe_clean['posts'].apply(lambda x: len(x.split())).mean()\n",
    "print(f'Each feature in pre-cleaned has on average {round(ave_post)} words')\n",
    "\n",
    "ave_cleaned = cafe_clean['post_tokens'].apply(lambda x: len(x)).mean()\n",
    "print(f'Each feature in cleaned has on average {round(ave_cleaned)} words')\n",
    "\n",
    "print('-'*20)\n",
    "\n",
    "med_post = cafe_clean['posts'].apply(lambda x: len(x.split())).median()\n",
    "print(f'Each feature in pre-cleaned  has a median of {round(med_post)} words')\n",
    "\n",
    "med_cleaned = cafe_clean['post_tokens'].apply(lambda x: len(x)).median()\n",
    "print(f'Each feature has a median of {round(med_cleaned)} words')\n",
    "\n",
    "print('-'*20)\n",
    "\n",
    "min_post = cafe_clean['posts'].apply(lambda x: len(x.split())).min()\n",
    "print(f'The minimum post in pre-cleaned  is {round(min_post)} words')\n",
    "\n",
    "min_cleaned = cafe_clean['post_tokens'].apply(lambda x: len(x)).min()\n",
    "print(f'The minimum post in cleaned is {round(min_cleaned)} words')\n",
    "\n",
    "print('-'*20)\n",
    "\n",
    "max_post = cafe_clean['posts'].apply(lambda x: len(x.split())).max()\n",
    "print(f'The minimum post in pre-cleaned  is {round(max_post)} words')\n",
    "\n",
    "max_cleaned = cafe_clean['post_tokens'].apply(lambda x: len(x)).max()\n",
    "print(f'The minimum post in cleaned is {round(max_cleaned)} words')\n",
    "\n",
    "print('-'*20)\n",
    "\n",
    "plt.figure(figsize=(20,8))\n",
    "plt.hist(cafe_clean['post_tokens'].apply(lambda x: len(x)), label='cleaned', alpha=.5, bins=100)\n",
    "plt.hist(cafe_clean['posts'].apply(lambda x: len(x.split())), label='pre-cleaned', alpha=.5, bins=100)\n",
    "plt.axvline(ave_post, color='k', linestyle='dashed', linewidth=3, label='pre-cleaned mean')\n",
    "plt.axvline(ave_cleaned, color='r', linestyle='dashed', linewidth=3, label='cleaned mean')\n",
    "plt.legend()\n",
    "plt.title('Distribution of Post Length \\n Clean vs Pre-Cleaned');"
   ]
  },
  {
   "cell_type": "code",
   "execution_count": 22,
   "metadata": {},
   "outputs": [
    {
     "name": "stdout",
     "output_type": "stream",
     "text": [
      ">>>>>>>>>>ENTP<<<<<<<<<<\n",
      "-------------------------\n",
      "'http://www.youtube.com/watch?v=xQ04WbgI9rg&ob=av2e   http://www.youtube.com/watch?v=gGdGFtwCNBE&ob=av3e   http://www.youtube.com/watch?v=gH2efAcmBQM&ob=av3e  ...|||What we did is inform each other what our love languages were, and both of our primaries are physical touch. So hugs, cuddling, hand holding, all that cute-sy crap that couples do... we're big on...|||I am currently dating an INTJ.   Objectively, she is the most compatible woman for me from all of my relationships heretofore. This was an observation by both of us (eventually) and all of our...|||Quite, actually. It keeps us alive :)|||This is that one, I'm just posting it here for the people that don't visit the overall forum. A friend pointed me to it originally.|||The following link is a map where you can post your location and MBTI type, let's show all those other types that the ENTP's are more awesome than they already thought because we're everywhere!! :D ...|||After having gone through my first year, I can honestly sa\n",
      "-------------------------\n",
      "inform love languages primary physical touch hug cuddle hand hold cute sy crap couple big currently date objectively compatible woman relationship heretofore observation u eventually quite actually keep u alive one im post people dont visit overall forum friend point originally follow link map post location mbti type let show type awesome already think everywhere go first year honestly say happy ever love wonderful people look like could another excellent tv series lucky bad movie severely troubled common occurrence severe case trigger depression age late solid student potential apply arrogant liked talk thing yeah true let lead unencumbered challenge grow thats fun think definitely good job leading suggestion would let charismatic face people thing multi day day im go pull one tonight fact however lose bodys internal need wake certain time take awhile theater captain america dvd blu ray serenity majority friends sensor even couple sfs long people recognize difference get along anyone \n"
     ]
    }
   ],
   "source": [
    "rint = np.random.randint(0, len(cafe_df))\n",
    "print('>'*10 + cafe_df['type'].iloc[rint] + '<'*10)\n",
    "print('-'*25)\n",
    "print(cafe_clean['posts'].iloc[rint][:1000])\n",
    "print('-'*25)\n",
    "print(cafe_clean['joined_tokens'].iloc[rint][:1000])"
   ]
  },
  {
   "cell_type": "markdown",
   "metadata": {},
   "source": [
    "#### Takeaways:\n",
    "- A lot of words were reduced or eliminated that did not provide any use.\n",
    "- The dataset still has posts with very little words. Might need to drop these.\n",
    "- The lemmitization did not work well on some verbs and the `MBTI` replacement often is followed by an `s`.\n"
   ]
  },
  {
   "cell_type": "code",
   "execution_count": 23,
   "metadata": {},
   "outputs": [],
   "source": [
    "# Adding Binary Targets\n",
    "cafe_clean['i/e'] = cafe_clean['type'].map(lambda x: x[0])\n",
    "cafe_clean['n/s'] = cafe_clean['type'].map(lambda x: x[1])\n",
    "cafe_clean['t/f'] = cafe_clean['type'].map(lambda x: x[2])\n",
    "cafe_clean['p/j'] = cafe_clean['type'].map(lambda x: x[3])"
   ]
  },
  {
   "cell_type": "code",
   "execution_count": 24,
   "metadata": {},
   "outputs": [
    {
     "name": "stdout",
     "output_type": "stream",
     "text": [
      "i    6676\n",
      "e    1999\n",
      "Name: i/e, dtype: int64\n",
      "n    7478\n",
      "s    1197\n",
      "Name: n/s, dtype: int64\n",
      "f    4694\n",
      "t    3981\n",
      "Name: t/f, dtype: int64\n",
      "p    5241\n",
      "j    3434\n",
      "Name: p/j, dtype: int64\n"
     ]
    }
   ],
   "source": [
    "print(cafe_clean['i/e'].value_counts())\n",
    "print(cafe_clean['n/s'].value_counts())\n",
    "print(cafe_clean['t/f'].value_counts())\n",
    "print(cafe_clean['p/j'].value_counts())"
   ]
  },
  {
   "cell_type": "code",
   "execution_count": 25,
   "metadata": {},
   "outputs": [
    {
     "data": {
      "image/png": "[encoded data removed]",
      "text/plain": [
       "<Figure size 1440x576 with 1 Axes>"
      ]
     },
     "metadata": {},
     "output_type": "display_data"
    }
   ],
   "source": [
    "plt.figure(figsize=(20,8))\n",
    "plt.title('Weights Between Binary Classes')\n",
    "plt.ylabel('counts')\n",
    "for column in cafe_clean.columns[-4:]:\n",
    "    plt.bar(cafe_clean[column].value_counts().index, cafe_clean[column].value_counts().values, label=column)\n",
    "\n",
    "plt.legend()\n",
    "plt.show();"
   ]
  },
  {
   "cell_type": "markdown",
   "metadata": {},
   "source": [
    "### Sentiment Analysis w/ VADER"
   ]
  },
  {
   "cell_type": "code",
   "execution_count": 26,
   "metadata": {},
   "outputs": [],
   "source": [
    "from nltk.sentiment.vader import SentimentIntensityAnalyzer\n",
    "\n",
    "sid = SentimentIntensityAnalyzer()"
   ]
  },
  {
   "cell_type": "code",
   "execution_count": 27,
   "metadata": {},
   "outputs": [
    {
     "data": {
      "text/plain": [
       "{'neg': 0.109, 'neu': 0.599, 'pos': 0.292, 'compound': 0.9985}"
      ]
     },
     "execution_count": 27,
     "metadata": {},
     "output_type": "execute_result"
    }
   ],
   "source": [
    "sid.polarity_scores(cafe_clean.loc[2,'joined_tokens'])"
   ]
  },
  {
   "cell_type": "code",
   "execution_count": 28,
   "metadata": {},
   "outputs": [],
   "source": [
    "cafe_clean['sentiment'] = cafe_clean['joined_tokens'].apply(lambda x: sid.polarity_scores(x))"
   ]
  },
  {
   "cell_type": "code",
   "execution_count": 29,
   "metadata": {},
   "outputs": [],
   "source": [
    "cafe_clean['sentiment_total'] = cafe_clean['sentiment'].apply(lambda x: x['compound'])"
   ]
  },
  {
   "cell_type": "code",
   "execution_count": 30,
   "metadata": {},
   "outputs": [],
   "source": [
    "cafe_clean['sentiment_score'] = cafe_clean['sentiment_total'].apply(lambda x: '+' if x >= 0 else '-')"
   ]
  },
  {
   "cell_type": "code",
   "execution_count": 31,
   "metadata": {},
   "outputs": [
    {
     "name": "stdout",
     "output_type": "stream",
     "text": [
      "Average Sentiemnt Score for esfj: 0.9973785714285716\n",
      "Average Sentiemnt Score for esfp: 0.8515062499999999\n",
      "Average Sentiemnt Score for istp: 0.8486275964391692\n",
      "Average Sentiemnt Score for istj: 0.9169868292682928\n",
      "Average Sentiemnt Score for entp: 0.9007751824817517\n",
      "Average Sentiemnt Score for intj: 0.8949363886342806\n",
      "Average Sentiemnt Score for isfj: 0.9542283132530119\n",
      "Average Sentiemnt Score for infj: 0.9543682993197279\n",
      "Average Sentiemnt Score for estp: 0.9377943820224719\n",
      "Average Sentiemnt Score for enfj: 0.9721736842105261\n",
      "Average Sentiemnt Score for isfp: 0.9587029520295203\n",
      "Average Sentiemnt Score for estj: 0.8641205128205127\n",
      "Average Sentiemnt Score for infp: 0.9341299672489084\n",
      "Average Sentiemnt Score for intp: 0.861783819018405\n",
      "Average Sentiemnt Score for entj: 0.9246627705627706\n",
      "Average Sentiemnt Score for enfp: 0.9820238518518518\n"
     ]
    },
    {
     "data": {
      "image/png": "[encoded data removed]",
      "text/plain": [
       "<Figure size 1080x576 with 1 Axes>"
      ]
     },
     "metadata": {},
     "output_type": "display_data"
    }
   ],
   "source": [
    "scores_dict = {}\n",
    "for mbti in mbti_lst:\n",
    "    data = cafe_clean[cafe_clean['type'] == mbti]\n",
    "    print(f'Average Sentiemnt Score for {mbti}: {data.sentiment_total.mean()}')\n",
    "    scores_dict.update({mbti: data.sentiment_total.mean()}) \n",
    "\n",
    "scores_dict = {k: v for k, v in sorted(scores_dict.items(), key=lambda item: item[1])}\n",
    "\n",
    "x = list(scores_dict.keys())\n",
    "height = list(scores_dict.values())\n",
    "\n",
    "plt.figure(figsize=(15,8))\n",
    "plt.bar(x, height);\n"
   ]
  },
  {
   "cell_type": "code",
   "execution_count": 32,
   "metadata": {},
   "outputs": [
    {
     "name": "stdout",
     "output_type": "stream",
     "text": [
      "Average Sentiemnt Score for t: 0.8846782215523737\n",
      "Average Sentiemnt Score for f: 0.950745462292288\n"
     ]
    },
    {
     "data": {
      "image/png": "[encoded data removed]",
      "text/plain": [
       "<Figure size 720x360 with 1 Axes>"
      ]
     },
     "metadata": {},
     "output_type": "display_data"
    }
   ],
   "source": [
    "scores_dict = {}\n",
    "for mbti in ['t', 'f']:\n",
    "    data = cafe_clean[cafe_clean['t/f'] == mbti]\n",
    "    print(f'Average Sentiemnt Score for {mbti}: {data.sentiment_total.mean()}')\n",
    "    scores_dict.update({mbti: data.sentiment_total.mean()}) \n",
    "\n",
    "scores_dict = {k: v for k, v in sorted(scores_dict.items(), key=lambda item: item[1])}\n",
    "\n",
    "x = list(scores_dict.keys())\n",
    "height = list(scores_dict.values())\n",
    "\n",
    "plt.figure(figsize=(10,5))\n",
    "plt.bar(x, height);"
   ]
  },
  {
   "cell_type": "code",
   "execution_count": 33,
   "metadata": {},
   "outputs": [],
   "source": [
    "cafe_clean['polarity'] = cafe_clean['joined_tokens'].apply(lambda x: TextBlob(x).sentiment.polarity)"
   ]
  },
  {
   "cell_type": "code",
   "execution_count": 34,
   "metadata": {},
   "outputs": [],
   "source": [
    "cafe_clean['subjectivity'] = cafe_clean['joined_tokens'].apply(lambda x: TextBlob(x).sentiment.subjectivity)"
   ]
  },
  {
   "cell_type": "code",
   "execution_count": 35,
   "metadata": {},
   "outputs": [
    {
     "data": {
      "image/png": "[encoded data removed]",
      "text/plain": [
       "<Figure size 1080x576 with 1 Axes>"
      ]
     },
     "metadata": {},
     "output_type": "display_data"
    }
   ],
   "source": [
    "plt.figure(figsize=(15,8))\n",
    "for mbti in mbti_lst:\n",
    "    plt.hist(cafe_clean['polarity'][cafe_clean['type'] == mbti], bins=100, alpha=.5, label=mbti)\n",
    "    plt.legend();"
   ]
  },
  {
   "cell_type": "code",
   "execution_count": 36,
   "metadata": {},
   "outputs": [
    {
     "data": {
      "image/png": "[encoded data removed]",
      "text/plain": [
       "<Figure size 1080x576 with 1 Axes>"
      ]
     },
     "metadata": {},
     "output_type": "display_data"
    }
   ],
   "source": [
    "plt.figure(figsize=(15,8))\n",
    "for mbti in mbti_lst:\n",
    "    plt.hist(cafe_clean['subjectivity'][cafe_clean['type'] == mbti], bins=100, alpha=.5, label=mbti)\n",
    "    plt.legend();"
   ]
  },
  {
   "cell_type": "code",
   "execution_count": 37,
   "metadata": {},
   "outputs": [
    {
     "name": "stdout",
     "output_type": "stream",
     "text": [
      "Average Sentiemnt Score for esfj: 0.13974941063609087\n",
      "Average Sentiemnt Score for esfp: 0.1123108862472287\n",
      "Average Sentiemnt Score for istp: 0.09560499803791665\n",
      "Average Sentiemnt Score for istj: 0.10781608359902514\n",
      "Average Sentiemnt Score for entp: 0.10507150630764782\n",
      "Average Sentiemnt Score for intj: 0.0977010633335242\n",
      "Average Sentiemnt Score for isfj: 0.12451931247148186\n",
      "Average Sentiemnt Score for infj: 0.11906580031327872\n",
      "Average Sentiemnt Score for estp: 0.11705505364052353\n",
      "Average Sentiemnt Score for enfj: 0.14527312442101964\n",
      "Average Sentiemnt Score for isfp: 0.1295808975889368\n",
      "Average Sentiemnt Score for estj: 0.11027807551621582\n",
      "Average Sentiemnt Score for infp: 0.11546259330606959\n",
      "Average Sentiemnt Score for intp: 0.09081179194750634\n",
      "Average Sentiemnt Score for entj: 0.10731474725204874\n",
      "Average Sentiemnt Score for enfp: 0.13219131688975677\n"
     ]
    },
    {
     "data": {
      "image/png": "[encoded data removed]",
      "text/plain": [
       "<Figure size 1080x576 with 1 Axes>"
      ]
     },
     "metadata": {},
     "output_type": "display_data"
    }
   ],
   "source": [
    "scores_dict = {}\n",
    "for mbti in mbti_lst:\n",
    "    data = cafe_clean[cafe_clean['type'] == mbti]\n",
    "    print(f'Average Sentiemnt Score for {mbti}: {data.polarity.mean()}')\n",
    "    scores_dict.update({mbti: data.polarity.mean()}) \n",
    "\n",
    "scores_dict = {k: v for k, v in sorted(scores_dict.items(), key=lambda item: item[1])}\n",
    "\n",
    "x = list(scores_dict.keys())\n",
    "height = list(scores_dict.values())\n",
    "\n",
    "plt.figure(figsize=(15,8))\n",
    "plt.bar(x, height);"
   ]
  },
  {
   "cell_type": "code",
   "execution_count": 38,
   "metadata": {},
   "outputs": [
    {
     "name": "stdout",
     "output_type": "stream",
     "text": [
      "Average Sentiemnt Score for esfj: 0.5402837713439674\n",
      "Average Sentiemnt Score for esfp: 0.5379531017871956\n",
      "Average Sentiemnt Score for istp: 0.5245042099556155\n",
      "Average Sentiemnt Score for istj: 0.5186690787798689\n",
      "Average Sentiemnt Score for entp: 0.5329137352800885\n",
      "Average Sentiemnt Score for intj: 0.5222922100722998\n",
      "Average Sentiemnt Score for isfj: 0.5411851563667872\n",
      "Average Sentiemnt Score for infj: 0.5335959484561393\n",
      "Average Sentiemnt Score for estp: 0.5342812867435218\n",
      "Average Sentiemnt Score for enfj: 0.5465322525899637\n",
      "Average Sentiemnt Score for isfp: 0.5380906836576977\n",
      "Average Sentiemnt Score for estj: 0.5239120672220323\n",
      "Average Sentiemnt Score for infp: 0.5366130406834448\n",
      "Average Sentiemnt Score for intp: 0.523919729906809\n",
      "Average Sentiemnt Score for entj: 0.5297599613258778\n",
      "Average Sentiemnt Score for enfp: 0.5439599694245157\n"
     ]
    },
    {
     "data": {
      "image/png": "[encoded data removed]",
      "text/plain": [
       "<Figure size 1080x576 with 1 Axes>"
      ]
     },
     "metadata": {},
     "output_type": "display_data"
    }
   ],
   "source": [
    "scores_dict = {}\n",
    "for mbti in mbti_lst:\n",
    "    data = cafe_clean[cafe_clean['type'] == mbti]\n",
    "    print(f'Average Sentiemnt Score for {mbti}: {data.subjectivity.mean()}')\n",
    "    scores_dict.update({mbti: data.subjectivity.mean()}) \n",
    "\n",
    "scores_dict = {k: v for k, v in sorted(scores_dict.items(), key=lambda item: item[1])}\n",
    "\n",
    "x = list(scores_dict.keys())\n",
    "height = list(scores_dict.values())\n",
    "\n",
    "plt.figure(figsize=(15,8))\n",
    "plt.bar(x, height);"
   ]
  },
  {
   "cell_type": "code",
   "execution_count": 39,
   "metadata": {},
   "outputs": [
    {
     "name": "stdout",
     "output_type": "stream",
     "text": [
      "Average Sentiemnt Score for t: 0.09816981949964891\n",
      "Average Sentiemnt Score for f: 0.12152370192613325\n"
     ]
    },
    {
     "data": {
      "image/png": "[encoded data removed]",
      "text/plain": [
       "<Figure size 720x360 with 1 Axes>"
      ]
     },
     "metadata": {},
     "output_type": "display_data"
    }
   ],
   "source": [
    "scores_dict = {}\n",
    "for mbti in ['t', 'f']:\n",
    "    data = cafe_clean[cafe_clean['t/f'] == mbti]\n",
    "    print(f'Average Sentiemnt Score for {mbti}: {data.polarity.mean()}')\n",
    "    scores_dict.update({mbti: data.polarity.mean()}) \n",
    "\n",
    "scores_dict = {k: v for k, v in sorted(scores_dict.items(), key=lambda item: item[1])}\n",
    "\n",
    "x = list(scores_dict.keys())\n",
    "height = list(scores_dict.values())\n",
    "\n",
    "plt.figure(figsize=(10,5))\n",
    "plt.bar(x, height);"
   ]
  },
  {
   "cell_type": "code",
   "execution_count": 40,
   "metadata": {},
   "outputs": [
    {
     "name": "stdout",
     "output_type": "stream",
     "text": [
      "Average Sentiemnt Score for t: 0.525370829883759\n",
      "Average Sentiemnt Score for f: 0.5374197317057077\n"
     ]
    },
    {
     "data": {
      "image/png": "[encoded data removed]",
      "text/plain": [
       "<Figure size 720x360 with 1 Axes>"
      ]
     },
     "metadata": {},
     "output_type": "display_data"
    }
   ],
   "source": [
    "scores_dict = {}\n",
    "for mbti in ['t', 'f']:\n",
    "    data = cafe_clean[cafe_clean['t/f'] == mbti]\n",
    "    print(f'Average Sentiemnt Score for {mbti}: {data.subjectivity.mean()}')\n",
    "    scores_dict.update({mbti: data.subjectivity.mean()}) \n",
    "\n",
    "scores_dict = {k: v for k, v in sorted(scores_dict.items(), key=lambda item: item[1])}\n",
    "\n",
    "x = list(scores_dict.keys())\n",
    "height = list(scores_dict.values())\n",
    "\n",
    "plt.figure(figsize=(10,5))\n",
    "plt.bar(x, height);"
   ]
  },
  {
   "cell_type": "code",
   "execution_count": 41,
   "metadata": {},
   "outputs": [
    {
     "data": {
      "image/png": "[encoded data removed]",
      "text/plain": [
       "<Figure size 1080x576 with 1 Axes>"
      ]
     },
     "metadata": {},
     "output_type": "display_data"
    }
   ],
   "source": [
    "# Susan Li\n",
    "def get_top_n_trigram(corpus, n=None):\n",
    "    vec = CountVectorizer(ngram_range=(3, 3), stop_words='english').fit(corpus)\n",
    "    bag_of_words = vec.transform(corpus)\n",
    "    sum_words = bag_of_words.sum(axis=0) \n",
    "    words_freq = [(word, sum_words[0, idx]) for word, idx in vec.vocabulary_.items()]\n",
    "    words_freq =sorted(words_freq, key = lambda x: x[1], reverse=True)\n",
    "    return words_freq[:n]\n",
    "common_words = get_top_n_trigram(cafe_clean['joined_tokens'], 20)\n",
    "# for word, freq in common_words:\n",
    "#     print(word, freq)\n",
    "df_tgrams = pd.DataFrame(common_words, columns = ['Posts' , 'count'])\n",
    "df_tgrams = df_tgrams.groupby('Posts').sum()['count'].sort_values(ascending=True)\n",
    "plt.figure(figsize=(15,8))\n",
    "plt.barh(df_tgrams.index, df_tgrams.values);\n"
   ]
  },
  {
   "cell_type": "code",
   "execution_count": 42,
   "metadata": {},
   "outputs": [
    {
     "data": {
      "image/png": "[encoded data removed]",
      "text/plain": [
       "<Figure size 1080x576 with 1 Axes>"
      ]
     },
     "metadata": {},
     "output_type": "display_data"
    }
   ],
   "source": [
    "blob = TextBlob(str(cafe_clean['joined_tokens']))\n",
    "pos_df = pd.DataFrame(blob.tags, columns = ['word' , 'pos'])\n",
    "pos_df = pos_df.pos.value_counts()[:20]\n",
    "plt.figure(figsize=(15,8))\n",
    "plt.barh(pos_df.index, pos_df.values);"
   ]
  },
  {
   "cell_type": "code",
   "execution_count": 43,
   "metadata": {},
   "outputs": [],
   "source": [
    "# cafe_clean.to_csv('./data/cafe_clean_new.csv')"
   ]
  },
  {
   "cell_type": "markdown",
   "metadata": {},
   "source": [
    "## Modeling\n",
    "\n",
    "There will be 4 sections of modeling:\n",
    "\n",
    "1. Multiclass\n",
    "2. Multiclass balanced classes using undersampling\n",
    "3. Binary\n",
    "4. Binary balanced classes using undersampling"
   ]
  },
  {
   "cell_type": "code",
   "execution_count": 44,
   "metadata": {},
   "outputs": [],
   "source": [
    "# Baseline\n",
    "baseline_models = {'SGDClassifier': SGDClassifier(class_weight='balanced', random_state=SEED),\n",
    "\n",
    "                #   'LogisticRegression': LogisticRegression(max_iter=1000, solver='saga'),\n",
    "\n",
    "                  'NaiveBayes': MultinomialNB()\n",
    "               \n",
    "                #   'DecisionTree': DecisionTreeClassifier(random_state=SEED),\n",
    "               \n",
    "                #   'RandomForest': RandomForestClassifier(random_state=SEED)\n",
    "               }"
   ]
  },
  {
   "cell_type": "code",
   "execution_count": 45,
   "metadata": {},
   "outputs": [
    {
     "name": "stdout",
     "output_type": "stream",
     "text": [
      "SGDClassifier(class_weight='balanced', random_state=53188535)\n",
      "MultinomialNB()\n"
     ]
    }
   ],
   "source": [
    "for clf in baseline_models:\n",
    "    print(baseline_models[clf])"
   ]
  },
  {
   "cell_type": "code",
   "execution_count": 46,
   "metadata": {},
   "outputs": [],
   "source": [
    "models_table = pd.DataFrame(columns=['Model', 'Target', 'CVScore', 'TestAcc'])"
   ]
  },
  {
   "cell_type": "code",
   "execution_count": 47,
   "metadata": {},
   "outputs": [],
   "source": [
    "rm = run_models()"
   ]
  },
  {
   "cell_type": "code",
   "execution_count": 48,
   "metadata": {},
   "outputs": [
    {
     "name": "stdout",
     "output_type": "stream",
     "text": [
      "--------------------\n",
      "Vectorizing....  @ Wed Mar  2 18:11:06 2022\n",
      "Working on SGDClassifier for type @ Wed Mar  2 18:11:16 2022\n"
     ]
    },
    {
     "name": "stderr",
     "output_type": "stream",
     "text": [
      "/Users/westonshuken/Documents/Myers/personality-prediction/mbti.py:136: FutureWarning: The frame.append method is deprecated and will be removed from pandas in a future version. Use pandas.concat instead.\n",
      "  table = table.append({'Model': model_name + \"_\" + target, 'Target': target, 'CVScore': round(cv_score_mean, 4), \\\n"
     ]
    },
    {
     "name": "stdout",
     "output_type": "stream",
     "text": [
      "Working on NaiveBayes for type @ Wed Mar  2 18:11:39 2022\n"
     ]
    },
    {
     "name": "stderr",
     "output_type": "stream",
     "text": [
      "/Users/westonshuken/Documents/Myers/personality-prediction/mbti.py:136: FutureWarning: The frame.append method is deprecated and will be removed from pandas in a future version. Use pandas.concat instead.\n",
      "  table = table.append({'Model': model_name + \"_\" + target, 'Target': target, 'CVScore': round(cv_score_mean, 4), \\\n"
     ]
    },
    {
     "data": {
      "text/html": [
       "<div>\n",
       "<style scoped>\n",
       "    .dataframe tbody tr th:only-of-type {\n",
       "        vertical-align: middle;\n",
       "    }\n",
       "\n",
       "    .dataframe tbody tr th {\n",
       "        vertical-align: top;\n",
       "    }\n",
       "\n",
       "    .dataframe thead th {\n",
       "        text-align: right;\n",
       "    }\n",
       "</style>\n",
       "<table border=\"1\" class=\"dataframe\">\n",
       "  <thead>\n",
       "    <tr style=\"text-align: right;\">\n",
       "      <th></th>\n",
       "      <th>Model</th>\n",
       "      <th>Target</th>\n",
       "      <th>CVScore</th>\n",
       "      <th>TestAcc</th>\n",
       "    </tr>\n",
       "  </thead>\n",
       "  <tbody>\n",
       "    <tr>\n",
       "      <th>0</th>\n",
       "      <td>SGDClassifier_type</td>\n",
       "      <td>type</td>\n",
       "      <td>0.3448</td>\n",
       "      <td>0.3476</td>\n",
       "    </tr>\n",
       "    <tr>\n",
       "      <th>1</th>\n",
       "      <td>NaiveBayes_type</td>\n",
       "      <td>type</td>\n",
       "      <td>0.2193</td>\n",
       "      <td>0.2144</td>\n",
       "    </tr>\n",
       "  </tbody>\n",
       "</table>\n",
       "</div>"
      ],
      "text/plain": [
       "                Model Target CVScore TestAcc\n",
       "0  SGDClassifier_type   type  0.3448  0.3476\n",
       "1     NaiveBayes_type   type  0.2193  0.2144"
      ]
     },
     "execution_count": 48,
     "metadata": {},
     "output_type": "execute_result"
    }
   ],
   "source": [
    "rm.run(cafe_clean, 'joined_tokens', ['type'], baseline_models, models_table, tfidf=False, SEED=234)"
   ]
  },
  {
   "cell_type": "code",
   "execution_count": 49,
   "metadata": {},
   "outputs": [
    {
     "name": "stdout",
     "output_type": "stream",
     "text": [
      "--------------------\n",
      "Vectorizing....  @ Wed Mar  2 18:11:43 2022\n",
      "Working on SGDClassifier for type @ Wed Mar  2 18:11:54 2022\n"
     ]
    },
    {
     "name": "stderr",
     "output_type": "stream",
     "text": [
      "/Users/westonshuken/Documents/Myers/personality-prediction/mbti.py:136: FutureWarning: The frame.append method is deprecated and will be removed from pandas in a future version. Use pandas.concat instead.\n",
      "  table = table.append({'Model': model_name + \"_\" + target, 'Target': target, 'CVScore': round(cv_score_mean, 4), \\\n"
     ]
    },
    {
     "name": "stdout",
     "output_type": "stream",
     "text": [
      "Working on NaiveBayes for type @ Wed Mar  2 18:12:13 2022\n"
     ]
    },
    {
     "name": "stderr",
     "output_type": "stream",
     "text": [
      "/Users/westonshuken/Documents/Myers/personality-prediction/mbti.py:136: FutureWarning: The frame.append method is deprecated and will be removed from pandas in a future version. Use pandas.concat instead.\n",
      "  table = table.append({'Model': model_name + \"_\" + target, 'Target': target, 'CVScore': round(cv_score_mean, 4), \\\n"
     ]
    },
    {
     "data": {
      "text/html": [
       "<div>\n",
       "<style scoped>\n",
       "    .dataframe tbody tr th:only-of-type {\n",
       "        vertical-align: middle;\n",
       "    }\n",
       "\n",
       "    .dataframe tbody tr th {\n",
       "        vertical-align: top;\n",
       "    }\n",
       "\n",
       "    .dataframe thead th {\n",
       "        text-align: right;\n",
       "    }\n",
       "</style>\n",
       "<table border=\"1\" class=\"dataframe\">\n",
       "  <thead>\n",
       "    <tr style=\"text-align: right;\">\n",
       "      <th></th>\n",
       "      <th>Model</th>\n",
       "      <th>Target</th>\n",
       "      <th>CVScore</th>\n",
       "      <th>TestAcc</th>\n",
       "    </tr>\n",
       "  </thead>\n",
       "  <tbody>\n",
       "    <tr>\n",
       "      <th>0</th>\n",
       "      <td>SGDClassifier_type</td>\n",
       "      <td>type</td>\n",
       "      <td>0.4202</td>\n",
       "      <td>0.4108</td>\n",
       "    </tr>\n",
       "    <tr>\n",
       "      <th>1</th>\n",
       "      <td>NaiveBayes_type</td>\n",
       "      <td>type</td>\n",
       "      <td>0.2115</td>\n",
       "      <td>0.2098</td>\n",
       "    </tr>\n",
       "  </tbody>\n",
       "</table>\n",
       "</div>"
      ],
      "text/plain": [
       "                Model Target CVScore TestAcc\n",
       "0  SGDClassifier_type   type  0.4202  0.4108\n",
       "1     NaiveBayes_type   type  0.2115  0.2098"
      ]
     },
     "execution_count": 49,
     "metadata": {},
     "output_type": "execute_result"
    }
   ],
   "source": [
    "rm.run(cafe_clean, 'joined_tokens', ['type'], baseline_models, models_table, tfidf=True, SEED=234)"
   ]
  },
  {
   "cell_type": "code",
   "execution_count": 50,
   "metadata": {},
   "outputs": [
    {
     "data": {
      "text/plain": [
       "(0.0, 1.0)"
      ]
     },
     "execution_count": 50,
     "metadata": {},
     "output_type": "execute_result"
    },
    {
     "data": {
      "image/png": "[encoded data removed]",
      "text/plain": [
       "<Figure size 1080x360 with 1 Axes>"
      ]
     },
     "metadata": {},
     "output_type": "display_data"
    }
   ],
   "source": [
    "plt.figure(figsize=(15,5))\n",
    "plt.barh('model_accuracy', .4108)\n",
    "plt.barh(cafe_clean['type'].value_counts(normalize=True).index, cafe_clean['type'].value_counts(normalize=True).values)\n",
    "plt.xlim(0, 1)"
   ]
  },
  {
   "cell_type": "markdown",
   "metadata": {},
   "source": [
    "#### Multiclass Models Results\n",
    "The largest class is `infp` of 21%. The models are not performing at a useful level, however there is reason to believe that the models are finding some distinction in word usage between the different MBTI types.\n",
    "\n",
    "---"
   ]
  },
  {
   "cell_type": "code",
   "execution_count": 51,
   "metadata": {},
   "outputs": [
    {
     "name": "stdout",
     "output_type": "stream",
     "text": [
      "(array(['enfj', 'enfp', 'entj', 'entp', 'esfj', 'esfp', 'estj', 'estp',\n",
      "       'infj', 'infp', 'intj', 'intp', 'isfj', 'isfp', 'istj', 'istp'],\n",
      "      dtype=object), array([ 142,  506,  173,  514,   32,   36,   29,   67, 1102, 1374,  818,\n",
      "        978,  125,  203,  154,  253]))\n",
      "(array(['enfj', 'enfp', 'entj', 'entp', 'esfj', 'esfp', 'estj', 'estp',\n",
      "       'infj', 'infp', 'intj', 'intp', 'isfj', 'isfp', 'istj', 'istp'],\n",
      "      dtype=object), array([29, 29, 29, 29, 29, 29, 29, 29, 29, 29, 29, 29, 29, 29, 29, 29]))\n",
      "Vectorizing....  @ Wed Mar  2 18:12:16 2022\n",
      "Working on SGDClassifier @ Wed Mar  2 18:12:18 2022\n"
     ]
    },
    {
     "name": "stderr",
     "output_type": "stream",
     "text": [
      "/Users/westonshuken/Documents/Myers/personality-prediction/mbti.py:193: FutureWarning: The frame.append method is deprecated and will be removed from pandas in a future version. Use pandas.concat instead.\n",
      "  table = table.append({'Model': model_name + \"_\" + target, 'Target': target, 'CVScore': round(cv_score_mean, 4), \\\n"
     ]
    },
    {
     "name": "stdout",
     "output_type": "stream",
     "text": [
      "Working on NaiveBayes @ Wed Mar  2 18:12:19 2022\n"
     ]
    },
    {
     "name": "stderr",
     "output_type": "stream",
     "text": [
      "/Users/westonshuken/Documents/Myers/personality-prediction/mbti.py:193: FutureWarning: The frame.append method is deprecated and will be removed from pandas in a future version. Use pandas.concat instead.\n",
      "  table = table.append({'Model': model_name + \"_\" + target, 'Target': target, 'CVScore': round(cv_score_mean, 4), \\\n"
     ]
    },
    {
     "data": {
      "text/html": [
       "<div>\n",
       "<style scoped>\n",
       "    .dataframe tbody tr th:only-of-type {\n",
       "        vertical-align: middle;\n",
       "    }\n",
       "\n",
       "    .dataframe tbody tr th {\n",
       "        vertical-align: top;\n",
       "    }\n",
       "\n",
       "    .dataframe thead th {\n",
       "        text-align: right;\n",
       "    }\n",
       "</style>\n",
       "<table border=\"1\" class=\"dataframe\">\n",
       "  <thead>\n",
       "    <tr style=\"text-align: right;\">\n",
       "      <th></th>\n",
       "      <th>Model</th>\n",
       "      <th>Target</th>\n",
       "      <th>CVScore</th>\n",
       "      <th>TestAcc</th>\n",
       "    </tr>\n",
       "  </thead>\n",
       "  <tbody>\n",
       "    <tr>\n",
       "      <th>0</th>\n",
       "      <td>SGDClassifier_type</td>\n",
       "      <td>type</td>\n",
       "      <td>0.0884</td>\n",
       "      <td>0.1355</td>\n",
       "    </tr>\n",
       "    <tr>\n",
       "      <th>1</th>\n",
       "      <td>NaiveBayes_type</td>\n",
       "      <td>type</td>\n",
       "      <td>0.0969</td>\n",
       "      <td>0.035</td>\n",
       "    </tr>\n",
       "  </tbody>\n",
       "</table>\n",
       "</div>"
      ],
      "text/plain": [
       "                Model Target CVScore TestAcc\n",
       "0  SGDClassifier_type   type  0.0884  0.1355\n",
       "1     NaiveBayes_type   type  0.0969   0.035"
      ]
     },
     "execution_count": 51,
     "metadata": {},
     "output_type": "execute_result"
    }
   ],
   "source": [
    "rm.run_usampled(cafe_clean, 'joined_tokens', ['type'], baseline_models, models_table, tfidf=True, SEED=234)"
   ]
  },
  {
   "cell_type": "code",
   "execution_count": 52,
   "metadata": {},
   "outputs": [
    {
     "data": {
      "text/plain": [
       "(0.0, 1.0)"
      ]
     },
     "execution_count": 52,
     "metadata": {},
     "output_type": "execute_result"
    },
    {
     "data": {
      "image/png": "[encoded data removed]",
      "text/plain": [
       "<Figure size 1080x360 with 1 Axes>"
      ]
     },
     "metadata": {},
     "output_type": "display_data"
    }
   ],
   "source": [
    "plt.figure(figsize=(15,5))\n",
    "plt.barh('model_accuracy', .1143)\n",
    "plt.barh('class balance', 1/16)\n",
    "plt.xlim(0, 1)"
   ]
  },
  {
   "cell_type": "markdown",
   "metadata": {},
   "source": [
    "### Multiclass Undersampled Models Results\n",
    "The largest class is `infp` of 21%. The models are not performing at a useful level, however there is reason to believe that the models are finding some distinction in word usage between the different MBTI types.\n",
    "\n",
    "---"
   ]
  },
  {
   "cell_type": "code",
   "execution_count": 53,
   "metadata": {},
   "outputs": [
    {
     "name": "stdout",
     "output_type": "stream",
     "text": [
      "i    0.769568\n",
      "e    0.230432\n",
      "Name: i/e, dtype: float64\n",
      "n    0.862017\n",
      "s    0.137983\n",
      "Name: n/s, dtype: float64\n",
      "f    0.541095\n",
      "t    0.458905\n",
      "Name: t/f, dtype: float64\n",
      "p    0.60415\n",
      "j    0.39585\n",
      "Name: p/j, dtype: float64\n"
     ]
    }
   ],
   "source": [
    "print(cafe_clean['i/e'].value_counts(normalize=True))\n",
    "print(cafe_clean['n/s'].value_counts(normalize=True))\n",
    "print(cafe_clean['t/f'].value_counts(normalize=True))\n",
    "print(cafe_clean['p/j'].value_counts(normalize=True))"
   ]
  },
  {
   "cell_type": "code",
   "execution_count": 54,
   "metadata": {},
   "outputs": [
    {
     "data": {
      "text/plain": [
       "Index(['i/e', 'n/s', 't/f', 'p/j'], dtype='object')"
      ]
     },
     "execution_count": 54,
     "metadata": {},
     "output_type": "execute_result"
    }
   ],
   "source": [
    "bin_targets = cafe_clean.columns[-9:-5]\n",
    "bin_targets"
   ]
  },
  {
   "cell_type": "code",
   "execution_count": 55,
   "metadata": {},
   "outputs": [
    {
     "name": "stdout",
     "output_type": "stream",
     "text": [
      "--------------------\n",
      "Vectorizing....  @ Wed Mar  2 18:12:19 2022\n",
      "Working on SGDClassifier for i/e @ Wed Mar  2 18:12:29 2022\n"
     ]
    },
    {
     "name": "stderr",
     "output_type": "stream",
     "text": [
      "/Users/westonshuken/Documents/Myers/personality-prediction/mbti.py:136: FutureWarning: The frame.append method is deprecated and will be removed from pandas in a future version. Use pandas.concat instead.\n",
      "  table = table.append({'Model': model_name + \"_\" + target, 'Target': target, 'CVScore': round(cv_score_mean, 4), \\\n"
     ]
    },
    {
     "name": "stdout",
     "output_type": "stream",
     "text": [
      "Working on NaiveBayes for i/e @ Wed Mar  2 18:12:32 2022\n"
     ]
    },
    {
     "name": "stderr",
     "output_type": "stream",
     "text": [
      "/Users/westonshuken/Documents/Myers/personality-prediction/mbti.py:136: FutureWarning: The frame.append method is deprecated and will be removed from pandas in a future version. Use pandas.concat instead.\n",
      "  table = table.append({'Model': model_name + \"_\" + target, 'Target': target, 'CVScore': round(cv_score_mean, 4), \\\n"
     ]
    },
    {
     "name": "stdout",
     "output_type": "stream",
     "text": [
      "--------------------\n",
      "Vectorizing....  @ Wed Mar  2 18:12:32 2022\n",
      "Working on SGDClassifier for n/s @ Wed Mar  2 18:12:42 2022\n"
     ]
    },
    {
     "name": "stderr",
     "output_type": "stream",
     "text": [
      "/Users/westonshuken/Documents/Myers/personality-prediction/mbti.py:136: FutureWarning: The frame.append method is deprecated and will be removed from pandas in a future version. Use pandas.concat instead.\n",
      "  table = table.append({'Model': model_name + \"_\" + target, 'Target': target, 'CVScore': round(cv_score_mean, 4), \\\n"
     ]
    },
    {
     "name": "stdout",
     "output_type": "stream",
     "text": [
      "Working on NaiveBayes for n/s @ Wed Mar  2 18:12:43 2022\n"
     ]
    },
    {
     "name": "stderr",
     "output_type": "stream",
     "text": [
      "/Users/westonshuken/Documents/Myers/personality-prediction/mbti.py:136: FutureWarning: The frame.append method is deprecated and will be removed from pandas in a future version. Use pandas.concat instead.\n",
      "  table = table.append({'Model': model_name + \"_\" + target, 'Target': target, 'CVScore': round(cv_score_mean, 4), \\\n"
     ]
    },
    {
     "name": "stdout",
     "output_type": "stream",
     "text": [
      "--------------------\n",
      "Vectorizing....  @ Wed Mar  2 18:12:44 2022\n",
      "Working on SGDClassifier for t/f @ Wed Mar  2 18:12:53 2022\n"
     ]
    },
    {
     "name": "stderr",
     "output_type": "stream",
     "text": [
      "/Users/westonshuken/Documents/Myers/personality-prediction/mbti.py:136: FutureWarning: The frame.append method is deprecated and will be removed from pandas in a future version. Use pandas.concat instead.\n",
      "  table = table.append({'Model': model_name + \"_\" + target, 'Target': target, 'CVScore': round(cv_score_mean, 4), \\\n"
     ]
    },
    {
     "name": "stdout",
     "output_type": "stream",
     "text": [
      "Working on NaiveBayes for t/f @ Wed Mar  2 18:12:56 2022\n"
     ]
    },
    {
     "name": "stderr",
     "output_type": "stream",
     "text": [
      "/Users/westonshuken/Documents/Myers/personality-prediction/mbti.py:136: FutureWarning: The frame.append method is deprecated and will be removed from pandas in a future version. Use pandas.concat instead.\n",
      "  table = table.append({'Model': model_name + \"_\" + target, 'Target': target, 'CVScore': round(cv_score_mean, 4), \\\n"
     ]
    },
    {
     "name": "stdout",
     "output_type": "stream",
     "text": [
      "--------------------\n",
      "Vectorizing....  @ Wed Mar  2 18:12:56 2022\n",
      "Working on SGDClassifier for p/j @ Wed Mar  2 18:13:06 2022\n"
     ]
    },
    {
     "name": "stderr",
     "output_type": "stream",
     "text": [
      "/Users/westonshuken/Documents/Myers/personality-prediction/mbti.py:136: FutureWarning: The frame.append method is deprecated and will be removed from pandas in a future version. Use pandas.concat instead.\n",
      "  table = table.append({'Model': model_name + \"_\" + target, 'Target': target, 'CVScore': round(cv_score_mean, 4), \\\n"
     ]
    },
    {
     "name": "stdout",
     "output_type": "stream",
     "text": [
      "Working on NaiveBayes for p/j @ Wed Mar  2 18:13:08 2022\n"
     ]
    },
    {
     "name": "stderr",
     "output_type": "stream",
     "text": [
      "/Users/westonshuken/Documents/Myers/personality-prediction/mbti.py:136: FutureWarning: The frame.append method is deprecated and will be removed from pandas in a future version. Use pandas.concat instead.\n",
      "  table = table.append({'Model': model_name + \"_\" + target, 'Target': target, 'CVScore': round(cv_score_mean, 4), \\\n"
     ]
    },
    {
     "data": {
      "text/html": [
       "<div>\n",
       "<style scoped>\n",
       "    .dataframe tbody tr th:only-of-type {\n",
       "        vertical-align: middle;\n",
       "    }\n",
       "\n",
       "    .dataframe tbody tr th {\n",
       "        vertical-align: top;\n",
       "    }\n",
       "\n",
       "    .dataframe thead th {\n",
       "        text-align: right;\n",
       "    }\n",
       "</style>\n",
       "<table border=\"1\" class=\"dataframe\">\n",
       "  <thead>\n",
       "    <tr style=\"text-align: right;\">\n",
       "      <th></th>\n",
       "      <th>Model</th>\n",
       "      <th>Target</th>\n",
       "      <th>CVScore</th>\n",
       "      <th>TestAcc</th>\n",
       "    </tr>\n",
       "  </thead>\n",
       "  <tbody>\n",
       "    <tr>\n",
       "      <th>0</th>\n",
       "      <td>SGDClassifier_i/e</td>\n",
       "      <td>i/e</td>\n",
       "      <td>0.7808</td>\n",
       "      <td>0.7833</td>\n",
       "    </tr>\n",
       "    <tr>\n",
       "      <th>1</th>\n",
       "      <td>NaiveBayes_i/e</td>\n",
       "      <td>i/e</td>\n",
       "      <td>0.7704</td>\n",
       "      <td>0.7672</td>\n",
       "    </tr>\n",
       "    <tr>\n",
       "      <th>2</th>\n",
       "      <td>SGDClassifier_n/s</td>\n",
       "      <td>n/s</td>\n",
       "      <td>0.8647</td>\n",
       "      <td>0.8575</td>\n",
       "    </tr>\n",
       "    <tr>\n",
       "      <th>3</th>\n",
       "      <td>NaiveBayes_n/s</td>\n",
       "      <td>n/s</td>\n",
       "      <td>0.8644</td>\n",
       "      <td>0.8548</td>\n",
       "    </tr>\n",
       "    <tr>\n",
       "      <th>4</th>\n",
       "      <td>SGDClassifier_t/f</td>\n",
       "      <td>t/f</td>\n",
       "      <td>0.802</td>\n",
       "      <td>0.7921</td>\n",
       "    </tr>\n",
       "    <tr>\n",
       "      <th>5</th>\n",
       "      <td>NaiveBayes_t/f</td>\n",
       "      <td>t/f</td>\n",
       "      <td>0.5458</td>\n",
       "      <td>0.5288</td>\n",
       "    </tr>\n",
       "    <tr>\n",
       "      <th>6</th>\n",
       "      <td>SGDClassifier_p/j</td>\n",
       "      <td>p/j</td>\n",
       "      <td>0.6805</td>\n",
       "      <td>0.681</td>\n",
       "    </tr>\n",
       "    <tr>\n",
       "      <th>7</th>\n",
       "      <td>NaiveBayes_p/j</td>\n",
       "      <td>p/j</td>\n",
       "      <td>0.6101</td>\n",
       "      <td>0.5864</td>\n",
       "    </tr>\n",
       "  </tbody>\n",
       "</table>\n",
       "</div>"
      ],
      "text/plain": [
       "               Model Target CVScore TestAcc\n",
       "0  SGDClassifier_i/e    i/e  0.7808  0.7833\n",
       "1     NaiveBayes_i/e    i/e  0.7704  0.7672\n",
       "2  SGDClassifier_n/s    n/s  0.8647  0.8575\n",
       "3     NaiveBayes_n/s    n/s  0.8644  0.8548\n",
       "4  SGDClassifier_t/f    t/f   0.802  0.7921\n",
       "5     NaiveBayes_t/f    t/f  0.5458  0.5288\n",
       "6  SGDClassifier_p/j    p/j  0.6805   0.681\n",
       "7     NaiveBayes_p/j    p/j  0.6101  0.5864"
      ]
     },
     "execution_count": 55,
     "metadata": {},
     "output_type": "execute_result"
    }
   ],
   "source": [
    "rm.run(cafe_clean, 'joined_tokens', bin_targets, baseline_models, models_table, tfidf=True, SEED=234)"
   ]
  },
  {
   "cell_type": "code",
   "execution_count": 56,
   "metadata": {},
   "outputs": [
    {
     "name": "stdout",
     "output_type": "stream",
     "text": [
      "--------------------\n",
      "Vectorizing....  @ Wed Mar  2 18:13:09 2022\n",
      "Working on SGDClassifier for i/e @ Wed Mar  2 18:13:18 2022\n"
     ]
    },
    {
     "name": "stderr",
     "output_type": "stream",
     "text": [
      "/Users/westonshuken/Documents/Myers/personality-prediction/mbti.py:136: FutureWarning: The frame.append method is deprecated and will be removed from pandas in a future version. Use pandas.concat instead.\n",
      "  table = table.append({'Model': model_name + \"_\" + target, 'Target': target, 'CVScore': round(cv_score_mean, 4), \\\n"
     ]
    },
    {
     "name": "stdout",
     "output_type": "stream",
     "text": [
      "Working on NaiveBayes for i/e @ Wed Mar  2 18:13:20 2022\n"
     ]
    },
    {
     "name": "stderr",
     "output_type": "stream",
     "text": [
      "/Users/westonshuken/Documents/Myers/personality-prediction/mbti.py:136: FutureWarning: The frame.append method is deprecated and will be removed from pandas in a future version. Use pandas.concat instead.\n",
      "  table = table.append({'Model': model_name + \"_\" + target, 'Target': target, 'CVScore': round(cv_score_mean, 4), \\\n"
     ]
    },
    {
     "name": "stdout",
     "output_type": "stream",
     "text": [
      "--------------------\n",
      "Vectorizing....  @ Wed Mar  2 18:13:21 2022\n",
      "Working on SGDClassifier for n/s @ Wed Mar  2 18:13:30 2022\n"
     ]
    },
    {
     "name": "stderr",
     "output_type": "stream",
     "text": [
      "/Users/westonshuken/Documents/Myers/personality-prediction/mbti.py:136: FutureWarning: The frame.append method is deprecated and will be removed from pandas in a future version. Use pandas.concat instead.\n",
      "  table = table.append({'Model': model_name + \"_\" + target, 'Target': target, 'CVScore': round(cv_score_mean, 4), \\\n"
     ]
    },
    {
     "name": "stdout",
     "output_type": "stream",
     "text": [
      "Working on NaiveBayes for n/s @ Wed Mar  2 18:13:32 2022\n"
     ]
    },
    {
     "name": "stderr",
     "output_type": "stream",
     "text": [
      "/Users/westonshuken/Documents/Myers/personality-prediction/mbti.py:136: FutureWarning: The frame.append method is deprecated and will be removed from pandas in a future version. Use pandas.concat instead.\n",
      "  table = table.append({'Model': model_name + \"_\" + target, 'Target': target, 'CVScore': round(cv_score_mean, 4), \\\n"
     ]
    },
    {
     "name": "stdout",
     "output_type": "stream",
     "text": [
      "--------------------\n",
      "Vectorizing....  @ Wed Mar  2 18:13:33 2022\n",
      "Working on SGDClassifier for t/f @ Wed Mar  2 18:13:42 2022\n"
     ]
    },
    {
     "name": "stderr",
     "output_type": "stream",
     "text": [
      "/Users/westonshuken/Documents/Myers/personality-prediction/mbti.py:136: FutureWarning: The frame.append method is deprecated and will be removed from pandas in a future version. Use pandas.concat instead.\n",
      "  table = table.append({'Model': model_name + \"_\" + target, 'Target': target, 'CVScore': round(cv_score_mean, 4), \\\n"
     ]
    },
    {
     "name": "stdout",
     "output_type": "stream",
     "text": [
      "Working on NaiveBayes for t/f @ Wed Mar  2 18:13:44 2022\n"
     ]
    },
    {
     "name": "stderr",
     "output_type": "stream",
     "text": [
      "/Users/westonshuken/Documents/Myers/personality-prediction/mbti.py:136: FutureWarning: The frame.append method is deprecated and will be removed from pandas in a future version. Use pandas.concat instead.\n",
      "  table = table.append({'Model': model_name + \"_\" + target, 'Target': target, 'CVScore': round(cv_score_mean, 4), \\\n"
     ]
    },
    {
     "name": "stdout",
     "output_type": "stream",
     "text": [
      "--------------------\n",
      "Vectorizing....  @ Wed Mar  2 18:13:45 2022\n",
      "Working on SGDClassifier for p/j @ Wed Mar  2 18:13:54 2022\n"
     ]
    },
    {
     "name": "stderr",
     "output_type": "stream",
     "text": [
      "/Users/westonshuken/Documents/Myers/personality-prediction/mbti.py:136: FutureWarning: The frame.append method is deprecated and will be removed from pandas in a future version. Use pandas.concat instead.\n",
      "  table = table.append({'Model': model_name + \"_\" + target, 'Target': target, 'CVScore': round(cv_score_mean, 4), \\\n"
     ]
    },
    {
     "name": "stdout",
     "output_type": "stream",
     "text": [
      "Working on NaiveBayes for p/j @ Wed Mar  2 18:13:56 2022\n"
     ]
    },
    {
     "name": "stderr",
     "output_type": "stream",
     "text": [
      "/Users/westonshuken/Documents/Myers/personality-prediction/mbti.py:136: FutureWarning: The frame.append method is deprecated and will be removed from pandas in a future version. Use pandas.concat instead.\n",
      "  table = table.append({'Model': model_name + \"_\" + target, 'Target': target, 'CVScore': round(cv_score_mean, 4), \\\n"
     ]
    },
    {
     "data": {
      "text/html": [
       "<div>\n",
       "<style scoped>\n",
       "    .dataframe tbody tr th:only-of-type {\n",
       "        vertical-align: middle;\n",
       "    }\n",
       "\n",
       "    .dataframe tbody tr th {\n",
       "        vertical-align: top;\n",
       "    }\n",
       "\n",
       "    .dataframe thead th {\n",
       "        text-align: right;\n",
       "    }\n",
       "</style>\n",
       "<table border=\"1\" class=\"dataframe\">\n",
       "  <thead>\n",
       "    <tr style=\"text-align: right;\">\n",
       "      <th></th>\n",
       "      <th>Model</th>\n",
       "      <th>Target</th>\n",
       "      <th>CVScore</th>\n",
       "      <th>TestAcc</th>\n",
       "    </tr>\n",
       "  </thead>\n",
       "  <tbody>\n",
       "    <tr>\n",
       "      <th>0</th>\n",
       "      <td>SGDClassifier_i/e</td>\n",
       "      <td>i/e</td>\n",
       "      <td>0.7676</td>\n",
       "      <td>0.7391</td>\n",
       "    </tr>\n",
       "    <tr>\n",
       "      <th>1</th>\n",
       "      <td>NaiveBayes_i/e</td>\n",
       "      <td>i/e</td>\n",
       "      <td>0.7684</td>\n",
       "      <td>0.7672</td>\n",
       "    </tr>\n",
       "    <tr>\n",
       "      <th>2</th>\n",
       "      <td>SGDClassifier_n/s</td>\n",
       "      <td>n/s</td>\n",
       "      <td>0.8481</td>\n",
       "      <td>0.8506</td>\n",
       "    </tr>\n",
       "    <tr>\n",
       "      <th>3</th>\n",
       "      <td>NaiveBayes_n/s</td>\n",
       "      <td>n/s</td>\n",
       "      <td>0.8641</td>\n",
       "      <td>0.8548</td>\n",
       "    </tr>\n",
       "    <tr>\n",
       "      <th>4</th>\n",
       "      <td>SGDClassifier_t/f</td>\n",
       "      <td>t/f</td>\n",
       "      <td>0.7693</td>\n",
       "      <td>0.7718</td>\n",
       "    </tr>\n",
       "    <tr>\n",
       "      <th>5</th>\n",
       "      <td>NaiveBayes_t/f</td>\n",
       "      <td>t/f</td>\n",
       "      <td>0.688</td>\n",
       "      <td>0.6196</td>\n",
       "    </tr>\n",
       "    <tr>\n",
       "      <th>6</th>\n",
       "      <td>SGDClassifier_p/j</td>\n",
       "      <td>p/j</td>\n",
       "      <td>0.6466</td>\n",
       "      <td>0.6561</td>\n",
       "    </tr>\n",
       "    <tr>\n",
       "      <th>7</th>\n",
       "      <td>NaiveBayes_p/j</td>\n",
       "      <td>p/j</td>\n",
       "      <td>0.6211</td>\n",
       "      <td>0.5874</td>\n",
       "    </tr>\n",
       "  </tbody>\n",
       "</table>\n",
       "</div>"
      ],
      "text/plain": [
       "               Model Target CVScore TestAcc\n",
       "0  SGDClassifier_i/e    i/e  0.7676  0.7391\n",
       "1     NaiveBayes_i/e    i/e  0.7684  0.7672\n",
       "2  SGDClassifier_n/s    n/s  0.8481  0.8506\n",
       "3     NaiveBayes_n/s    n/s  0.8641  0.8548\n",
       "4  SGDClassifier_t/f    t/f  0.7693  0.7718\n",
       "5     NaiveBayes_t/f    t/f   0.688  0.6196\n",
       "6  SGDClassifier_p/j    p/j  0.6466  0.6561\n",
       "7     NaiveBayes_p/j    p/j  0.6211  0.5874"
      ]
     },
     "execution_count": 56,
     "metadata": {},
     "output_type": "execute_result"
    }
   ],
   "source": [
    "rm.run(cafe_clean, 'joined_tokens', bin_targets, baseline_models, models_table, tfidf=False, SEED=234)"
   ]
  },
  {
   "cell_type": "code",
   "execution_count": 57,
   "metadata": {},
   "outputs": [
    {
     "name": "stdout",
     "output_type": "stream",
     "text": [
      "Accuracy increase from class balance in i/e is: 0.01\n",
      "Accuracy increase from class balance in n/s is: -0.01\n",
      "Accuracy increase from class balance in t/f is: 0.25\n",
      "Accuracy increase from class balance in p/j is: 0.08\n"
     ]
    },
    {
     "data": {
      "image/png": "[encoded data removed]",
      "text/plain": [
       "<Figure size 1080x720 with 4 Axes>"
      ]
     },
     "metadata": {},
     "output_type": "display_data"
    },
    {
     "data": {
      "image/png": "[encoded data removed]",
      "text/plain": [
       "<Figure size 720x504 with 1 Axes>"
      ]
     },
     "metadata": {},
     "output_type": "display_data"
    }
   ],
   "source": [
    "fig, axs = plt.subplots(2, 2, figsize=(15,10), sharex=True)\n",
    "axs[0, 0].barh('accuracy', .78)\n",
    "axs[0, 0].barh(cafe_clean['i/e'].value_counts(normalize=True).index, cafe_clean['i/e'].value_counts(normalize=True).values)\n",
    "\n",
    "axs[0,1].barh('accuracy', .85)\n",
    "axs[0,1].barh(cafe_clean['n/s'].value_counts(normalize=True).index, cafe_clean['n/s'].value_counts(normalize=True).values)\n",
    "\n",
    "axs[1,0].barh('accuracy', .79)\n",
    "axs[1,0].barh(cafe_clean['t/f'].value_counts(normalize=True).index, cafe_clean['t/f'].value_counts(normalize=True).values)\n",
    "\n",
    "axs[1,1].barh('accuracy', .68)\n",
    "axs[1,1].barh(cafe_clean['p/j'].value_counts(normalize=True).index, cafe_clean['p/j'].value_counts(normalize=True).values)\n",
    "\n",
    "acc = [.78, .85, .79, .68]\n",
    "plt.figure(figsize=(10,7))\n",
    "plt.title('Accuracy Minus Highest Class Weight')\n",
    "for i, target in enumerate(bin_targets):\n",
    "    increase = round(acc[i] - cafe_clean[target].value_counts(normalize=True)[0], 2)\n",
    "    print(f'Accuracy increase from class balance in {target} is: {increase}')\n",
    "    plt.bar(target, increase)\n",
    "plt.show();\n"
   ]
  },
  {
   "cell_type": "code",
   "execution_count": null,
   "metadata": {},
   "outputs": [],
   "source": []
  },
  {
   "cell_type": "code",
   "execution_count": 58,
   "metadata": {},
   "outputs": [
    {
     "name": "stdout",
     "output_type": "stream",
     "text": [
      "(array(['e', 'i'], dtype=object), array([1499, 5007]))\n",
      "(array(['e', 'i'], dtype=object), array([1499, 1499]))\n",
      "Vectorizing....  @ Wed Mar  2 18:13:57 2022\n",
      "Working on SGDClassifier @ Wed Mar  2 18:14:02 2022\n"
     ]
    },
    {
     "name": "stderr",
     "output_type": "stream",
     "text": [
      "/Users/westonshuken/Documents/Myers/personality-prediction/mbti.py:193: FutureWarning: The frame.append method is deprecated and will be removed from pandas in a future version. Use pandas.concat instead.\n",
      "  table = table.append({'Model': model_name + \"_\" + target, 'Target': target, 'CVScore': round(cv_score_mean, 4), \\\n"
     ]
    },
    {
     "name": "stdout",
     "output_type": "stream",
     "text": [
      "Working on NaiveBayes @ Wed Mar  2 18:14:03 2022\n"
     ]
    },
    {
     "name": "stderr",
     "output_type": "stream",
     "text": [
      "/Users/westonshuken/Documents/Myers/personality-prediction/mbti.py:193: FutureWarning: The frame.append method is deprecated and will be removed from pandas in a future version. Use pandas.concat instead.\n",
      "  table = table.append({'Model': model_name + \"_\" + target, 'Target': target, 'CVScore': round(cv_score_mean, 4), \\\n"
     ]
    },
    {
     "name": "stdout",
     "output_type": "stream",
     "text": [
      "(array(['n', 's'], dtype=object), array([5608,  898]))\n",
      "(array(['n', 's'], dtype=object), array([898, 898]))\n",
      "Vectorizing....  @ Wed Mar  2 18:14:03 2022\n",
      "Working on SGDClassifier @ Wed Mar  2 18:14:06 2022\n"
     ]
    },
    {
     "name": "stderr",
     "output_type": "stream",
     "text": [
      "/Users/westonshuken/Documents/Myers/personality-prediction/mbti.py:193: FutureWarning: The frame.append method is deprecated and will be removed from pandas in a future version. Use pandas.concat instead.\n",
      "  table = table.append({'Model': model_name + \"_\" + target, 'Target': target, 'CVScore': round(cv_score_mean, 4), \\\n",
      "/Users/westonshuken/Documents/Myers/personality-prediction/mbti.py:193: FutureWarning: The frame.append method is deprecated and will be removed from pandas in a future version. Use pandas.concat instead.\n",
      "  table = table.append({'Model': model_name + \"_\" + target, 'Target': target, 'CVScore': round(cv_score_mean, 4), \\\n"
     ]
    },
    {
     "name": "stdout",
     "output_type": "stream",
     "text": [
      "Working on NaiveBayes @ Wed Mar  2 18:14:07 2022\n",
      "(array(['f', 't'], dtype=object), array([3520, 2986]))\n",
      "(array(['f', 't'], dtype=object), array([2986, 2986]))\n",
      "Vectorizing....  @ Wed Mar  2 18:14:07 2022\n",
      "Working on SGDClassifier @ Wed Mar  2 18:14:15 2022\n"
     ]
    },
    {
     "name": "stderr",
     "output_type": "stream",
     "text": [
      "/Users/westonshuken/Documents/Myers/personality-prediction/mbti.py:193: FutureWarning: The frame.append method is deprecated and will be removed from pandas in a future version. Use pandas.concat instead.\n",
      "  table = table.append({'Model': model_name + \"_\" + target, 'Target': target, 'CVScore': round(cv_score_mean, 4), \\\n"
     ]
    },
    {
     "name": "stdout",
     "output_type": "stream",
     "text": [
      "Working on NaiveBayes @ Wed Mar  2 18:14:17 2022\n"
     ]
    },
    {
     "name": "stderr",
     "output_type": "stream",
     "text": [
      "/Users/westonshuken/Documents/Myers/personality-prediction/mbti.py:193: FutureWarning: The frame.append method is deprecated and will be removed from pandas in a future version. Use pandas.concat instead.\n",
      "  table = table.append({'Model': model_name + \"_\" + target, 'Target': target, 'CVScore': round(cv_score_mean, 4), \\\n"
     ]
    },
    {
     "name": "stdout",
     "output_type": "stream",
     "text": [
      "(array(['j', 'p'], dtype=object), array([2575, 3931]))\n",
      "(array(['j', 'p'], dtype=object), array([2575, 2575]))\n",
      "Vectorizing....  @ Wed Mar  2 18:14:18 2022\n",
      "Working on SGDClassifier @ Wed Mar  2 18:14:26 2022\n"
     ]
    },
    {
     "name": "stderr",
     "output_type": "stream",
     "text": [
      "/Users/westonshuken/Documents/Myers/personality-prediction/mbti.py:193: FutureWarning: The frame.append method is deprecated and will be removed from pandas in a future version. Use pandas.concat instead.\n",
      "  table = table.append({'Model': model_name + \"_\" + target, 'Target': target, 'CVScore': round(cv_score_mean, 4), \\\n"
     ]
    },
    {
     "name": "stdout",
     "output_type": "stream",
     "text": [
      "Working on NaiveBayes @ Wed Mar  2 18:14:28 2022\n"
     ]
    },
    {
     "name": "stderr",
     "output_type": "stream",
     "text": [
      "/Users/westonshuken/Documents/Myers/personality-prediction/mbti.py:193: FutureWarning: The frame.append method is deprecated and will be removed from pandas in a future version. Use pandas.concat instead.\n",
      "  table = table.append({'Model': model_name + \"_\" + target, 'Target': target, 'CVScore': round(cv_score_mean, 4), \\\n"
     ]
    },
    {
     "data": {
      "text/html": [
       "<div>\n",
       "<style scoped>\n",
       "    .dataframe tbody tr th:only-of-type {\n",
       "        vertical-align: middle;\n",
       "    }\n",
       "\n",
       "    .dataframe tbody tr th {\n",
       "        vertical-align: top;\n",
       "    }\n",
       "\n",
       "    .dataframe thead th {\n",
       "        text-align: right;\n",
       "    }\n",
       "</style>\n",
       "<table border=\"1\" class=\"dataframe\">\n",
       "  <thead>\n",
       "    <tr style=\"text-align: right;\">\n",
       "      <th></th>\n",
       "      <th>Model</th>\n",
       "      <th>Target</th>\n",
       "      <th>CVScore</th>\n",
       "      <th>TestAcc</th>\n",
       "    </tr>\n",
       "  </thead>\n",
       "  <tbody>\n",
       "    <tr>\n",
       "      <th>0</th>\n",
       "      <td>SGDClassifier_i/e</td>\n",
       "      <td>i/e</td>\n",
       "      <td>0.6418</td>\n",
       "      <td>0.6524</td>\n",
       "    </tr>\n",
       "    <tr>\n",
       "      <th>1</th>\n",
       "      <td>NaiveBayes_i/e</td>\n",
       "      <td>i/e</td>\n",
       "      <td>0.6684</td>\n",
       "      <td>0.663</td>\n",
       "    </tr>\n",
       "    <tr>\n",
       "      <th>2</th>\n",
       "      <td>SGDClassifier_n/s</td>\n",
       "      <td>n/s</td>\n",
       "      <td>0.6576</td>\n",
       "      <td>0.6607</td>\n",
       "    </tr>\n",
       "    <tr>\n",
       "      <th>3</th>\n",
       "      <td>NaiveBayes_n/s</td>\n",
       "      <td>n/s</td>\n",
       "      <td>0.6782</td>\n",
       "      <td>0.7146</td>\n",
       "    </tr>\n",
       "    <tr>\n",
       "      <th>4</th>\n",
       "      <td>SGDClassifier_t/f</td>\n",
       "      <td>t/f</td>\n",
       "      <td>0.7689</td>\n",
       "      <td>0.7727</td>\n",
       "    </tr>\n",
       "    <tr>\n",
       "      <th>5</th>\n",
       "      <td>NaiveBayes_t/f</td>\n",
       "      <td>t/f</td>\n",
       "      <td>0.7322</td>\n",
       "      <td>0.7271</td>\n",
       "    </tr>\n",
       "    <tr>\n",
       "      <th>6</th>\n",
       "      <td>SGDClassifier_p/j</td>\n",
       "      <td>p/j</td>\n",
       "      <td>0.6276</td>\n",
       "      <td>0.633</td>\n",
       "    </tr>\n",
       "    <tr>\n",
       "      <th>7</th>\n",
       "      <td>NaiveBayes_p/j</td>\n",
       "      <td>p/j</td>\n",
       "      <td>0.6452</td>\n",
       "      <td>0.6473</td>\n",
       "    </tr>\n",
       "  </tbody>\n",
       "</table>\n",
       "</div>"
      ],
      "text/plain": [
       "               Model Target CVScore TestAcc\n",
       "0  SGDClassifier_i/e    i/e  0.6418  0.6524\n",
       "1     NaiveBayes_i/e    i/e  0.6684   0.663\n",
       "2  SGDClassifier_n/s    n/s  0.6576  0.6607\n",
       "3     NaiveBayes_n/s    n/s  0.6782  0.7146\n",
       "4  SGDClassifier_t/f    t/f  0.7689  0.7727\n",
       "5     NaiveBayes_t/f    t/f  0.7322  0.7271\n",
       "6  SGDClassifier_p/j    p/j  0.6276   0.633\n",
       "7     NaiveBayes_p/j    p/j  0.6452  0.6473"
      ]
     },
     "execution_count": 58,
     "metadata": {},
     "output_type": "execute_result"
    }
   ],
   "source": [
    "rm.run_usampled(cafe_clean, 'joined_tokens', bin_targets, baseline_models, models_table, tfidf=False, SEED=234)"
   ]
  },
  {
   "cell_type": "code",
   "execution_count": 59,
   "metadata": {},
   "outputs": [
    {
     "name": "stdout",
     "output_type": "stream",
     "text": [
      "(array(['e', 'i'], dtype=object), array([1499, 5007]))\n",
      "(array(['e', 'i'], dtype=object), array([1499, 1499]))\n",
      "Vectorizing....  @ Wed Mar  2 18:14:28 2022\n",
      "Working on SGDClassifier @ Wed Mar  2 18:14:34 2022\n"
     ]
    },
    {
     "name": "stderr",
     "output_type": "stream",
     "text": [
      "/Users/westonshuken/Documents/Myers/personality-prediction/mbti.py:193: FutureWarning: The frame.append method is deprecated and will be removed from pandas in a future version. Use pandas.concat instead.\n",
      "  table = table.append({'Model': model_name + \"_\" + target, 'Target': target, 'CVScore': round(cv_score_mean, 4), \\\n"
     ]
    },
    {
     "name": "stdout",
     "output_type": "stream",
     "text": [
      "Working on NaiveBayes @ Wed Mar  2 18:14:35 2022\n"
     ]
    },
    {
     "name": "stderr",
     "output_type": "stream",
     "text": [
      "/Users/westonshuken/Documents/Myers/personality-prediction/mbti.py:193: FutureWarning: The frame.append method is deprecated and will be removed from pandas in a future version. Use pandas.concat instead.\n",
      "  table = table.append({'Model': model_name + \"_\" + target, 'Target': target, 'CVScore': round(cv_score_mean, 4), \\\n"
     ]
    },
    {
     "name": "stdout",
     "output_type": "stream",
     "text": [
      "(array(['n', 's'], dtype=object), array([5608,  898]))\n",
      "(array(['n', 's'], dtype=object), array([898, 898]))\n",
      "Vectorizing....  @ Wed Mar  2 18:14:35 2022\n",
      "Working on SGDClassifier @ Wed Mar  2 18:14:39 2022\n",
      "Working on NaiveBayes @ Wed Mar  2 18:14:39 2022\n"
     ]
    },
    {
     "name": "stderr",
     "output_type": "stream",
     "text": [
      "/Users/westonshuken/Documents/Myers/personality-prediction/mbti.py:193: FutureWarning: The frame.append method is deprecated and will be removed from pandas in a future version. Use pandas.concat instead.\n",
      "  table = table.append({'Model': model_name + \"_\" + target, 'Target': target, 'CVScore': round(cv_score_mean, 4), \\\n",
      "/Users/westonshuken/Documents/Myers/personality-prediction/mbti.py:193: FutureWarning: The frame.append method is deprecated and will be removed from pandas in a future version. Use pandas.concat instead.\n",
      "  table = table.append({'Model': model_name + \"_\" + target, 'Target': target, 'CVScore': round(cv_score_mean, 4), \\\n"
     ]
    },
    {
     "name": "stdout",
     "output_type": "stream",
     "text": [
      "(array(['f', 't'], dtype=object), array([3520, 2986]))\n",
      "(array(['f', 't'], dtype=object), array([2986, 2986]))\n",
      "Vectorizing....  @ Wed Mar  2 18:14:39 2022\n",
      "Working on SGDClassifier @ Wed Mar  2 18:14:49 2022\n"
     ]
    },
    {
     "name": "stderr",
     "output_type": "stream",
     "text": [
      "/Users/westonshuken/Documents/Myers/personality-prediction/mbti.py:193: FutureWarning: The frame.append method is deprecated and will be removed from pandas in a future version. Use pandas.concat instead.\n",
      "  table = table.append({'Model': model_name + \"_\" + target, 'Target': target, 'CVScore': round(cv_score_mean, 4), \\\n"
     ]
    },
    {
     "name": "stdout",
     "output_type": "stream",
     "text": [
      "Working on NaiveBayes @ Wed Mar  2 18:14:51 2022\n"
     ]
    },
    {
     "name": "stderr",
     "output_type": "stream",
     "text": [
      "/Users/westonshuken/Documents/Myers/personality-prediction/mbti.py:193: FutureWarning: The frame.append method is deprecated and will be removed from pandas in a future version. Use pandas.concat instead.\n",
      "  table = table.append({'Model': model_name + \"_\" + target, 'Target': target, 'CVScore': round(cv_score_mean, 4), \\\n"
     ]
    },
    {
     "name": "stdout",
     "output_type": "stream",
     "text": [
      "(array(['j', 'p'], dtype=object), array([2575, 3931]))\n",
      "(array(['j', 'p'], dtype=object), array([2575, 2575]))\n",
      "Vectorizing....  @ Wed Mar  2 18:14:52 2022\n",
      "Working on SGDClassifier @ Wed Mar  2 18:15:00 2022\n"
     ]
    },
    {
     "name": "stderr",
     "output_type": "stream",
     "text": [
      "/Users/westonshuken/Documents/Myers/personality-prediction/mbti.py:193: FutureWarning: The frame.append method is deprecated and will be removed from pandas in a future version. Use pandas.concat instead.\n",
      "  table = table.append({'Model': model_name + \"_\" + target, 'Target': target, 'CVScore': round(cv_score_mean, 4), \\\n"
     ]
    },
    {
     "name": "stdout",
     "output_type": "stream",
     "text": [
      "Working on NaiveBayes @ Wed Mar  2 18:15:02 2022\n"
     ]
    },
    {
     "name": "stderr",
     "output_type": "stream",
     "text": [
      "/Users/westonshuken/Documents/Myers/personality-prediction/mbti.py:193: FutureWarning: The frame.append method is deprecated and will be removed from pandas in a future version. Use pandas.concat instead.\n",
      "  table = table.append({'Model': model_name + \"_\" + target, 'Target': target, 'CVScore': round(cv_score_mean, 4), \\\n"
     ]
    },
    {
     "data": {
      "text/html": [
       "<div>\n",
       "<style scoped>\n",
       "    .dataframe tbody tr th:only-of-type {\n",
       "        vertical-align: middle;\n",
       "    }\n",
       "\n",
       "    .dataframe tbody tr th {\n",
       "        vertical-align: top;\n",
       "    }\n",
       "\n",
       "    .dataframe thead th {\n",
       "        text-align: right;\n",
       "    }\n",
       "</style>\n",
       "<table border=\"1\" class=\"dataframe\">\n",
       "  <thead>\n",
       "    <tr style=\"text-align: right;\">\n",
       "      <th></th>\n",
       "      <th>Model</th>\n",
       "      <th>Target</th>\n",
       "      <th>CVScore</th>\n",
       "      <th>TestAcc</th>\n",
       "    </tr>\n",
       "  </thead>\n",
       "  <tbody>\n",
       "    <tr>\n",
       "      <th>0</th>\n",
       "      <td>SGDClassifier_i/e</td>\n",
       "      <td>i/e</td>\n",
       "      <td>0.6801</td>\n",
       "      <td>0.6736</td>\n",
       "    </tr>\n",
       "    <tr>\n",
       "      <th>1</th>\n",
       "      <td>NaiveBayes_i/e</td>\n",
       "      <td>i/e</td>\n",
       "      <td>0.6671</td>\n",
       "      <td>0.6127</td>\n",
       "    </tr>\n",
       "    <tr>\n",
       "      <th>2</th>\n",
       "      <td>SGDClassifier_n/s</td>\n",
       "      <td>n/s</td>\n",
       "      <td>0.6776</td>\n",
       "      <td>0.7616</td>\n",
       "    </tr>\n",
       "    <tr>\n",
       "      <th>3</th>\n",
       "      <td>NaiveBayes_n/s</td>\n",
       "      <td>n/s</td>\n",
       "      <td>0.6765</td>\n",
       "      <td>0.7916</td>\n",
       "    </tr>\n",
       "    <tr>\n",
       "      <th>4</th>\n",
       "      <td>SGDClassifier_t/f</td>\n",
       "      <td>t/f</td>\n",
       "      <td>0.7977</td>\n",
       "      <td>0.8018</td>\n",
       "    </tr>\n",
       "    <tr>\n",
       "      <th>5</th>\n",
       "      <td>NaiveBayes_t/f</td>\n",
       "      <td>t/f</td>\n",
       "      <td>0.6683</td>\n",
       "      <td>0.6805</td>\n",
       "    </tr>\n",
       "    <tr>\n",
       "      <th>6</th>\n",
       "      <td>SGDClassifier_p/j</td>\n",
       "      <td>p/j</td>\n",
       "      <td>0.6683</td>\n",
       "      <td>0.6717</td>\n",
       "    </tr>\n",
       "    <tr>\n",
       "      <th>7</th>\n",
       "      <td>NaiveBayes_p/j</td>\n",
       "      <td>p/j</td>\n",
       "      <td>0.6404</td>\n",
       "      <td>0.6381</td>\n",
       "    </tr>\n",
       "  </tbody>\n",
       "</table>\n",
       "</div>"
      ],
      "text/plain": [
       "               Model Target CVScore TestAcc\n",
       "0  SGDClassifier_i/e    i/e  0.6801  0.6736\n",
       "1     NaiveBayes_i/e    i/e  0.6671  0.6127\n",
       "2  SGDClassifier_n/s    n/s  0.6776  0.7616\n",
       "3     NaiveBayes_n/s    n/s  0.6765  0.7916\n",
       "4  SGDClassifier_t/f    t/f  0.7977  0.8018\n",
       "5     NaiveBayes_t/f    t/f  0.6683  0.6805\n",
       "6  SGDClassifier_p/j    p/j  0.6683  0.6717\n",
       "7     NaiveBayes_p/j    p/j  0.6404  0.6381"
      ]
     },
     "execution_count": 59,
     "metadata": {},
     "output_type": "execute_result"
    }
   ],
   "source": [
    "rm.run_usampled(cafe_clean, 'joined_tokens', bin_targets, baseline_models, models_table, tfidf=True, SEED=234)"
   ]
  },
  {
   "cell_type": "code",
   "execution_count": 60,
   "metadata": {},
   "outputs": [
    {
     "name": "stdout",
     "output_type": "stream",
     "text": [
      "Accuracy increase from class balance in i/e is: 0.18\n",
      "Accuracy increase from class balance in n/s is: 0.23\n",
      "Accuracy increase from class balance in t/f is: 0.3\n",
      "Accuracy increase from class balance in p/j is: 0.16\n"
     ]
    },
    {
     "data": {
      "image/png": "[encoded data removed]",
      "text/plain": [
       "<Figure size 1080x720 with 4 Axes>"
      ]
     },
     "metadata": {},
     "output_type": "display_data"
    },
    {
     "data": {
      "image/png": "[encoded data removed]",
      "text/plain": [
       "<Figure size 720x504 with 1 Axes>"
      ]
     },
     "metadata": {},
     "output_type": "display_data"
    }
   ],
   "source": [
    "fig, axs = plt.subplots(2, 2, figsize=(15,10), sharex=True)\n",
    "axs[0, 0].barh('accuracy', .68)\n",
    "axs[0, 0].barh(['i', 'e'], [.5, .5])\n",
    "\n",
    "axs[0,1].barh('accuracy', .73)\n",
    "axs[0,1].barh(['n', 's'], [.5, .5])\n",
    "\n",
    "axs[1,0].barh('accuracy', .8)\n",
    "axs[1, 0].barh(['t', 'f'], [.5, .5])\n",
    "\n",
    "axs[1,1].barh('accuracy', .66)\n",
    "axs[1,1].barh(['p', 'j'], [.5, .5])\n",
    "\n",
    "acc = [.68, .73, .8, .66]\n",
    "plt.figure(figsize=(10,7))\n",
    "plt.title('Accuracy Minus Highest Class Weight')\n",
    "for i, target in enumerate(bin_targets):\n",
    "    print(f'Accuracy increase from class balance in {target} is: {round(acc[i] - .5, 2)}')\n",
    "    plt.bar(target, round(acc[i] - .5, 2))\n"
   ]
  },
  {
   "cell_type": "markdown",
   "metadata": {},
   "source": [
    "---"
   ]
  },
  {
   "cell_type": "markdown",
   "metadata": {},
   "source": [
    "## Model Tuning"
   ]
  },
  {
   "cell_type": "code",
   "execution_count": 61,
   "metadata": {},
   "outputs": [],
   "source": [
    "cafe_clean = pd.read_csv('./data/cafe_clean.csv')"
   ]
  },
  {
   "cell_type": "code",
   "execution_count": 62,
   "metadata": {},
   "outputs": [],
   "source": [
    "final_model = Pipeline([('vec', TfidfVectorizer(ngram_range=(1,2))),\n",
    "    ('clf', SGDClassifier(class_weight='balanced', random_state=SEED))\n",
    "])"
   ]
  },
  {
   "cell_type": "code",
   "execution_count": 63,
   "metadata": {},
   "outputs": [
    {
     "ename": "ValueError",
     "evalue": "np.nan is an invalid document, expected byte or unicode string.",
     "output_type": "error",
     "traceback": [
      "\u001b[0;31m---------------------------------------------------------------------------\u001b[0m",
      "\u001b[0;31mValueError\u001b[0m                                Traceback (most recent call last)",
      "\u001b[1;32m/Users/westonshuken/Documents/Myers/personality-prediction/index.ipynb Cell 77'\u001b[0m in \u001b[0;36m<module>\u001b[0;34m\u001b[0m\n\u001b[1;32m      <a href='vscode-notebook-cell:/Users/westonshuken/Documents/Myers/personality-prediction/index.ipynb#ch0000061?line=4'>5</a>\u001b[0m X_train, X_test, y_train, y_test \u001b[39m=\u001b[39m train_test_split(X, y, random_state\u001b[39m=\u001b[39mSEED)\n\u001b[1;32m      <a href='vscode-notebook-cell:/Users/westonshuken/Documents/Myers/personality-prediction/index.ipynb#ch0000061?line=6'>7</a>\u001b[0m final_model\u001b[39m.\u001b[39mfit(X_train, y_train)\n\u001b[0;32m----> <a href='vscode-notebook-cell:/Users/westonshuken/Documents/Myers/personality-prediction/index.ipynb#ch0000061?line=8'>9</a>\u001b[0m y_pred \u001b[39m=\u001b[39m final_model\u001b[39m.\u001b[39;49mpredict(X_test)\n\u001b[1;32m     <a href='vscode-notebook-cell:/Users/westonshuken/Documents/Myers/personality-prediction/index.ipynb#ch0000061?line=9'>10</a>\u001b[0m acc_score \u001b[39m=\u001b[39m accuracy_score(y_pred, y_test)\n\u001b[1;32m     <a href='vscode-notebook-cell:/Users/westonshuken/Documents/Myers/personality-prediction/index.ipynb#ch0000061?line=11'>12</a>\u001b[0m \u001b[39mprint\u001b[39m(classification_report(y_pred\u001b[39m=\u001b[39my_pred, y_true\u001b[39m=\u001b[39my_test, target_names\u001b[39m=\u001b[39mcafe_clean[target]\u001b[39m.\u001b[39munique()))\n",
      "File \u001b[0;32m~/tensorflow-test/env/lib/python3.8/site-packages/sklearn/utils/metaestimators.py:113\u001b[0m, in \u001b[0;36m_AvailableIfDescriptor.__get__.<locals>.<lambda>\u001b[0;34m(*args, **kwargs)\u001b[0m\n\u001b[1;32m    <a href='file:///~/tensorflow-test/env/lib/python3.8/site-packages/sklearn/utils/metaestimators.py?line=109'>110</a>\u001b[0m         \u001b[39mraise\u001b[39;00m attr_err\n\u001b[1;32m    <a href='file:///~/tensorflow-test/env/lib/python3.8/site-packages/sklearn/utils/metaestimators.py?line=111'>112</a>\u001b[0m     \u001b[39m# lambda, but not partial, allows help() to work with update_wrapper\u001b[39;00m\n\u001b[0;32m--> <a href='file:///~/tensorflow-test/env/lib/python3.8/site-packages/sklearn/utils/metaestimators.py?line=112'>113</a>\u001b[0m     out \u001b[39m=\u001b[39m \u001b[39mlambda\u001b[39;00m \u001b[39m*\u001b[39margs, \u001b[39m*\u001b[39m\u001b[39m*\u001b[39mkwargs: \u001b[39mself\u001b[39;49m\u001b[39m.\u001b[39;49mfn(obj, \u001b[39m*\u001b[39;49margs, \u001b[39m*\u001b[39;49m\u001b[39m*\u001b[39;49mkwargs)  \u001b[39m# noqa\u001b[39;00m\n\u001b[1;32m    <a href='file:///~/tensorflow-test/env/lib/python3.8/site-packages/sklearn/utils/metaestimators.py?line=113'>114</a>\u001b[0m \u001b[39melse\u001b[39;00m:\n\u001b[1;32m    <a href='file:///~/tensorflow-test/env/lib/python3.8/site-packages/sklearn/utils/metaestimators.py?line=115'>116</a>\u001b[0m     \u001b[39mdef\u001b[39;00m \u001b[39mfn\u001b[39m(\u001b[39m*\u001b[39margs, \u001b[39m*\u001b[39m\u001b[39m*\u001b[39mkwargs):\n",
      "File \u001b[0;32m~/tensorflow-test/env/lib/python3.8/site-packages/sklearn/pipeline.py:469\u001b[0m, in \u001b[0;36mPipeline.predict\u001b[0;34m(self, X, **predict_params)\u001b[0m\n\u001b[1;32m    <a href='file:///~/tensorflow-test/env/lib/python3.8/site-packages/sklearn/pipeline.py?line=466'>467</a>\u001b[0m Xt \u001b[39m=\u001b[39m X\n\u001b[1;32m    <a href='file:///~/tensorflow-test/env/lib/python3.8/site-packages/sklearn/pipeline.py?line=467'>468</a>\u001b[0m \u001b[39mfor\u001b[39;00m _, name, transform \u001b[39min\u001b[39;00m \u001b[39mself\u001b[39m\u001b[39m.\u001b[39m_iter(with_final\u001b[39m=\u001b[39m\u001b[39mFalse\u001b[39;00m):\n\u001b[0;32m--> <a href='file:///~/tensorflow-test/env/lib/python3.8/site-packages/sklearn/pipeline.py?line=468'>469</a>\u001b[0m     Xt \u001b[39m=\u001b[39m transform\u001b[39m.\u001b[39;49mtransform(Xt)\n\u001b[1;32m    <a href='file:///~/tensorflow-test/env/lib/python3.8/site-packages/sklearn/pipeline.py?line=469'>470</a>\u001b[0m \u001b[39mreturn\u001b[39;00m \u001b[39mself\u001b[39m\u001b[39m.\u001b[39msteps[\u001b[39m-\u001b[39m\u001b[39m1\u001b[39m][\u001b[39m1\u001b[39m]\u001b[39m.\u001b[39mpredict(Xt, \u001b[39m*\u001b[39m\u001b[39m*\u001b[39mpredict_params)\n",
      "File \u001b[0;32m~/tensorflow-test/env/lib/python3.8/site-packages/sklearn/feature_extraction/text.py:2101\u001b[0m, in \u001b[0;36mTfidfVectorizer.transform\u001b[0;34m(self, raw_documents)\u001b[0m\n\u001b[1;32m   <a href='file:///~/tensorflow-test/env/lib/python3.8/site-packages/sklearn/feature_extraction/text.py?line=2083'>2084</a>\u001b[0m \u001b[39m\"\"\"Transform documents to document-term matrix.\u001b[39;00m\n\u001b[1;32m   <a href='file:///~/tensorflow-test/env/lib/python3.8/site-packages/sklearn/feature_extraction/text.py?line=2084'>2085</a>\u001b[0m \n\u001b[1;32m   <a href='file:///~/tensorflow-test/env/lib/python3.8/site-packages/sklearn/feature_extraction/text.py?line=2085'>2086</a>\u001b[0m \u001b[39mUses the vocabulary and document frequencies (df) learned by fit (or\u001b[39;00m\n\u001b[0;32m   (...)\u001b[0m\n\u001b[1;32m   <a href='file:///~/tensorflow-test/env/lib/python3.8/site-packages/sklearn/feature_extraction/text.py?line=2096'>2097</a>\u001b[0m \u001b[39m    Tf-idf-weighted document-term matrix.\u001b[39;00m\n\u001b[1;32m   <a href='file:///~/tensorflow-test/env/lib/python3.8/site-packages/sklearn/feature_extraction/text.py?line=2097'>2098</a>\u001b[0m \u001b[39m\"\"\"\u001b[39;00m\n\u001b[1;32m   <a href='file:///~/tensorflow-test/env/lib/python3.8/site-packages/sklearn/feature_extraction/text.py?line=2098'>2099</a>\u001b[0m check_is_fitted(\u001b[39mself\u001b[39m, msg\u001b[39m=\u001b[39m\u001b[39m\"\u001b[39m\u001b[39mThe TF-IDF vectorizer is not fitted\u001b[39m\u001b[39m\"\u001b[39m)\n\u001b[0;32m-> <a href='file:///~/tensorflow-test/env/lib/python3.8/site-packages/sklearn/feature_extraction/text.py?line=2100'>2101</a>\u001b[0m X \u001b[39m=\u001b[39m \u001b[39msuper\u001b[39;49m()\u001b[39m.\u001b[39;49mtransform(raw_documents)\n\u001b[1;32m   <a href='file:///~/tensorflow-test/env/lib/python3.8/site-packages/sklearn/feature_extraction/text.py?line=2101'>2102</a>\u001b[0m \u001b[39mreturn\u001b[39;00m \u001b[39mself\u001b[39m\u001b[39m.\u001b[39m_tfidf\u001b[39m.\u001b[39mtransform(X, copy\u001b[39m=\u001b[39m\u001b[39mFalse\u001b[39;00m)\n",
      "File \u001b[0;32m~/tensorflow-test/env/lib/python3.8/site-packages/sklearn/feature_extraction/text.py:1379\u001b[0m, in \u001b[0;36mCountVectorizer.transform\u001b[0;34m(self, raw_documents)\u001b[0m\n\u001b[1;32m   <a href='file:///~/tensorflow-test/env/lib/python3.8/site-packages/sklearn/feature_extraction/text.py?line=1375'>1376</a>\u001b[0m \u001b[39mself\u001b[39m\u001b[39m.\u001b[39m_check_vocabulary()\n\u001b[1;32m   <a href='file:///~/tensorflow-test/env/lib/python3.8/site-packages/sklearn/feature_extraction/text.py?line=1377'>1378</a>\u001b[0m \u001b[39m# use the same matrix-building strategy as fit_transform\u001b[39;00m\n\u001b[0;32m-> <a href='file:///~/tensorflow-test/env/lib/python3.8/site-packages/sklearn/feature_extraction/text.py?line=1378'>1379</a>\u001b[0m _, X \u001b[39m=\u001b[39m \u001b[39mself\u001b[39;49m\u001b[39m.\u001b[39;49m_count_vocab(raw_documents, fixed_vocab\u001b[39m=\u001b[39;49m\u001b[39mTrue\u001b[39;49;00m)\n\u001b[1;32m   <a href='file:///~/tensorflow-test/env/lib/python3.8/site-packages/sklearn/feature_extraction/text.py?line=1379'>1380</a>\u001b[0m \u001b[39mif\u001b[39;00m \u001b[39mself\u001b[39m\u001b[39m.\u001b[39mbinary:\n\u001b[1;32m   <a href='file:///~/tensorflow-test/env/lib/python3.8/site-packages/sklearn/feature_extraction/text.py?line=1380'>1381</a>\u001b[0m     X\u001b[39m.\u001b[39mdata\u001b[39m.\u001b[39mfill(\u001b[39m1\u001b[39m)\n",
      "File \u001b[0;32m~/tensorflow-test/env/lib/python3.8/site-packages/sklearn/feature_extraction/text.py:1201\u001b[0m, in \u001b[0;36mCountVectorizer._count_vocab\u001b[0;34m(self, raw_documents, fixed_vocab)\u001b[0m\n\u001b[1;32m   <a href='file:///~/tensorflow-test/env/lib/python3.8/site-packages/sklearn/feature_extraction/text.py?line=1198'>1199</a>\u001b[0m \u001b[39mfor\u001b[39;00m doc \u001b[39min\u001b[39;00m raw_documents:\n\u001b[1;32m   <a href='file:///~/tensorflow-test/env/lib/python3.8/site-packages/sklearn/feature_extraction/text.py?line=1199'>1200</a>\u001b[0m     feature_counter \u001b[39m=\u001b[39m {}\n\u001b[0;32m-> <a href='file:///~/tensorflow-test/env/lib/python3.8/site-packages/sklearn/feature_extraction/text.py?line=1200'>1201</a>\u001b[0m     \u001b[39mfor\u001b[39;00m feature \u001b[39min\u001b[39;00m analyze(doc):\n\u001b[1;32m   <a href='file:///~/tensorflow-test/env/lib/python3.8/site-packages/sklearn/feature_extraction/text.py?line=1201'>1202</a>\u001b[0m         \u001b[39mtry\u001b[39;00m:\n\u001b[1;32m   <a href='file:///~/tensorflow-test/env/lib/python3.8/site-packages/sklearn/feature_extraction/text.py?line=1202'>1203</a>\u001b[0m             feature_idx \u001b[39m=\u001b[39m vocabulary[feature]\n",
      "File \u001b[0;32m~/tensorflow-test/env/lib/python3.8/site-packages/sklearn/feature_extraction/text.py:108\u001b[0m, in \u001b[0;36m_analyze\u001b[0;34m(doc, analyzer, tokenizer, ngrams, preprocessor, decoder, stop_words)\u001b[0m\n\u001b[1;32m     <a href='file:///~/tensorflow-test/env/lib/python3.8/site-packages/sklearn/feature_extraction/text.py?line=85'>86</a>\u001b[0m \u001b[39m\"\"\"Chain together an optional series of text processing steps to go from\u001b[39;00m\n\u001b[1;32m     <a href='file:///~/tensorflow-test/env/lib/python3.8/site-packages/sklearn/feature_extraction/text.py?line=86'>87</a>\u001b[0m \u001b[39ma single document to ngrams, with or without tokenizing or preprocessing.\u001b[39;00m\n\u001b[1;32m     <a href='file:///~/tensorflow-test/env/lib/python3.8/site-packages/sklearn/feature_extraction/text.py?line=87'>88</a>\u001b[0m \n\u001b[0;32m   (...)\u001b[0m\n\u001b[1;32m    <a href='file:///~/tensorflow-test/env/lib/python3.8/site-packages/sklearn/feature_extraction/text.py?line=103'>104</a>\u001b[0m \u001b[39m    A sequence of tokens, possibly with pairs, triples, etc.\u001b[39;00m\n\u001b[1;32m    <a href='file:///~/tensorflow-test/env/lib/python3.8/site-packages/sklearn/feature_extraction/text.py?line=104'>105</a>\u001b[0m \u001b[39m\"\"\"\u001b[39;00m\n\u001b[1;32m    <a href='file:///~/tensorflow-test/env/lib/python3.8/site-packages/sklearn/feature_extraction/text.py?line=106'>107</a>\u001b[0m \u001b[39mif\u001b[39;00m decoder \u001b[39mis\u001b[39;00m \u001b[39mnot\u001b[39;00m \u001b[39mNone\u001b[39;00m:\n\u001b[0;32m--> <a href='file:///~/tensorflow-test/env/lib/python3.8/site-packages/sklearn/feature_extraction/text.py?line=107'>108</a>\u001b[0m     doc \u001b[39m=\u001b[39m decoder(doc)\n\u001b[1;32m    <a href='file:///~/tensorflow-test/env/lib/python3.8/site-packages/sklearn/feature_extraction/text.py?line=108'>109</a>\u001b[0m \u001b[39mif\u001b[39;00m analyzer \u001b[39mis\u001b[39;00m \u001b[39mnot\u001b[39;00m \u001b[39mNone\u001b[39;00m:\n\u001b[1;32m    <a href='file:///~/tensorflow-test/env/lib/python3.8/site-packages/sklearn/feature_extraction/text.py?line=109'>110</a>\u001b[0m     doc \u001b[39m=\u001b[39m analyzer(doc)\n",
      "File \u001b[0;32m~/tensorflow-test/env/lib/python3.8/site-packages/sklearn/feature_extraction/text.py:226\u001b[0m, in \u001b[0;36m_VectorizerMixin.decode\u001b[0;34m(self, doc)\u001b[0m\n\u001b[1;32m    <a href='file:///~/tensorflow-test/env/lib/python3.8/site-packages/sklearn/feature_extraction/text.py?line=222'>223</a>\u001b[0m     doc \u001b[39m=\u001b[39m doc\u001b[39m.\u001b[39mdecode(\u001b[39mself\u001b[39m\u001b[39m.\u001b[39mencoding, \u001b[39mself\u001b[39m\u001b[39m.\u001b[39mdecode_error)\n\u001b[1;32m    <a href='file:///~/tensorflow-test/env/lib/python3.8/site-packages/sklearn/feature_extraction/text.py?line=224'>225</a>\u001b[0m \u001b[39mif\u001b[39;00m doc \u001b[39mis\u001b[39;00m np\u001b[39m.\u001b[39mnan:\n\u001b[0;32m--> <a href='file:///~/tensorflow-test/env/lib/python3.8/site-packages/sklearn/feature_extraction/text.py?line=225'>226</a>\u001b[0m     \u001b[39mraise\u001b[39;00m \u001b[39mValueError\u001b[39;00m(\n\u001b[1;32m    <a href='file:///~/tensorflow-test/env/lib/python3.8/site-packages/sklearn/feature_extraction/text.py?line=226'>227</a>\u001b[0m         \u001b[39m\"\u001b[39m\u001b[39mnp.nan is an invalid document, expected byte or unicode string.\u001b[39m\u001b[39m\"\u001b[39m\n\u001b[1;32m    <a href='file:///~/tensorflow-test/env/lib/python3.8/site-packages/sklearn/feature_extraction/text.py?line=227'>228</a>\u001b[0m     )\n\u001b[1;32m    <a href='file:///~/tensorflow-test/env/lib/python3.8/site-packages/sklearn/feature_extraction/text.py?line=229'>230</a>\u001b[0m \u001b[39mreturn\u001b[39;00m doc\n",
      "\u001b[0;31mValueError\u001b[0m: np.nan is an invalid document, expected byte or unicode string."
     ]
    }
   ],
   "source": [
    "for target in bin_targets:\n",
    "    X = cafe_clean['joined_tokens']\n",
    "    y = cafe_clean[target]\n",
    "\n",
    "    X_train, X_test, y_train, y_test = train_test_split(X, y, random_state=SEED)\n",
    "\n",
    "    final_model.fit(X_train, y_train)\n",
    "\n",
    "    y_pred = final_model.predict(X_test)\n",
    "    acc_score = accuracy_score(y_pred, y_test)\n",
    "\n",
    "    print(classification_report(y_pred=y_pred, y_true=y_test, target_names=cafe_clean[target].unique()))\n",
    "\n",
    "    fig, ax = plt.subplots(figsize=(5,5))\n",
    "    plt.rcParams.update({'font.size': 10})\n",
    "    plt.rc('xtick', labelsize=10) \n",
    "    plt.rc('ytick', labelsize=10) \n",
    "    plot_confusion_matrix(final_model, X_test, y_test, ax=ax, normalize='true')\n",
    "    plt.grid(False);\n",
    "    "
   ]
  },
  {
   "cell_type": "markdown",
   "metadata": {},
   "source": [
    "---"
   ]
  },
  {
   "cell_type": "markdown",
   "metadata": {},
   "source": [
    "### i/e"
   ]
  },
  {
   "cell_type": "code",
   "execution_count": null,
   "metadata": {},
   "outputs": [],
   "source": [
    "cafe_clean['i/e'].value_counts(normalize=True)"
   ]
  },
  {
   "cell_type": "code",
   "execution_count": null,
   "metadata": {},
   "outputs": [],
   "source": [
    "sgd_t = Pipeline([('vec', TfidfVectorizer(ngram_range=(1,2))),\n",
    "                ('clf', SGDClassifier( random_state=SEED))\n",
    "            ])\n",
    "\n",
    "X = cafe_clean['joined_tokens']\n",
    "y = cafe_clean['i/e']\n",
    "\n",
    "X_train, X_test, y_train, y_test = train_test_split(X, y, random_state=SEED)\n",
    "\n",
    "sgd_t.fit(X_train, y_train)\n",
    "\n",
    "y_pred = sgd_t.predict(X_test)\n",
    "acc_score = accuracy_score(y_pred, y_test)\n",
    "print(classification_report(y_pred=y_pred, y_true=y_test, target_names=cafe_clean['i/e'].unique()))\n",
    "\n",
    "fig, ax = plt.subplots(figsize=(5,5))\n",
    "plt.rcParams.update({'font.size': 10})\n",
    "plt.rc('xtick', labelsize=10) \n",
    "plt.rc('ytick', labelsize=10) \n",
    "plot_confusion_matrix(sgd_t, X_test, y_test, ax=ax, normalize='true')\n",
    "plt.grid(False);"
   ]
  },
  {
   "cell_type": "markdown",
   "metadata": {},
   "source": [
    "---"
   ]
  },
  {
   "cell_type": "markdown",
   "metadata": {},
   "source": [
    "### n/s"
   ]
  },
  {
   "cell_type": "code",
   "execution_count": null,
   "metadata": {},
   "outputs": [],
   "source": [
    "cafe_clean['n/s'].value_counts(normalize=True)"
   ]
  },
  {
   "cell_type": "code",
   "execution_count": null,
   "metadata": {},
   "outputs": [],
   "source": [
    "sgd_t = Pipeline([('vec', TfidfVectorizer(ngram_range=(1,2))),\n",
    "                ('clf', SGDClassifier(class_weight={'s': .90, 'n': .10}, random_state=SEED))\n",
    "            ])\n",
    "\n",
    "X = cafe_clean['joined_tokens']\n",
    "y = cafe_clean['n/s']\n",
    "\n",
    "X_train, X_test, y_train, y_test = train_test_split(X, y, random_state=SEED)\n",
    "\n",
    "sgd_t.fit(X_train, y_train)\n",
    "\n",
    "y_pred = sgd_t.predict(X_test)\n",
    "acc_score = accuracy_score(y_pred, y_test)\n",
    "print(classification_report(y_pred=y_pred, y_true=y_test, target_names=cafe_clean['n/s'].unique()))\n",
    "\n",
    "fig, ax = plt.subplots(figsize=(5,5))\n",
    "plt.rcParams.update({'font.size': 10})\n",
    "plt.rc('xtick', labelsize=10) \n",
    "plt.rc('ytick', labelsize=10) \n",
    "plot_confusion_matrix(sgd_t, X_test, y_test, ax=ax, normalize='true')\n",
    "plt.grid(False);"
   ]
  },
  {
   "cell_type": "markdown",
   "metadata": {},
   "source": [
    "---"
   ]
  },
  {
   "cell_type": "markdown",
   "metadata": {},
   "source": [
    "### t/f"
   ]
  },
  {
   "cell_type": "code",
   "execution_count": null,
   "metadata": {},
   "outputs": [],
   "source": [
    "cafe_clean['t/f'].value_counts(normalize=True)"
   ]
  },
  {
   "cell_type": "code",
   "execution_count": null,
   "metadata": {},
   "outputs": [],
   "source": [
    "sgd_t = Pipeline([('vec', TfidfVectorizer(ngram_range=(1,2))),\n",
    "                ('clf', SGDClassifier(class_weight={'f': .45, 't': .55}, random_state=SEED))\n",
    "            ])\n",
    "\n",
    "X = cafe_clean['joined_tokens']\n",
    "y = cafe_clean['t/f']\n",
    "\n",
    "X_train, X_test, y_train, y_test = train_test_split(X, y, random_state=SEED)\n",
    "\n",
    "sgd_t.fit(X_train, y_train)\n",
    "\n",
    "y_pred = sgd_t.predict(X_test)\n",
    "acc_score = accuracy_score(y_pred, y_test)\n",
    "print(classification_report(y_pred=y_pred, y_true=y_test, target_names=cafe_clean['t/f'].unique()))\n",
    "\n",
    "fig, ax = plt.subplots(figsize=(5,5))\n",
    "plt.rcParams.update({'font.size': 10})\n",
    "plt.rc('xtick', labelsize=10) \n",
    "plt.rc('ytick', labelsize=10) \n",
    "plot_confusion_matrix(sgd_t, X_test, y_test, ax=ax, normalize='true')\n",
    "plt.grid(False);"
   ]
  },
  {
   "cell_type": "markdown",
   "metadata": {},
   "source": [
    "---"
   ]
  },
  {
   "cell_type": "markdown",
   "metadata": {},
   "source": [
    "### p/j"
   ]
  },
  {
   "cell_type": "code",
   "execution_count": null,
   "metadata": {},
   "outputs": [],
   "source": [
    "cafe_clean['p/j'].value_counts(normalize=True)"
   ]
  },
  {
   "cell_type": "code",
   "execution_count": null,
   "metadata": {},
   "outputs": [],
   "source": [
    "sgd_t = Pipeline([('vec', TfidfVectorizer(ngram_range=(1,2))),\n",
    "                ('clf', SGDClassifier(class_weight={'p': .40, 'j': .60}, random_state=SEED))\n",
    "            ])\n",
    "\n",
    "X = cafe_clean['joined_tokens']\n",
    "y = cafe_clean['p/j']\n",
    "\n",
    "X_train, X_test, y_train, y_test = train_test_split(X, y, random_state=SEED)\n",
    "\n",
    "sgd_t.fit(X_train, y_train)\n",
    "\n",
    "y_pred = sgd_t.predict(X_test)\n",
    "acc_score = accuracy_score(y_pred, y_test)\n",
    "print(classification_report(y_pred=y_pred, y_true=y_test, target_names=cafe_clean['p/j'].unique()))\n",
    "\n",
    "fig, ax = plt.subplots(figsize=(5,5))\n",
    "plt.rcParams.update({'font.size': 10})\n",
    "plt.rc('xtick', labelsize=10) \n",
    "plt.rc('ytick', labelsize=10) \n",
    "plot_confusion_matrix(sgd_t, X_test, y_test, ax=ax, normalize='true')\n",
    "plt.grid(False);"
   ]
  },
  {
   "cell_type": "markdown",
   "metadata": {},
   "source": [
    "---"
   ]
  },
  {
   "cell_type": "markdown",
   "metadata": {},
   "source": [
    "## Final Model"
   ]
  },
  {
   "cell_type": "code",
   "execution_count": null,
   "metadata": {},
   "outputs": [],
   "source": [
    "cafe_clean = pd.read_csv('./data/cafe_clean.csv')\n",
    "cafe_clean.dropna(inplace=True)"
   ]
  },
  {
   "cell_type": "code",
   "execution_count": null,
   "metadata": {},
   "outputs": [],
   "source": [
    "final_model = Pipeline([('vec', TfidfVectorizer(ngram_range=(1,2))),\n",
    "                ('clf', SGDClassifier(class_weight={'f': .45, 't': .55}, random_state=SEED))\n",
    "            ])\n",
    "\n",
    "X = cafe_clean['joined_tokens']\n",
    "y = cafe_clean['t/f']\n",
    "\n",
    "X_train, X_test, y_train, y_test = train_test_split(X, y, random_state=SEED)\n",
    "\n",
    "final_model.fit(X_train, y_train)\n",
    "\n",
    "y_pred = final_model.predict(X_test)\n",
    "acc_score = accuracy_score(y_pred, y_test)\n",
    "print(classification_report(y_pred=y_pred, y_true=y_test, target_names=cafe_clean['t/f'].unique()))\n",
    "\n",
    "fig, ax = plt.subplots(figsize=(5,5))\n",
    "plt.rcParams.update({'font.size': 10})\n",
    "plt.rc('xtick', labelsize=10) \n",
    "plt.rc('ytick', labelsize=10) \n",
    "plot_confusion_matrix(final_model, X_test, y_test, ax=ax, normalize='true')\n",
    "plt.grid(False);"
   ]
  },
  {
   "cell_type": "code",
   "execution_count": null,
   "metadata": {},
   "outputs": [],
   "source": [
    "f_test_sample = \"I love being in engaging conversation something that doesnt bore me something \\\n",
    "meaningful and makes both of you feel good. But sometimes I get called intense is this just me? \\\n",
    "Like I could say well sometimes you bore me. Seems like Im the minority so its \\\n",
    "really nice when I meet someone my vibe as there arent many\"\n",
    "\n",
    "final_model.predict([f_test_sample])"
   ]
  },
  {
   "cell_type": "code",
   "execution_count": null,
   "metadata": {},
   "outputs": [],
   "source": [
    "t_test_sample = \"Nature provides exceptions to every rule. But this rule is applied to itself paradoxically. \\\n",
    "(So there must be some rules without any exception :)\"\n",
    "\n",
    "final_model.predict([t_test_sample])"
   ]
  },
  {
   "cell_type": "markdown",
   "metadata": {},
   "source": [
    "## Further Inspect Thinking vs Feeling"
   ]
  },
  {
   "cell_type": "code",
   "execution_count": null,
   "metadata": {},
   "outputs": [],
   "source": [
    "t_fdist = FreqDist(cafe_clean[\"post_tokens\"][cafe_clean[\"t/f\"] == 't'].explode())\n",
    "f_fdist = FreqDist(cafe_clean[\"post_tokens\"][cafe_clean[\"t/f\"] == 'f'].explode())"
   ]
  },
  {
   "cell_type": "code",
   "execution_count": null,
   "metadata": {},
   "outputs": [],
   "source": [
    "top_ten = list(zip(*t_fdist.most_common(10)))\n",
    "tokens = top_ten[0]\n",
    "counts = top_ten[1]\n",
    "\n",
    "plt.figure(figsize=(15, 8))\n",
    "plt.rcParams.update({'font.size': 18})\n",
    "plt.rc('xtick', labelsize=18) \n",
    "plt.rc('ytick', labelsize=18) \n",
    "plt.bar(tokens, counts)\n",
    "plt.title('Top 10 THINKING Class Word Occurences');"
   ]
  },
  {
   "cell_type": "code",
   "execution_count": null,
   "metadata": {},
   "outputs": [],
   "source": [
    "top_ten = list(zip(*f_fdist.most_common(10)))\n",
    "tokens = top_ten[0]\n",
    "counts = top_ten[1]\n",
    "\n",
    "plt.figure(figsize=(15, 8))\n",
    "plt.rcParams.update({'font.size': 18})\n",
    "plt.rc('xtick', labelsize=18) \n",
    "plt.rc('ytick', labelsize=18) \n",
    "plt.bar(tokens, counts)\n",
    "plt.title('Top 10 FEELING Class Word Occurences');"
   ]
  },
  {
   "cell_type": "code",
   "execution_count": null,
   "metadata": {},
   "outputs": [],
   "source": [
    "t_df = cafe_clean[cafe_clean[\"t/f\"] == 't']\n",
    "\n",
    "cv = CountVectorizer(ngram_range=(2,2))\n",
    "\n",
    "tf_cv = cv.fit(t_df['joined_tokens'])\n",
    "tf_cv = cv.transform(t_df['joined_tokens'])\n",
    "\n",
    "count_values = tf_cv.toarray().sum(axis=0)\n",
    "\n",
    "vocab = cv.vocabulary_\n",
    "\n",
    "df_ngram = pd.DataFrame(sorted([(count_values[i], k) for k, i in vocab.items()], reverse=True) \\\n",
    "                        ).rename(columns={0: 'frequency', 1:'bigram'})\n",
    "\n",
    "plt.figure(figsize=(20, 8))\n",
    "plt.bar(df_ngram.bigram.iloc[:10], df_ngram.frequency.iloc[:10]);"
   ]
  },
  {
   "cell_type": "code",
   "execution_count": null,
   "metadata": {},
   "outputs": [],
   "source": [
    "t_df = cafe_clean[cafe_clean[\"t/f\"] == 'f']\n",
    "\n",
    "cv = CountVectorizer(ngram_range=(2,2))\n",
    "\n",
    "tf_cv = cv.fit(t_df['joined_tokens'])\n",
    "tf_cv = cv.transform(t_df['joined_tokens'])\n",
    "\n",
    "count_values = tf_cv.toarray().sum(axis=0)\n",
    "\n",
    "vocab = cv.vocabulary_\n",
    "\n",
    "df_ngram = pd.DataFrame(sorted([(count_values[i], k) for k, i in vocab.items()], reverse=True) \\\n",
    "                        ).rename(columns={0: 'frequency', 1:'bigram'})\n",
    "\n",
    "plt.figure(figsize=(20, 8))\n",
    "plt.bar(df_ngram.bigram.iloc[:10], df_ngram.frequency.iloc[:10]);"
   ]
  },
  {
   "cell_type": "markdown",
   "metadata": {},
   "source": [
    "## Thinking vs. Feeling\n",
    "\n",
    "**Thinking (T)**\n",
    "When I make a decision, I like to find the basic truth or principle to be applied, regardless of the specific situation involved. I like to analyze pros and cons, and then be consistent and logical in deciding. I try to be impersonal, so I won't let my personal wishes--or other people's wishes--influence me.\n",
    "\n",
    "The following statements generally apply to me:\n",
    "\n",
    "- I enjoy technical and scientific fields where logic is important.\n",
    "- I notice inconsistencies.\n",
    "- I look for logical explanations or solutions to most everything.\n",
    "- I make decisions with my head and want to be fair.\n",
    "- I believe telling the truth is more important than being tactful.\n",
    "- Sometimes I miss or don't value the \"people\" part of a situation.\n",
    "- I can be seen as too task-oriented, uncaring, or indifferent.\n",
    "\n",
    "**Feeling (F)**\n",
    "I believe I can make the best decisions by weighing what people care about and the points-of-view of persons involved in a situation. I am concerned with values and what is the best for the people involved. I like to do whatever will establish or maintain harmony. In my relationships, I appear caring, warm, and tactful.\n",
    "\n",
    "The following statements generally apply to me:\n",
    "\n",
    "- I have a people or communications orientation.\n",
    "- I am concerned with harmony and nervous when it is missing.\n",
    "- I look for what is important to others and express concern for others.\n",
    "- I make decisions with my heart and want to be compassionate.\n",
    "- I believe being tactful is more important than telling the \"cold\" truth.\n",
    "- Sometimes I miss seeing or communicating the \"hard truth\" of situations.\n",
    "- I am sometimes experienced by others as too idealistic, mushy, or indirect.\n"
   ]
  },
  {
   "cell_type": "markdown",
   "metadata": {},
   "source": [
    "### Word Embeddings"
   ]
  },
  {
   "cell_type": "code",
   "execution_count": null,
   "metadata": {},
   "outputs": [],
   "source": [
    "import keras\n",
    "import tensorflow as tf\n",
    "from tensorflow.keras.preprocessing.sequence import pad_sequences\n",
    "from tensorflow.keras.layers import Embedding, LSTM, Dense, Bidirectional\n",
    "from tensorflow.keras.preprocessing.text import Tokenizer\n",
    "from tensorflow.keras.models import Sequential\n",
    "from tensorflow.keras.optimizers import Adam"
   ]
  },
  {
   "cell_type": "code",
   "execution_count": null,
   "metadata": {},
   "outputs": [],
   "source": [
    "from gensim.models import Word2Vec"
   ]
  },
  {
   "cell_type": "markdown",
   "metadata": {},
   "source": [
    "---"
   ]
  },
  {
   "cell_type": "markdown",
   "metadata": {},
   "source": [
    "## 500 Set"
   ]
  },
  {
   "cell_type": "code",
   "execution_count": null,
   "metadata": {},
   "outputs": [],
   "source": [
    "df_500 = pd.read_csv('./data/MBTI 500.csv')"
   ]
  },
  {
   "cell_type": "code",
   "execution_count": null,
   "metadata": {},
   "outputs": [],
   "source": [
    "df_500"
   ]
  },
  {
   "cell_type": "code",
   "execution_count": null,
   "metadata": {},
   "outputs": [],
   "source": [
    "df_500['clean_posts'] = df_500['posts'].apply(replace_mbti)"
   ]
  },
  {
   "cell_type": "code",
   "execution_count": null,
   "metadata": {},
   "outputs": [],
   "source": [
    "df_500['type'] = df_500['type'].str.lower()"
   ]
  },
  {
   "cell_type": "code",
   "execution_count": null,
   "metadata": {},
   "outputs": [],
   "source": [
    "len(df_500)"
   ]
  },
  {
   "cell_type": "code",
   "execution_count": null,
   "metadata": {},
   "outputs": [],
   "source": [
    "df_500 = df_500[df_500['clean_posts'].apply(lambda x: len(x.split())) > 450]"
   ]
  },
  {
   "cell_type": "code",
   "execution_count": null,
   "metadata": {},
   "outputs": [],
   "source": [
    "total_words = df_500['clean_posts'].apply(lambda x: len(x.split())).sum()\n",
    "print(f'The pre-cleaned tokens tally up to {total_words} total words')\n",
    "\n",
    "print('-'*20)\n",
    "\n",
    "ave_post = df_500['clean_posts'].apply(lambda x: len(x.split())).mean()\n",
    "print(f'Each feature in pre-cleaned has on average {round(ave_post)} words')\n",
    "\n",
    "print('-'*20)\n",
    "\n",
    "med_post = df_500['clean_posts'].apply(lambda x: len(x.split())).median()\n",
    "print(f'Each feature in pre-cleaned  has a median of {round(med_post)} words')\n",
    "\n",
    "print('-'*20)\n",
    "\n",
    "min_post = df_500['clean_posts'].apply(lambda x: len(x.split())).min()\n",
    "print(f'The minimum post in pre-cleaned  is {round(min_post)} words')\n",
    "\n",
    "print('-'*20)\n",
    "\n",
    "max_post = df_500['clean_posts'].apply(lambda x: len(x.split())).max()\n",
    "print(f'The minimum post in pre-cleaned  is {round(max_post)} words')\n",
    "\n",
    "\n",
    "print('-'*20)\n",
    "\n",
    "plt.figure(figsize=(20,8))\n",
    "plt.hist(df_500['clean_posts'].apply(lambda x: len(x.split())), label='pre-cleaned', alpha=.5, bins=100)\n",
    "plt.axvline(ave_post, color='k', linestyle='dashed', linewidth=3, label='pre-cleaned mean')\n",
    "plt.legend()\n",
    "plt.title('Distribution of Post Length \\n Clean vs Pre-Cleaned');"
   ]
  },
  {
   "cell_type": "code",
   "execution_count": null,
   "metadata": {},
   "outputs": [],
   "source": [
    "# Adding Binary Targets\n",
    "df_500['i/e'] = df_500['type'].map(lambda x: x[0])\n",
    "df_500['n/s'] = df_500['type'].map(lambda x: x[1])\n",
    "df_500['t/f'] = df_500['type'].map(lambda x: x[2])\n",
    "df_500['p/j'] = df_500['type'].map(lambda x: x[3])"
   ]
  },
  {
   "cell_type": "code",
   "execution_count": null,
   "metadata": {},
   "outputs": [],
   "source": [
    "print(df_500['i/e'].value_counts(normalize=True))\n",
    "print(df_500['n/s'].value_counts(normalize=True))\n",
    "print(df_500['t/f'].value_counts(normalize=True))\n",
    "print(df_500['p/j'].value_counts(normalize=True))"
   ]
  },
  {
   "cell_type": "code",
   "execution_count": null,
   "metadata": {},
   "outputs": [],
   "source": [
    "# Baseline\n",
    "\n",
    "baseline_models = {'SGDClassifier': SGDClassifier(class_weight='balanced', random_state=SEED),\n",
    "\n",
    "                #   'LogisticRegression': LogisticRegression(max_iter=1000, solver='saga'),\n",
    "\n",
    "                  'NaiveBayes': MultinomialNB()\n",
    "               \n",
    "                #   'DecisionTree': DecisionTreeClassifier(random_state=SEED),\n",
    "               \n",
    "                #   'RandomForest': RandomForestClassifier(random_state=SEED)\n",
    "               }"
   ]
  },
  {
   "cell_type": "code",
   "execution_count": null,
   "metadata": {},
   "outputs": [],
   "source": [
    "for clf in baseline_models:\n",
    "    print(baseline_models[clf])"
   ]
  },
  {
   "cell_type": "code",
   "execution_count": null,
   "metadata": {},
   "outputs": [],
   "source": [
    "models_table = pd.DataFrame(columns=['Model', 'Target', 'CVScore', 'TestAcc'])"
   ]
  },
  {
   "cell_type": "code",
   "execution_count": null,
   "metadata": {},
   "outputs": [],
   "source": [
    "rm = run_models()"
   ]
  },
  {
   "cell_type": "code",
   "execution_count": null,
   "metadata": {},
   "outputs": [],
   "source": [
    "bin_targets = cafe_clean.columns[-4:]\n",
    "bin_targets"
   ]
  },
  {
   "cell_type": "code",
   "execution_count": null,
   "metadata": {},
   "outputs": [],
   "source": [
    "rm.run(df_500, 'clean_posts', bin_targets, baseline_models, models_table, tfidf=True, SEED=234)"
   ]
  },
  {
   "cell_type": "code",
   "execution_count": null,
   "metadata": {},
   "outputs": [],
   "source": [
    "rm.run(df_500, 'clean_posts', bin_targets, baseline_models, models_table, tfidf=False, SEED=234)"
   ]
  },
  {
   "cell_type": "code",
   "execution_count": null,
   "metadata": {},
   "outputs": [],
   "source": [
    "rm.run_usampled(df_500, 'clean_posts', bin_targets, baseline_models, models_table, tfidf=False, SEED=234)"
   ]
  },
  {
   "cell_type": "code",
   "execution_count": null,
   "metadata": {},
   "outputs": [],
   "source": [
    "rm.run_usampled(df_500, 'clean_posts', bin_targets, baseline_models, models_table, tfidf=True, SEED=234)"
   ]
  },
  {
   "cell_type": "code",
   "execution_count": null,
   "metadata": {},
   "outputs": [],
   "source": [
    "df_500"
   ]
  },
  {
   "cell_type": "code",
   "execution_count": null,
   "metadata": {},
   "outputs": [],
   "source": [
    "print(df_500['i/e'].value_counts(normalize=False))\n",
    "print(df_500['n/s'].value_counts(normalize=False))\n",
    "print(df_500['t/f'].value_counts(normalize=False))\n",
    "print(df_500['p/j'].value_counts(normalize=False))"
   ]
  },
  {
   "cell_type": "code",
   "execution_count": null,
   "metadata": {},
   "outputs": [],
   "source": [
    "rm.run_usampled(df_500, 'clean_posts', ['type'], baseline_models, models_table, tfidf=True, SEED=234)"
   ]
  },
  {
   "cell_type": "code",
   "execution_count": null,
   "metadata": {},
   "outputs": [],
   "source": [
    "df_500[df_500.clean_posts.str.match(regxx) == True]"
   ]
  },
  {
   "cell_type": "code",
   "execution_count": null,
   "metadata": {},
   "outputs": [],
   "source": [
    "# final_df = pd.read_pickle('./pickle/finalmodeling_df.pkl')"
   ]
  },
  {
   "cell_type": "code",
   "execution_count": null,
   "metadata": {},
   "outputs": [],
   "source": [
    "# final_df.token_joined.str.match(regxx).sum()"
   ]
  },
  {
   "cell_type": "code",
   "execution_count": null,
   "metadata": {},
   "outputs": [],
   "source": [
    "# final_df['token_joined'] = final_df['token_joined'].apply(replace_mbti)"
   ]
  },
  {
   "cell_type": "code",
   "execution_count": null,
   "metadata": {},
   "outputs": [],
   "source": [
    "# final_df = final_df[final_df.token_joined.str.match(regxx) == False]"
   ]
  },
  {
   "cell_type": "code",
   "execution_count": null,
   "metadata": {},
   "outputs": [],
   "source": [
    "# final_df = final_df.reset_index()"
   ]
  },
  {
   "cell_type": "code",
   "execution_count": null,
   "metadata": {},
   "outputs": [],
   "source": [
    "# final_df"
   ]
  },
  {
   "cell_type": "code",
   "execution_count": null,
   "metadata": {},
   "outputs": [],
   "source": [
    "# rm.run(final_df, 'token_joined', bin_targets, baseline_models, models_table, tfidf=False, SEED=234)"
   ]
  },
  {
   "cell_type": "code",
   "execution_count": null,
   "metadata": {},
   "outputs": [],
   "source": [
    "# rm.run(final_df, 'token_joined', bin_targets, baseline_models, models_table, tfidf=True, SEED=234)"
   ]
  },
  {
   "cell_type": "code",
   "execution_count": null,
   "metadata": {},
   "outputs": [],
   "source": [
    "# print(final_df['i/e'].value_counts(normalize=True))\n",
    "# print(final_df['n/s'].value_counts(normalize=True))\n",
    "# print(final_df['t/f'].value_counts(normalize=True))\n",
    "# print(final_df['p/j'].value_counts(normalize=True))"
   ]
  },
  {
   "cell_type": "code",
   "execution_count": null,
   "metadata": {},
   "outputs": [],
   "source": [
    "# rint = np.random.randint(0, len(final_df))\n",
    "\n",
    "# print(rint)\n",
    "# print(final_df['type'].iloc[rint])\n",
    "# final_df['token_joined'].iloc[rint]"
   ]
  },
  {
   "cell_type": "markdown",
   "metadata": {},
   "source": [
    "## Data and Methods\n",
    "\n",
    "## Results\n",
    "\n",
    "## Applications of the Predictive Model\n",
    "\n",
    "There are numerous applications for using this personality predictive model:\n",
    "\n",
    "- Customer Segmentation\n",
    "- Digital Advertising \n",
    "\n",
    "\n",
    "## Online Demo\n",
    "\n",
    "## Recommednations\n",
    "\n",
    "## Next Steps"
   ]
  }
 ],
 "metadata": {
  "interpreter": {
   "hash": "033c84df5fb4c613acf884834f63930b25da6784759ce0fb831a430fcd673895"
  },
  "kernelspec": {
   "display_name": "Python 3.8.5 ('learn-env')",
   "language": "python",
   "name": "python3"
  },
  "language_info": {
   "codemirror_mode": {
    "name": "ipython",
    "version": 3
   },
   "file_extension": ".py",
   "mimetype": "text/x-python",
   "name": "python",
   "nbconvert_exporter": "python",
   "pygments_lexer": "ipython3",
   "version": "3.8.12"
  },
  "orig_nbformat": 4
 },
 "nbformat": 4,
 "nbformat_minor": 2
}
