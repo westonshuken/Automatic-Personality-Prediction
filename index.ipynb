{
 "cells": [
  {
   "cell_type": "markdown",
   "metadata": {},
   "source": [
    "# Myers-Briggs Personality Prediction\n",
    "\n",
    "#### by Weston Shuken\n",
    "\n",
    "---"
   ]
  },
  {
   "cell_type": "markdown",
   "metadata": {},
   "source": [
    "## Overview\n",
    "\n",
    "The purpose of this project is to use machine learning algorithms to precict the personality type of a person given their written text in English. The personality type predictions are based on the Myers-Briggs Type Indicator (MBTI) test as the target variable. The features or predictor variables are comments and posts from userson [PersonalityCafe](https://www.personalitycafe.com/). These posts and comments come from users who have explicitley labeled their MBTI personality on their profile. \n",
    "\n",
    "The Myers-Briggs test is a very popular test that ask users approximately 90 questions about their behavior and assigns the user a type of personality based on this assessment. This test takes around 20-30 for someone to complete. \n",
    "\n",
    "There are 16 different personality types using a combination of 8 overall traits. See below:\n",
    "\n",
    "    Introversion (I) vs Extroversion (E)\n",
    "    Intuition (N) vs Sensing (S)\n",
    "    Thinking (T) vs Feeling (F)\n",
    "    Judging (J) vs Perceiving (P)\n",
    "    "
   ]
  },
  {
   "cell_type": "markdown",
   "metadata": {},
   "source": [
    "## Exploratory Data Analysis"
   ]
  },
  {
   "cell_type": "code",
   "execution_count": 40,
   "metadata": {},
   "outputs": [],
   "source": [
    "# Imports for EDA, Cleaning, Plotting & Modeling\n",
    "import pandas as pd\n",
    "import numpy as np\n",
    "import matplotlib.pyplot as plt\n",
    "import time\n",
    "import seaborn as sns\n",
    "import re\n",
    "import pickle\n",
    "\n",
    "from nltk.corpus import stopwords\n",
    "from nltk.tokenize import RegexpTokenizer\n",
    "from nltk.stem.wordnet import WordNetLemmatizer\n",
    "from nltk.tokenize import word_tokenize\n",
    "from nltk.probability import FreqDist\n",
    "from nltk import pos_tag\n",
    "\n",
    "from scipy.stats import binom\n",
    "\n",
    "from textblob import TextBlob\n",
    "\n",
    "from sklearn.feature_extraction.text import TfidfVectorizer, TfidfTransformer, CountVectorizer\n",
    "from sklearn.naive_bayes import MultinomialNB\n",
    "from sklearn.pipeline import Pipeline\n",
    "from sklearn.linear_model import SGDClassifier, LogisticRegression\n",
    "from sklearn.ensemble import RandomForestClassifier\n",
    "from sklearn.svm import LinearSVC, SVC\n",
    "from sklearn.tree import DecisionTreeClassifier\n",
    "from sklearn.metrics import plot_confusion_matrix, accuracy_score, classification_report, f1_score\n",
    "from sklearn.model_selection import train_test_split, cross_val_score\n",
    "from sklearn.neighbors import KNeighborsClassifier\n",
    "\n",
    "import gensim\n",
    "from gensim.test.utils import common_texts\n",
    "from gensim.models.doc2vec import Doc2Vec, TaggedDocument\n",
    "\n",
    "from mbti import run_models, preprocess\n",
    "\n",
    "import warnings\n",
    "warnings.simplefilter(action='ignore', category=FutureWarning)\n",
    "\n",
    "# Random Seed for everything\n",
    "SEED = 53188535"
   ]
  },
  {
   "cell_type": "code",
   "execution_count": 41,
   "metadata": {},
   "outputs": [],
   "source": [
    "# Loading the Data\n",
    "cafe_df = pd.read_csv('data/mbti_1.csv')"
   ]
  },
  {
   "cell_type": "code",
   "execution_count": 42,
   "metadata": {},
   "outputs": [
    {
     "data": {
      "text/html": [
       "<div>\n",
       "<style scoped>\n",
       "    .dataframe tbody tr th:only-of-type {\n",
       "        vertical-align: middle;\n",
       "    }\n",
       "\n",
       "    .dataframe tbody tr th {\n",
       "        vertical-align: top;\n",
       "    }\n",
       "\n",
       "    .dataframe thead th {\n",
       "        text-align: right;\n",
       "    }\n",
       "</style>\n",
       "<table border=\"1\" class=\"dataframe\">\n",
       "  <thead>\n",
       "    <tr style=\"text-align: right;\">\n",
       "      <th></th>\n",
       "      <th>type</th>\n",
       "      <th>posts</th>\n",
       "    </tr>\n",
       "  </thead>\n",
       "  <tbody>\n",
       "    <tr>\n",
       "      <th>0</th>\n",
       "      <td>INFJ</td>\n",
       "      <td>'http://www.youtube.com/watch?v=qsXHcwe3krw|||...</td>\n",
       "    </tr>\n",
       "    <tr>\n",
       "      <th>1</th>\n",
       "      <td>ENTP</td>\n",
       "      <td>'I'm finding the lack of me in these posts ver...</td>\n",
       "    </tr>\n",
       "    <tr>\n",
       "      <th>2</th>\n",
       "      <td>INTP</td>\n",
       "      <td>'Good one  _____   https://www.youtube.com/wat...</td>\n",
       "    </tr>\n",
       "    <tr>\n",
       "      <th>3</th>\n",
       "      <td>INTJ</td>\n",
       "      <td>'Dear INTP,   I enjoyed our conversation the o...</td>\n",
       "    </tr>\n",
       "    <tr>\n",
       "      <th>4</th>\n",
       "      <td>ENTJ</td>\n",
       "      <td>'You're fired.|||That's another silly misconce...</td>\n",
       "    </tr>\n",
       "    <tr>\n",
       "      <th>...</th>\n",
       "      <td>...</td>\n",
       "      <td>...</td>\n",
       "    </tr>\n",
       "    <tr>\n",
       "      <th>8670</th>\n",
       "      <td>ISFP</td>\n",
       "      <td>'https://www.youtube.com/watch?v=t8edHB_h908||...</td>\n",
       "    </tr>\n",
       "    <tr>\n",
       "      <th>8671</th>\n",
       "      <td>ENFP</td>\n",
       "      <td>'So...if this thread already exists someplace ...</td>\n",
       "    </tr>\n",
       "    <tr>\n",
       "      <th>8672</th>\n",
       "      <td>INTP</td>\n",
       "      <td>'So many questions when i do these things.  I ...</td>\n",
       "    </tr>\n",
       "    <tr>\n",
       "      <th>8673</th>\n",
       "      <td>INFP</td>\n",
       "      <td>'I am very conflicted right now when it comes ...</td>\n",
       "    </tr>\n",
       "    <tr>\n",
       "      <th>8674</th>\n",
       "      <td>INFP</td>\n",
       "      <td>'It has been too long since I have been on per...</td>\n",
       "    </tr>\n",
       "  </tbody>\n",
       "</table>\n",
       "<p>8675 rows × 2 columns</p>\n",
       "</div>"
      ],
      "text/plain": [
       "      type                                              posts\n",
       "0     INFJ  'http://www.youtube.com/watch?v=qsXHcwe3krw|||...\n",
       "1     ENTP  'I'm finding the lack of me in these posts ver...\n",
       "2     INTP  'Good one  _____   https://www.youtube.com/wat...\n",
       "3     INTJ  'Dear INTP,   I enjoyed our conversation the o...\n",
       "4     ENTJ  'You're fired.|||That's another silly misconce...\n",
       "...    ...                                                ...\n",
       "8670  ISFP  'https://www.youtube.com/watch?v=t8edHB_h908||...\n",
       "8671  ENFP  'So...if this thread already exists someplace ...\n",
       "8672  INTP  'So many questions when i do these things.  I ...\n",
       "8673  INFP  'I am very conflicted right now when it comes ...\n",
       "8674  INFP  'It has been too long since I have been on per...\n",
       "\n",
       "[8675 rows x 2 columns]"
      ]
     },
     "execution_count": 42,
     "metadata": {},
     "output_type": "execute_result"
    }
   ],
   "source": [
    "cafe_df"
   ]
  },
  {
   "cell_type": "code",
   "execution_count": 43,
   "metadata": {},
   "outputs": [
    {
     "name": "stdout",
     "output_type": "stream",
     "text": [
      "<class 'pandas.core.frame.DataFrame'>\n",
      "RangeIndex: 8675 entries, 0 to 8674\n",
      "Data columns (total 2 columns):\n",
      " #   Column  Non-Null Count  Dtype \n",
      "---  ------  --------------  ----- \n",
      " 0   type    8675 non-null   object\n",
      " 1   posts   8675 non-null   object\n",
      "dtypes: object(2)\n",
      "memory usage: 135.7+ KB\n"
     ]
    }
   ],
   "source": [
    "cafe_df.info()"
   ]
  },
  {
   "cell_type": "code",
   "execution_count": 44,
   "metadata": {},
   "outputs": [
    {
     "data": {
      "text/plain": [
       "INFP    0.211182\n",
       "INFJ    0.169452\n",
       "INTP    0.150317\n",
       "INTJ    0.125764\n",
       "ENTP    0.078963\n",
       "ENFP    0.077810\n",
       "ISTP    0.038847\n",
       "ISFP    0.031239\n",
       "ENTJ    0.026628\n",
       "ISTJ    0.023631\n",
       "ENFJ    0.021902\n",
       "ISFJ    0.019135\n",
       "ESTP    0.010259\n",
       "ESFP    0.005533\n",
       "ESFJ    0.004841\n",
       "ESTJ    0.004496\n",
       "Name: type, dtype: float64"
      ]
     },
     "execution_count": 44,
     "metadata": {},
     "output_type": "execute_result"
    }
   ],
   "source": [
    "cafe_df['type'].value_counts(normalize=True)"
   ]
  },
  {
   "cell_type": "code",
   "execution_count": 45,
   "metadata": {},
   "outputs": [
    {
     "data": {
      "image/png": "[encoded data removed]",
      "text/plain": [
       "<Figure size 1440x576 with 1 Axes>"
      ]
     },
     "metadata": {},
     "output_type": "display_data"
    }
   ],
   "source": [
    "sns.set_context('talk')\n",
    "sns.set_style('darkgrid')\n",
    "plt.figure(figsize=(20,8))\n",
    "plt.bar(cafe_df['type'].value_counts(normalize=True).index, cafe_df['type'].value_counts(normalize=True).values*100)\n",
    "plt.title('Class Imbalance by percentage')\n",
    "plt.ylabel('%');"
   ]
  },
  {
   "cell_type": "code",
   "execution_count": 46,
   "metadata": {},
   "outputs": [
    {
     "name": "stdout",
     "output_type": "stream",
     "text": [
      ">>>>>>>>>>INTJ<<<<<<<<<<\n",
      "-------------------------\n",
      "'I do not own a real sand worm.   91451|||[QUOTE=Powerhouse;3579883]  Abraxas 5-3-9 Abx 9-5-3  Action Potential 1w9, 4w5, 6w5 (sp/so)  Amaterasu 5w6-3w4-1w2  Antiant 5-9-3  Athena Avril 7w6-1w2- 3w2  Axe 5w6-1w9-4w5  Bethdeth...|||My first time playing this game was against some friends a few years ago.  • I won  • They didn't invite me again|||Negative :cool:|||Negative.|||https://www.youtube.com/watch?v=3v98CPXNiSk|||A Cure For Your Bitch Face | wifey | videos with women as the subject, not the object   http://www.youtube.com/watch?v=QZPz6CvxnaM|||delete please?|||@RCKT82  Come outside and play with us.|||The choice to be child-free is admirable, not selfish | Jill Filipovic | Comment is free | theguardian.com I dont view my decision to not have kids as selfish, the econmy is bad unemployed rates are...|||Here is my story.  my pregnancy was unplanned, I was 18 when I had my son. Had I waited until being prepared to have a child I would have decided not to. I do not plan on having mor\n"
     ]
    }
   ],
   "source": [
    "# looking at a random posts\n",
    "rint = np.random.randint(0, len(cafe_df))\n",
    "print('>'*10 + cafe_df['type'].iloc[rint] + '<'*10)\n",
    "print('-'*25)\n",
    "print(cafe_df['posts'].iloc[rint][:1000])\n",
    "\n",
    "## BE CAREFUL... Reddit posts can sometimes be quite rude..."
   ]
  },
  {
   "cell_type": "markdown",
   "metadata": {},
   "source": [
    "#### Takeaways from seeing the dataset:\n",
    "\n",
    "- The classes are quite imbalanced, which can bias the model to choosing one class over the other just given class weight.\n",
    "- There is a lot of cleaning to do with the text (lowercase, remove urls, remove symbols/punctuation, lemmitization, etc.)\n",
    "- There are definitely incorrect spellings of words and acroynms like `lol` & `btw`\n",
    "- The posts might include the personality type in them, which could be considered `data leakage`."
   ]
  },
  {
   "cell_type": "markdown",
   "metadata": {},
   "source": [
    "### Cleaning & Tokenizing"
   ]
  },
  {
   "cell_type": "code",
   "execution_count": 47,
   "metadata": {},
   "outputs": [],
   "source": [
    "cafe_clean = cafe_df.copy()"
   ]
  },
  {
   "cell_type": "code",
   "execution_count": 48,
   "metadata": {},
   "outputs": [],
   "source": [
    "# Lowercase y variables\n",
    "cafe_clean['type'] = cafe_clean.type.str.lower()\n",
    "\n",
    "# Creating list of the targets\n",
    "mbti_lst = list(set(cafe_clean['type'].values))\n",
    "\n",
    "# Lowercase X varaible onto a new column\n",
    "cafe_clean['clean_posts'] = cafe_clean['posts'].str.lower()"
   ]
  },
  {
   "cell_type": "code",
   "execution_count": 49,
   "metadata": {},
   "outputs": [],
   "source": [
    "# Bringing in the prepreoccess class from mbti.py\n",
    "# This class provides functions to clean and tokenize our text data\n",
    "prepro = preprocess()"
   ]
  },
  {
   "cell_type": "code",
   "execution_count": 50,
   "metadata": {},
   "outputs": [
    {
     "data": {
      "image/png": "[encoded data removed]",
      "text/plain": [
       "<Figure size 720x360 with 1 Axes>"
      ]
     },
     "metadata": {},
     "output_type": "display_data"
    }
   ],
   "source": [
    "plt.figure(figsize=(10,5))\n",
    "for mbti in mbti_lst:\n",
    "    plt.bar(str(mbti), len(cafe_clean[cafe_clean['clean_posts'].str.contains(mbti)].index))\n",
    "    plt.title('Data Leakage \\n target within predictors')\n",
    "    plt.ylabel('counts')\n",
    "    # print(cafe_clean[cafe_clean['clean_posts'].str.contains(mbti)].index)"
   ]
  },
  {
   "cell_type": "code",
   "execution_count": 51,
   "metadata": {},
   "outputs": [],
   "source": [
    "# Remove the target names in the actual posts\n",
    "cafe_clean['clean_posts'] = cafe_clean['clean_posts'].apply(lambda x: prepro.replace_mbti(x))"
   ]
  },
  {
   "cell_type": "code",
   "execution_count": 52,
   "metadata": {},
   "outputs": [
    {
     "data": {
      "text/html": [
       "<div>\n",
       "<style scoped>\n",
       "    .dataframe tbody tr th:only-of-type {\n",
       "        vertical-align: middle;\n",
       "    }\n",
       "\n",
       "    .dataframe tbody tr th {\n",
       "        vertical-align: top;\n",
       "    }\n",
       "\n",
       "    .dataframe thead th {\n",
       "        text-align: right;\n",
       "    }\n",
       "</style>\n",
       "<table border=\"1\" class=\"dataframe\">\n",
       "  <thead>\n",
       "    <tr style=\"text-align: right;\">\n",
       "      <th></th>\n",
       "      <th>type</th>\n",
       "      <th>posts</th>\n",
       "      <th>clean_posts</th>\n",
       "    </tr>\n",
       "  </thead>\n",
       "  <tbody>\n",
       "    <tr>\n",
       "      <th>0</th>\n",
       "      <td>infj</td>\n",
       "      <td>'http://www.youtube.com/watch?v=qsXHcwe3krw|||...</td>\n",
       "      <td>'http://www.youtube.com/watch?v=qsxhcwe3krw|||...</td>\n",
       "    </tr>\n",
       "    <tr>\n",
       "      <th>1</th>\n",
       "      <td>entp</td>\n",
       "      <td>'I'm finding the lack of me in these posts ver...</td>\n",
       "      <td>'i'm finding the lack of me in these posts ver...</td>\n",
       "    </tr>\n",
       "    <tr>\n",
       "      <th>2</th>\n",
       "      <td>intp</td>\n",
       "      <td>'Good one  _____   https://www.youtube.com/wat...</td>\n",
       "      <td>'good one  _____   https://www.youtube.com/wat...</td>\n",
       "    </tr>\n",
       "    <tr>\n",
       "      <th>3</th>\n",
       "      <td>intj</td>\n",
       "      <td>'Dear INTP,   I enjoyed our conversation the o...</td>\n",
       "      <td>'dear ,   i enjoyed our conversation the other...</td>\n",
       "    </tr>\n",
       "    <tr>\n",
       "      <th>4</th>\n",
       "      <td>entj</td>\n",
       "      <td>'You're fired.|||That's another silly misconce...</td>\n",
       "      <td>'you're fired.|||that's another silly misconce...</td>\n",
       "    </tr>\n",
       "    <tr>\n",
       "      <th>...</th>\n",
       "      <td>...</td>\n",
       "      <td>...</td>\n",
       "      <td>...</td>\n",
       "    </tr>\n",
       "    <tr>\n",
       "      <th>8670</th>\n",
       "      <td>isfp</td>\n",
       "      <td>'https://www.youtube.com/watch?v=t8edHB_h908||...</td>\n",
       "      <td>'https://www.youtube.com/watch?v=t8edhb_h908||...</td>\n",
       "    </tr>\n",
       "    <tr>\n",
       "      <th>8671</th>\n",
       "      <td>enfp</td>\n",
       "      <td>'So...if this thread already exists someplace ...</td>\n",
       "      <td>'so...if this thread already exists someplace ...</td>\n",
       "    </tr>\n",
       "    <tr>\n",
       "      <th>8672</th>\n",
       "      <td>intp</td>\n",
       "      <td>'So many questions when i do these things.  I ...</td>\n",
       "      <td>'so many questions when i do these things.  i ...</td>\n",
       "    </tr>\n",
       "    <tr>\n",
       "      <th>8673</th>\n",
       "      <td>infp</td>\n",
       "      <td>'I am very conflicted right now when it comes ...</td>\n",
       "      <td>'i am very conflicted right now when it comes ...</td>\n",
       "    </tr>\n",
       "    <tr>\n",
       "      <th>8674</th>\n",
       "      <td>infp</td>\n",
       "      <td>'It has been too long since I have been on per...</td>\n",
       "      <td>'it has been too long since i have been on per...</td>\n",
       "    </tr>\n",
       "  </tbody>\n",
       "</table>\n",
       "<p>8675 rows × 3 columns</p>\n",
       "</div>"
      ],
      "text/plain": [
       "      type                                              posts  \\\n",
       "0     infj  'http://www.youtube.com/watch?v=qsXHcwe3krw|||...   \n",
       "1     entp  'I'm finding the lack of me in these posts ver...   \n",
       "2     intp  'Good one  _____   https://www.youtube.com/wat...   \n",
       "3     intj  'Dear INTP,   I enjoyed our conversation the o...   \n",
       "4     entj  'You're fired.|||That's another silly misconce...   \n",
       "...    ...                                                ...   \n",
       "8670  isfp  'https://www.youtube.com/watch?v=t8edHB_h908||...   \n",
       "8671  enfp  'So...if this thread already exists someplace ...   \n",
       "8672  intp  'So many questions when i do these things.  I ...   \n",
       "8673  infp  'I am very conflicted right now when it comes ...   \n",
       "8674  infp  'It has been too long since I have been on per...   \n",
       "\n",
       "                                            clean_posts  \n",
       "0     'http://www.youtube.com/watch?v=qsxhcwe3krw|||...  \n",
       "1     'i'm finding the lack of me in these posts ver...  \n",
       "2     'good one  _____   https://www.youtube.com/wat...  \n",
       "3     'dear ,   i enjoyed our conversation the other...  \n",
       "4     'you're fired.|||that's another silly misconce...  \n",
       "...                                                 ...  \n",
       "8670  'https://www.youtube.com/watch?v=t8edhb_h908||...  \n",
       "8671  'so...if this thread already exists someplace ...  \n",
       "8672  'so many questions when i do these things.  i ...  \n",
       "8673  'i am very conflicted right now when it comes ...  \n",
       "8674  'it has been too long since i have been on per...  \n",
       "\n",
       "[8675 rows x 3 columns]"
      ]
     },
     "execution_count": 52,
     "metadata": {},
     "output_type": "execute_result"
    }
   ],
   "source": [
    "cafe_clean"
   ]
  },
  {
   "cell_type": "code",
   "execution_count": 53,
   "metadata": {},
   "outputs": [
    {
     "name": "stdout",
     "output_type": "stream",
     "text": [
      "Int64Index([], dtype='int64')\n",
      "Int64Index([], dtype='int64')\n",
      "Int64Index([], dtype='int64')\n",
      "Int64Index([], dtype='int64')\n",
      "Int64Index([], dtype='int64')\n",
      "Int64Index([], dtype='int64')\n",
      "Int64Index([], dtype='int64')\n",
      "Int64Index([], dtype='int64')\n",
      "Int64Index([], dtype='int64')\n",
      "Int64Index([], dtype='int64')\n",
      "Int64Index([], dtype='int64')\n",
      "Int64Index([], dtype='int64')\n",
      "Int64Index([], dtype='int64')\n",
      "Int64Index([], dtype='int64')\n",
      "Int64Index([], dtype='int64')\n",
      "Int64Index([], dtype='int64')\n"
     ]
    }
   ],
   "source": [
    "for mbti in mbti_lst:\n",
    "    print(cafe_clean[cafe_clean['clean_posts'].str.contains(mbti)].index)"
   ]
  },
  {
   "cell_type": "code",
   "execution_count": 54,
   "metadata": {},
   "outputs": [],
   "source": [
    "# The posts contain multiple posts seperated by 3 pipes '|||' w/ no spaces between. \n",
    "# This function will remove pipes and replace with a space.\n",
    "cafe_clean['clean_posts'] = cafe_clean['clean_posts'].apply(lambda x: prepro.pipe_remove(x))\n",
    "\n",
    "# This funciton will remove URLs in the posts\n",
    "cafe_clean['clean_posts'] = cafe_clean['clean_posts'].apply(lambda x: prepro.url_remove(x))\n",
    "\n",
    "# This function will remove punctuation (dependent on what is passed in). This has `/``, `_`, `:` \n",
    "cafe_clean['clean_posts'] = cafe_clean['clean_posts'].apply(lambda x: prepro.punc_remove(x))\n",
    "\n",
    "# Removes all characters that are not American Standard Code for Information Interchange\n",
    "cafe_clean['clean_posts'] = cafe_clean['clean_posts'].apply(lambda x: prepro.remove_symbols(x))\n",
    "\n",
    "# Fixes all spelling errors\n",
    "# cafe_clean['clean_posts'] = cafe_clean['clean_posts'].apply(lambda x: prepro.spelling(x))"
   ]
  },
  {
   "cell_type": "code",
   "execution_count": 55,
   "metadata": {},
   "outputs": [],
   "source": [
    "# This will create a column of cleaned words that have been tokenized.\n",
    "pattern = r\"(?u)\\b\\w\\w+\\b\" # words with more than 2 letters\n",
    "tokenizer = RegexpTokenizer(pattern) # instantiate tokenizer\n",
    "cafe_clean['post_tokens'] = cafe_clean['clean_posts'].apply(tokenizer.tokenize) # Tokenize to new column"
   ]
  },
  {
   "cell_type": "code",
   "execution_count": 56,
   "metadata": {},
   "outputs": [],
   "source": [
    "# Removing any remaining numeric digits\n",
    "cafe_clean['post_tokens'] = cafe_clean['post_tokens'].apply(lambda x: prepro.remove_dig_token(x))\n",
    "\n",
    "# Removing stopwords\n",
    "cafe_clean['post_tokens'] = cafe_clean['post_tokens'].apply(lambda x: prepro.remove_stopwords(x))\n",
    "\n",
    "# Lemmatizing the words with POS tagging\n",
    "cafe_clean['post_tokens'] = cafe_clean['post_tokens'].apply(lambda x: prepro.lemmend_pos(x, pos=False)) # If true, takes a while (3mins)"
   ]
  },
  {
   "cell_type": "code",
   "execution_count": 57,
   "metadata": {},
   "outputs": [],
   "source": [
    "# Joining the tokens together into one long string\n",
    "cafe_clean['joined_tokens'] = cafe_clean['post_tokens'].apply(lambda x: prepro.join_tokens(x)) # Creating new column"
   ]
  },
  {
   "cell_type": "code",
   "execution_count": 58,
   "metadata": {},
   "outputs": [
    {
     "name": "stdout",
     "output_type": "stream",
     "text": [
      "CLEANED:  abcdefghijklmnopqrstuvwxyz\n",
      "-------------------------\n",
      "-------------------------\n",
      "PRE-CLEANED:  !#$%&'()*+,-./0123456789:;<=>?@[]^_`abcdefghijklmnopqrstuvwxyz{|}~¡¢£¤§¨©«¬®¯°²³´µ¶·¸¹º»¼½¾¿×ßàáâãäåæçèéêëìíîïðñòóôõö÷øùúûüýþÿāăćčđēĕėęěīĭıłńōŏőœřśšūżưǝɐɔəɛɟɥɪɯɹʇʊʌʍʎʒʖʘ˂˃ˆˈˌː˘˙˚˝˶̴̶̸̡̢̧̨̛̖̗̘̙̜̝̞̟̠̣̤̥̦̩̪̫̬̯̰̳̹̺̻̼͇͈͉͍͎̀́̂̃̄̆̇̈̉̌̎̐̑̒̓̔̽̾́̓͊̕̚ͅ͏͓͔͕͖͙͚͑͒͛ͣͤͥͦͧͨͩͫͭͮ͘͜͟͢͝͞͡άέήίαβγδεηθικλμνξοπρςστυφψωόύώабвгдежзийклмнопрстуфхцчшщъыьэюяћќ҉אבגדהוזחיךלםמןנסעפץרשת،؟أابةتثجحدرزسشظعغفقكلمنهوي٩کگی۶ःतमरिू्ஐ௰ಠಡಥರೃฅง็๑ຈ༼༽ლღᆺ፦ᴗởἓἔἶὅὐὲ–—―‘’‚“”„†•…′‽‿⁎₪€™↑→↔⇑⇩∀∇∈∑−∙√∞≈≠≡≥≦≧⊃⊙⋆⌒⌣─━┌┐┬┻╥╬╭╮╯■□▬△▽◇◉●◔◕◞◠◡☂★☆☺☼♉♡♢♤♥♧♪♫♬✌✍✓✔✝✧✨✿❤⸮、。》あいうえおかがきぎくこごさざしじすせぜそただちっつづてでとなにねのはへぼまめもゃやょよらりるれろわをん゜アイクサジタッツトニノミメモュラレヮワン・ーヽヾㅿ一上不中之习了事二人仙会但你便像光全兴冬刀利到勇吉同吗吞呢喜四因国地夜夢大天太头好如学安実容小就弁待很我才把抜拿掌文斎斬新方日明易是智暗曉月望本柳欢気汉漫為然爱狼王白的益眼砂祥私笑組美聖花英菀西見語语说迎返違選都野関陰陽雪願馬髒高龍녕디랑뮤보비사석세씨아안오요유재저직하️︵﹏！％＇（）＊，－０１：；？＠｀ａｂｃｄｅｆｇｈｉｋｌｍｎｏｐｒｓｔｕｖｗｘｙ～｡･ｧｩｫｬｼﾉﾞﾟ￣�🌹🍄🏼🐍👈👋👌👍👏💎💓💖💛🔥🕚😀😁😂😃😄😅😆😇😉😊😋😌😍😎😏😐😓😕😘😜😝😞😡😢😣😧😫😬😮😱😳😴😺🙋🤓🤔🤗🦄\n"
     ]
    }
   ],
   "source": [
    "# showing what characters are in the cleaned text vs. the pre-cleaned text\n",
    "clean_corpus = ' '.join(cafe_clean['joined_tokens'])\n",
    "print(f'CLEANED: {\"\".join(sorted(set(clean_corpus.lower())))}')\n",
    "print('-'*25)\n",
    "print('-'*25)\n",
    "\n",
    "\n",
    "corpus = ' '.join(cafe_df['posts'])\n",
    "print(f'PRE-CLEANED: {\"\".join(sorted(set(corpus.lower())))}')"
   ]
  },
  {
   "cell_type": "code",
   "execution_count": 59,
   "metadata": {},
   "outputs": [
    {
     "data": {
      "text/html": [
       "<div>\n",
       "<style scoped>\n",
       "    .dataframe tbody tr th:only-of-type {\n",
       "        vertical-align: middle;\n",
       "    }\n",
       "\n",
       "    .dataframe tbody tr th {\n",
       "        vertical-align: top;\n",
       "    }\n",
       "\n",
       "    .dataframe thead th {\n",
       "        text-align: right;\n",
       "    }\n",
       "</style>\n",
       "<table border=\"1\" class=\"dataframe\">\n",
       "  <thead>\n",
       "    <tr style=\"text-align: right;\">\n",
       "      <th></th>\n",
       "      <th>type</th>\n",
       "      <th>posts</th>\n",
       "      <th>clean_posts</th>\n",
       "      <th>post_tokens</th>\n",
       "      <th>joined_tokens</th>\n",
       "    </tr>\n",
       "  </thead>\n",
       "  <tbody>\n",
       "    <tr>\n",
       "      <th>0</th>\n",
       "      <td>infj</td>\n",
       "      <td>'http://www.youtube.com/watch?v=qsXHcwe3krw|||...</td>\n",
       "      <td>and  moments    sportscenter not top te...</td>\n",
       "      <td>[moment, sportscenter, top, ten, play, prank, ...</td>\n",
       "      <td>moment sportscenter top ten play prank life ch...</td>\n",
       "    </tr>\n",
       "    <tr>\n",
       "      <th>1</th>\n",
       "      <td>entp</td>\n",
       "      <td>'I'm finding the lack of me in these posts ver...</td>\n",
       "      <td>im finding the lack of me in these posts very ...</td>\n",
       "      <td>[im, finding, lack, post, alarming, sex, borin...</td>\n",
       "      <td>im finding lack post alarming sex boring posit...</td>\n",
       "    </tr>\n",
       "    <tr>\n",
       "      <th>2</th>\n",
       "      <td>intp</td>\n",
       "      <td>'Good one  _____   https://www.youtube.com/wat...</td>\n",
       "      <td>good one        of course, to which i say i kn...</td>\n",
       "      <td>[good, one, course, say, know, thats, blessing...</td>\n",
       "      <td>good one course say know thats blessing curse ...</td>\n",
       "    </tr>\n",
       "    <tr>\n",
       "      <th>3</th>\n",
       "      <td>intj</td>\n",
       "      <td>'Dear INTP,   I enjoyed our conversation the o...</td>\n",
       "      <td>dear ,   i enjoyed our conversation the other ...</td>\n",
       "      <td>[dear, enjoyed, conversation, day, esoteric, g...</td>\n",
       "      <td>dear enjoyed conversation day esoteric gabbing...</td>\n",
       "    </tr>\n",
       "    <tr>\n",
       "      <th>4</th>\n",
       "      <td>entj</td>\n",
       "      <td>'You're fired.|||That's another silly misconce...</td>\n",
       "      <td>youre fired.   thats another silly misconcepti...</td>\n",
       "      <td>[youre, fired, thats, another, silly, misconce...</td>\n",
       "      <td>youre fired thats another silly misconception ...</td>\n",
       "    </tr>\n",
       "  </tbody>\n",
       "</table>\n",
       "</div>"
      ],
      "text/plain": [
       "   type                                              posts  \\\n",
       "0  infj  'http://www.youtube.com/watch?v=qsXHcwe3krw|||...   \n",
       "1  entp  'I'm finding the lack of me in these posts ver...   \n",
       "2  intp  'Good one  _____   https://www.youtube.com/wat...   \n",
       "3  intj  'Dear INTP,   I enjoyed our conversation the o...   \n",
       "4  entj  'You're fired.|||That's another silly misconce...   \n",
       "\n",
       "                                         clean_posts  \\\n",
       "0         and  moments    sportscenter not top te...   \n",
       "1  im finding the lack of me in these posts very ...   \n",
       "2  good one        of course, to which i say i kn...   \n",
       "3  dear ,   i enjoyed our conversation the other ...   \n",
       "4  youre fired.   thats another silly misconcepti...   \n",
       "\n",
       "                                         post_tokens  \\\n",
       "0  [moment, sportscenter, top, ten, play, prank, ...   \n",
       "1  [im, finding, lack, post, alarming, sex, borin...   \n",
       "2  [good, one, course, say, know, thats, blessing...   \n",
       "3  [dear, enjoyed, conversation, day, esoteric, g...   \n",
       "4  [youre, fired, thats, another, silly, misconce...   \n",
       "\n",
       "                                       joined_tokens  \n",
       "0  moment sportscenter top ten play prank life ch...  \n",
       "1  im finding lack post alarming sex boring posit...  \n",
       "2  good one course say know thats blessing curse ...  \n",
       "3  dear enjoyed conversation day esoteric gabbing...  \n",
       "4  youre fired thats another silly misconception ...  "
      ]
     },
     "execution_count": 59,
     "metadata": {},
     "output_type": "execute_result"
    }
   ],
   "source": [
    "cafe_clean.head(5)"
   ]
  },
  {
   "cell_type": "markdown",
   "metadata": {},
   "source": [
    "---"
   ]
  },
  {
   "cell_type": "code",
   "execution_count": 60,
   "metadata": {},
   "outputs": [
    {
     "name": "stdout",
     "output_type": "stream",
     "text": [
      "The pre-cleaned tokens tally up to 10637645 total words\n",
      "The cleaned tokens tally up to 5378285 total words\n",
      "--------------------\n",
      "Each feature in pre-cleaned has on average 1226 words\n",
      "Each feature in cleaned has on average 620 words\n",
      "--------------------\n",
      "Each feature in pre-cleaned  has a median of 1278 words\n",
      "Each feature has a median of 645 words\n",
      "--------------------\n",
      "The minimum post in pre-cleaned  is 4 words\n",
      "The minimum post in cleaned is 0 words\n",
      "--------------------\n",
      "The minimum post in pre-cleaned  is 1881 words\n",
      "The minimum post in cleaned is 916 words\n",
      "--------------------\n"
     ]
    },
    {
     "data": {
      "image/png": "[encoded data removed]",
      "text/plain": [
       "<Figure size 1440x576 with 1 Axes>"
      ]
     },
     "metadata": {},
     "output_type": "display_data"
    }
   ],
   "source": [
    "total_words = cafe_clean['posts'].apply(lambda x: len(x.split())).sum()\n",
    "print(f'The pre-cleaned tokens tally up to {total_words} total words')\n",
    "\n",
    "clean_words = cafe_clean['post_tokens'].apply(lambda x: len(x)).sum()\n",
    "print(f'The cleaned tokens tally up to {clean_words} total words')\n",
    "\n",
    "print('-'*20)\n",
    "\n",
    "ave_post = cafe_clean['posts'].apply(lambda x: len(x.split())).mean()\n",
    "print(f'Each feature in pre-cleaned has on average {round(ave_post)} words')\n",
    "\n",
    "ave_cleaned = cafe_clean['post_tokens'].apply(lambda x: len(x)).mean()\n",
    "print(f'Each feature in cleaned has on average {round(ave_cleaned)} words')\n",
    "\n",
    "print('-'*20)\n",
    "\n",
    "med_post = cafe_clean['posts'].apply(lambda x: len(x.split())).median()\n",
    "print(f'Each feature in pre-cleaned  has a median of {round(med_post)} words')\n",
    "\n",
    "med_cleaned = cafe_clean['post_tokens'].apply(lambda x: len(x)).median()\n",
    "print(f'Each feature has a median of {round(med_cleaned)} words')\n",
    "\n",
    "print('-'*20)\n",
    "\n",
    "min_post = cafe_clean['posts'].apply(lambda x: len(x.split())).min()\n",
    "print(f'The minimum post in pre-cleaned  is {round(min_post)} words')\n",
    "\n",
    "min_cleaned = cafe_clean['post_tokens'].apply(lambda x: len(x)).min()\n",
    "print(f'The minimum post in cleaned is {round(min_cleaned)} words')\n",
    "\n",
    "print('-'*20)\n",
    "\n",
    "max_post = cafe_clean['posts'].apply(lambda x: len(x.split())).max()\n",
    "print(f'The minimum post in pre-cleaned  is {round(max_post)} words')\n",
    "\n",
    "max_cleaned = cafe_clean['post_tokens'].apply(lambda x: len(x)).max()\n",
    "print(f'The minimum post in cleaned is {round(max_cleaned)} words')\n",
    "\n",
    "print('-'*20)\n",
    "\n",
    "plt.figure(figsize=(20,8))\n",
    "plt.hist(cafe_clean['post_tokens'].apply(lambda x: len(x)), label='cleaned', alpha=.5, bins=100)\n",
    "plt.hist(cafe_clean['posts'].apply(lambda x: len(x.split())), label='pre-cleaned', alpha=.5, bins=100)\n",
    "plt.axvline(ave_post, color='k', linestyle='dashed', linewidth=3, label='pre-cleaned mean')\n",
    "plt.axvline(ave_cleaned, color='r', linestyle='dashed', linewidth=3, label='cleaned mean')\n",
    "plt.legend()\n",
    "plt.title('Distribution of Post Length \\n Clean vs Pre-Cleaned');"
   ]
  },
  {
   "cell_type": "code",
   "execution_count": 61,
   "metadata": {},
   "outputs": [
    {
     "name": "stdout",
     "output_type": "stream",
     "text": [
      ">>>>>>>>>>ENFP<<<<<<<<<<\n",
      "-------------------------\n",
      "'I think a lot of people avoid using their abilities for positive change. I also think a lot of people are denying their abilities or choosing not use them.|||Don't worry, poor people like to make babies too.|||This was me until the makeshift rave scene went away.|||I find it hard to believe humanity is so lacking in vision, that we're stuck with this for the human condition. I'm inclined to believe some planning was involved to get things this messed up.|||https://www.youtube.com/watch?v=deebKNI-dTE|||https://www.youtube.com/watch?v=KHR6HkHySWY|||Freedom is given by those in power, and power corrupts.|||I hope you guys are watching these.   https://www.youtube.com/watch?v=ZRdSvdh-ULI|||I see the younger ENFP's immersed in consumerism. I understand that making and enjoying escapism is far easier and more profitable than saving the world. I've been through the same thing....|||When I was a kid, my dreams weren't encouraged. I scraped up materials to build my dreams. My daughter has technology I dreamed about as a kid, and she just plays video games. She tells me she want...|||https://www.youtube.com/watch?v=w9sgSvBT7Dk|||Who didn't see this coming like the last recession?  Now, this is entertainment.   https://www.youtube.com/watch?v=vCUP6bP17fg|||I'm wishing the world would be like this.  718937|||I never did. I have exhibited some ESFP stereotypical qualities in the past. I think it resulted from an over inflated ego.|||https://tunein.com/radio/Afro-Style-Radio-s261010/|||I'm too worn out to pretend I'm not lonely.|||I feel less offended that the world doesn't give a crap about reality.|||I be ill.|||I'm wondering what kind of people would put themselves through this. I guess if I can sit through Floyd...   https://www.youtube.com/watch?v=orUfmL1G5cY|||Here you go...   https://www.youtube.com/watch?v=1_Vcc64xcJs|||https://somafm.com/secretagent/  popup player  https://somafm.com/player/#/now-playing/secretagent|||It's only rational if both parties are.|||Growing up\n",
      "-------------------------\n",
      "think lot people avoid using ability positive change also think lot people denying ability choosing use dont worry poor people like make baby makeshift rave scene went away find hard believe humanity lacking vision stuck human condition im inclined believe planning involved get thing messed freedom given power power corrupts hope guy watching see younger immersed consumerism understand making enjoying escapism far easier profitable saving world ive thing kid dream werent encouraged scraped material build dream daughter technology dreamed kid play video game tell want didnt see coming like last recession entertainment im wishing world would like never exhibited stereotypical quality past think resulted inflated ego im worn pretend im lonely feel le offended world doesnt give crap reality ill im wondering kind people would put guess sit floyd go popup player rational party growing one backyard cut concrete replanted ladder almost touched ground rode leg hanging bottom rung pinterest helped grow helping explore mind memory ive crazy ego land good thing get courage enough head real world world challenged think learned something outro head kept singing thats galaxy let u know worry worth sometimes person teddy bear love watch freak wont play game angeleyes thank transpersonals feature clash magazine burden speech spot empathize loss dog kidnapping common bos stopped asking people pet leave store kept claiming service animal pet friendly store town dont mind make love beatles even dead one cant stand see people suffering havent eaten donut couple year eat sugarless candy occasion prefer russell stover strawberry cream appreciative im always honeymoon phase life prefer spiral outward upward love autumn love winter like summer romance looking butt wheres good indie here list great life goat boy im basing playlist would recommend\n"
     ]
    }
   ],
   "source": [
    "rint = np.random.randint(0, len(cafe_df))\n",
    "print('>'*10 + cafe_df['type'].iloc[rint] + '<'*10)\n",
    "print('-'*25)\n",
    "print(cafe_clean['posts'].iloc[rint][:2000])\n",
    "print('-'*25)\n",
    "print(cafe_clean['joined_tokens'].iloc[rint][:2000])"
   ]
  },
  {
   "cell_type": "markdown",
   "metadata": {},
   "source": [
    "#### Takeaways:\n",
    "- A lot of words were reduced or eliminated that did not provide any use.\n",
    "- The dataset still has posts with very little words. Might need to drop these.\n",
    "- The lemmitization did not work well on some verbs and the `MBTI` replacement often is followed by an `s`.\n"
   ]
  },
  {
   "cell_type": "code",
   "execution_count": 62,
   "metadata": {},
   "outputs": [],
   "source": [
    "# Adding Binary Targets\n",
    "cafe_clean['i/e'] = cafe_clean['type'].map(lambda x: x[0])\n",
    "cafe_clean['n/s'] = cafe_clean['type'].map(lambda x: x[1])\n",
    "cafe_clean['t/f'] = cafe_clean['type'].map(lambda x: x[2])\n",
    "cafe_clean['p/j'] = cafe_clean['type'].map(lambda x: x[3])"
   ]
  },
  {
   "cell_type": "code",
   "execution_count": 63,
   "metadata": {},
   "outputs": [
    {
     "name": "stdout",
     "output_type": "stream",
     "text": [
      "i    0.769568\n",
      "e    0.230432\n",
      "Name: i/e, dtype: float64\n",
      "n    0.862017\n",
      "s    0.137983\n",
      "Name: n/s, dtype: float64\n",
      "f    0.541095\n",
      "t    0.458905\n",
      "Name: t/f, dtype: float64\n",
      "p    0.60415\n",
      "j    0.39585\n",
      "Name: p/j, dtype: float64\n"
     ]
    }
   ],
   "source": [
    "print(cafe_clean['i/e'].value_counts(normalize=True))\n",
    "print(cafe_clean['n/s'].value_counts(normalize=True))\n",
    "print(cafe_clean['t/f'].value_counts(normalize=True))\n",
    "print(cafe_clean['p/j'].value_counts(normalize=True))"
   ]
  },
  {
   "cell_type": "code",
   "execution_count": 64,
   "metadata": {},
   "outputs": [
    {
     "data": {
      "image/png": "[encoded data removed]",
      "text/plain": [
       "<Figure size 1440x576 with 1 Axes>"
      ]
     },
     "metadata": {},
     "output_type": "display_data"
    }
   ],
   "source": [
    "plt.figure(figsize=(20,8))\n",
    "plt.title('Weights Between Binary Classes')\n",
    "plt.ylabel('counts')\n",
    "for column in cafe_clean.columns[-4:]:\n",
    "    plt.bar(cafe_clean[column].value_counts().index, cafe_clean[column].value_counts().values, label=column)\n",
    "\n",
    "plt.legend()\n",
    "plt.show();"
   ]
  },
  {
   "cell_type": "markdown",
   "metadata": {},
   "source": [
    "### Sentiment Analysis w/ VADER"
   ]
  },
  {
   "cell_type": "code",
   "execution_count": 65,
   "metadata": {},
   "outputs": [],
   "source": [
    "from nltk.sentiment.vader import SentimentIntensityAnalyzer\n",
    "\n",
    "sid = SentimentIntensityAnalyzer()"
   ]
  },
  {
   "cell_type": "code",
   "execution_count": 66,
   "metadata": {},
   "outputs": [
    {
     "data": {
      "text/plain": [
       "{'neg': 0.116, 'neu': 0.59, 'pos': 0.294, 'compound': 0.9985}"
      ]
     },
     "execution_count": 66,
     "metadata": {},
     "output_type": "execute_result"
    }
   ],
   "source": [
    "sid.polarity_scores(cafe_clean.loc[2,'joined_tokens'])"
   ]
  },
  {
   "cell_type": "code",
   "execution_count": 67,
   "metadata": {},
   "outputs": [],
   "source": [
    "cafe_clean['sentiment'] = cafe_clean['joined_tokens'].apply(lambda x: sid.polarity_scores(x))"
   ]
  },
  {
   "cell_type": "code",
   "execution_count": 68,
   "metadata": {},
   "outputs": [],
   "source": [
    "cafe_clean['sentiment_total'] = cafe_clean['sentiment'].apply(lambda x: x['compound'])"
   ]
  },
  {
   "cell_type": "code",
   "execution_count": 69,
   "metadata": {},
   "outputs": [],
   "source": [
    "cafe_clean['sentiment_score'] = cafe_clean['sentiment_total'].apply(lambda x: '+' if x >= 0 else '-')"
   ]
  },
  {
   "cell_type": "code",
   "execution_count": 70,
   "metadata": {},
   "outputs": [
    {
     "name": "stdout",
     "output_type": "stream",
     "text": [
      "Average Sentiemnt Score for estj: 0.8621179487179487\n",
      "Average Sentiemnt Score for entj: 0.9390021645021644\n",
      "Average Sentiemnt Score for infj: 0.9528048979591837\n",
      "Average Sentiemnt Score for infp: 0.9306973799126637\n",
      "Average Sentiemnt Score for esfp: 0.894975\n",
      "Average Sentiemnt Score for enfj: 0.9782905263157895\n",
      "Average Sentiemnt Score for istp: 0.8667602373887241\n",
      "Average Sentiemnt Score for isfj: 0.948713855421687\n",
      "Average Sentiemnt Score for enfp: 0.9803294814814817\n",
      "Average Sentiemnt Score for isfp: 0.9674929889298893\n",
      "Average Sentiemnt Score for istj: 0.9184565853658537\n",
      "Average Sentiemnt Score for estp: 0.9536662921348315\n",
      "Average Sentiemnt Score for entp: 0.9050423357664232\n",
      "Average Sentiemnt Score for esfj: 0.995704761904762\n",
      "Average Sentiemnt Score for intj: 0.8973036663611366\n",
      "Average Sentiemnt Score for intp: 0.8614109662576687\n"
     ]
    },
    {
     "data": {
      "image/png": "[encoded data removed]",
      "text/plain": [
       "<Figure size 1080x576 with 1 Axes>"
      ]
     },
     "metadata": {},
     "output_type": "display_data"
    }
   ],
   "source": [
    "scores_dict = {}\n",
    "for mbti in mbti_lst:\n",
    "    data = cafe_clean[cafe_clean['type'] == mbti]\n",
    "    print(f'Average Sentiemnt Score for {mbti}: {data.sentiment_total.mean()}')\n",
    "    scores_dict.update({mbti: data.sentiment_total.mean()}) \n",
    "\n",
    "scores_dict = {k: v for k, v in sorted(scores_dict.items(), key=lambda item: item[1])}\n",
    "\n",
    "x = list(scores_dict.keys())\n",
    "height = list(scores_dict.values())\n",
    "\n",
    "plt.figure(figsize=(15,8))\n",
    "plt.bar(x, height);\n"
   ]
  },
  {
   "cell_type": "code",
   "execution_count": 71,
   "metadata": {},
   "outputs": [
    {
     "name": "stdout",
     "output_type": "stream",
     "text": [
      "Average Sentiemnt Score for t: 0.8887170057774428\n",
      "Average Sentiemnt Score for f: 0.9496621005538988\n"
     ]
    },
    {
     "data": {
      "image/png": "[encoded data removed]",
      "text/plain": [
       "<Figure size 720x360 with 1 Axes>"
      ]
     },
     "metadata": {},
     "output_type": "display_data"
    }
   ],
   "source": [
    "scores_dict = {}\n",
    "for mbti in ['t', 'f']:\n",
    "    data = cafe_clean[cafe_clean['t/f'] == mbti]\n",
    "    print(f'Average Sentiemnt Score for {mbti}: {data.sentiment_total.mean()}')\n",
    "    scores_dict.update({mbti: data.sentiment_total.mean()}) \n",
    "\n",
    "scores_dict = {k: v for k, v in sorted(scores_dict.items(), key=lambda item: item[1])}\n",
    "\n",
    "x = list(scores_dict.keys())\n",
    "height = list(scores_dict.values())\n",
    "\n",
    "plt.figure(figsize=(10,5))\n",
    "plt.bar(x, height);"
   ]
  },
  {
   "cell_type": "code",
   "execution_count": 72,
   "metadata": {},
   "outputs": [],
   "source": [
    "cafe_clean['polarity'] = cafe_clean['joined_tokens'].apply(lambda x: TextBlob(x).sentiment.polarity)"
   ]
  },
  {
   "cell_type": "code",
   "execution_count": 73,
   "metadata": {},
   "outputs": [],
   "source": [
    "cafe_clean['subjectivity'] = cafe_clean['joined_tokens'].apply(lambda x: TextBlob(x).sentiment.subjectivity)"
   ]
  },
  {
   "cell_type": "code",
   "execution_count": 74,
   "metadata": {},
   "outputs": [
    {
     "data": {
      "image/png": "[encoded data removed]",
      "text/plain": [
       "<Figure size 1080x576 with 1 Axes>"
      ]
     },
     "metadata": {},
     "output_type": "display_data"
    }
   ],
   "source": [
    "plt.figure(figsize=(15,8))\n",
    "for mbti in mbti_lst:\n",
    "    plt.hist(cafe_clean['polarity'][cafe_clean['type'] == mbti], bins=100, alpha=.5, label=mbti)\n",
    "    plt.legend();"
   ]
  },
  {
   "cell_type": "code",
   "execution_count": 75,
   "metadata": {},
   "outputs": [
    {
     "data": {
      "image/png": "[encoded data removed]",
      "text/plain": [
       "<Figure size 1080x576 with 1 Axes>"
      ]
     },
     "metadata": {},
     "output_type": "display_data"
    }
   ],
   "source": [
    "plt.figure(figsize=(15,8))\n",
    "for mbti in mbti_lst:\n",
    "    plt.hist(cafe_clean['subjectivity'][cafe_clean['type'] == mbti], bins=100, alpha=.5, label=mbti)\n",
    "    plt.legend();"
   ]
  },
  {
   "cell_type": "code",
   "execution_count": 76,
   "metadata": {},
   "outputs": [
    {
     "name": "stdout",
     "output_type": "stream",
     "text": [
      "Average Sentiemnt Score for estj: 0.1110576144843595\n",
      "Average Sentiemnt Score for entj: 0.11055357819182873\n",
      "Average Sentiemnt Score for infj: 0.1214895481202205\n",
      "Average Sentiemnt Score for infp: 0.11645378762957145\n",
      "Average Sentiemnt Score for esfp: 0.11010892306760049\n",
      "Average Sentiemnt Score for enfj: 0.14812948692547181\n",
      "Average Sentiemnt Score for istp: 0.09588938000598825\n",
      "Average Sentiemnt Score for isfj: 0.1263913355024996\n",
      "Average Sentiemnt Score for enfp: 0.1329899337810195\n",
      "Average Sentiemnt Score for isfp: 0.13004786057170323\n",
      "Average Sentiemnt Score for istj: 0.10823278200444438\n",
      "Average Sentiemnt Score for estp: 0.11441655908285725\n",
      "Average Sentiemnt Score for entp: 0.10590090335179567\n",
      "Average Sentiemnt Score for esfj: 0.14258469639216373\n",
      "Average Sentiemnt Score for intj: 0.10003048338908699\n",
      "Average Sentiemnt Score for intp: 0.09291757754098166\n"
     ]
    },
    {
     "data": {
      "image/png": "[encoded data removed]",
      "text/plain": [
       "<Figure size 1080x576 with 1 Axes>"
      ]
     },
     "metadata": {},
     "output_type": "display_data"
    }
   ],
   "source": [
    "scores_dict = {}\n",
    "for mbti in mbti_lst:\n",
    "    data = cafe_clean[cafe_clean['type'] == mbti]\n",
    "    print(f'Average Sentiemnt Score for {mbti}: {data.polarity.mean()}')\n",
    "    scores_dict.update({mbti: data.polarity.mean()}) \n",
    "\n",
    "scores_dict = {k: v for k, v in sorted(scores_dict.items(), key=lambda item: item[1])}\n",
    "\n",
    "x = list(scores_dict.keys())\n",
    "height = list(scores_dict.values())\n",
    "\n",
    "plt.figure(figsize=(15,8))\n",
    "plt.bar(x, height);"
   ]
  },
  {
   "cell_type": "code",
   "execution_count": 77,
   "metadata": {},
   "outputs": [
    {
     "name": "stdout",
     "output_type": "stream",
     "text": [
      "Average Sentiemnt Score for estj: 0.5318460082730709\n",
      "Average Sentiemnt Score for entj: 0.5344430594971704\n",
      "Average Sentiemnt Score for infj: 0.5381978583634299\n",
      "Average Sentiemnt Score for infp: 0.5424336702162073\n",
      "Average Sentiemnt Score for esfp: 0.5465271837769525\n",
      "Average Sentiemnt Score for enfj: 0.5514479594749813\n",
      "Average Sentiemnt Score for istp: 0.5285889125896784\n",
      "Average Sentiemnt Score for isfj: 0.5454440463697302\n",
      "Average Sentiemnt Score for enfp: 0.5496365795526645\n",
      "Average Sentiemnt Score for isfp: 0.5441099160846544\n",
      "Average Sentiemnt Score for istj: 0.523997553233744\n",
      "Average Sentiemnt Score for estp: 0.5396800449366442\n",
      "Average Sentiemnt Score for entp: 0.5380495185560457\n",
      "Average Sentiemnt Score for esfj: 0.5431285962773988\n",
      "Average Sentiemnt Score for intj: 0.5267408591515655\n",
      "Average Sentiemnt Score for intp: 0.5275168492543789\n"
     ]
    },
    {
     "data": {
      "image/png": "[encoded data removed]",
      "text/plain": [
       "<Figure size 1080x576 with 1 Axes>"
      ]
     },
     "metadata": {},
     "output_type": "display_data"
    }
   ],
   "source": [
    "scores_dict = {}\n",
    "for mbti in mbti_lst:\n",
    "    data = cafe_clean[cafe_clean['type'] == mbti]\n",
    "    print(f'Average Sentiemnt Score for {mbti}: {data.subjectivity.mean()}')\n",
    "    scores_dict.update({mbti: data.subjectivity.mean()}) \n",
    "\n",
    "scores_dict = {k: v for k, v in sorted(scores_dict.items(), key=lambda item: item[1])}\n",
    "\n",
    "x = list(scores_dict.keys())\n",
    "height = list(scores_dict.values())\n",
    "\n",
    "plt.figure(figsize=(15,8))\n",
    "plt.bar(x, height);"
   ]
  },
  {
   "cell_type": "code",
   "execution_count": 78,
   "metadata": {},
   "outputs": [
    {
     "name": "stdout",
     "output_type": "stream",
     "text": [
      "Average Sentiemnt Score for t: 0.09982279224954028\n",
      "Average Sentiemnt Score for f: 0.12299605878913275\n"
     ]
    },
    {
     "data": {
      "image/png": "[encoded data removed]",
      "text/plain": [
       "<Figure size 720x360 with 1 Axes>"
      ]
     },
     "metadata": {},
     "output_type": "display_data"
    }
   ],
   "source": [
    "scores_dict = {}\n",
    "for mbti in ['t', 'f']:\n",
    "    data = cafe_clean[cafe_clean['t/f'] == mbti]\n",
    "    print(f'Average Sentiemnt Score for {mbti}: {data.polarity.mean()}')\n",
    "    scores_dict.update({mbti: data.polarity.mean()}) \n",
    "\n",
    "scores_dict = {k: v for k, v in sorted(scores_dict.items(), key=lambda item: item[1])}\n",
    "\n",
    "x = list(scores_dict.keys())\n",
    "height = list(scores_dict.values())\n",
    "\n",
    "plt.figure(figsize=(10,5))\n",
    "plt.bar(x, height);"
   ]
  },
  {
   "cell_type": "code",
   "execution_count": 79,
   "metadata": {},
   "outputs": [
    {
     "name": "stdout",
     "output_type": "stream",
     "text": [
      "Average Sentiemnt Score for t: 0.5297422748039327\n",
      "Average Sentiemnt Score for f: 0.5427591273860013\n"
     ]
    },
    {
     "data": {
      "image/png": "[encoded data removed]",
      "text/plain": [
       "<Figure size 720x360 with 1 Axes>"
      ]
     },
     "metadata": {},
     "output_type": "display_data"
    }
   ],
   "source": [
    "scores_dict = {}\n",
    "for mbti in ['t', 'f']:\n",
    "    data = cafe_clean[cafe_clean['t/f'] == mbti]\n",
    "    print(f'Average Sentiemnt Score for {mbti}: {data.subjectivity.mean()}')\n",
    "    scores_dict.update({mbti: data.subjectivity.mean()}) \n",
    "\n",
    "scores_dict = {k: v for k, v in sorted(scores_dict.items(), key=lambda item: item[1])}\n",
    "\n",
    "x = list(scores_dict.keys())\n",
    "height = list(scores_dict.values())\n",
    "\n",
    "plt.figure(figsize=(10,5))\n",
    "plt.bar(x, height);"
   ]
  },
  {
   "cell_type": "code",
   "execution_count": 80,
   "metadata": {},
   "outputs": [
    {
     "data": {
      "image/png": "[encoded data removed]",
      "text/plain": [
       "<Figure size 1080x576 with 1 Axes>"
      ]
     },
     "metadata": {},
     "output_type": "display_data"
    }
   ],
   "source": [
    "# Susan Li\n",
    "def get_top_n_trigram(corpus, n=None):\n",
    "    vec = CountVectorizer(ngram_range=(3, 3), stop_words='english').fit(corpus)\n",
    "    bag_of_words = vec.transform(corpus)\n",
    "    sum_words = bag_of_words.sum(axis=0) \n",
    "    words_freq = [(word, sum_words[0, idx]) for word, idx in vec.vocabulary_.items()]\n",
    "    words_freq =sorted(words_freq, key = lambda x: x[1], reverse=True)\n",
    "    return words_freq[:n]\n",
    "common_words = get_top_n_trigram(cafe_clean['joined_tokens'], 20)\n",
    "# for word, freq in common_words:\n",
    "#     print(word, freq)\n",
    "df_tgrams = pd.DataFrame(common_words, columns = ['Posts' , 'count'])\n",
    "df_tgrams = df_tgrams.groupby('Posts').sum()['count'].sort_values(ascending=True)\n",
    "plt.figure(figsize=(15,8))\n",
    "plt.barh(df_tgrams.index, df_tgrams.values);\n"
   ]
  },
  {
   "cell_type": "code",
   "execution_count": 81,
   "metadata": {},
   "outputs": [
    {
     "data": {
      "image/png": "[encoded data removed]",
      "text/plain": [
       "<Figure size 1080x576 with 1 Axes>"
      ]
     },
     "metadata": {},
     "output_type": "display_data"
    }
   ],
   "source": [
    "blob = TextBlob(str(cafe_clean['joined_tokens']))\n",
    "pos_df = pd.DataFrame(blob.tags, columns = ['word' , 'pos'])\n",
    "pos_df = pos_df.pos.value_counts()[:20]\n",
    "plt.figure(figsize=(15,8))\n",
    "plt.barh(pos_df.index, pos_df.values);"
   ]
  },
  {
   "cell_type": "code",
   "execution_count": 82,
   "metadata": {},
   "outputs": [
    {
     "data": {
      "text/plain": [
       "Index(['type', 'posts', 'clean_posts', 'post_tokens', 'joined_tokens', 'i/e',\n",
       "       'n/s', 't/f', 'p/j', 'sentiment', 'sentiment_total', 'sentiment_score',\n",
       "       'polarity', 'subjectivity'],\n",
       "      dtype='object')"
      ]
     },
     "execution_count": 82,
     "metadata": {},
     "output_type": "execute_result"
    }
   ],
   "source": [
    "cafe_clean.columns"
   ]
  },
  {
   "cell_type": "code",
   "execution_count": null,
   "metadata": {},
   "outputs": [],
   "source": []
  },
  {
   "cell_type": "code",
   "execution_count": null,
   "metadata": {},
   "outputs": [],
   "source": []
  },
  {
   "cell_type": "code",
   "execution_count": 83,
   "metadata": {},
   "outputs": [
    {
     "name": "stdout",
     "output_type": "stream",
     "text": [
      "Amount of words in corpus: 5378285\n",
      "Amount of chars in cropus: 35472596\n",
      "Average word length: 6.595521806672573 \n"
     ]
    }
   ],
   "source": [
    "print(f\"Amount of words in corpus: {cafe_clean['post_tokens'].apply(lambda x: len(x)).sum()}\")\n",
    "print(f\"Amount of chars in cropus: {cafe_clean['joined_tokens'].apply(lambda x: len(x)).sum()}\")\n",
    "print(f\"Average word length:\\\n",
    " {cafe_clean['joined_tokens'].apply(lambda x: len(x)).sum() / cafe_clean['post_tokens'].apply(lambda x: len(x)).sum()} \")"
   ]
  },
  {
   "cell_type": "code",
   "execution_count": null,
   "metadata": {},
   "outputs": [],
   "source": [
    "# cafe_clean.to_csv('./data/cafe_clean_pos.csv')"
   ]
  },
  {
   "cell_type": "markdown",
   "metadata": {},
   "source": [
    "## Baseline Modeling\n",
    "\n",
    "There will be 4 sections of modeling:\n",
    "\n",
    "1. Multiclass\n",
    "2. Multiclass balanced classes using undersampling\n",
    "3. Binary\n",
    "4. Binary balanced classes using undersampling"
   ]
  },
  {
   "cell_type": "code",
   "execution_count": null,
   "metadata": {},
   "outputs": [],
   "source": [
    "# cafe_clean = pd.read_csv('./data/cafe_clean.csv')\n",
    "# cafe_clean = cafe_clean.dropna()"
   ]
  },
  {
   "cell_type": "code",
   "execution_count": 90,
   "metadata": {},
   "outputs": [],
   "source": [
    "# Baseline\n",
    "baseline_models = {'SGDClassifier': SGDClassifier(class_weight='balanced', random_state=SEED, loss=\"modified_huber\"),\n",
    "\n",
    "                  'LogisticRegression': LogisticRegression(n_jobs=1, C=.001, max_iter=250),\n",
    "\n",
    "                  'NaiveBayes': MultinomialNB(),\n",
    "               \n",
    "                  'KNN': KNeighborsClassifier(),\n",
    "               \n",
    "                  'RandomForest': RandomForestClassifier(max_depth=8, random_state=SEED)\n",
    "               }"
   ]
  },
  {
   "cell_type": "code",
   "execution_count": 91,
   "metadata": {},
   "outputs": [
    {
     "name": "stdout",
     "output_type": "stream",
     "text": [
      "SGDClassifier(class_weight='balanced', loss='modified_huber',\n",
      "              random_state=53188535)\n",
      "LogisticRegression(C=0.001, max_iter=250, n_jobs=1)\n",
      "MultinomialNB()\n",
      "KNeighborsClassifier()\n",
      "RandomForestClassifier(max_depth=8, random_state=53188535)\n"
     ]
    }
   ],
   "source": [
    "for clf in baseline_models:\n",
    "    print(baseline_models[clf])"
   ]
  },
  {
   "cell_type": "code",
   "execution_count": 92,
   "metadata": {},
   "outputs": [],
   "source": [
    "models_table = pd.DataFrame(columns=['Model', 'Target', 'CVScore', 'TestAcc'])"
   ]
  },
  {
   "cell_type": "code",
   "execution_count": 93,
   "metadata": {},
   "outputs": [],
   "source": [
    "rm = run_models()"
   ]
  },
  {
   "cell_type": "code",
   "execution_count": 94,
   "metadata": {},
   "outputs": [
    {
     "name": "stdout",
     "output_type": "stream",
     "text": [
      "--------------------\n",
      "type, target balance: \n",
      "infp    0.211190\n",
      "infj    0.169382\n",
      "intp    0.150323\n",
      "intj    0.125730\n",
      "entp    0.079004\n",
      "enfp    0.077774\n",
      "istp    0.038887\n",
      "isfp    0.031202\n",
      "entj    0.026591\n",
      "istj    0.023670\n",
      "enfj    0.021826\n",
      "isfj    0.019213\n",
      "estp    0.010298\n",
      "esfp    0.005533\n",
      "esfj    0.004919\n",
      "estj    0.004457\n",
      "Name: type, dtype: float64\n",
      "Vectorizing....  @ Wed Mar  9 07:35:46 2022\n",
      "Working on SGDClassifier for type @ Wed Mar  9 07:35:58 2022\n",
      "Working on LogisticRegression for type @ Wed Mar  9 07:36:07 2022\n"
     ]
    },
    {
     "name": "stderr",
     "output_type": "stream",
     "text": [
      "/Users/westonshuken/opt/anaconda3/envs/streamlit/lib/python3.8/site-packages/sklearn/linear_model/_logistic.py:814: ConvergenceWarning: lbfgs failed to converge (status=1):\n",
      "STOP: TOTAL NO. of ITERATIONS REACHED LIMIT.\n",
      "\n",
      "Increase the number of iterations (max_iter) or scale the data as shown in:\n",
      "    https://scikit-learn.org/stable/modules/preprocessing.html\n",
      "Please also refer to the documentation for alternative solver options:\n",
      "    https://scikit-learn.org/stable/modules/linear_model.html#logistic-regression\n",
      "  n_iter_i = _check_optimize_result(\n",
      "/Users/westonshuken/opt/anaconda3/envs/streamlit/lib/python3.8/site-packages/sklearn/linear_model/_logistic.py:814: ConvergenceWarning: lbfgs failed to converge (status=1):\n",
      "STOP: TOTAL NO. of ITERATIONS REACHED LIMIT.\n",
      "\n",
      "Increase the number of iterations (max_iter) or scale the data as shown in:\n",
      "    https://scikit-learn.org/stable/modules/preprocessing.html\n",
      "Please also refer to the documentation for alternative solver options:\n",
      "    https://scikit-learn.org/stable/modules/linear_model.html#logistic-regression\n",
      "  n_iter_i = _check_optimize_result(\n",
      "/Users/westonshuken/opt/anaconda3/envs/streamlit/lib/python3.8/site-packages/sklearn/linear_model/_logistic.py:814: ConvergenceWarning: lbfgs failed to converge (status=1):\n",
      "STOP: TOTAL NO. of ITERATIONS REACHED LIMIT.\n",
      "\n",
      "Increase the number of iterations (max_iter) or scale the data as shown in:\n",
      "    https://scikit-learn.org/stable/modules/preprocessing.html\n",
      "Please also refer to the documentation for alternative solver options:\n",
      "    https://scikit-learn.org/stable/modules/linear_model.html#logistic-regression\n",
      "  n_iter_i = _check_optimize_result(\n",
      "/Users/westonshuken/opt/anaconda3/envs/streamlit/lib/python3.8/site-packages/sklearn/linear_model/_logistic.py:814: ConvergenceWarning: lbfgs failed to converge (status=1):\n",
      "STOP: TOTAL NO. of ITERATIONS REACHED LIMIT.\n",
      "\n",
      "Increase the number of iterations (max_iter) or scale the data as shown in:\n",
      "    https://scikit-learn.org/stable/modules/preprocessing.html\n",
      "Please also refer to the documentation for alternative solver options:\n",
      "    https://scikit-learn.org/stable/modules/linear_model.html#logistic-regression\n",
      "  n_iter_i = _check_optimize_result(\n",
      "/Users/westonshuken/opt/anaconda3/envs/streamlit/lib/python3.8/site-packages/sklearn/linear_model/_logistic.py:814: ConvergenceWarning: lbfgs failed to converge (status=1):\n",
      "STOP: TOTAL NO. of ITERATIONS REACHED LIMIT.\n",
      "\n",
      "Increase the number of iterations (max_iter) or scale the data as shown in:\n",
      "    https://scikit-learn.org/stable/modules/preprocessing.html\n",
      "Please also refer to the documentation for alternative solver options:\n",
      "    https://scikit-learn.org/stable/modules/linear_model.html#logistic-regression\n",
      "  n_iter_i = _check_optimize_result(\n",
      "/Users/westonshuken/opt/anaconda3/envs/streamlit/lib/python3.8/site-packages/sklearn/linear_model/_logistic.py:814: ConvergenceWarning: lbfgs failed to converge (status=1):\n",
      "STOP: TOTAL NO. of ITERATIONS REACHED LIMIT.\n",
      "\n",
      "Increase the number of iterations (max_iter) or scale the data as shown in:\n",
      "    https://scikit-learn.org/stable/modules/preprocessing.html\n",
      "Please also refer to the documentation for alternative solver options:\n",
      "    https://scikit-learn.org/stable/modules/linear_model.html#logistic-regression\n",
      "  n_iter_i = _check_optimize_result(\n"
     ]
    },
    {
     "name": "stdout",
     "output_type": "stream",
     "text": [
      "Working on NaiveBayes for type @ Wed Mar  9 07:37:42 2022\n",
      "Working on KNN for type @ Wed Mar  9 07:37:43 2022\n",
      "Working on RandomForest for type @ Wed Mar  9 07:37:53 2022\n"
     ]
    },
    {
     "data": {
      "text/html": [
       "<div>\n",
       "<style scoped>\n",
       "    .dataframe tbody tr th:only-of-type {\n",
       "        vertical-align: middle;\n",
       "    }\n",
       "\n",
       "    .dataframe tbody tr th {\n",
       "        vertical-align: top;\n",
       "    }\n",
       "\n",
       "    .dataframe thead th {\n",
       "        text-align: right;\n",
       "    }\n",
       "</style>\n",
       "<table border=\"1\" class=\"dataframe\">\n",
       "  <thead>\n",
       "    <tr style=\"text-align: right;\">\n",
       "      <th></th>\n",
       "      <th>Model</th>\n",
       "      <th>Target</th>\n",
       "      <th>CVScore</th>\n",
       "      <th>TestAcc</th>\n",
       "    </tr>\n",
       "  </thead>\n",
       "  <tbody>\n",
       "    <tr>\n",
       "      <th>0</th>\n",
       "      <td>SGDClassifier_type</td>\n",
       "      <td>type</td>\n",
       "      <td>0.3378</td>\n",
       "      <td>0.3246</td>\n",
       "    </tr>\n",
       "    <tr>\n",
       "      <th>1</th>\n",
       "      <td>LogisticRegression_type</td>\n",
       "      <td>type</td>\n",
       "      <td>0.3777</td>\n",
       "      <td>0.3675</td>\n",
       "    </tr>\n",
       "    <tr>\n",
       "      <th>2</th>\n",
       "      <td>NaiveBayes_type</td>\n",
       "      <td>type</td>\n",
       "      <td>0.3675</td>\n",
       "      <td>0.3628</td>\n",
       "    </tr>\n",
       "    <tr>\n",
       "      <th>3</th>\n",
       "      <td>KNN_type</td>\n",
       "      <td>type</td>\n",
       "      <td>0.1826</td>\n",
       "      <td>0.1706</td>\n",
       "    </tr>\n",
       "    <tr>\n",
       "      <th>4</th>\n",
       "      <td>RandomForest_type</td>\n",
       "      <td>type</td>\n",
       "      <td>0.2499</td>\n",
       "      <td>0.2485</td>\n",
       "    </tr>\n",
       "  </tbody>\n",
       "</table>\n",
       "</div>"
      ],
      "text/plain": [
       "                     Model Target CVScore TestAcc\n",
       "0       SGDClassifier_type   type  0.3378  0.3246\n",
       "1  LogisticRegression_type   type  0.3777  0.3675\n",
       "2          NaiveBayes_type   type  0.3675  0.3628\n",
       "3                 KNN_type   type  0.1826  0.1706\n",
       "4        RandomForest_type   type  0.2499  0.2485"
      ]
     },
     "execution_count": 94,
     "metadata": {},
     "output_type": "execute_result"
    }
   ],
   "source": [
    "multiclass_cv = rm.run(cafe_clean, 'joined_tokens', ['type'], baseline_models, models_table, tfidf=False, SEED=234)\n",
    "multiclass_cv"
   ]
  },
  {
   "cell_type": "code",
   "execution_count": 95,
   "metadata": {},
   "outputs": [
    {
     "name": "stdout",
     "output_type": "stream",
     "text": [
      "--------------------\n",
      "type, target balance: \n",
      "infp    0.211190\n",
      "infj    0.169382\n",
      "intp    0.150323\n",
      "intj    0.125730\n",
      "entp    0.079004\n",
      "enfp    0.077774\n",
      "istp    0.038887\n",
      "isfp    0.031202\n",
      "entj    0.026591\n",
      "istj    0.023670\n",
      "enfj    0.021826\n",
      "isfj    0.019213\n",
      "estp    0.010298\n",
      "esfp    0.005533\n",
      "esfj    0.004919\n",
      "estj    0.004457\n",
      "Name: type, dtype: float64\n",
      "Vectorizing....  @ Wed Mar  9 07:39:01 2022\n",
      "Working on SGDClassifier for type @ Wed Mar  9 07:39:13 2022\n",
      "Working on LogisticRegression for type @ Wed Mar  9 07:39:17 2022\n",
      "Working on NaiveBayes for type @ Wed Mar  9 07:39:50 2022\n",
      "Working on KNN for type @ Wed Mar  9 07:39:51 2022\n",
      "Working on RandomForest for type @ Wed Mar  9 07:40:01 2022\n"
     ]
    },
    {
     "data": {
      "text/html": [
       "<div>\n",
       "<style scoped>\n",
       "    .dataframe tbody tr th:only-of-type {\n",
       "        vertical-align: middle;\n",
       "    }\n",
       "\n",
       "    .dataframe tbody tr th {\n",
       "        vertical-align: top;\n",
       "    }\n",
       "\n",
       "    .dataframe thead th {\n",
       "        text-align: right;\n",
       "    }\n",
       "</style>\n",
       "<table border=\"1\" class=\"dataframe\">\n",
       "  <thead>\n",
       "    <tr style=\"text-align: right;\">\n",
       "      <th></th>\n",
       "      <th>Model</th>\n",
       "      <th>Target</th>\n",
       "      <th>CVScore</th>\n",
       "      <th>TestAcc</th>\n",
       "    </tr>\n",
       "  </thead>\n",
       "  <tbody>\n",
       "    <tr>\n",
       "      <th>0</th>\n",
       "      <td>SGDClassifier_type</td>\n",
       "      <td>type</td>\n",
       "      <td>0.3652</td>\n",
       "      <td>0.3693</td>\n",
       "    </tr>\n",
       "    <tr>\n",
       "      <th>1</th>\n",
       "      <td>LogisticRegression_type</td>\n",
       "      <td>type</td>\n",
       "      <td>0.2112</td>\n",
       "      <td>0.2112</td>\n",
       "    </tr>\n",
       "    <tr>\n",
       "      <th>2</th>\n",
       "      <td>NaiveBayes_type</td>\n",
       "      <td>type</td>\n",
       "      <td>0.2665</td>\n",
       "      <td>0.2586</td>\n",
       "    </tr>\n",
       "    <tr>\n",
       "      <th>3</th>\n",
       "      <td>KNN_type</td>\n",
       "      <td>type</td>\n",
       "      <td>0.2041</td>\n",
       "      <td>0.2102</td>\n",
       "    </tr>\n",
       "    <tr>\n",
       "      <th>4</th>\n",
       "      <td>RandomForest_type</td>\n",
       "      <td>type</td>\n",
       "      <td>0.2541</td>\n",
       "      <td>0.2494</td>\n",
       "    </tr>\n",
       "  </tbody>\n",
       "</table>\n",
       "</div>"
      ],
      "text/plain": [
       "                     Model Target CVScore TestAcc\n",
       "0       SGDClassifier_type   type  0.3652  0.3693\n",
       "1  LogisticRegression_type   type  0.2112  0.2112\n",
       "2          NaiveBayes_type   type  0.2665  0.2586\n",
       "3                 KNN_type   type  0.2041  0.2102\n",
       "4        RandomForest_type   type  0.2541  0.2494"
      ]
     },
     "execution_count": 95,
     "metadata": {},
     "output_type": "execute_result"
    }
   ],
   "source": [
    "multiclass_tfidf = rm.run(cafe_clean, 'joined_tokens', ['type'], baseline_models, models_table, tfidf=True, SEED=234)\n",
    "multiclass_tfidf"
   ]
  },
  {
   "cell_type": "code",
   "execution_count": 96,
   "metadata": {},
   "outputs": [
    {
     "data": {
      "text/plain": [
       "(0.0, 1.0)"
      ]
     },
     "execution_count": 96,
     "metadata": {},
     "output_type": "execute_result"
    },
    {
     "data": {
      "image/png": "[encoded data removed]",
      "text/plain": [
       "<Figure size 1080x360 with 1 Axes>"
      ]
     },
     "metadata": {},
     "output_type": "display_data"
    }
   ],
   "source": [
    "plt.figure(figsize=(15,5))\n",
    "plt.barh('model_accuracy', .4108)\n",
    "plt.barh(cafe_clean['type'].value_counts(normalize=True).index, cafe_clean['type'].value_counts(normalize=True).values)\n",
    "plt.xlim(0, 1)"
   ]
  },
  {
   "cell_type": "markdown",
   "metadata": {},
   "source": [
    "#### Multiclass Models Results\n",
    "The largest class is `infp` of 21%. The models are not performing at a useful level, however there is reason to believe that the models are finding some distinction in word usage between the different MBTI types.\n",
    "\n",
    "---"
   ]
  },
  {
   "cell_type": "code",
   "execution_count": 97,
   "metadata": {},
   "outputs": [
    {
     "name": "stdout",
     "output_type": "stream",
     "text": [
      "Train: (array(['enfj', 'enfp', 'entj', 'entp', 'esfj', 'esfp', 'estj', 'estp',\n",
      "       'infj', 'infp', 'intj', 'intp', 'isfj', 'isfp', 'istj', 'istp'],\n",
      "      dtype=object), array([ 142,  506,  173,  514,   32,   36,   29,   67, 1102, 1374,  818,\n",
      "        978,  125,  203,  154,  253]))\n",
      "Train: (array(['enfj', 'enfp', 'entj', 'entp', 'esfj', 'esfp', 'estj', 'estp',\n",
      "       'infj', 'infp', 'intj', 'intp', 'isfj', 'isfp', 'istj', 'istp'],\n",
      "      dtype=object), array([29, 29, 29, 29, 29, 29, 29, 29, 29, 29, 29, 29, 29, 29, 29, 29]))\n",
      "Test: (array(['enfj', 'enfp', 'entj', 'entp', 'esfj', 'esfp', 'estj', 'estp',\n",
      "       'infj', 'infp', 'intj', 'intp', 'isfj', 'isfp', 'istj', 'istp'],\n",
      "      dtype=object), array([ 48, 169,  58, 171,  10,  12,  10,  22, 368, 458, 273, 326,  41,\n",
      "        68,  51,  84]))\n",
      "Test: (array(['enfj', 'enfp', 'entj', 'entp', 'esfj', 'esfp', 'estj', 'estp',\n",
      "       'infj', 'infp', 'intj', 'intp', 'isfj', 'isfp', 'istj', 'istp'],\n",
      "      dtype=object), array([10, 10, 10, 10, 10, 10, 10, 10, 10, 10, 10, 10, 10, 10, 10, 10]))\n",
      "Vectorizing....  @ Wed Mar  9 07:45:55 2022\n",
      "Working on SGDClassifier @ Wed Mar  9 07:45:57 2022\n",
      "Working on LogisticRegression @ Wed Mar  9 07:45:57 2022\n",
      "Working on NaiveBayes @ Wed Mar  9 07:45:59 2022\n",
      "Working on KNN @ Wed Mar  9 07:45:59 2022\n",
      "Working on RandomForest @ Wed Mar  9 07:45:59 2022\n"
     ]
    },
    {
     "data": {
      "text/html": [
       "<div>\n",
       "<style scoped>\n",
       "    .dataframe tbody tr th:only-of-type {\n",
       "        vertical-align: middle;\n",
       "    }\n",
       "\n",
       "    .dataframe tbody tr th {\n",
       "        vertical-align: top;\n",
       "    }\n",
       "\n",
       "    .dataframe thead th {\n",
       "        text-align: right;\n",
       "    }\n",
       "</style>\n",
       "<table border=\"1\" class=\"dataframe\">\n",
       "  <thead>\n",
       "    <tr style=\"text-align: right;\">\n",
       "      <th></th>\n",
       "      <th>Model</th>\n",
       "      <th>Target</th>\n",
       "      <th>CVScore</th>\n",
       "      <th>TestAcc</th>\n",
       "    </tr>\n",
       "  </thead>\n",
       "  <tbody>\n",
       "    <tr>\n",
       "      <th>0</th>\n",
       "      <td>SGDClassifier_type</td>\n",
       "      <td>type</td>\n",
       "      <td>0.1077</td>\n",
       "      <td>0.0938</td>\n",
       "    </tr>\n",
       "    <tr>\n",
       "      <th>1</th>\n",
       "      <td>LogisticRegression_type</td>\n",
       "      <td>type</td>\n",
       "      <td>0.1272</td>\n",
       "      <td>0.1625</td>\n",
       "    </tr>\n",
       "    <tr>\n",
       "      <th>2</th>\n",
       "      <td>NaiveBayes_type</td>\n",
       "      <td>type</td>\n",
       "      <td>0.1552</td>\n",
       "      <td>0.1625</td>\n",
       "    </tr>\n",
       "    <tr>\n",
       "      <th>3</th>\n",
       "      <td>KNN_type</td>\n",
       "      <td>type</td>\n",
       "      <td>0.069</td>\n",
       "      <td>0.1</td>\n",
       "    </tr>\n",
       "    <tr>\n",
       "      <th>4</th>\n",
       "      <td>RandomForest_type</td>\n",
       "      <td>type</td>\n",
       "      <td>0.1098</td>\n",
       "      <td>0.1</td>\n",
       "    </tr>\n",
       "  </tbody>\n",
       "</table>\n",
       "</div>"
      ],
      "text/plain": [
       "                     Model Target CVScore TestAcc\n",
       "0       SGDClassifier_type   type  0.1077  0.0938\n",
       "1  LogisticRegression_type   type  0.1272  0.1625\n",
       "2          NaiveBayes_type   type  0.1552  0.1625\n",
       "3                 KNN_type   type   0.069     0.1\n",
       "4        RandomForest_type   type  0.1098     0.1"
      ]
     },
     "execution_count": 97,
     "metadata": {},
     "output_type": "execute_result"
    }
   ],
   "source": [
    "multiclass_rus_cv = rm.run_usampled(cafe_clean, 'joined_tokens', ['type'], baseline_models, models_table, tfidf=False, SEED=234)\n",
    "multiclass_rus_cv"
   ]
  },
  {
   "cell_type": "code",
   "execution_count": 98,
   "metadata": {},
   "outputs": [
    {
     "name": "stdout",
     "output_type": "stream",
     "text": [
      "Train: (array(['enfj', 'enfp', 'entj', 'entp', 'esfj', 'esfp', 'estj', 'estp',\n",
      "       'infj', 'infp', 'intj', 'intp', 'isfj', 'isfp', 'istj', 'istp'],\n",
      "      dtype=object), array([ 142,  506,  173,  514,   32,   36,   29,   67, 1102, 1374,  818,\n",
      "        978,  125,  203,  154,  253]))\n",
      "Train: (array(['enfj', 'enfp', 'entj', 'entp', 'esfj', 'esfp', 'estj', 'estp',\n",
      "       'infj', 'infp', 'intj', 'intp', 'isfj', 'isfp', 'istj', 'istp'],\n",
      "      dtype=object), array([29, 29, 29, 29, 29, 29, 29, 29, 29, 29, 29, 29, 29, 29, 29, 29]))\n",
      "Test: (array(['enfj', 'enfp', 'entj', 'entp', 'esfj', 'esfp', 'estj', 'estp',\n",
      "       'infj', 'infp', 'intj', 'intp', 'isfj', 'isfp', 'istj', 'istp'],\n",
      "      dtype=object), array([ 48, 169,  58, 171,  10,  12,  10,  22, 368, 458, 273, 326,  41,\n",
      "        68,  51,  84]))\n",
      "Test: (array(['enfj', 'enfp', 'entj', 'entp', 'esfj', 'esfp', 'estj', 'estp',\n",
      "       'infj', 'infp', 'intj', 'intp', 'isfj', 'isfp', 'istj', 'istp'],\n",
      "      dtype=object), array([10, 10, 10, 10, 10, 10, 10, 10, 10, 10, 10, 10, 10, 10, 10, 10]))\n",
      "Vectorizing....  @ Wed Mar  9 07:46:00 2022\n",
      "Working on SGDClassifier @ Wed Mar  9 07:46:00 2022\n",
      "Working on LogisticRegression @ Wed Mar  9 07:46:00 2022\n",
      "Working on NaiveBayes @ Wed Mar  9 07:46:04 2022\n",
      "Working on KNN @ Wed Mar  9 07:46:04 2022\n",
      "Working on RandomForest @ Wed Mar  9 07:46:04 2022\n"
     ]
    },
    {
     "data": {
      "text/html": [
       "<div>\n",
       "<style scoped>\n",
       "    .dataframe tbody tr th:only-of-type {\n",
       "        vertical-align: middle;\n",
       "    }\n",
       "\n",
       "    .dataframe tbody tr th {\n",
       "        vertical-align: top;\n",
       "    }\n",
       "\n",
       "    .dataframe thead th {\n",
       "        text-align: right;\n",
       "    }\n",
       "</style>\n",
       "<table border=\"1\" class=\"dataframe\">\n",
       "  <thead>\n",
       "    <tr style=\"text-align: right;\">\n",
       "      <th></th>\n",
       "      <th>Model</th>\n",
       "      <th>Target</th>\n",
       "      <th>CVScore</th>\n",
       "      <th>TestAcc</th>\n",
       "    </tr>\n",
       "  </thead>\n",
       "  <tbody>\n",
       "    <tr>\n",
       "      <th>0</th>\n",
       "      <td>SGDClassifier_type</td>\n",
       "      <td>type</td>\n",
       "      <td>0.1293</td>\n",
       "      <td>0.1438</td>\n",
       "    </tr>\n",
       "    <tr>\n",
       "      <th>1</th>\n",
       "      <td>LogisticRegression_type</td>\n",
       "      <td>type</td>\n",
       "      <td>0.0906</td>\n",
       "      <td>0.1</td>\n",
       "    </tr>\n",
       "    <tr>\n",
       "      <th>2</th>\n",
       "      <td>NaiveBayes_type</td>\n",
       "      <td>type</td>\n",
       "      <td>0.1358</td>\n",
       "      <td>0.1312</td>\n",
       "    </tr>\n",
       "    <tr>\n",
       "      <th>3</th>\n",
       "      <td>KNN_type</td>\n",
       "      <td>type</td>\n",
       "      <td>0.0884</td>\n",
       "      <td>0.1188</td>\n",
       "    </tr>\n",
       "    <tr>\n",
       "      <th>4</th>\n",
       "      <td>RandomForest_type</td>\n",
       "      <td>type</td>\n",
       "      <td>0.1013</td>\n",
       "      <td>0.0938</td>\n",
       "    </tr>\n",
       "  </tbody>\n",
       "</table>\n",
       "</div>"
      ],
      "text/plain": [
       "                     Model Target CVScore TestAcc\n",
       "0       SGDClassifier_type   type  0.1293  0.1438\n",
       "1  LogisticRegression_type   type  0.0906     0.1\n",
       "2          NaiveBayes_type   type  0.1358  0.1312\n",
       "3                 KNN_type   type  0.0884  0.1188\n",
       "4        RandomForest_type   type  0.1013  0.0938"
      ]
     },
     "execution_count": 98,
     "metadata": {},
     "output_type": "execute_result"
    }
   ],
   "source": [
    "multiclass_rus_tfidf = rm.run_usampled(cafe_clean, 'joined_tokens', ['type'], baseline_models, models_table, tfidf=True, SEED=234)\n",
    "multiclass_rus_tfidf"
   ]
  },
  {
   "cell_type": "code",
   "execution_count": 99,
   "metadata": {},
   "outputs": [
    {
     "data": {
      "text/plain": [
       "(0.0, 1.0)"
      ]
     },
     "execution_count": 99,
     "metadata": {},
     "output_type": "execute_result"
    },
    {
     "data": {
      "image/png": "[encoded data removed]",
      "text/plain": [
       "<Figure size 1080x360 with 1 Axes>"
      ]
     },
     "metadata": {},
     "output_type": "display_data"
    }
   ],
   "source": [
    "plt.figure(figsize=(15,5))\n",
    "plt.barh('model_accuracy', .1143)\n",
    "plt.barh('class balance', 1/16)\n",
    "plt.xlim(0, 1)"
   ]
  },
  {
   "cell_type": "code",
   "execution_count": 100,
   "metadata": {},
   "outputs": [
    {
     "data": {
      "text/html": [
       "<div>\n",
       "<style scoped>\n",
       "    .dataframe tbody tr th:only-of-type {\n",
       "        vertical-align: middle;\n",
       "    }\n",
       "\n",
       "    .dataframe tbody tr th {\n",
       "        vertical-align: top;\n",
       "    }\n",
       "\n",
       "    .dataframe thead th {\n",
       "        text-align: right;\n",
       "    }\n",
       "</style>\n",
       "<table border=\"1\" class=\"dataframe\">\n",
       "  <thead>\n",
       "    <tr style=\"text-align: right;\">\n",
       "      <th></th>\n",
       "      <th>Model</th>\n",
       "      <th>Target</th>\n",
       "      <th>CVScore</th>\n",
       "      <th>TestAcc</th>\n",
       "      <th>other</th>\n",
       "    </tr>\n",
       "  </thead>\n",
       "  <tbody>\n",
       "    <tr>\n",
       "      <th>0</th>\n",
       "      <td>SGDClassifier_type</td>\n",
       "      <td>type</td>\n",
       "      <td>0.3378</td>\n",
       "      <td>0.3246</td>\n",
       "      <td>countvec</td>\n",
       "    </tr>\n",
       "    <tr>\n",
       "      <th>1</th>\n",
       "      <td>LogisticRegression_type</td>\n",
       "      <td>type</td>\n",
       "      <td>0.3777</td>\n",
       "      <td>0.3675</td>\n",
       "      <td>countvec</td>\n",
       "    </tr>\n",
       "    <tr>\n",
       "      <th>2</th>\n",
       "      <td>NaiveBayes_type</td>\n",
       "      <td>type</td>\n",
       "      <td>0.3675</td>\n",
       "      <td>0.3628</td>\n",
       "      <td>countvec</td>\n",
       "    </tr>\n",
       "    <tr>\n",
       "      <th>3</th>\n",
       "      <td>KNN_type</td>\n",
       "      <td>type</td>\n",
       "      <td>0.1826</td>\n",
       "      <td>0.1706</td>\n",
       "      <td>countvec</td>\n",
       "    </tr>\n",
       "    <tr>\n",
       "      <th>4</th>\n",
       "      <td>RandomForest_type</td>\n",
       "      <td>type</td>\n",
       "      <td>0.2499</td>\n",
       "      <td>0.2485</td>\n",
       "      <td>countvec</td>\n",
       "    </tr>\n",
       "    <tr>\n",
       "      <th>0</th>\n",
       "      <td>SGDClassifier_type</td>\n",
       "      <td>type</td>\n",
       "      <td>0.3652</td>\n",
       "      <td>0.3693</td>\n",
       "      <td>tfidf</td>\n",
       "    </tr>\n",
       "    <tr>\n",
       "      <th>1</th>\n",
       "      <td>LogisticRegression_type</td>\n",
       "      <td>type</td>\n",
       "      <td>0.2112</td>\n",
       "      <td>0.2112</td>\n",
       "      <td>tfidf</td>\n",
       "    </tr>\n",
       "    <tr>\n",
       "      <th>2</th>\n",
       "      <td>NaiveBayes_type</td>\n",
       "      <td>type</td>\n",
       "      <td>0.2665</td>\n",
       "      <td>0.2586</td>\n",
       "      <td>tfidf</td>\n",
       "    </tr>\n",
       "    <tr>\n",
       "      <th>3</th>\n",
       "      <td>KNN_type</td>\n",
       "      <td>type</td>\n",
       "      <td>0.2041</td>\n",
       "      <td>0.2102</td>\n",
       "      <td>tfidf</td>\n",
       "    </tr>\n",
       "    <tr>\n",
       "      <th>4</th>\n",
       "      <td>RandomForest_type</td>\n",
       "      <td>type</td>\n",
       "      <td>0.2541</td>\n",
       "      <td>0.2494</td>\n",
       "      <td>tfidf</td>\n",
       "    </tr>\n",
       "    <tr>\n",
       "      <th>0</th>\n",
       "      <td>SGDClassifier_type</td>\n",
       "      <td>type</td>\n",
       "      <td>0.1077</td>\n",
       "      <td>0.0938</td>\n",
       "      <td>rus_countvec</td>\n",
       "    </tr>\n",
       "    <tr>\n",
       "      <th>1</th>\n",
       "      <td>LogisticRegression_type</td>\n",
       "      <td>type</td>\n",
       "      <td>0.1272</td>\n",
       "      <td>0.1625</td>\n",
       "      <td>rus_countvec</td>\n",
       "    </tr>\n",
       "    <tr>\n",
       "      <th>2</th>\n",
       "      <td>NaiveBayes_type</td>\n",
       "      <td>type</td>\n",
       "      <td>0.1552</td>\n",
       "      <td>0.1625</td>\n",
       "      <td>rus_countvec</td>\n",
       "    </tr>\n",
       "    <tr>\n",
       "      <th>3</th>\n",
       "      <td>KNN_type</td>\n",
       "      <td>type</td>\n",
       "      <td>0.069</td>\n",
       "      <td>0.1</td>\n",
       "      <td>rus_countvec</td>\n",
       "    </tr>\n",
       "    <tr>\n",
       "      <th>4</th>\n",
       "      <td>RandomForest_type</td>\n",
       "      <td>type</td>\n",
       "      <td>0.1098</td>\n",
       "      <td>0.1</td>\n",
       "      <td>rus_countvec</td>\n",
       "    </tr>\n",
       "    <tr>\n",
       "      <th>0</th>\n",
       "      <td>SGDClassifier_type</td>\n",
       "      <td>type</td>\n",
       "      <td>0.1293</td>\n",
       "      <td>0.1438</td>\n",
       "      <td>rus_tfidf</td>\n",
       "    </tr>\n",
       "    <tr>\n",
       "      <th>1</th>\n",
       "      <td>LogisticRegression_type</td>\n",
       "      <td>type</td>\n",
       "      <td>0.0906</td>\n",
       "      <td>0.1</td>\n",
       "      <td>rus_tfidf</td>\n",
       "    </tr>\n",
       "    <tr>\n",
       "      <th>2</th>\n",
       "      <td>NaiveBayes_type</td>\n",
       "      <td>type</td>\n",
       "      <td>0.1358</td>\n",
       "      <td>0.1312</td>\n",
       "      <td>rus_tfidf</td>\n",
       "    </tr>\n",
       "    <tr>\n",
       "      <th>3</th>\n",
       "      <td>KNN_type</td>\n",
       "      <td>type</td>\n",
       "      <td>0.0884</td>\n",
       "      <td>0.1188</td>\n",
       "      <td>rus_tfidf</td>\n",
       "    </tr>\n",
       "    <tr>\n",
       "      <th>4</th>\n",
       "      <td>RandomForest_type</td>\n",
       "      <td>type</td>\n",
       "      <td>0.1013</td>\n",
       "      <td>0.0938</td>\n",
       "      <td>rus_tfidf</td>\n",
       "    </tr>\n",
       "  </tbody>\n",
       "</table>\n",
       "</div>"
      ],
      "text/plain": [
       "                     Model Target CVScore TestAcc         other\n",
       "0       SGDClassifier_type   type  0.3378  0.3246      countvec\n",
       "1  LogisticRegression_type   type  0.3777  0.3675      countvec\n",
       "2          NaiveBayes_type   type  0.3675  0.3628      countvec\n",
       "3                 KNN_type   type  0.1826  0.1706      countvec\n",
       "4        RandomForest_type   type  0.2499  0.2485      countvec\n",
       "0       SGDClassifier_type   type  0.3652  0.3693         tfidf\n",
       "1  LogisticRegression_type   type  0.2112  0.2112         tfidf\n",
       "2          NaiveBayes_type   type  0.2665  0.2586         tfidf\n",
       "3                 KNN_type   type  0.2041  0.2102         tfidf\n",
       "4        RandomForest_type   type  0.2541  0.2494         tfidf\n",
       "0       SGDClassifier_type   type  0.1077  0.0938  rus_countvec\n",
       "1  LogisticRegression_type   type  0.1272  0.1625  rus_countvec\n",
       "2          NaiveBayes_type   type  0.1552  0.1625  rus_countvec\n",
       "3                 KNN_type   type   0.069     0.1  rus_countvec\n",
       "4        RandomForest_type   type  0.1098     0.1  rus_countvec\n",
       "0       SGDClassifier_type   type  0.1293  0.1438     rus_tfidf\n",
       "1  LogisticRegression_type   type  0.0906     0.1     rus_tfidf\n",
       "2          NaiveBayes_type   type  0.1358  0.1312     rus_tfidf\n",
       "3                 KNN_type   type  0.0884  0.1188     rus_tfidf\n",
       "4        RandomForest_type   type  0.1013  0.0938     rus_tfidf"
      ]
     },
     "execution_count": 100,
     "metadata": {},
     "output_type": "execute_result"
    }
   ],
   "source": [
    "multiclass_cv['other'] = 'countvec'\n",
    "multiclass_tfidf['other'] = 'tfidf'\n",
    "multiclass_rus_cv['other'] = 'rus_countvec'\n",
    "multiclass_rus_tfidf['other'] = 'rus_tfidf'\n",
    "\n",
    "\n",
    "base_mc = pd.concat([multiclass_cv, multiclass_tfidf, multiclass_rus_cv, multiclass_rus_tfidf])\n",
    "base_mc"
   ]
  },
  {
   "cell_type": "markdown",
   "metadata": {},
   "source": [
    "### Multiclass Undersampled Models Results\n",
    "The largest class is `infp` of 21%. The models are not performing at a useful level, however there is reason to believe that the models are finding some distinction in word usage between the different MBTI types.\n",
    "\n",
    "---"
   ]
  },
  {
   "cell_type": "code",
   "execution_count": 101,
   "metadata": {},
   "outputs": [
    {
     "data": {
      "text/plain": [
       "['i/e', 'n/s', 't/f', 'p/j']"
      ]
     },
     "execution_count": 101,
     "metadata": {},
     "output_type": "execute_result"
    }
   ],
   "source": [
    "bin_targets = ['i/e', 'n/s', 't/f', 'p/j']\n",
    "bin_targets"
   ]
  },
  {
   "cell_type": "code",
   "execution_count": 102,
   "metadata": {},
   "outputs": [
    {
     "name": "stdout",
     "output_type": "stream",
     "text": [
      "--------------------\n",
      "i/e, target balance: \n",
      "i    0.769597\n",
      "e    0.230403\n",
      "Name: i/e, dtype: float64\n",
      "Vectorizing....  @ Wed Mar  9 07:46:24 2022\n",
      "Working on SGDClassifier for i/e @ Wed Mar  9 07:46:35 2022\n",
      "Working on LogisticRegression for i/e @ Wed Mar  9 07:46:36 2022\n",
      "Working on NaiveBayes for i/e @ Wed Mar  9 07:46:40 2022\n",
      "Working on KNN for i/e @ Wed Mar  9 07:46:40 2022\n",
      "Working on RandomForest for i/e @ Wed Mar  9 07:46:48 2022\n",
      "--------------------\n",
      "n/s, target balance: \n",
      "n    0.861974\n",
      "s    0.138026\n",
      "Name: n/s, dtype: float64\n",
      "Vectorizing....  @ Wed Mar  9 07:46:52 2022\n",
      "Working on SGDClassifier for n/s @ Wed Mar  9 07:47:04 2022\n",
      "Working on LogisticRegression for n/s @ Wed Mar  9 07:47:05 2022\n",
      "Working on NaiveBayes for n/s @ Wed Mar  9 07:47:08 2022\n",
      "Working on KNN for n/s @ Wed Mar  9 07:47:08 2022\n",
      "Working on RandomForest for n/s @ Wed Mar  9 07:47:16 2022\n",
      "--------------------\n",
      "t/f, target balance: \n",
      "f    0.541039\n",
      "t    0.458961\n",
      "Name: t/f, dtype: float64\n",
      "Vectorizing....  @ Wed Mar  9 07:47:20 2022\n",
      "Working on SGDClassifier for t/f @ Wed Mar  9 07:47:31 2022\n",
      "Working on LogisticRegression for t/f @ Wed Mar  9 07:47:33 2022\n",
      "Working on NaiveBayes for t/f @ Wed Mar  9 07:47:36 2022\n",
      "Working on KNN for t/f @ Wed Mar  9 07:47:36 2022\n",
      "Working on RandomForest for t/f @ Wed Mar  9 07:47:44 2022\n",
      "--------------------\n",
      "p/j, target balance: \n",
      "p    0.604211\n",
      "j    0.395789\n",
      "Name: p/j, dtype: float64\n",
      "Vectorizing....  @ Wed Mar  9 07:47:50 2022\n",
      "Working on SGDClassifier for p/j @ Wed Mar  9 07:48:01 2022\n",
      "Working on LogisticRegression for p/j @ Wed Mar  9 07:48:02 2022\n",
      "Working on NaiveBayes for p/j @ Wed Mar  9 07:48:06 2022\n",
      "Working on KNN for p/j @ Wed Mar  9 07:48:07 2022\n",
      "Working on RandomForest for p/j @ Wed Mar  9 07:48:16 2022\n"
     ]
    },
    {
     "data": {
      "text/html": [
       "<div>\n",
       "<style scoped>\n",
       "    .dataframe tbody tr th:only-of-type {\n",
       "        vertical-align: middle;\n",
       "    }\n",
       "\n",
       "    .dataframe tbody tr th {\n",
       "        vertical-align: top;\n",
       "    }\n",
       "\n",
       "    .dataframe thead th {\n",
       "        text-align: right;\n",
       "    }\n",
       "</style>\n",
       "<table border=\"1\" class=\"dataframe\">\n",
       "  <thead>\n",
       "    <tr style=\"text-align: right;\">\n",
       "      <th></th>\n",
       "      <th>Model</th>\n",
       "      <th>Target</th>\n",
       "      <th>CVScore</th>\n",
       "      <th>TestAcc</th>\n",
       "    </tr>\n",
       "  </thead>\n",
       "  <tbody>\n",
       "    <tr>\n",
       "      <th>0</th>\n",
       "      <td>SGDClassifier_i/e</td>\n",
       "      <td>i/e</td>\n",
       "      <td>0.7306</td>\n",
       "      <td>0.6113</td>\n",
       "    </tr>\n",
       "    <tr>\n",
       "      <th>1</th>\n",
       "      <td>LogisticRegression_i/e</td>\n",
       "      <td>i/e</td>\n",
       "      <td>0.7797</td>\n",
       "      <td>0.7805</td>\n",
       "    </tr>\n",
       "    <tr>\n",
       "      <th>2</th>\n",
       "      <td>NaiveBayes_i/e</td>\n",
       "      <td>i/e</td>\n",
       "      <td>0.7356</td>\n",
       "      <td>0.7354</td>\n",
       "    </tr>\n",
       "    <tr>\n",
       "      <th>3</th>\n",
       "      <td>KNN_i/e</td>\n",
       "      <td>i/e</td>\n",
       "      <td>0.7501</td>\n",
       "      <td>0.7538</td>\n",
       "    </tr>\n",
       "    <tr>\n",
       "      <th>4</th>\n",
       "      <td>RandomForest_i/e</td>\n",
       "      <td>i/e</td>\n",
       "      <td>0.7696</td>\n",
       "      <td>0.7695</td>\n",
       "    </tr>\n",
       "    <tr>\n",
       "      <th>5</th>\n",
       "      <td>SGDClassifier_n/s</td>\n",
       "      <td>n/s</td>\n",
       "      <td>0.8365</td>\n",
       "      <td>0.8405</td>\n",
       "    </tr>\n",
       "    <tr>\n",
       "      <th>6</th>\n",
       "      <td>LogisticRegression_n/s</td>\n",
       "      <td>n/s</td>\n",
       "      <td>0.8627</td>\n",
       "      <td>0.8612</td>\n",
       "    </tr>\n",
       "    <tr>\n",
       "      <th>7</th>\n",
       "      <td>NaiveBayes_n/s</td>\n",
       "      <td>n/s</td>\n",
       "      <td>0.8283</td>\n",
       "      <td>0.8303</td>\n",
       "    </tr>\n",
       "    <tr>\n",
       "      <th>8</th>\n",
       "      <td>KNN_n/s</td>\n",
       "      <td>n/s</td>\n",
       "      <td>0.8315</td>\n",
       "      <td>0.8373</td>\n",
       "    </tr>\n",
       "    <tr>\n",
       "      <th>9</th>\n",
       "      <td>RandomForest_n/s</td>\n",
       "      <td>n/s</td>\n",
       "      <td>0.862</td>\n",
       "      <td>0.8621</td>\n",
       "    </tr>\n",
       "    <tr>\n",
       "      <th>10</th>\n",
       "      <td>SGDClassifier_t/f</td>\n",
       "      <td>t/f</td>\n",
       "      <td>0.7421</td>\n",
       "      <td>0.7432</td>\n",
       "    </tr>\n",
       "    <tr>\n",
       "      <th>11</th>\n",
       "      <td>LogisticRegression_t/f</td>\n",
       "      <td>t/f</td>\n",
       "      <td>0.7737</td>\n",
       "      <td>0.7921</td>\n",
       "    </tr>\n",
       "    <tr>\n",
       "      <th>12</th>\n",
       "      <td>NaiveBayes_t/f</td>\n",
       "      <td>t/f</td>\n",
       "      <td>0.7678</td>\n",
       "      <td>0.7801</td>\n",
       "    </tr>\n",
       "    <tr>\n",
       "      <th>13</th>\n",
       "      <td>KNN_t/f</td>\n",
       "      <td>t/f</td>\n",
       "      <td>0.5799</td>\n",
       "      <td>0.5943</td>\n",
       "    </tr>\n",
       "    <tr>\n",
       "      <th>14</th>\n",
       "      <td>RandomForest_t/f</td>\n",
       "      <td>t/f</td>\n",
       "      <td>0.6912</td>\n",
       "      <td>0.6874</td>\n",
       "    </tr>\n",
       "    <tr>\n",
       "      <th>15</th>\n",
       "      <td>SGDClassifier_p/j</td>\n",
       "      <td>p/j</td>\n",
       "      <td>0.6409</td>\n",
       "      <td>0.6146</td>\n",
       "    </tr>\n",
       "    <tr>\n",
       "      <th>16</th>\n",
       "      <td>LogisticRegression_p/j</td>\n",
       "      <td>p/j</td>\n",
       "      <td>0.6725</td>\n",
       "      <td>0.6653</td>\n",
       "    </tr>\n",
       "    <tr>\n",
       "      <th>17</th>\n",
       "      <td>NaiveBayes_p/j</td>\n",
       "      <td>p/j</td>\n",
       "      <td>0.6517</td>\n",
       "      <td>0.6335</td>\n",
       "    </tr>\n",
       "    <tr>\n",
       "      <th>18</th>\n",
       "      <td>KNN_p/j</td>\n",
       "      <td>p/j</td>\n",
       "      <td>0.5778</td>\n",
       "      <td>0.5731</td>\n",
       "    </tr>\n",
       "    <tr>\n",
       "      <th>19</th>\n",
       "      <td>RandomForest_p/j</td>\n",
       "      <td>p/j</td>\n",
       "      <td>0.6044</td>\n",
       "      <td>0.6044</td>\n",
       "    </tr>\n",
       "  </tbody>\n",
       "</table>\n",
       "</div>"
      ],
      "text/plain": [
       "                     Model Target CVScore TestAcc\n",
       "0        SGDClassifier_i/e    i/e  0.7306  0.6113\n",
       "1   LogisticRegression_i/e    i/e  0.7797  0.7805\n",
       "2           NaiveBayes_i/e    i/e  0.7356  0.7354\n",
       "3                  KNN_i/e    i/e  0.7501  0.7538\n",
       "4         RandomForest_i/e    i/e  0.7696  0.7695\n",
       "5        SGDClassifier_n/s    n/s  0.8365  0.8405\n",
       "6   LogisticRegression_n/s    n/s  0.8627  0.8612\n",
       "7           NaiveBayes_n/s    n/s  0.8283  0.8303\n",
       "8                  KNN_n/s    n/s  0.8315  0.8373\n",
       "9         RandomForest_n/s    n/s   0.862  0.8621\n",
       "10       SGDClassifier_t/f    t/f  0.7421  0.7432\n",
       "11  LogisticRegression_t/f    t/f  0.7737  0.7921\n",
       "12          NaiveBayes_t/f    t/f  0.7678  0.7801\n",
       "13                 KNN_t/f    t/f  0.5799  0.5943\n",
       "14        RandomForest_t/f    t/f  0.6912  0.6874\n",
       "15       SGDClassifier_p/j    p/j  0.6409  0.6146\n",
       "16  LogisticRegression_p/j    p/j  0.6725  0.6653\n",
       "17          NaiveBayes_p/j    p/j  0.6517  0.6335\n",
       "18                 KNN_p/j    p/j  0.5778  0.5731\n",
       "19        RandomForest_p/j    p/j  0.6044  0.6044"
      ]
     },
     "execution_count": 102,
     "metadata": {},
     "output_type": "execute_result"
    }
   ],
   "source": [
    "bin_cv = rm.run(cafe_clean, 'joined_tokens', bin_targets, baseline_models, models_table, tfidf=False, SEED=SEED)\n",
    "bin_cv"
   ]
  },
  {
   "cell_type": "code",
   "execution_count": 103,
   "metadata": {},
   "outputs": [
    {
     "name": "stdout",
     "output_type": "stream",
     "text": [
      "--------------------\n",
      "i/e, target balance: \n",
      "i    0.769597\n",
      "e    0.230403\n",
      "Name: i/e, dtype: float64\n",
      "Vectorizing....  @ Wed Mar  9 07:48:22 2022\n",
      "Working on SGDClassifier for i/e @ Wed Mar  9 07:48:33 2022\n",
      "Working on LogisticRegression for i/e @ Wed Mar  9 07:48:34 2022\n",
      "Working on NaiveBayes for i/e @ Wed Mar  9 07:48:38 2022\n",
      "Working on KNN for i/e @ Wed Mar  9 07:48:39 2022\n",
      "Working on RandomForest for i/e @ Wed Mar  9 07:48:47 2022\n",
      "--------------------\n",
      "n/s, target balance: \n",
      "n    0.861974\n",
      "s    0.138026\n",
      "Name: n/s, dtype: float64\n",
      "Vectorizing....  @ Wed Mar  9 07:48:55 2022\n",
      "Working on SGDClassifier for n/s @ Wed Mar  9 07:49:07 2022\n",
      "Working on LogisticRegression for n/s @ Wed Mar  9 07:49:08 2022\n",
      "Working on NaiveBayes for n/s @ Wed Mar  9 07:49:08 2022\n",
      "Working on KNN for n/s @ Wed Mar  9 07:49:08 2022\n",
      "Working on RandomForest for n/s @ Wed Mar  9 07:49:16 2022\n",
      "--------------------\n",
      "t/f, target balance: \n",
      "f    0.541039\n",
      "t    0.458961\n",
      "Name: t/f, dtype: float64\n",
      "Vectorizing....  @ Wed Mar  9 07:49:24 2022\n",
      "Working on SGDClassifier for t/f @ Wed Mar  9 07:49:34 2022\n",
      "Working on LogisticRegression for t/f @ Wed Mar  9 07:49:34 2022\n",
      "Working on NaiveBayes for t/f @ Wed Mar  9 07:49:34 2022\n",
      "Working on KNN for t/f @ Wed Mar  9 07:49:35 2022\n",
      "Working on RandomForest for t/f @ Wed Mar  9 07:49:42 2022\n",
      "--------------------\n",
      "p/j, target balance: \n",
      "p    0.604211\n",
      "j    0.395789\n",
      "Name: p/j, dtype: float64\n",
      "Vectorizing....  @ Wed Mar  9 07:49:51 2022\n",
      "Working on SGDClassifier for p/j @ Wed Mar  9 07:50:01 2022\n",
      "Working on LogisticRegression for p/j @ Wed Mar  9 07:50:01 2022\n",
      "Working on NaiveBayes for p/j @ Wed Mar  9 07:50:01 2022\n",
      "Working on KNN for p/j @ Wed Mar  9 07:50:02 2022\n",
      "Working on RandomForest for p/j @ Wed Mar  9 07:50:09 2022\n"
     ]
    },
    {
     "data": {
      "text/html": [
       "<div>\n",
       "<style scoped>\n",
       "    .dataframe tbody tr th:only-of-type {\n",
       "        vertical-align: middle;\n",
       "    }\n",
       "\n",
       "    .dataframe tbody tr th {\n",
       "        vertical-align: top;\n",
       "    }\n",
       "\n",
       "    .dataframe thead th {\n",
       "        text-align: right;\n",
       "    }\n",
       "</style>\n",
       "<table border=\"1\" class=\"dataframe\">\n",
       "  <thead>\n",
       "    <tr style=\"text-align: right;\">\n",
       "      <th></th>\n",
       "      <th>Model</th>\n",
       "      <th>Target</th>\n",
       "      <th>CVScore</th>\n",
       "      <th>TestAcc</th>\n",
       "    </tr>\n",
       "  </thead>\n",
       "  <tbody>\n",
       "    <tr>\n",
       "      <th>0</th>\n",
       "      <td>SGDClassifier_i/e</td>\n",
       "      <td>i/e</td>\n",
       "      <td>0.7492</td>\n",
       "      <td>0.7128</td>\n",
       "    </tr>\n",
       "    <tr>\n",
       "      <th>1</th>\n",
       "      <td>LogisticRegression_i/e</td>\n",
       "      <td>i/e</td>\n",
       "      <td>0.7696</td>\n",
       "      <td>0.7695</td>\n",
       "    </tr>\n",
       "    <tr>\n",
       "      <th>2</th>\n",
       "      <td>NaiveBayes_i/e</td>\n",
       "      <td>i/e</td>\n",
       "      <td>0.7696</td>\n",
       "      <td>0.7695</td>\n",
       "    </tr>\n",
       "    <tr>\n",
       "      <th>3</th>\n",
       "      <td>KNN_i/e</td>\n",
       "      <td>i/e</td>\n",
       "      <td>0.7439</td>\n",
       "      <td>0.7529</td>\n",
       "    </tr>\n",
       "    <tr>\n",
       "      <th>4</th>\n",
       "      <td>RandomForest_i/e</td>\n",
       "      <td>i/e</td>\n",
       "      <td>0.7696</td>\n",
       "      <td>0.7695</td>\n",
       "    </tr>\n",
       "    <tr>\n",
       "      <th>5</th>\n",
       "      <td>SGDClassifier_n/s</td>\n",
       "      <td>n/s</td>\n",
       "      <td>0.8386</td>\n",
       "      <td>0.8165</td>\n",
       "    </tr>\n",
       "    <tr>\n",
       "      <th>6</th>\n",
       "      <td>LogisticRegression_n/s</td>\n",
       "      <td>n/s</td>\n",
       "      <td>0.862</td>\n",
       "      <td>0.8621</td>\n",
       "    </tr>\n",
       "    <tr>\n",
       "      <th>7</th>\n",
       "      <td>NaiveBayes_n/s</td>\n",
       "      <td>n/s</td>\n",
       "      <td>0.862</td>\n",
       "      <td>0.8621</td>\n",
       "    </tr>\n",
       "    <tr>\n",
       "      <th>8</th>\n",
       "      <td>KNN_n/s</td>\n",
       "      <td>n/s</td>\n",
       "      <td>0.8506</td>\n",
       "      <td>0.8566</td>\n",
       "    </tr>\n",
       "    <tr>\n",
       "      <th>9</th>\n",
       "      <td>RandomForest_n/s</td>\n",
       "      <td>n/s</td>\n",
       "      <td>0.862</td>\n",
       "      <td>0.8621</td>\n",
       "    </tr>\n",
       "    <tr>\n",
       "      <th>10</th>\n",
       "      <td>SGDClassifier_t/f</td>\n",
       "      <td>t/f</td>\n",
       "      <td>0.7588</td>\n",
       "      <td>0.7773</td>\n",
       "    </tr>\n",
       "    <tr>\n",
       "      <th>11</th>\n",
       "      <td>LogisticRegression_t/f</td>\n",
       "      <td>t/f</td>\n",
       "      <td>0.541</td>\n",
       "      <td>0.5413</td>\n",
       "    </tr>\n",
       "    <tr>\n",
       "      <th>12</th>\n",
       "      <td>NaiveBayes_t/f</td>\n",
       "      <td>t/f</td>\n",
       "      <td>0.7525</td>\n",
       "      <td>0.7653</td>\n",
       "    </tr>\n",
       "    <tr>\n",
       "      <th>13</th>\n",
       "      <td>KNN_t/f</td>\n",
       "      <td>t/f</td>\n",
       "      <td>0.599</td>\n",
       "      <td>0.5943</td>\n",
       "    </tr>\n",
       "    <tr>\n",
       "      <th>14</th>\n",
       "      <td>RandomForest_t/f</td>\n",
       "      <td>t/f</td>\n",
       "      <td>0.6884</td>\n",
       "      <td>0.6939</td>\n",
       "    </tr>\n",
       "    <tr>\n",
       "      <th>15</th>\n",
       "      <td>SGDClassifier_p/j</td>\n",
       "      <td>p/j</td>\n",
       "      <td>0.6488</td>\n",
       "      <td>0.6413</td>\n",
       "    </tr>\n",
       "    <tr>\n",
       "      <th>16</th>\n",
       "      <td>LogisticRegression_p/j</td>\n",
       "      <td>p/j</td>\n",
       "      <td>0.6042</td>\n",
       "      <td>0.604</td>\n",
       "    </tr>\n",
       "    <tr>\n",
       "      <th>17</th>\n",
       "      <td>NaiveBayes_p/j</td>\n",
       "      <td>p/j</td>\n",
       "      <td>0.6177</td>\n",
       "      <td>0.6206</td>\n",
       "    </tr>\n",
       "    <tr>\n",
       "      <th>18</th>\n",
       "      <td>KNN_p/j</td>\n",
       "      <td>p/j</td>\n",
       "      <td>0.5928</td>\n",
       "      <td>0.5906</td>\n",
       "    </tr>\n",
       "    <tr>\n",
       "      <th>19</th>\n",
       "      <td>RandomForest_p/j</td>\n",
       "      <td>p/j</td>\n",
       "      <td>0.6045</td>\n",
       "      <td>0.6049</td>\n",
       "    </tr>\n",
       "  </tbody>\n",
       "</table>\n",
       "</div>"
      ],
      "text/plain": [
       "                     Model Target CVScore TestAcc\n",
       "0        SGDClassifier_i/e    i/e  0.7492  0.7128\n",
       "1   LogisticRegression_i/e    i/e  0.7696  0.7695\n",
       "2           NaiveBayes_i/e    i/e  0.7696  0.7695\n",
       "3                  KNN_i/e    i/e  0.7439  0.7529\n",
       "4         RandomForest_i/e    i/e  0.7696  0.7695\n",
       "5        SGDClassifier_n/s    n/s  0.8386  0.8165\n",
       "6   LogisticRegression_n/s    n/s   0.862  0.8621\n",
       "7           NaiveBayes_n/s    n/s   0.862  0.8621\n",
       "8                  KNN_n/s    n/s  0.8506  0.8566\n",
       "9         RandomForest_n/s    n/s   0.862  0.8621\n",
       "10       SGDClassifier_t/f    t/f  0.7588  0.7773\n",
       "11  LogisticRegression_t/f    t/f   0.541  0.5413\n",
       "12          NaiveBayes_t/f    t/f  0.7525  0.7653\n",
       "13                 KNN_t/f    t/f   0.599  0.5943\n",
       "14        RandomForest_t/f    t/f  0.6884  0.6939\n",
       "15       SGDClassifier_p/j    p/j  0.6488  0.6413\n",
       "16  LogisticRegression_p/j    p/j  0.6042   0.604\n",
       "17          NaiveBayes_p/j    p/j  0.6177  0.6206\n",
       "18                 KNN_p/j    p/j  0.5928  0.5906\n",
       "19        RandomForest_p/j    p/j  0.6045  0.6049"
      ]
     },
     "execution_count": 103,
     "metadata": {},
     "output_type": "execute_result"
    }
   ],
   "source": [
    "bin_tfidf = rm.run(cafe_clean, 'joined_tokens', bin_targets, baseline_models, models_table, tfidf=True, SEED=SEED)\n",
    "bin_tfidf"
   ]
  },
  {
   "cell_type": "code",
   "execution_count": 104,
   "metadata": {},
   "outputs": [
    {
     "name": "stdout",
     "output_type": "stream",
     "text": [
      "Accuracy increase from class balance in i/e is: 0.01\n",
      "Accuracy increase from class balance in n/s is: -0.01\n",
      "Accuracy increase from class balance in t/f is: 0.25\n",
      "Accuracy increase from class balance in p/j is: 0.08\n"
     ]
    },
    {
     "data": {
      "image/png": "[encoded data removed]",
      "text/plain": [
       "<Figure size 1080x720 with 4 Axes>"
      ]
     },
     "metadata": {},
     "output_type": "display_data"
    },
    {
     "data": {
      "image/png": "[encoded data removed]",
      "text/plain": [
       "<Figure size 720x504 with 1 Axes>"
      ]
     },
     "metadata": {},
     "output_type": "display_data"
    }
   ],
   "source": [
    "fig, axs = plt.subplots(2, 2, figsize=(15,10), sharex=True)\n",
    "axs[0, 0].barh('accuracy', .78)\n",
    "axs[0, 0].barh(cafe_clean['i/e'].value_counts(normalize=True).index, cafe_clean['i/e'].value_counts(normalize=True).values)\n",
    "\n",
    "axs[0,1].barh('accuracy', .85)\n",
    "axs[0,1].barh(cafe_clean['n/s'].value_counts(normalize=True).index, cafe_clean['n/s'].value_counts(normalize=True).values)\n",
    "\n",
    "axs[1,0].barh('accuracy', .79)\n",
    "axs[1,0].barh(cafe_clean['t/f'].value_counts(normalize=True).index, cafe_clean['t/f'].value_counts(normalize=True).values)\n",
    "\n",
    "axs[1,1].barh('accuracy', .68)\n",
    "axs[1,1].barh(cafe_clean['p/j'].value_counts(normalize=True).index, cafe_clean['p/j'].value_counts(normalize=True).values)\n",
    "\n",
    "acc = [.78, .85, .79, .68]\n",
    "plt.figure(figsize=(10,7))\n",
    "plt.title('Accuracy Minus Highest Class Weight')\n",
    "for i, target in enumerate(bin_targets):\n",
    "    increase = round(acc[i] - cafe_clean[target].value_counts(normalize=True)[0], 2)\n",
    "    print(f'Accuracy increase from class balance in {target} is: {increase}')\n",
    "    plt.bar(target, increase)\n",
    "plt.show();\n"
   ]
  },
  {
   "cell_type": "code",
   "execution_count": 105,
   "metadata": {},
   "outputs": [
    {
     "name": "stdout",
     "output_type": "stream",
     "text": [
      "Train: (array(['e', 'i'], dtype=object), array([1499, 5007]))\n",
      "Train: (array(['e', 'i'], dtype=object), array([1499, 1499]))\n",
      "Test: (array(['e', 'i'], dtype=object), array([ 500, 1669]))\n",
      "Test: (array(['e', 'i'], dtype=object), array([500, 500]))\n",
      "Vectorizing....  @ Wed Mar  9 07:50:21 2022\n",
      "Working on SGDClassifier @ Wed Mar  9 07:50:25 2022\n",
      "Working on LogisticRegression @ Wed Mar  9 07:50:26 2022\n",
      "Working on NaiveBayes @ Wed Mar  9 07:50:27 2022\n",
      "Working on KNN @ Wed Mar  9 07:50:27 2022\n",
      "Working on RandomForest @ Wed Mar  9 07:50:29 2022\n",
      "Train: (array(['n', 's'], dtype=object), array([5608,  898]))\n",
      "Train: (array(['n', 's'], dtype=object), array([898, 898]))\n",
      "Test: (array(['n', 's'], dtype=object), array([1870,  299]))\n",
      "Test: (array(['n', 's'], dtype=object), array([299, 299]))\n",
      "Vectorizing....  @ Wed Mar  9 07:50:31 2022\n",
      "Working on SGDClassifier @ Wed Mar  9 07:50:34 2022\n",
      "Working on LogisticRegression @ Wed Mar  9 07:50:34 2022\n",
      "Working on NaiveBayes @ Wed Mar  9 07:50:34 2022\n",
      "Working on KNN @ Wed Mar  9 07:50:34 2022\n",
      "Working on RandomForest @ Wed Mar  9 07:50:35 2022\n",
      "Train: (array(['f', 't'], dtype=object), array([3520, 2986]))\n",
      "Train: (array(['f', 't'], dtype=object), array([2986, 2986]))\n",
      "Test: (array(['f', 't'], dtype=object), array([1174,  995]))\n",
      "Test: (array(['f', 't'], dtype=object), array([995, 995]))\n",
      "Vectorizing....  @ Wed Mar  9 07:50:37 2022\n",
      "Working on SGDClassifier @ Wed Mar  9 07:50:46 2022\n",
      "Working on LogisticRegression @ Wed Mar  9 07:50:47 2022\n",
      "Working on NaiveBayes @ Wed Mar  9 07:50:49 2022\n",
      "Working on KNN @ Wed Mar  9 07:50:49 2022\n",
      "Working on RandomForest @ Wed Mar  9 07:50:55 2022\n",
      "Train: (array(['j', 'p'], dtype=object), array([2575, 3931]))\n",
      "Train: (array(['j', 'p'], dtype=object), array([2575, 2575]))\n",
      "Test: (array(['j', 'p'], dtype=object), array([ 859, 1310]))\n",
      "Test: (array(['j', 'p'], dtype=object), array([859, 859]))\n",
      "Vectorizing....  @ Wed Mar  9 07:51:01 2022\n",
      "Working on SGDClassifier @ Wed Mar  9 07:51:10 2022\n",
      "Working on LogisticRegression @ Wed Mar  9 07:51:11 2022\n",
      "Working on NaiveBayes @ Wed Mar  9 07:51:13 2022\n",
      "Working on KNN @ Wed Mar  9 07:51:13 2022\n",
      "Working on RandomForest @ Wed Mar  9 07:51:18 2022\n"
     ]
    },
    {
     "data": {
      "text/html": [
       "<div>\n",
       "<style scoped>\n",
       "    .dataframe tbody tr th:only-of-type {\n",
       "        vertical-align: middle;\n",
       "    }\n",
       "\n",
       "    .dataframe tbody tr th {\n",
       "        vertical-align: top;\n",
       "    }\n",
       "\n",
       "    .dataframe thead th {\n",
       "        text-align: right;\n",
       "    }\n",
       "</style>\n",
       "<table border=\"1\" class=\"dataframe\">\n",
       "  <thead>\n",
       "    <tr style=\"text-align: right;\">\n",
       "      <th></th>\n",
       "      <th>Model</th>\n",
       "      <th>Target</th>\n",
       "      <th>CVScore</th>\n",
       "      <th>TestAcc</th>\n",
       "    </tr>\n",
       "  </thead>\n",
       "  <tbody>\n",
       "    <tr>\n",
       "      <th>0</th>\n",
       "      <td>SGDClassifier_i/e</td>\n",
       "      <td>i/e</td>\n",
       "      <td>0.6471</td>\n",
       "      <td>0.624</td>\n",
       "    </tr>\n",
       "    <tr>\n",
       "      <th>1</th>\n",
       "      <td>LogisticRegression_i/e</td>\n",
       "      <td>i/e</td>\n",
       "      <td>0.6768</td>\n",
       "      <td>0.654</td>\n",
       "    </tr>\n",
       "    <tr>\n",
       "      <th>2</th>\n",
       "      <td>NaiveBayes_i/e</td>\n",
       "      <td>i/e</td>\n",
       "      <td>0.6781</td>\n",
       "      <td>0.672</td>\n",
       "    </tr>\n",
       "    <tr>\n",
       "      <th>3</th>\n",
       "      <td>KNN_i/e</td>\n",
       "      <td>i/e</td>\n",
       "      <td>0.5307</td>\n",
       "      <td>0.548</td>\n",
       "    </tr>\n",
       "    <tr>\n",
       "      <th>4</th>\n",
       "      <td>RandomForest_i/e</td>\n",
       "      <td>i/e</td>\n",
       "      <td>0.6461</td>\n",
       "      <td>0.616</td>\n",
       "    </tr>\n",
       "    <tr>\n",
       "      <th>5</th>\n",
       "      <td>SGDClassifier_n/s</td>\n",
       "      <td>n/s</td>\n",
       "      <td>0.6381</td>\n",
       "      <td>0.6304</td>\n",
       "    </tr>\n",
       "    <tr>\n",
       "      <th>6</th>\n",
       "      <td>LogisticRegression_n/s</td>\n",
       "      <td>n/s</td>\n",
       "      <td>0.6531</td>\n",
       "      <td>0.6957</td>\n",
       "    </tr>\n",
       "    <tr>\n",
       "      <th>7</th>\n",
       "      <td>NaiveBayes_n/s</td>\n",
       "      <td>n/s</td>\n",
       "      <td>0.6737</td>\n",
       "      <td>0.6906</td>\n",
       "    </tr>\n",
       "    <tr>\n",
       "      <th>8</th>\n",
       "      <td>KNN_n/s</td>\n",
       "      <td>n/s</td>\n",
       "      <td>0.5384</td>\n",
       "      <td>0.5234</td>\n",
       "    </tr>\n",
       "    <tr>\n",
       "      <th>9</th>\n",
       "      <td>RandomForest_n/s</td>\n",
       "      <td>n/s</td>\n",
       "      <td>0.6308</td>\n",
       "      <td>0.6472</td>\n",
       "    </tr>\n",
       "    <tr>\n",
       "      <th>10</th>\n",
       "      <td>SGDClassifier_t/f</td>\n",
       "      <td>t/f</td>\n",
       "      <td>0.7344</td>\n",
       "      <td>0.7518</td>\n",
       "    </tr>\n",
       "    <tr>\n",
       "      <th>11</th>\n",
       "      <td>LogisticRegression_t/f</td>\n",
       "      <td>t/f</td>\n",
       "      <td>0.7749</td>\n",
       "      <td>0.7975</td>\n",
       "    </tr>\n",
       "    <tr>\n",
       "      <th>12</th>\n",
       "      <td>NaiveBayes_t/f</td>\n",
       "      <td>t/f</td>\n",
       "      <td>0.7659</td>\n",
       "      <td>0.7809</td>\n",
       "    </tr>\n",
       "    <tr>\n",
       "      <th>13</th>\n",
       "      <td>KNN_t/f</td>\n",
       "      <td>t/f</td>\n",
       "      <td>0.5682</td>\n",
       "      <td>0.5864</td>\n",
       "    </tr>\n",
       "    <tr>\n",
       "      <th>14</th>\n",
       "      <td>RandomForest_t/f</td>\n",
       "      <td>t/f</td>\n",
       "      <td>0.7306</td>\n",
       "      <td>0.7402</td>\n",
       "    </tr>\n",
       "    <tr>\n",
       "      <th>15</th>\n",
       "      <td>SGDClassifier_p/j</td>\n",
       "      <td>p/j</td>\n",
       "      <td>0.6115</td>\n",
       "      <td>0.6118</td>\n",
       "    </tr>\n",
       "    <tr>\n",
       "      <th>16</th>\n",
       "      <td>LogisticRegression_p/j</td>\n",
       "      <td>p/j</td>\n",
       "      <td>0.6454</td>\n",
       "      <td>0.6333</td>\n",
       "    </tr>\n",
       "    <tr>\n",
       "      <th>17</th>\n",
       "      <td>NaiveBayes_p/j</td>\n",
       "      <td>p/j</td>\n",
       "      <td>0.6384</td>\n",
       "      <td>0.6251</td>\n",
       "    </tr>\n",
       "    <tr>\n",
       "      <th>18</th>\n",
       "      <td>KNN_p/j</td>\n",
       "      <td>p/j</td>\n",
       "      <td>0.5153</td>\n",
       "      <td>0.5268</td>\n",
       "    </tr>\n",
       "    <tr>\n",
       "      <th>19</th>\n",
       "      <td>RandomForest_p/j</td>\n",
       "      <td>p/j</td>\n",
       "      <td>0.6078</td>\n",
       "      <td>0.5978</td>\n",
       "    </tr>\n",
       "  </tbody>\n",
       "</table>\n",
       "</div>"
      ],
      "text/plain": [
       "                     Model Target CVScore TestAcc\n",
       "0        SGDClassifier_i/e    i/e  0.6471   0.624\n",
       "1   LogisticRegression_i/e    i/e  0.6768   0.654\n",
       "2           NaiveBayes_i/e    i/e  0.6781   0.672\n",
       "3                  KNN_i/e    i/e  0.5307   0.548\n",
       "4         RandomForest_i/e    i/e  0.6461   0.616\n",
       "5        SGDClassifier_n/s    n/s  0.6381  0.6304\n",
       "6   LogisticRegression_n/s    n/s  0.6531  0.6957\n",
       "7           NaiveBayes_n/s    n/s  0.6737  0.6906\n",
       "8                  KNN_n/s    n/s  0.5384  0.5234\n",
       "9         RandomForest_n/s    n/s  0.6308  0.6472\n",
       "10       SGDClassifier_t/f    t/f  0.7344  0.7518\n",
       "11  LogisticRegression_t/f    t/f  0.7749  0.7975\n",
       "12          NaiveBayes_t/f    t/f  0.7659  0.7809\n",
       "13                 KNN_t/f    t/f  0.5682  0.5864\n",
       "14        RandomForest_t/f    t/f  0.7306  0.7402\n",
       "15       SGDClassifier_p/j    p/j  0.6115  0.6118\n",
       "16  LogisticRegression_p/j    p/j  0.6454  0.6333\n",
       "17          NaiveBayes_p/j    p/j  0.6384  0.6251\n",
       "18                 KNN_p/j    p/j  0.5153  0.5268\n",
       "19        RandomForest_p/j    p/j  0.6078  0.5978"
      ]
     },
     "execution_count": 105,
     "metadata": {},
     "output_type": "execute_result"
    }
   ],
   "source": [
    "bin_rus_cv = rm.run_usampled(cafe_clean, 'joined_tokens', bin_targets, baseline_models, models_table, tfidf=False, SEED=SEED)\n",
    "bin_rus_cv"
   ]
  },
  {
   "cell_type": "code",
   "execution_count": 106,
   "metadata": {},
   "outputs": [
    {
     "name": "stdout",
     "output_type": "stream",
     "text": [
      "Train: (array(['e', 'i'], dtype=object), array([1499, 5007]))\n",
      "Train: (array(['e', 'i'], dtype=object), array([1499, 1499]))\n",
      "Test: (array(['e', 'i'], dtype=object), array([ 500, 1669]))\n",
      "Test: (array(['e', 'i'], dtype=object), array([500, 500]))\n",
      "Vectorizing....  @ Wed Mar  9 07:51:23 2022\n",
      "Working on SGDClassifier @ Wed Mar  9 07:51:27 2022\n",
      "Working on LogisticRegression @ Wed Mar  9 07:51:27 2022\n",
      "Working on NaiveBayes @ Wed Mar  9 07:51:30 2022\n",
      "Working on KNN @ Wed Mar  9 07:51:30 2022\n",
      "Working on RandomForest @ Wed Mar  9 07:51:32 2022\n",
      "Train: (array(['n', 's'], dtype=object), array([5608,  898]))\n",
      "Train: (array(['n', 's'], dtype=object), array([898, 898]))\n",
      "Test: (array(['n', 's'], dtype=object), array([1870,  299]))\n",
      "Test: (array(['n', 's'], dtype=object), array([299, 299]))\n",
      "Vectorizing....  @ Wed Mar  9 07:51:37 2022\n",
      "Working on SGDClassifier @ Wed Mar  9 07:51:40 2022\n",
      "Working on LogisticRegression @ Wed Mar  9 07:51:40 2022\n",
      "Working on NaiveBayes @ Wed Mar  9 07:51:40 2022\n",
      "Working on KNN @ Wed Mar  9 07:51:40 2022\n",
      "Working on RandomForest @ Wed Mar  9 07:51:41 2022\n",
      "Train: (array(['f', 't'], dtype=object), array([3520, 2986]))\n",
      "Train: (array(['f', 't'], dtype=object), array([2986, 2986]))\n",
      "Test: (array(['f', 't'], dtype=object), array([1174,  995]))\n",
      "Test: (array(['f', 't'], dtype=object), array([995, 995]))\n",
      "Vectorizing....  @ Wed Mar  9 07:51:45 2022\n",
      "Working on SGDClassifier @ Wed Mar  9 07:51:54 2022\n",
      "Working on LogisticRegression @ Wed Mar  9 07:51:55 2022\n",
      "Working on NaiveBayes @ Wed Mar  9 07:51:55 2022\n",
      "Working on KNN @ Wed Mar  9 07:51:55 2022\n",
      "Working on RandomForest @ Wed Mar  9 07:52:02 2022\n",
      "Train: (array(['j', 'p'], dtype=object), array([2575, 3931]))\n",
      "Train: (array(['j', 'p'], dtype=object), array([2575, 2575]))\n",
      "Test: (array(['j', 'p'], dtype=object), array([ 859, 1310]))\n",
      "Test: (array(['j', 'p'], dtype=object), array([859, 859]))\n",
      "Vectorizing....  @ Wed Mar  9 07:52:12 2022\n",
      "Working on SGDClassifier @ Wed Mar  9 07:52:20 2022\n",
      "Working on LogisticRegression @ Wed Mar  9 07:52:21 2022\n",
      "Working on NaiveBayes @ Wed Mar  9 07:52:21 2022\n",
      "Working on KNN @ Wed Mar  9 07:52:21 2022\n",
      "Working on RandomForest @ Wed Mar  9 07:52:26 2022\n"
     ]
    },
    {
     "data": {
      "text/html": [
       "<div>\n",
       "<style scoped>\n",
       "    .dataframe tbody tr th:only-of-type {\n",
       "        vertical-align: middle;\n",
       "    }\n",
       "\n",
       "    .dataframe tbody tr th {\n",
       "        vertical-align: top;\n",
       "    }\n",
       "\n",
       "    .dataframe thead th {\n",
       "        text-align: right;\n",
       "    }\n",
       "</style>\n",
       "<table border=\"1\" class=\"dataframe\">\n",
       "  <thead>\n",
       "    <tr style=\"text-align: right;\">\n",
       "      <th></th>\n",
       "      <th>Model</th>\n",
       "      <th>Target</th>\n",
       "      <th>CVScore</th>\n",
       "      <th>TestAcc</th>\n",
       "    </tr>\n",
       "  </thead>\n",
       "  <tbody>\n",
       "    <tr>\n",
       "      <th>0</th>\n",
       "      <td>SGDClassifier_i/e</td>\n",
       "      <td>i/e</td>\n",
       "      <td>0.6368</td>\n",
       "      <td>0.635</td>\n",
       "    </tr>\n",
       "    <tr>\n",
       "      <th>1</th>\n",
       "      <td>LogisticRegression_i/e</td>\n",
       "      <td>i/e</td>\n",
       "      <td>0.6568</td>\n",
       "      <td>0.667</td>\n",
       "    </tr>\n",
       "    <tr>\n",
       "      <th>2</th>\n",
       "      <td>NaiveBayes_i/e</td>\n",
       "      <td>i/e</td>\n",
       "      <td>0.6691</td>\n",
       "      <td>0.689</td>\n",
       "    </tr>\n",
       "    <tr>\n",
       "      <th>3</th>\n",
       "      <td>KNN_i/e</td>\n",
       "      <td>i/e</td>\n",
       "      <td>0.5674</td>\n",
       "      <td>0.587</td>\n",
       "    </tr>\n",
       "    <tr>\n",
       "      <th>4</th>\n",
       "      <td>RandomForest_i/e</td>\n",
       "      <td>i/e</td>\n",
       "      <td>0.6197</td>\n",
       "      <td>0.618</td>\n",
       "    </tr>\n",
       "    <tr>\n",
       "      <th>5</th>\n",
       "      <td>SGDClassifier_n/s</td>\n",
       "      <td>n/s</td>\n",
       "      <td>0.6342</td>\n",
       "      <td>0.704</td>\n",
       "    </tr>\n",
       "    <tr>\n",
       "      <th>6</th>\n",
       "      <td>LogisticRegression_n/s</td>\n",
       "      <td>n/s</td>\n",
       "      <td>0.564</td>\n",
       "      <td>0.7007</td>\n",
       "    </tr>\n",
       "    <tr>\n",
       "      <th>7</th>\n",
       "      <td>NaiveBayes_n/s</td>\n",
       "      <td>n/s</td>\n",
       "      <td>0.6637</td>\n",
       "      <td>0.6906</td>\n",
       "    </tr>\n",
       "    <tr>\n",
       "      <th>8</th>\n",
       "      <td>KNN_n/s</td>\n",
       "      <td>n/s</td>\n",
       "      <td>0.5418</td>\n",
       "      <td>0.5418</td>\n",
       "    </tr>\n",
       "    <tr>\n",
       "      <th>9</th>\n",
       "      <td>RandomForest_n/s</td>\n",
       "      <td>n/s</td>\n",
       "      <td>0.6063</td>\n",
       "      <td>0.6237</td>\n",
       "    </tr>\n",
       "    <tr>\n",
       "      <th>10</th>\n",
       "      <td>SGDClassifier_t/f</td>\n",
       "      <td>t/f</td>\n",
       "      <td>0.756</td>\n",
       "      <td>0.7678</td>\n",
       "    </tr>\n",
       "    <tr>\n",
       "      <th>11</th>\n",
       "      <td>LogisticRegression_t/f</td>\n",
       "      <td>t/f</td>\n",
       "      <td>0.7312</td>\n",
       "      <td>0.7452</td>\n",
       "    </tr>\n",
       "    <tr>\n",
       "      <th>12</th>\n",
       "      <td>NaiveBayes_t/f</td>\n",
       "      <td>t/f</td>\n",
       "      <td>0.7656</td>\n",
       "      <td>0.7839</td>\n",
       "    </tr>\n",
       "    <tr>\n",
       "      <th>13</th>\n",
       "      <td>KNN_t/f</td>\n",
       "      <td>t/f</td>\n",
       "      <td>0.5794</td>\n",
       "      <td>0.5729</td>\n",
       "    </tr>\n",
       "    <tr>\n",
       "      <th>14</th>\n",
       "      <td>RandomForest_t/f</td>\n",
       "      <td>t/f</td>\n",
       "      <td>0.7346</td>\n",
       "      <td>0.7402</td>\n",
       "    </tr>\n",
       "    <tr>\n",
       "      <th>15</th>\n",
       "      <td>SGDClassifier_p/j</td>\n",
       "      <td>p/j</td>\n",
       "      <td>0.6287</td>\n",
       "      <td>0.6246</td>\n",
       "    </tr>\n",
       "    <tr>\n",
       "      <th>16</th>\n",
       "      <td>LogisticRegression_p/j</td>\n",
       "      <td>p/j</td>\n",
       "      <td>0.6301</td>\n",
       "      <td>0.599</td>\n",
       "    </tr>\n",
       "    <tr>\n",
       "      <th>17</th>\n",
       "      <td>NaiveBayes_p/j</td>\n",
       "      <td>p/j</td>\n",
       "      <td>0.6408</td>\n",
       "      <td>0.6298</td>\n",
       "    </tr>\n",
       "    <tr>\n",
       "      <th>18</th>\n",
       "      <td>KNN_p/j</td>\n",
       "      <td>p/j</td>\n",
       "      <td>0.553</td>\n",
       "      <td>0.5396</td>\n",
       "    </tr>\n",
       "    <tr>\n",
       "      <th>19</th>\n",
       "      <td>RandomForest_p/j</td>\n",
       "      <td>p/j</td>\n",
       "      <td>0.6091</td>\n",
       "      <td>0.599</td>\n",
       "    </tr>\n",
       "  </tbody>\n",
       "</table>\n",
       "</div>"
      ],
      "text/plain": [
       "                     Model Target CVScore TestAcc\n",
       "0        SGDClassifier_i/e    i/e  0.6368   0.635\n",
       "1   LogisticRegression_i/e    i/e  0.6568   0.667\n",
       "2           NaiveBayes_i/e    i/e  0.6691   0.689\n",
       "3                  KNN_i/e    i/e  0.5674   0.587\n",
       "4         RandomForest_i/e    i/e  0.6197   0.618\n",
       "5        SGDClassifier_n/s    n/s  0.6342   0.704\n",
       "6   LogisticRegression_n/s    n/s   0.564  0.7007\n",
       "7           NaiveBayes_n/s    n/s  0.6637  0.6906\n",
       "8                  KNN_n/s    n/s  0.5418  0.5418\n",
       "9         RandomForest_n/s    n/s  0.6063  0.6237\n",
       "10       SGDClassifier_t/f    t/f   0.756  0.7678\n",
       "11  LogisticRegression_t/f    t/f  0.7312  0.7452\n",
       "12          NaiveBayes_t/f    t/f  0.7656  0.7839\n",
       "13                 KNN_t/f    t/f  0.5794  0.5729\n",
       "14        RandomForest_t/f    t/f  0.7346  0.7402\n",
       "15       SGDClassifier_p/j    p/j  0.6287  0.6246\n",
       "16  LogisticRegression_p/j    p/j  0.6301   0.599\n",
       "17          NaiveBayes_p/j    p/j  0.6408  0.6298\n",
       "18                 KNN_p/j    p/j   0.553  0.5396\n",
       "19        RandomForest_p/j    p/j  0.6091   0.599"
      ]
     },
     "execution_count": 106,
     "metadata": {},
     "output_type": "execute_result"
    }
   ],
   "source": [
    "bin_rus_tfidf = rm.run_usampled(cafe_clean, 'joined_tokens', bin_targets, baseline_models, models_table, tfidf=True, SEED=SEED)\n",
    "bin_rus_tfidf"
   ]
  },
  {
   "cell_type": "code",
   "execution_count": null,
   "metadata": {},
   "outputs": [],
   "source": [
    "# # Probability we are seeing these results given a 50/50 class balance\n",
    "\n",
    "# print(f\"Pobability of i/e model: {1 - binom.cdf(k=(1499*2)*.68, n=1499*2, p=0.5)}\")\n",
    "# print(f\"Pobability of n/s model: {1 - binom.cdf(k=(898*2)*.67, n=(898*2), p=0.5)}\")\n",
    "# print(f\"Pobability of t/f model: {1 - binom.cdf(k=(1499*2)*.80, n=1499*2, p=0.5)}\")\n",
    "# print(f\"Pobability of p/j model: {1 - binom.cdf(k=(2575*2)*.67, n=2575*2, p=0.5)}\")"
   ]
  },
  {
   "cell_type": "code",
   "execution_count": 107,
   "metadata": {},
   "outputs": [
    {
     "name": "stdout",
     "output_type": "stream",
     "text": [
      "Accuracy increase from class balance in i/e is: 0.18\n",
      "Accuracy increase from class balance in n/s is: 0.23\n",
      "Accuracy increase from class balance in t/f is: 0.3\n",
      "Accuracy increase from class balance in p/j is: 0.16\n"
     ]
    },
    {
     "data": {
      "image/png": "[encoded data removed]",
      "text/plain": [
       "<Figure size 1080x720 with 4 Axes>"
      ]
     },
     "metadata": {},
     "output_type": "display_data"
    },
    {
     "data": {
      "image/png": "[encoded data removed]",
      "text/plain": [
       "<Figure size 720x504 with 1 Axes>"
      ]
     },
     "metadata": {},
     "output_type": "display_data"
    }
   ],
   "source": [
    "fig, axs = plt.subplots(2, 2, figsize=(15,10), sharex=True)\n",
    "axs[0, 0].barh('accuracy', .68)\n",
    "axs[0, 0].barh(['i', 'e'], [.5, .5])\n",
    "\n",
    "axs[0,1].barh('accuracy', .73)\n",
    "axs[0,1].barh(['n', 's'], [.5, .5])\n",
    "\n",
    "axs[1,0].barh('accuracy', .8)\n",
    "axs[1, 0].barh(['t', 'f'], [.5, .5])\n",
    "\n",
    "axs[1,1].barh('accuracy', .66)\n",
    "axs[1,1].barh(['p', 'j'], [.5, .5])\n",
    "\n",
    "acc = [.68, .73, .8, .66]\n",
    "plt.figure(figsize=(10,7))\n",
    "plt.title('Accuracy Minus Highest Class Weight')\n",
    "for i, target in enumerate(bin_targets):\n",
    "    print(f'Accuracy increase from class balance in {target} is: {round(acc[i] - .5, 2)}')\n",
    "    plt.bar(target, round(acc[i] - .5, 2))\n"
   ]
  },
  {
   "cell_type": "markdown",
   "metadata": {},
   "source": [
    "---"
   ]
  },
  {
   "cell_type": "markdown",
   "metadata": {},
   "source": [
    "## Model Tuning"
   ]
  },
  {
   "cell_type": "code",
   "execution_count": null,
   "metadata": {},
   "outputs": [],
   "source": [
    "# cafe_clean = pd.read_csv('./data/cafe_clean.csv')"
   ]
  },
  {
   "cell_type": "code",
   "execution_count": 108,
   "metadata": {},
   "outputs": [],
   "source": [
    "final_model = Pipeline([('vec', TfidfVectorizer(ngram_range=(1,2))),\n",
    "    ('clf', SGDClassifier(class_weight='balanced', random_state=SEED, loss=\"modified_huber\"))\n",
    "])"
   ]
  },
  {
   "cell_type": "code",
   "execution_count": 109,
   "metadata": {},
   "outputs": [
    {
     "name": "stdout",
     "output_type": "stream",
     "text": [
      "              precision    recall  f1-score   support\n",
      "\n",
      "           i       0.58      0.29      0.39       458\n",
      "           e       0.83      0.94      0.88      1711\n",
      "\n",
      "    accuracy                           0.81      2169\n",
      "   macro avg       0.71      0.62      0.64      2169\n",
      "weighted avg       0.78      0.81      0.78      2169\n",
      "\n",
      "              precision    recall  f1-score   support\n",
      "\n",
      "           n       0.87      1.00      0.93      1877\n",
      "           s       0.50      0.03      0.06       292\n",
      "\n",
      "    accuracy                           0.87      2169\n",
      "   macro avg       0.68      0.51      0.49      2169\n",
      "weighted avg       0.82      0.87      0.81      2169\n",
      "\n",
      "              precision    recall  f1-score   support\n",
      "\n",
      "           f       0.78      0.87      0.82      1150\n",
      "           t       0.84      0.73      0.78      1019\n",
      "\n",
      "    accuracy                           0.80      2169\n",
      "   macro avg       0.81      0.80      0.80      2169\n",
      "weighted avg       0.81      0.80      0.80      2169\n",
      "\n",
      "              precision    recall  f1-score   support\n",
      "\n",
      "           j       0.62      0.48      0.54       863\n",
      "           p       0.70      0.81      0.75      1306\n",
      "\n",
      "    accuracy                           0.68      2169\n",
      "   macro avg       0.66      0.64      0.65      2169\n",
      "weighted avg       0.67      0.68      0.67      2169\n",
      "\n"
     ]
    },
    {
     "data": {
      "image/png": "[encoded data removed]",
      "text/plain": [
       "<Figure size 360x360 with 2 Axes>"
      ]
     },
     "metadata": {},
     "output_type": "display_data"
    },
    {
     "data": {
      "image/png": "[encoded data removed]",
      "text/plain": [
       "<Figure size 360x360 with 2 Axes>"
      ]
     },
     "metadata": {},
     "output_type": "display_data"
    },
    {
     "data": {
      "image/png": "[encoded data removed]",
      "text/plain": [
       "<Figure size 360x360 with 2 Axes>"
      ]
     },
     "metadata": {},
     "output_type": "display_data"
    },
    {
     "data": {
      "image/png": "[encoded data removed]",
      "text/plain": [
       "<Figure size 360x360 with 2 Axes>"
      ]
     },
     "metadata": {},
     "output_type": "display_data"
    }
   ],
   "source": [
    "for target in bin_targets:\n",
    "    X = cafe_clean['joined_tokens']\n",
    "    y = cafe_clean[target]\n",
    "\n",
    "    X_train, X_test, y_train, y_test = train_test_split(X, y, random_state=SEED)\n",
    "\n",
    "    final_model.fit(X_train, y_train)\n",
    "\n",
    "    y_pred = final_model.predict(X_test)\n",
    "    acc_score = accuracy_score(y_pred, y_test)\n",
    "\n",
    "    print(classification_report(y_pred=y_pred, y_true=y_test, target_names=cafe_clean[target].unique()))\n",
    "\n",
    "    fig, ax = plt.subplots(figsize=(5,5))\n",
    "    plt.rcParams.update({'font.size': 10})\n",
    "    plt.rc('xtick', labelsize=10) \n",
    "    plt.rc('ytick', labelsize=10) \n",
    "    plot_confusion_matrix(final_model, X_test, y_test, ax=ax, normalize='true')\n",
    "    plt.grid(False);\n",
    "    "
   ]
  },
  {
   "cell_type": "markdown",
   "metadata": {},
   "source": [
    "---"
   ]
  },
  {
   "cell_type": "markdown",
   "metadata": {},
   "source": [
    "### i/e"
   ]
  },
  {
   "cell_type": "code",
   "execution_count": null,
   "metadata": {},
   "outputs": [],
   "source": [
    "cafe_clean['i/e'].value_counts(normalize=True)"
   ]
  },
  {
   "cell_type": "code",
   "execution_count": null,
   "metadata": {},
   "outputs": [],
   "source": [
    "sgd_t = Pipeline([('vec', TfidfVectorizer(ngram_range=(1,2))),\n",
    "                ('clf', SGDClassifier(class_weight={'s': .77, 'n': .23}, random_state=SEED,  loss=\"modified_huber\"))\n",
    "            ])\n",
    "\n",
    "X = cafe_clean['joined_tokens']\n",
    "y = cafe_clean['i/e']\n",
    "\n",
    "X_train, X_test, y_train, y_test = train_test_split(X, y, random_state=SEED)\n",
    "\n",
    "sgd_t.fit(X_train, y_train)\n",
    "\n",
    "y_pred = sgd_t.predict(X_test)\n",
    "acc_score = accuracy_score(y_pred, y_test)\n",
    "print(classification_report(y_pred=y_pred, y_true=y_test, target_names=cafe_clean['i/e'].unique()))\n",
    "\n",
    "fig, ax = plt.subplots(figsize=(5,5))\n",
    "plt.rcParams.update({'font.size': 10})\n",
    "plt.rc('xtick', labelsize=10) \n",
    "plt.rc('ytick', labelsize=10) \n",
    "plot_confusion_matrix(sgd_t, X_test, y_test, ax=ax, normalize='true')\n",
    "plt.grid(False);"
   ]
  },
  {
   "cell_type": "markdown",
   "metadata": {},
   "source": [
    "---"
   ]
  },
  {
   "cell_type": "markdown",
   "metadata": {},
   "source": [
    "### n/s"
   ]
  },
  {
   "cell_type": "code",
   "execution_count": null,
   "metadata": {},
   "outputs": [],
   "source": [
    "cafe_clean['n/s'].value_counts(normalize=True)"
   ]
  },
  {
   "cell_type": "code",
   "execution_count": null,
   "metadata": {},
   "outputs": [],
   "source": [
    "sgd_t = Pipeline([('vec', TfidfVectorizer(ngram_range=(1,2))),\n",
    "                ('clf', SGDClassifier(class_weight={'s': .90, 'n': .10}, random_state=SEED,  loss=\"modified_huber\"))\n",
    "            ])\n",
    "\n",
    "X = cafe_clean['joined_tokens']\n",
    "y = cafe_clean['n/s']\n",
    "\n",
    "X_train, X_test, y_train, y_test = train_test_split(X, y, random_state=SEED)\n",
    "\n",
    "sgd_t.fit(X_train, y_train)\n",
    "\n",
    "y_pred = sgd_t.predict(X_test)\n",
    "acc_score = accuracy_score(y_pred, y_test)\n",
    "print(classification_report(y_pred=y_pred, y_true=y_test, target_names=cafe_clean['n/s'].unique()))\n",
    "\n",
    "fig, ax = plt.subplots(figsize=(5,5))\n",
    "plt.rcParams.update({'font.size': 10})\n",
    "plt.rc('xtick', labelsize=10) \n",
    "plt.rc('ytick', labelsize=10) \n",
    "plot_confusion_matrix(sgd_t, X_test, y_test, ax=ax, normalize='true')\n",
    "plt.grid(False);"
   ]
  },
  {
   "cell_type": "markdown",
   "metadata": {},
   "source": [
    "---"
   ]
  },
  {
   "cell_type": "markdown",
   "metadata": {},
   "source": [
    "### t/f"
   ]
  },
  {
   "cell_type": "code",
   "execution_count": null,
   "metadata": {},
   "outputs": [],
   "source": [
    "cafe_clean['t/f'].value_counts(normalize=True)"
   ]
  },
  {
   "cell_type": "code",
   "execution_count": null,
   "metadata": {},
   "outputs": [],
   "source": [
    "sgd_t = Pipeline([('vec', TfidfVectorizer(ngram_range=(1,2))),\n",
    "                ('clf', SGDClassifier(class_weight={'f': .45, 't': .55}, random_state=SEED,  loss=\"modified_huber\"))\n",
    "            ])\n",
    "\n",
    "X = cafe_clean['joined_tokens']\n",
    "y = cafe_clean['t/f']\n",
    "\n",
    "X_train, X_test, y_train, y_test = train_test_split(X, y, random_state=SEED)\n",
    "\n",
    "sgd_t.fit(X_train, y_train)\n",
    "\n",
    "y_pred = sgd_t.predict(X_test)\n",
    "acc_score = accuracy_score(y_pred, y_test)\n",
    "print(classification_report(y_pred=y_pred, y_true=y_test, target_names=cafe_clean['t/f'].unique()))\n",
    "\n",
    "fig, ax = plt.subplots(figsize=(5,5))\n",
    "plt.rcParams.update({'font.size': 10})\n",
    "plt.rc('xtick', labelsize=10) \n",
    "plt.rc('ytick', labelsize=10) \n",
    "plot_confusion_matrix(sgd_t, X_test, y_test, ax=ax, normalize='true')\n",
    "plt.grid(False);"
   ]
  },
  {
   "cell_type": "markdown",
   "metadata": {},
   "source": [
    "---"
   ]
  },
  {
   "cell_type": "markdown",
   "metadata": {},
   "source": [
    "### p/j"
   ]
  },
  {
   "cell_type": "code",
   "execution_count": null,
   "metadata": {},
   "outputs": [],
   "source": [
    "cafe_clean['p/j'].value_counts(normalize=True)"
   ]
  },
  {
   "cell_type": "code",
   "execution_count": null,
   "metadata": {},
   "outputs": [],
   "source": [
    "sgd_t = Pipeline([('vec', TfidfVectorizer(ngram_range=(1,2), min_df=50)),\n",
    "                ('clf', SGDClassifier(class_weight={'p': .40, 'j': .60}, random_state=SEED,  loss=\"modified_huber\"))\n",
    "            ])\n",
    "\n",
    "X = cafe_clean['joined_tokens']\n",
    "y = cafe_clean['p/j']\n",
    "\n",
    "X_train, X_test, y_train, y_test = train_test_split(X, y, random_state=SEED)\n",
    "\n",
    "sgd_t.fit(X_train, y_train)\n",
    "\n",
    "y_pred = sgd_t.predict(X_test)\n",
    "acc_score = accuracy_score(y_pred, y_test)\n",
    "print(classification_report(y_pred=y_pred, y_true=y_test, target_names=cafe_clean['p/j'].unique()))\n",
    "\n",
    "fig, ax = plt.subplots(figsize=(5,5))\n",
    "plt.rcParams.update({'font.size': 10})\n",
    "plt.rc('xtick', labelsize=10) \n",
    "plt.rc('ytick', labelsize=10) \n",
    "plot_confusion_matrix(sgd_t, X_test, y_test, ax=ax, normalize='true')\n",
    "plt.grid(False);"
   ]
  },
  {
   "cell_type": "markdown",
   "metadata": {},
   "source": [
    "---"
   ]
  },
  {
   "cell_type": "markdown",
   "metadata": {},
   "source": [
    "## Final Model"
   ]
  },
  {
   "cell_type": "code",
   "execution_count": null,
   "metadata": {},
   "outputs": [],
   "source": [
    "# cafe_clean = pd.read_csv('./data/cafe_clean.csv')\n",
    "# cafe_clean.dropna(inplace=True)"
   ]
  },
  {
   "cell_type": "code",
   "execution_count": 110,
   "metadata": {},
   "outputs": [
    {
     "name": "stdout",
     "output_type": "stream",
     "text": [
      "              precision    recall  f1-score   support\n",
      "\n",
      "           f       0.82      0.79      0.81      1150\n",
      "           t       0.77      0.81      0.79      1019\n",
      "\n",
      "    accuracy                           0.80      2169\n",
      "   macro avg       0.80      0.80      0.80      2169\n",
      "weighted avg       0.80      0.80      0.80      2169\n",
      "\n"
     ]
    },
    {
     "data": {
      "image/png": "[encoded data removed]",
      "text/plain": [
       "<Figure size 360x360 with 2 Axes>"
      ]
     },
     "metadata": {},
     "output_type": "display_data"
    }
   ],
   "source": [
    "final_model = Pipeline([('vec', TfidfVectorizer(ngram_range=(1,2), min_df=50)),\n",
    "                ('clf', LogisticRegression(class_weight={'f': .45, 't': .55}))\n",
    "            ])\n",
    "\n",
    "X = cafe_clean['joined_tokens']\n",
    "y = cafe_clean['t/f']\n",
    "\n",
    "X_train, X_test, y_train, y_test = train_test_split(X, y, random_state=SEED)\n",
    "\n",
    "final_model.fit(X_train, y_train)\n",
    "\n",
    "y_pred = final_model.predict(X_test)\n",
    "acc_score = accuracy_score(y_test, y_pred)\n",
    "\n",
    "print(classification_report(y_pred=y_pred, y_true=y_test, target_names=cafe_clean['t/f'].unique()))\n",
    "\n",
    "fig, ax = plt.subplots(figsize=(5,5))\n",
    "plt.rcParams.update({'font.size': 10})\n",
    "plt.rc('xtick', labelsize=10) \n",
    "plt.rc('ytick', labelsize=10) \n",
    "plot_confusion_matrix(final_model, X_test, y_test, ax=ax, normalize='true', cmap='Oranges')\n",
    "plt.grid(False);"
   ]
  },
  {
   "cell_type": "code",
   "execution_count": null,
   "metadata": {},
   "outputs": [],
   "source": [
    "final_model = Pipeline([('vec', TfidfVectorizer(ngram_range=(1,2), min_df=50)),\n",
    "                ('clf', SGDClassifier(class_weight={'f': .45, 't': .55}, random_state=SEED, loss=\"modified_huber\"))\n",
    "            ])\n",
    "\n",
    "X = cafe_clean['joined_tokens']\n",
    "y = cafe_clean['t/f']\n",
    "\n",
    "X_train, X_test, y_train, y_test = train_test_split(X, y, random_state=SEED)\n",
    "\n",
    "final_model.fit(X_train, y_train)\n",
    "\n",
    "y_pred = final_model.predict(X_test)\n",
    "acc_score = accuracy_score(y_test, y_pred)\n",
    "\n",
    "print(classification_report(y_pred=y_pred, y_true=y_test, target_names=cafe_clean['t/f'].unique()))\n",
    "\n",
    "fig, ax = plt.subplots(figsize=(5,5))\n",
    "plt.rcParams.update({'font.size': 10})\n",
    "plt.rc('xtick', labelsize=10) \n",
    "plt.rc('ytick', labelsize=10) \n",
    "plot_confusion_matrix(final_model, X_test, y_test, ax=ax, normalize='true', cmap='Oranges')\n",
    "plt.grid(False);"
   ]
  },
  {
   "cell_type": "code",
   "execution_count": null,
   "metadata": {},
   "outputs": [],
   "source": [
    "testing_df = cafe_clean.iloc[y_test.index]"
   ]
  },
  {
   "cell_type": "code",
   "execution_count": null,
   "metadata": {},
   "outputs": [],
   "source": [
    "testing_set = pd.concat([y_test, X_test], axis=1)"
   ]
  },
  {
   "cell_type": "code",
   "execution_count": null,
   "metadata": {},
   "outputs": [],
   "source": [
    "t_sample = testing_df[testing_df['t/f'] == 't'].sample(50, replace=False, random_state=SEED)\n",
    "f_sample = testing_df[testing_df['t/f'] == 'f'].sample(50, replace=False, random_state=SEED)\n",
    "\n",
    "testingsample_set = pd.concat([t_sample, f_sample], axis=0)"
   ]
  },
  {
   "cell_type": "code",
   "execution_count": null,
   "metadata": {},
   "outputs": [],
   "source": [
    "testingsample_set"
   ]
  },
  {
   "cell_type": "code",
   "execution_count": null,
   "metadata": {},
   "outputs": [],
   "source": [
    "testingsample_set.to_csv('./data/testingsample_df.csv')"
   ]
  },
  {
   "cell_type": "code",
   "execution_count": null,
   "metadata": {},
   "outputs": [],
   "source": [
    "pickle.dump(tfidf, open('./data/testing_set.pkl', 'wb'))\n"
   ]
  },
  {
   "cell_type": "code",
   "execution_count": null,
   "metadata": {},
   "outputs": [],
   "source": [
    "reddit_sample = pd.read_csv('./data/reddit_sample_clean500.csv')"
   ]
  },
  {
   "cell_type": "code",
   "execution_count": null,
   "metadata": {},
   "outputs": [],
   "source": [
    "reddit_sample[reddit_sample['joined_tokens'].isna() == True]"
   ]
  },
  {
   "cell_type": "code",
   "execution_count": null,
   "metadata": {},
   "outputs": [],
   "source": [
    "reddit_X = reddit_sample['joined_tokens']\n",
    "reddit_y = reddit_sample['t/f']\n",
    "\n",
    "y_pred = final_model.predict(reddit_X)\n",
    "acc_score = accuracy_score(reddit_y, y_pred)\n",
    "\n",
    "print(classification_report(y_pred=y_pred, y_true=reddit_y, target_names=reddit_sample['t/f'].unique()))\n",
    "\n",
    "fig, ax = plt.subplots(figsize=(5,5))\n",
    "plt.rcParams.update({'font.size': 10})\n",
    "plt.rc('xtick', labelsize=10) \n",
    "plt.rc('ytick', labelsize=10) \n",
    "plot_confusion_matrix(final_model, reddit_X, reddit_y, ax=ax, normalize='true')\n",
    "plt.grid(False);"
   ]
  },
  {
   "cell_type": "code",
   "execution_count": null,
   "metadata": {},
   "outputs": [],
   "source": [
    "# pickle.dump(final_model, open('./models/final_model.pkl', 'wb'))\n"
   ]
  },
  {
   "cell_type": "code",
   "execution_count": null,
   "metadata": {},
   "outputs": [],
   "source": [
    "f_test_sample = \"I love being in engaging conversation something that doesnt bore me something \\\n",
    "meaningful and makes both of you feel good. But sometimes I get called intense is this just me? \\\n",
    "Like I could say well sometimes you bore me. Seems like Im the minority so its \\\n",
    "really nice when I meet someone my vibe as there arent many\"\n",
    "\n",
    "print(final_model.predict([f_test_sample])[0], '--', f\"{round(max(final_model.predict_proba([f_test_sample])[0])*100, 2)}%\")\n"
   ]
  },
  {
   "cell_type": "code",
   "execution_count": null,
   "metadata": {},
   "outputs": [],
   "source": [
    "t_test_sample = \"Nature provides exceptions to every rule. But this rule is applied to itself paradoxically. \\\n",
    "(So there must be some rules without any exception :)\"\n",
    "\n",
    "print(final_model.predict([t_test_sample])[0], '--', f\"{round(max(final_model.predict_proba([t_test_sample])[0])*100, 2)}%\")\n"
   ]
  },
  {
   "cell_type": "markdown",
   "metadata": {},
   "source": [
    "### Highest TFIDF"
   ]
  },
  {
   "cell_type": "code",
   "execution_count": null,
   "metadata": {},
   "outputs": [],
   "source": [
    "train_set, test_set = train_test_split(cafe_clean, random_state=SEED)"
   ]
  },
  {
   "cell_type": "code",
   "execution_count": null,
   "metadata": {},
   "outputs": [],
   "source": [
    "X_train_t = train_set[train_set['t/f'] == 't']['joined_tokens']\n",
    "X_train_f = train_set[train_set['t/f'] == 'f']['joined_tokens']"
   ]
  },
  {
   "cell_type": "code",
   "execution_count": null,
   "metadata": {},
   "outputs": [],
   "source": [
    "tfidf_t = TfidfVectorizer(ngram_range=(1,2), min_df=50)\n",
    "\n",
    "train_tfidf_t = tfidf_t.fit_transform(X_train_t)\n",
    "feature_array_t = np.array(tfidf_t.get_feature_names())"
   ]
  },
  {
   "cell_type": "code",
   "execution_count": null,
   "metadata": {},
   "outputs": [],
   "source": [
    "tfidf_f = TfidfVectorizer(ngram_range=(1,2), min_df=50)\n",
    "\n",
    "train_tfidf_f = tfidf_f.fit_transform(X_train_f)\n",
    "feature_array_f = np.array(tfidf_f.get_feature_names())"
   ]
  },
  {
   "cell_type": "code",
   "execution_count": null,
   "metadata": {},
   "outputs": [],
   "source": [
    "tfidf_df_t = pd.DataFrame(train_tfidf_t.toarray(), columns=tfidf_t.get_feature_names())\n",
    "tfidf_df_f = pd.DataFrame(train_tfidf_f.toarray(), columns=tfidf_f.get_feature_names())"
   ]
  },
  {
   "cell_type": "code",
   "execution_count": null,
   "metadata": {},
   "outputs": [],
   "source": [
    "highest_tfidf_t = []\n",
    "for column in tfidf_df_t.columns:\n",
    "    highest_tfidf_t.append((column, tfidf_df_t[column].max()))"
   ]
  },
  {
   "cell_type": "code",
   "execution_count": null,
   "metadata": {},
   "outputs": [],
   "source": [
    "highest_tfidf_f = []\n",
    "for column in tfidf_df_f.columns:\n",
    "    highest_tfidf_f.append((column, tfidf_df_f[column].max()))"
   ]
  },
  {
   "cell_type": "code",
   "execution_count": null,
   "metadata": {},
   "outputs": [],
   "source": [
    "def getKey(item):\n",
    "    return item[1]\n",
    "\n",
    "high_tfidf_t = sorted(highest_tfidf_t, key=getKey, reverse=True)\n",
    "high_tfidf_f = sorted(highest_tfidf_f, key=getKey, reverse=True)"
   ]
  },
  {
   "cell_type": "code",
   "execution_count": null,
   "metadata": {},
   "outputs": [],
   "source": [
    "high_tfidf_f[:5]"
   ]
  },
  {
   "cell_type": "code",
   "execution_count": null,
   "metadata": {},
   "outputs": [],
   "source": [
    "high_tfidf_t[:5]"
   ]
  },
  {
   "cell_type": "markdown",
   "metadata": {},
   "source": [
    "---"
   ]
  },
  {
   "cell_type": "code",
   "execution_count": null,
   "metadata": {},
   "outputs": [],
   "source": [
    "X_test.reset_index(inplace=True, drop=True)\n",
    "y_test.reset_index(inplace=True, drop=True)"
   ]
  },
  {
   "cell_type": "code",
   "execution_count": null,
   "metadata": {},
   "outputs": [],
   "source": [
    "tfidf = TfidfVectorizer(ngram_range=(1,2), min_df=50)\n",
    "\n",
    "X = cafe_clean['joined_tokens']\n",
    "y = cafe_clean['t/f']\n",
    "\n",
    "X_train, X_test, y_train, y_test = train_test_split(X, y, random_state=SEED)\n",
    "\n",
    "tfidf.fit_transform(X_train, y_train)\n",
    "\n"
   ]
  },
  {
   "cell_type": "code",
   "execution_count": null,
   "metadata": {},
   "outputs": [],
   "source": [
    "X_test.reset_index(inplace=True, drop=True)\n",
    "y_test.reset_index(inplace=True, drop=True)"
   ]
  },
  {
   "cell_type": "code",
   "execution_count": null,
   "metadata": {},
   "outputs": [],
   "source": [
    "rint = np.random.randint(0, len(X_test))\n",
    "feature_array = np.array(tfidf.get_feature_names())\n",
    "response = tfidf.transform([X_test[rint]])\n",
    "tfidf_sorting = np.argsort(response.toarray()).flatten()[::-1]\n",
    "\n",
    "n = 5\n",
    "top_n = feature_array[tfidf_sorting][:n]\n",
    "print(y_test[rint])\n",
    "print(top_n)\n",
    "print('-'*25)\n",
    "print(X_test[rint])"
   ]
  },
  {
   "cell_type": "code",
   "execution_count": null,
   "metadata": {},
   "outputs": [],
   "source": [
    "# pickle.dump(tfidf, open('./models/final_tfidf.pkl', 'wb'))\n"
   ]
  },
  {
   "cell_type": "markdown",
   "metadata": {},
   "source": [
    "## Further Inspect Thinking vs Feeling"
   ]
  },
  {
   "cell_type": "code",
   "execution_count": null,
   "metadata": {},
   "outputs": [],
   "source": [
    "t_fdist = FreqDist(cafe_clean[\"post_tokens\"][cafe_clean[\"t/f\"] == 't'].explode())\n",
    "f_fdist = FreqDist(cafe_clean[\"post_tokens\"][cafe_clean[\"t/f\"] == 'f'].explode())"
   ]
  },
  {
   "cell_type": "code",
   "execution_count": null,
   "metadata": {},
   "outputs": [],
   "source": [
    "top_ten = list(zip(*t_fdist.most_common(10)))\n",
    "tokens = top_ten[0]\n",
    "counts = top_ten[1]\n",
    "\n",
    "plt.figure(figsize=(15, 8))\n",
    "plt.rcParams.update({'font.size': 18})\n",
    "plt.rc('xtick', labelsize=18) \n",
    "plt.rc('ytick', labelsize=18) \n",
    "plt.bar(tokens, counts)\n",
    "plt.title('Top 10 THINKING Class Word Occurences');"
   ]
  },
  {
   "cell_type": "code",
   "execution_count": null,
   "metadata": {},
   "outputs": [],
   "source": [
    "top_ten = list(zip(*f_fdist.most_common(10)))\n",
    "tokens = top_ten[0]\n",
    "counts = top_ten[1]\n",
    "\n",
    "plt.figure(figsize=(15, 8))\n",
    "plt.rcParams.update({'font.size': 18})\n",
    "plt.rc('xtick', labelsize=18) \n",
    "plt.rc('ytick', labelsize=18) \n",
    "plt.bar(tokens, counts)\n",
    "plt.title('Top 10 FEELING Class Word Occurences');"
   ]
  },
  {
   "cell_type": "code",
   "execution_count": null,
   "metadata": {},
   "outputs": [],
   "source": [
    "t_df = cafe_clean[cafe_clean[\"t/f\"] == 't']\n",
    "\n",
    "cv = CountVectorizer(ngram_range=(2,2))\n",
    "\n",
    "tf_cv = cv.fit(t_df['joined_tokens'])\n",
    "tf_cv = cv.transform(t_df['joined_tokens'])\n",
    "\n",
    "count_values = tf_cv.toarray().sum(axis=0)\n",
    "\n",
    "vocab = cv.vocabulary_\n",
    "\n",
    "df_ngram = pd.DataFrame(sorted([(count_values[i], k) for k, i in vocab.items()], reverse=True) \\\n",
    "                        ).rename(columns={0: 'frequency', 1:'bigram'})\n",
    "\n",
    "plt.figure(figsize=(20, 8))\n",
    "plt.bar(df_ngram.bigram.iloc[:10], df_ngram.frequency.iloc[:10]);"
   ]
  },
  {
   "cell_type": "code",
   "execution_count": null,
   "metadata": {},
   "outputs": [],
   "source": [
    "t_df = cafe_clean[cafe_clean[\"t/f\"] == 'f']\n",
    "\n",
    "cv = CountVectorizer(ngram_range=(2,2))\n",
    "\n",
    "tf_cv = cv.fit(t_df['joined_tokens'])\n",
    "tf_cv = cv.transform(t_df['joined_tokens'])\n",
    "\n",
    "count_values = tf_cv.toarray().sum(axis=0)\n",
    "\n",
    "vocab = cv.vocabulary_\n",
    "\n",
    "df_ngram = pd.DataFrame(sorted([(count_values[i], k) for k, i in vocab.items()], reverse=True) \\\n",
    "                        ).rename(columns={0: 'frequency', 1:'bigram'})\n",
    "\n",
    "plt.figure(figsize=(20, 8))\n",
    "plt.bar(df_ngram.bigram.iloc[:10], df_ngram.frequency.iloc[:10]);"
   ]
  },
  {
   "cell_type": "markdown",
   "metadata": {},
   "source": [
    "---\n",
    "\n",
    "## Doc2Vec"
   ]
  },
  {
   "cell_type": "code",
   "execution_count": null,
   "metadata": {},
   "outputs": [],
   "source": [
    "train_df, test_df = train_test_split(cafe_clean, random_state=SEED)"
   ]
  },
  {
   "cell_type": "code",
   "execution_count": null,
   "metadata": {},
   "outputs": [],
   "source": [
    "train_df.reset_index(inplace=True, drop=True)\n",
    "test_df.reset_index(inplace=True, drop=True)"
   ]
  },
  {
   "cell_type": "code",
   "execution_count": null,
   "metadata": {},
   "outputs": [],
   "source": [
    "def tokenize_gens(dataframe):\n",
    "    for i, post in enumerate(dataframe['joined_tokens']):\n",
    "        tokens = gensim.utils.simple_preprocess(post)\n",
    "        yield gensim.models.doc2vec.TaggedDocument(tokens, dataframe.loc[i, 't/f'])\n",
    "\n",
    "train_corpus = list(tokenize_gens(train_df))\n",
    "test_corpus = list(tokenize_gens(test_df))"
   ]
  },
  {
   "cell_type": "code",
   "execution_count": null,
   "metadata": {},
   "outputs": [],
   "source": [
    "model = gensim.models.doc2vec.Doc2Vec(dm=1, \n",
    "                                    vector_size=50, \n",
    "                                    min_count=2, \n",
    "                                    epochs=40)"
   ]
  },
  {
   "cell_type": "code",
   "execution_count": null,
   "metadata": {},
   "outputs": [],
   "source": [
    "model.build_vocab(train_corpus)"
   ]
  },
  {
   "cell_type": "code",
   "execution_count": null,
   "metadata": {},
   "outputs": [],
   "source": [
    "model.train(train_corpus, total_examples=model.corpus_count, epochs=model.epochs)"
   ]
  },
  {
   "cell_type": "code",
   "execution_count": null,
   "metadata": {},
   "outputs": [],
   "source": [
    "vector = model.infer_vector(['unaware', 'people', 'dont', 'confidence', 'often', 'picture'])\n",
    "print(vector)"
   ]
  },
  {
   "cell_type": "code",
   "execution_count": null,
   "metadata": {},
   "outputs": [],
   "source": [
    "def vector_for_learning(model, posts):\n",
    "    targets, feature_vectors = zip(*[(doc.tags, model.infer_vector(doc.words)) for doc in posts])\n",
    "    return targets, feature_vectors"
   ]
  },
  {
   "cell_type": "code",
   "execution_count": null,
   "metadata": {},
   "outputs": [],
   "source": [
    "df = pd.read_csv('./data/testing_df.csv')\n",
    "rint = np.random.randint(0, len(df))\n",
    "\n",
    "print(rint)\n",
    "print(df['posts'].iloc[rint])\n",
    "df['type'].iloc[rint]"
   ]
  },
  {
   "cell_type": "code",
   "execution_count": null,
   "metadata": {},
   "outputs": [],
   "source": [
    "df['joined_tokens'].iloc[1023]"
   ]
  },
  {
   "cell_type": "code",
   "execution_count": null,
   "metadata": {},
   "outputs": [],
   "source": [
    "# Can take a few minutes\n",
    "y_train, X_train = vector_for_learning(model, train_corpus)\n",
    "y_test, X_test = vector_for_learning(model, test_corpus)"
   ]
  },
  {
   "cell_type": "code",
   "execution_count": null,
   "metadata": {},
   "outputs": [],
   "source": [
    "clf = SGDClassifier(class_weight='balanced')\n",
    "clf.fit(X_train, y_train)\n",
    "y_pred = clf.predict(X_test)\n",
    "print(f'Testing accuracy: {accuracy_score(y_test, y_pred)}')"
   ]
  },
  {
   "cell_type": "code",
   "execution_count": null,
   "metadata": {},
   "outputs": [],
   "source": [
    "logreg = LogisticRegression(n_jobs=1, C=.0001, class_weight='balanced')\n",
    "logreg.fit(X_train, y_train)\n",
    "y_pred = logreg.predict(X_test)\n",
    "print(f'Testing accuracy: {accuracy_score(y_test, y_pred)}')"
   ]
  },
  {
   "cell_type": "code",
   "execution_count": null,
   "metadata": {},
   "outputs": [],
   "source": [
    "rfc = RandomForestClassifier(n_estimators=1000, max_depth=25)\n",
    "rfc.fit(X_train, y_train)\n",
    "y_pred = rfc.predict(X_test)\n",
    "print(f'Testing accuracy: {accuracy_score(y_test, y_pred)}')"
   ]
  },
  {
   "cell_type": "code",
   "execution_count": null,
   "metadata": {},
   "outputs": [],
   "source": []
  },
  {
   "cell_type": "markdown",
   "metadata": {},
   "source": [
    "---\n",
    "## Random Sample Reddit"
   ]
  },
  {
   "cell_type": "code",
   "execution_count": null,
   "metadata": {},
   "outputs": [],
   "source": []
  },
  {
   "cell_type": "markdown",
   "metadata": {},
   "source": [
    "## Thinking vs. Feeling\n",
    "\n",
    "**Thinking (T)**\n",
    "When I make a decision, I like to find the basic truth or principle to be applied, regardless of the specific situation involved. I like to analyze pros and cons, and then be consistent and logical in deciding. I try to be impersonal, so I won't let my personal wishes--or other people's wishes--influence me.\n",
    "\n",
    "The following statements generally apply to me:\n",
    "\n",
    "- I enjoy technical and scientific fields where logic is important.\n",
    "- I notice inconsistencies.\n",
    "- I look for logical explanations or solutions to most everything.\n",
    "- I make decisions with my head and want to be fair.\n",
    "- I believe telling the truth is more important than being tactful.\n",
    "- Sometimes I miss or don't value the \"people\" part of a situation.\n",
    "- I can be seen as too task-oriented, uncaring, or indifferent.\n",
    "\n",
    "**Feeling (F)**\n",
    "I believe I can make the best decisions by weighing what people care about and the points-of-view of persons involved in a situation. I am concerned with values and what is the best for the people involved. I like to do whatever will establish or maintain harmony. In my relationships, I appear caring, warm, and tactful.\n",
    "\n",
    "The following statements generally apply to me:\n",
    "\n",
    "- I have a people or communications orientation.\n",
    "- I am concerned with harmony and nervous when it is missing.\n",
    "- I look for what is important to others and express concern for others.\n",
    "- I make decisions with my heart and want to be compassionate.\n",
    "- I believe being tactful is more important than telling the \"cold\" truth.\n",
    "- Sometimes I miss seeing or communicating the \"hard truth\" of situations.\n",
    "- I am sometimes experienced by others as too idealistic, mushy, or indirect.\n"
   ]
  },
  {
   "cell_type": "markdown",
   "metadata": {},
   "source": [
    "---"
   ]
  },
  {
   "cell_type": "markdown",
   "metadata": {},
   "source": [
    "## Data and Methods\n",
    "\n",
    "## Results\n",
    "\n",
    "## Applications of the Predictive Model\n",
    "\n",
    "There are numerous applications for using this personality predictive model:\n",
    "\n",
    "- Customer Segmentation\n",
    "- Digital Advertising \n",
    "\n",
    "\n",
    "## Online Demo\n",
    "\n",
    "## Recommednations\n",
    "\n",
    "## Next Steps"
   ]
  }
 ],
 "metadata": {
  "interpreter": {
   "hash": "033c84df5fb4c613acf884834f63930b25da6784759ce0fb831a430fcd673895"
  },
  "kernelspec": {
   "display_name": "Python 3.8.5 ('learn-env')",
   "language": "python",
   "name": "python3"
  },
  "language_info": {
   "codemirror_mode": {
    "name": "ipython",
    "version": 3
   },
   "file_extension": ".py",
   "mimetype": "text/x-python",
   "name": "python",
   "nbconvert_exporter": "python",
   "pygments_lexer": "ipython3",
   "version": "3.8.5"
  },
  "orig_nbformat": 4
 },
 "nbformat": 4,
 "nbformat_minor": 2
}
